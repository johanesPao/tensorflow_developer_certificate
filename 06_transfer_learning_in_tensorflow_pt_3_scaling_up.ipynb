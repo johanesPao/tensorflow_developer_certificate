{
  "cells": [
    {
      "cell_type": "markdown",
      "metadata": {
        "id": "view-in-github",
        "colab_type": "text"
      },
      "source": [
        "<a href=\"https://colab.research.google.com/github/johanesPao/tensorflow_developer_certificate/blob/main/06_transfer_learning_in_tensorflow_pt_3_scaling_up.ipynb\" target=\"_parent\"><img src=\"https://colab.research.google.com/assets/colab-badge.svg\" alt=\"Open In Colab\"/></a>"
      ]
    },
    {
      "cell_type": "code",
      "source": [
        "import tensorflow as tf\n",
        "tf.__version__"
      ],
      "metadata": {
        "colab": {
          "base_uri": "https://localhost:8080/",
          "height": 35
        },
        "id": "YRf9fkYm6EBz",
        "outputId": "6ecab385-2edb-4ec2-9d8f-279fd88f4e3e"
      },
      "id": "YRf9fkYm6EBz",
      "execution_count": 1,
      "outputs": [
        {
          "output_type": "execute_result",
          "data": {
            "text/plain": [
              "'2.8.2'"
            ],
            "application/vnd.google.colaboratory.intrinsic+json": {
              "type": "string"
            }
          },
          "metadata": {},
          "execution_count": 1
        }
      ]
    },
    {
      "cell_type": "code",
      "source": [
        "# On non kaggle notebook do install wandb\n",
        "!pip install wandb"
      ],
      "metadata": {
        "colab": {
          "base_uri": "https://localhost:8080/"
        },
        "id": "flc_cetd6Zm-",
        "outputId": "edabc6cf-2092-43a0-89e2-bc507cd666a3"
      },
      "id": "flc_cetd6Zm-",
      "execution_count": 2,
      "outputs": [
        {
          "output_type": "stream",
          "name": "stdout",
          "text": [
            "Looking in indexes: https://pypi.org/simple, https://us-python.pkg.dev/colab-wheels/public/simple/\n",
            "Requirement already satisfied: wandb in /usr/local/lib/python3.7/dist-packages (0.12.18)\n",
            "Requirement already satisfied: setproctitle in /usr/local/lib/python3.7/dist-packages (from wandb) (1.2.3)\n",
            "Requirement already satisfied: promise<3,>=2.0 in /usr/local/lib/python3.7/dist-packages (from wandb) (2.3)\n",
            "Requirement already satisfied: pathtools in /usr/local/lib/python3.7/dist-packages (from wandb) (0.1.2)\n",
            "Requirement already satisfied: requests<3,>=2.0.0 in /usr/local/lib/python3.7/dist-packages (from wandb) (2.23.0)\n",
            "Requirement already satisfied: PyYAML in /usr/local/lib/python3.7/dist-packages (from wandb) (3.13)\n",
            "Requirement already satisfied: protobuf<4.0dev,>=3.12.0 in /usr/local/lib/python3.7/dist-packages (from wandb) (3.17.3)\n",
            "Requirement already satisfied: setuptools in /usr/local/lib/python3.7/dist-packages (from wandb) (57.4.0)\n",
            "Requirement already satisfied: shortuuid>=0.5.0 in /usr/local/lib/python3.7/dist-packages (from wandb) (1.0.9)\n",
            "Requirement already satisfied: docker-pycreds>=0.4.0 in /usr/local/lib/python3.7/dist-packages (from wandb) (0.4.0)\n",
            "Requirement already satisfied: six>=1.13.0 in /usr/local/lib/python3.7/dist-packages (from wandb) (1.15.0)\n",
            "Requirement already satisfied: sentry-sdk>=1.0.0 in /usr/local/lib/python3.7/dist-packages (from wandb) (1.5.12)\n",
            "Requirement already satisfied: GitPython>=1.0.0 in /usr/local/lib/python3.7/dist-packages (from wandb) (3.1.27)\n",
            "Requirement already satisfied: psutil>=5.0.0 in /usr/local/lib/python3.7/dist-packages (from wandb) (5.4.8)\n",
            "Requirement already satisfied: Click!=8.0.0,>=7.0 in /usr/local/lib/python3.7/dist-packages (from wandb) (7.1.2)\n",
            "Requirement already satisfied: gitdb<5,>=4.0.1 in /usr/local/lib/python3.7/dist-packages (from GitPython>=1.0.0->wandb) (4.0.9)\n",
            "Requirement already satisfied: typing-extensions>=3.7.4.3 in /usr/local/lib/python3.7/dist-packages (from GitPython>=1.0.0->wandb) (4.2.0)\n",
            "Requirement already satisfied: smmap<6,>=3.0.1 in /usr/local/lib/python3.7/dist-packages (from gitdb<5,>=4.0.1->GitPython>=1.0.0->wandb) (5.0.0)\n",
            "Requirement already satisfied: certifi>=2017.4.17 in /usr/local/lib/python3.7/dist-packages (from requests<3,>=2.0.0->wandb) (2022.5.18.1)\n",
            "Requirement already satisfied: chardet<4,>=3.0.2 in /usr/local/lib/python3.7/dist-packages (from requests<3,>=2.0.0->wandb) (3.0.4)\n",
            "Requirement already satisfied: idna<3,>=2.5 in /usr/local/lib/python3.7/dist-packages (from requests<3,>=2.0.0->wandb) (2.10)\n",
            "Requirement already satisfied: urllib3!=1.25.0,!=1.25.1,<1.26,>=1.21.1 in /usr/local/lib/python3.7/dist-packages (from requests<3,>=2.0.0->wandb) (1.24.3)\n"
          ]
        }
      ]
    },
    {
      "cell_type": "code",
      "execution_count": 3,
      "id": "d219dfd0",
      "metadata": {
        "execution": {
          "iopub.execute_input": "2022-06-16T04:18:15.439820Z",
          "iopub.status.busy": "2022-06-16T04:18:15.439060Z",
          "iopub.status.idle": "2022-06-16T04:19:35.159138Z",
          "shell.execute_reply": "2022-06-16T04:19:35.158064Z",
          "shell.execute_reply.started": "2022-06-16T04:18:15.439787Z"
        },
        "papermill": {
          "duration": 7.870654,
          "end_time": "2022-06-15T17:21:58.854629",
          "exception": false,
          "start_time": "2022-06-15T17:21:50.983975",
          "status": "completed"
        },
        "tags": [],
        "colab": {
          "base_uri": "https://localhost:8080/"
        },
        "id": "d219dfd0",
        "outputId": "aba14800-7b85-48aa-91ea-3066336174ee"
      },
      "outputs": [
        {
          "output_type": "stream",
          "name": "stderr",
          "text": [
            "\u001b[34m\u001b[1mwandb\u001b[0m: Currently logged in as: \u001b[33mjpao\u001b[0m (\u001b[33mpri-data\u001b[0m). Use \u001b[1m`wandb login --relogin`\u001b[0m to force relogin\n",
            "\u001b[34m\u001b[1mwandb\u001b[0m: \u001b[33mWARNING\u001b[0m If you're specifying your api key in code, ensure this code is not shared publicly.\n",
            "\u001b[34m\u001b[1mwandb\u001b[0m: \u001b[33mWARNING\u001b[0m Consider setting the WANDB_API_KEY environment variable, or running `wandb login` from the command line.\n",
            "\u001b[34m\u001b[1mwandb\u001b[0m: Appending key for api.wandb.ai to your netrc file: /root/.netrc\n"
          ]
        },
        {
          "output_type": "execute_result",
          "data": {
            "text/plain": [
              "True"
            ]
          },
          "metadata": {},
          "execution_count": 3
        }
      ],
      "source": [
        "# Import WandB secret key\n",
        "# from kaggle_secrets import UserSecretsClient\n",
        "# user_secrets = UserSecretsClient()\n",
        "# wandb_api_key = user_secrets.get_secret('wandb-api')\n",
        "\n",
        "# Import and login to WandB\n",
        "import wandb\n",
        "from wandb.keras import WandbCallback\n",
        "wandb.login(key='924d78a46727fe1fb5374706bf1b8a158fe73971')"
      ]
    },
    {
      "cell_type": "markdown",
      "id": "72f5b508",
      "metadata": {
        "papermill": {
          "duration": 0.004674,
          "end_time": "2022-06-15T17:21:58.864393",
          "exception": false,
          "start_time": "2022-06-15T17:21:58.859719",
          "status": "completed"
        },
        "tags": [],
        "id": "72f5b508"
      },
      "source": [
        "# Transfer Learning with TensorFlow Part 3: Scaling up (Food Vision mini)\n",
        "\n",
        "We've seen the power of transfer learning feature extraction and fine-tuning, now it's time to scale up to all of the classes in Food101 (101 total classes of food).\n",
        "\n",
        "Our goal is to beat the original Food101 paper with 10% of the training (leveraging the power of deep learning).\n",
        "\n",
        "Original Food101 paper: https://data.vision.ee.ethz.ch/cvl/datasets_extra/food-101/static/bossard_eccv14_food-101.pdf\n",
        "\n",
        "Our baseline to beat is 50.76% accuracy across 101 classes."
      ]
    },
    {
      "cell_type": "code",
      "execution_count": 4,
      "id": "fe9ff28f",
      "metadata": {
        "execution": {
          "iopub.execute_input": "2022-06-16T02:41:41.182770Z",
          "iopub.status.busy": "2022-06-16T02:41:41.182349Z",
          "iopub.status.idle": "2022-06-16T02:41:42.152491Z",
          "shell.execute_reply": "2022-06-16T02:41:42.151373Z",
          "shell.execute_reply.started": "2022-06-16T02:41:41.182731Z"
        },
        "papermill": {
          "duration": 0.704078,
          "end_time": "2022-06-15T17:21:59.573171",
          "exception": false,
          "start_time": "2022-06-15T17:21:58.869093",
          "status": "completed"
        },
        "tags": [],
        "colab": {
          "base_uri": "https://localhost:8080/"
        },
        "id": "fe9ff28f",
        "outputId": "ffc6b880-4ebc-4a12-cc80-a3eb32c2ada0"
      },
      "outputs": [
        {
          "output_type": "stream",
          "name": "stdout",
          "text": [
            "Thu Jun 16 06:56:33 2022       \n",
            "+-----------------------------------------------------------------------------+\n",
            "| NVIDIA-SMI 460.32.03    Driver Version: 460.32.03    CUDA Version: 11.2     |\n",
            "|-------------------------------+----------------------+----------------------+\n",
            "| GPU  Name        Persistence-M| Bus-Id        Disp.A | Volatile Uncorr. ECC |\n",
            "| Fan  Temp  Perf  Pwr:Usage/Cap|         Memory-Usage | GPU-Util  Compute M. |\n",
            "|                               |                      |               MIG M. |\n",
            "|===============================+======================+======================|\n",
            "|   0  Tesla T4            Off  | 00000000:00:04.0 Off |                    0 |\n",
            "| N/A   67C    P8    11W /  70W |      0MiB / 15109MiB |      0%      Default |\n",
            "|                               |                      |                  N/A |\n",
            "+-------------------------------+----------------------+----------------------+\n",
            "                                                                               \n",
            "+-----------------------------------------------------------------------------+\n",
            "| Processes:                                                                  |\n",
            "|  GPU   GI   CI        PID   Type   Process name                  GPU Memory |\n",
            "|        ID   ID                                                   Usage      |\n",
            "|=============================================================================|\n",
            "|  No running processes found                                                 |\n",
            "+-----------------------------------------------------------------------------+\n"
          ]
        }
      ],
      "source": [
        "# Check to see if we're using a GPU\n",
        "!nvidia-smi"
      ]
    },
    {
      "cell_type": "markdown",
      "id": "12862606",
      "metadata": {
        "papermill": {
          "duration": 0.004979,
          "end_time": "2022-06-15T17:21:59.583585",
          "exception": false,
          "start_time": "2022-06-15T17:21:59.578606",
          "status": "completed"
        },
        "tags": [],
        "id": "12862606"
      },
      "source": [
        "## Creating helper function\n",
        "\n",
        "In previous notebooks, we've created a series of helper functions to do different tasks, let's download them."
      ]
    },
    {
      "cell_type": "code",
      "execution_count": 5,
      "id": "0fecc000",
      "metadata": {
        "execution": {
          "iopub.execute_input": "2022-06-16T02:41:42.154771Z",
          "iopub.status.busy": "2022-06-16T02:41:42.154283Z",
          "iopub.status.idle": "2022-06-16T02:41:43.141103Z",
          "shell.execute_reply": "2022-06-16T02:41:43.139998Z",
          "shell.execute_reply.started": "2022-06-16T02:41:42.154719Z"
        },
        "papermill": {
          "duration": 0.968785,
          "end_time": "2022-06-15T17:22:00.557171",
          "exception": false,
          "start_time": "2022-06-15T17:21:59.588386",
          "status": "completed"
        },
        "tags": [],
        "colab": {
          "base_uri": "https://localhost:8080/"
        },
        "id": "0fecc000",
        "outputId": "ba867f24-d0fe-4561-a062-926e38686527"
      },
      "outputs": [
        {
          "output_type": "stream",
          "name": "stdout",
          "text": [
            "--2022-06-16 06:56:33--  https://raw.githubusercontent.com/mrdbourke/tensorflow-deep-learning/main/extras/helper_functions.py\n",
            "Resolving raw.githubusercontent.com (raw.githubusercontent.com)... 185.199.108.133, 185.199.109.133, 185.199.110.133, ...\n",
            "Connecting to raw.githubusercontent.com (raw.githubusercontent.com)|185.199.108.133|:443... connected.\n",
            "HTTP request sent, awaiting response... 200 OK\n",
            "Length: 10246 (10K) [text/plain]\n",
            "Saving to: ‘helper_functions.py.1’\n",
            "\n",
            "helper_functions.py 100%[===================>]  10.01K  --.-KB/s    in 0s      \n",
            "\n",
            "2022-06-16 06:56:33 (111 MB/s) - ‘helper_functions.py.1’ saved [10246/10246]\n",
            "\n"
          ]
        }
      ],
      "source": [
        "!wget https://raw.githubusercontent.com/mrdbourke/tensorflow-deep-learning/main/extras/helper_functions.py"
      ]
    },
    {
      "cell_type": "code",
      "execution_count": 6,
      "id": "c4eae955",
      "metadata": {
        "execution": {
          "iopub.execute_input": "2022-06-16T02:41:43.144294Z",
          "iopub.status.busy": "2022-06-16T02:41:43.143986Z",
          "iopub.status.idle": "2022-06-16T02:41:45.648844Z",
          "shell.execute_reply": "2022-06-16T02:41:45.646838Z",
          "shell.execute_reply.started": "2022-06-16T02:41:43.144246Z"
        },
        "papermill": {
          "duration": 0.563725,
          "end_time": "2022-06-15T17:22:01.126277",
          "exception": false,
          "start_time": "2022-06-15T17:22:00.562552",
          "status": "completed"
        },
        "tags": [],
        "id": "c4eae955"
      },
      "outputs": [],
      "source": [
        "# Import series of helper functions for our notebooks\n",
        "from helper_functions import plot_loss_curves, unzip_data, compare_historys, walk_through_dir"
      ]
    },
    {
      "cell_type": "markdown",
      "id": "65846481",
      "metadata": {
        "papermill": {
          "duration": 0.005048,
          "end_time": "2022-06-15T17:22:01.136710",
          "exception": false,
          "start_time": "2022-06-15T17:22:01.131662",
          "status": "completed"
        },
        "tags": [],
        "id": "65846481"
      },
      "source": [
        "## 101 Food Classes: working with less data\n",
        "\n",
        "Our goal is to beat the original Food101 paper with 10% of the training data, so let's download it.\n",
        "\n",
        "The data we're downloading comes from the original Food101 dataset but has been preprocessed using the image_data_modification notebook - https://github.com/mrdbourke/tensorflow-deep-learning/blob/main/extras/image_data_modification.ipynb"
      ]
    },
    {
      "cell_type": "code",
      "execution_count": 7,
      "id": "e359772f",
      "metadata": {
        "execution": {
          "iopub.execute_input": "2022-06-16T02:41:45.651718Z",
          "iopub.status.busy": "2022-06-16T02:41:45.651377Z",
          "iopub.status.idle": "2022-06-16T02:45:36.766869Z",
          "shell.execute_reply": "2022-06-16T02:45:36.765091Z",
          "shell.execute_reply.started": "2022-06-16T02:41:45.651679Z"
        },
        "papermill": {
          "duration": 21.134734,
          "end_time": "2022-06-15T17:22:22.277114",
          "exception": false,
          "start_time": "2022-06-15T17:22:01.142380",
          "status": "completed"
        },
        "tags": [],
        "colab": {
          "base_uri": "https://localhost:8080/"
        },
        "id": "e359772f",
        "outputId": "a99d9eb6-81f0-4a35-87c2-10cd68522c7a"
      },
      "outputs": [
        {
          "output_type": "stream",
          "name": "stdout",
          "text": [
            "--2022-06-16 06:56:34--  https://storage.googleapis.com/ztm_tf_course/food_vision/101_food_classes_10_percent.zip\n",
            "Resolving storage.googleapis.com (storage.googleapis.com)... 74.125.197.128, 74.125.135.128, 74.125.142.128, ...\n",
            "Connecting to storage.googleapis.com (storage.googleapis.com)|74.125.197.128|:443... connected.\n",
            "HTTP request sent, awaiting response... 200 OK\n",
            "Length: 1625420029 (1.5G) [application/zip]\n",
            "Saving to: ‘101_food_classes_10_percent.zip.1’\n",
            "\n",
            "101_food_classes_10 100%[===================>]   1.51G   216MB/s    in 6.2s    \n",
            "\n",
            "2022-06-16 06:56:40 (248 MB/s) - ‘101_food_classes_10_percent.zip.1’ saved [1625420029/1625420029]\n",
            "\n"
          ]
        }
      ],
      "source": [
        "!wget https://storage.googleapis.com/ztm_tf_course/food_vision/101_food_classes_10_percent.zip\n",
        "unzip_data('101_food_classes_10_percent.zip')\n",
        "\n",
        "train_dir = '101_food_classes_10_percent/train/'\n",
        "test_dir = '101_food_classes_10_percent/test/'"
      ]
    },
    {
      "cell_type": "code",
      "execution_count": 8,
      "id": "570aa022",
      "metadata": {
        "execution": {
          "iopub.execute_input": "2022-06-16T02:45:36.769113Z",
          "iopub.status.busy": "2022-06-16T02:45:36.768689Z",
          "iopub.status.idle": "2022-06-16T02:45:38.237531Z",
          "shell.execute_reply": "2022-06-16T02:45:38.235788Z",
          "shell.execute_reply.started": "2022-06-16T02:45:36.768946Z"
        },
        "papermill": {
          "duration": 0.064958,
          "end_time": "2022-06-15T17:22:22.349457",
          "exception": false,
          "start_time": "2022-06-15T17:22:22.284499",
          "status": "completed"
        },
        "tags": [],
        "colab": {
          "base_uri": "https://localhost:8080/"
        },
        "id": "570aa022",
        "outputId": "d4fba4e3-14b0-4482-896c-247af20c0617"
      },
      "outputs": [
        {
          "output_type": "stream",
          "name": "stdout",
          "text": [
            "There are 2 directories and 0 images in '101_food_classes_10_percent'.\n",
            "There are 101 directories and 0 images in '101_food_classes_10_percent/test'.\n",
            "There are 0 directories and 250 images in '101_food_classes_10_percent/test/sushi'.\n",
            "There are 0 directories and 250 images in '101_food_classes_10_percent/test/bibimbap'.\n",
            "There are 0 directories and 250 images in '101_food_classes_10_percent/test/french_toast'.\n",
            "There are 0 directories and 250 images in '101_food_classes_10_percent/test/miso_soup'.\n",
            "There are 0 directories and 250 images in '101_food_classes_10_percent/test/chicken_wings'.\n",
            "There are 0 directories and 250 images in '101_food_classes_10_percent/test/sashimi'.\n",
            "There are 0 directories and 250 images in '101_food_classes_10_percent/test/breakfast_burrito'.\n",
            "There are 0 directories and 250 images in '101_food_classes_10_percent/test/chicken_quesadilla'.\n",
            "There are 0 directories and 250 images in '101_food_classes_10_percent/test/escargots'.\n",
            "There are 0 directories and 250 images in '101_food_classes_10_percent/test/ceviche'.\n",
            "There are 0 directories and 250 images in '101_food_classes_10_percent/test/clam_chowder'.\n",
            "There are 0 directories and 250 images in '101_food_classes_10_percent/test/cheese_plate'.\n",
            "There are 0 directories and 250 images in '101_food_classes_10_percent/test/fried_calamari'.\n",
            "There are 0 directories and 250 images in '101_food_classes_10_percent/test/ravioli'.\n",
            "There are 0 directories and 250 images in '101_food_classes_10_percent/test/hummus'.\n",
            "There are 0 directories and 250 images in '101_food_classes_10_percent/test/edamame'.\n",
            "There are 0 directories and 250 images in '101_food_classes_10_percent/test/foie_gras'.\n",
            "There are 0 directories and 250 images in '101_food_classes_10_percent/test/bread_pudding'.\n",
            "There are 0 directories and 250 images in '101_food_classes_10_percent/test/takoyaki'.\n",
            "There are 0 directories and 250 images in '101_food_classes_10_percent/test/panna_cotta'.\n",
            "There are 0 directories and 250 images in '101_food_classes_10_percent/test/frozen_yogurt'.\n",
            "There are 0 directories and 250 images in '101_food_classes_10_percent/test/nachos'.\n",
            "There are 0 directories and 250 images in '101_food_classes_10_percent/test/chocolate_mousse'.\n",
            "There are 0 directories and 250 images in '101_food_classes_10_percent/test/tiramisu'.\n",
            "There are 0 directories and 250 images in '101_food_classes_10_percent/test/spaghetti_bolognese'.\n",
            "There are 0 directories and 250 images in '101_food_classes_10_percent/test/dumplings'.\n",
            "There are 0 directories and 250 images in '101_food_classes_10_percent/test/garlic_bread'.\n",
            "There are 0 directories and 250 images in '101_food_classes_10_percent/test/chicken_curry'.\n",
            "There are 0 directories and 250 images in '101_food_classes_10_percent/test/baklava'.\n",
            "There are 0 directories and 250 images in '101_food_classes_10_percent/test/eggs_benedict'.\n",
            "There are 0 directories and 250 images in '101_food_classes_10_percent/test/hot_and_sour_soup'.\n",
            "There are 0 directories and 250 images in '101_food_classes_10_percent/test/caprese_salad'.\n",
            "There are 0 directories and 250 images in '101_food_classes_10_percent/test/beef_carpaccio'.\n",
            "There are 0 directories and 250 images in '101_food_classes_10_percent/test/strawberry_shortcake'.\n",
            "There are 0 directories and 250 images in '101_food_classes_10_percent/test/paella'.\n",
            "There are 0 directories and 250 images in '101_food_classes_10_percent/test/bruschetta'.\n",
            "There are 0 directories and 250 images in '101_food_classes_10_percent/test/oysters'.\n",
            "There are 0 directories and 250 images in '101_food_classes_10_percent/test/scallops'.\n",
            "There are 0 directories and 250 images in '101_food_classes_10_percent/test/croque_madame'.\n",
            "There are 0 directories and 250 images in '101_food_classes_10_percent/test/peking_duck'.\n",
            "There are 0 directories and 250 images in '101_food_classes_10_percent/test/shrimp_and_grits'.\n",
            "There are 0 directories and 250 images in '101_food_classes_10_percent/test/samosa'.\n",
            "There are 0 directories and 250 images in '101_food_classes_10_percent/test/carrot_cake'.\n",
            "There are 0 directories and 250 images in '101_food_classes_10_percent/test/poutine'.\n",
            "There are 0 directories and 250 images in '101_food_classes_10_percent/test/huevos_rancheros'.\n",
            "There are 0 directories and 250 images in '101_food_classes_10_percent/test/prime_rib'.\n",
            "There are 0 directories and 250 images in '101_food_classes_10_percent/test/tacos'.\n",
            "There are 0 directories and 250 images in '101_food_classes_10_percent/test/baby_back_ribs'.\n",
            "There are 0 directories and 250 images in '101_food_classes_10_percent/test/grilled_cheese_sandwich'.\n",
            "There are 0 directories and 250 images in '101_food_classes_10_percent/test/tuna_tartare'.\n",
            "There are 0 directories and 250 images in '101_food_classes_10_percent/test/pulled_pork_sandwich'.\n",
            "There are 0 directories and 250 images in '101_food_classes_10_percent/test/chocolate_cake'.\n",
            "There are 0 directories and 250 images in '101_food_classes_10_percent/test/falafel'.\n",
            "There are 0 directories and 250 images in '101_food_classes_10_percent/test/lasagna'.\n",
            "There are 0 directories and 250 images in '101_food_classes_10_percent/test/pho'.\n",
            "There are 0 directories and 250 images in '101_food_classes_10_percent/test/pizza'.\n",
            "There are 0 directories and 250 images in '101_food_classes_10_percent/test/guacamole'.\n",
            "There are 0 directories and 250 images in '101_food_classes_10_percent/test/grilled_salmon'.\n",
            "There are 0 directories and 250 images in '101_food_classes_10_percent/test/french_onion_soup'.\n",
            "There are 0 directories and 250 images in '101_food_classes_10_percent/test/pad_thai'.\n",
            "There are 0 directories and 250 images in '101_food_classes_10_percent/test/macarons'.\n",
            "There are 0 directories and 250 images in '101_food_classes_10_percent/test/creme_brulee'.\n",
            "There are 0 directories and 250 images in '101_food_classes_10_percent/test/beef_tartare'.\n",
            "There are 0 directories and 250 images in '101_food_classes_10_percent/test/mussels'.\n",
            "There are 0 directories and 250 images in '101_food_classes_10_percent/test/apple_pie'.\n",
            "There are 0 directories and 250 images in '101_food_classes_10_percent/test/spaghetti_carbonara'.\n",
            "There are 0 directories and 250 images in '101_food_classes_10_percent/test/steak'.\n",
            "There are 0 directories and 250 images in '101_food_classes_10_percent/test/lobster_bisque'.\n",
            "There are 0 directories and 250 images in '101_food_classes_10_percent/test/hot_dog'.\n",
            "There are 0 directories and 250 images in '101_food_classes_10_percent/test/ice_cream'.\n",
            "There are 0 directories and 250 images in '101_food_classes_10_percent/test/churros'.\n",
            "There are 0 directories and 250 images in '101_food_classes_10_percent/test/onion_rings'.\n",
            "There are 0 directories and 250 images in '101_food_classes_10_percent/test/donuts'.\n",
            "There are 0 directories and 250 images in '101_food_classes_10_percent/test/hamburger'.\n",
            "There are 0 directories and 250 images in '101_food_classes_10_percent/test/french_fries'.\n",
            "There are 0 directories and 250 images in '101_food_classes_10_percent/test/waffles'.\n",
            "There are 0 directories and 250 images in '101_food_classes_10_percent/test/cup_cakes'.\n",
            "There are 0 directories and 250 images in '101_food_classes_10_percent/test/macaroni_and_cheese'.\n",
            "There are 0 directories and 250 images in '101_food_classes_10_percent/test/cheesecake'.\n",
            "There are 0 directories and 250 images in '101_food_classes_10_percent/test/filet_mignon'.\n",
            "There are 0 directories and 250 images in '101_food_classes_10_percent/test/cannoli'.\n",
            "There are 0 directories and 250 images in '101_food_classes_10_percent/test/risotto'.\n",
            "There are 0 directories and 250 images in '101_food_classes_10_percent/test/omelette'.\n",
            "There are 0 directories and 250 images in '101_food_classes_10_percent/test/fish_and_chips'.\n",
            "There are 0 directories and 250 images in '101_food_classes_10_percent/test/deviled_eggs'.\n",
            "There are 0 directories and 250 images in '101_food_classes_10_percent/test/beet_salad'.\n",
            "There are 0 directories and 250 images in '101_food_classes_10_percent/test/pancakes'.\n",
            "There are 0 directories and 250 images in '101_food_classes_10_percent/test/spring_rolls'.\n",
            "There are 0 directories and 250 images in '101_food_classes_10_percent/test/gnocchi'.\n",
            "There are 0 directories and 250 images in '101_food_classes_10_percent/test/pork_chop'.\n",
            "There are 0 directories and 250 images in '101_food_classes_10_percent/test/gyoza'.\n",
            "There are 0 directories and 250 images in '101_food_classes_10_percent/test/club_sandwich'.\n",
            "There are 0 directories and 250 images in '101_food_classes_10_percent/test/greek_salad'.\n",
            "There are 0 directories and 250 images in '101_food_classes_10_percent/test/caesar_salad'.\n",
            "There are 0 directories and 250 images in '101_food_classes_10_percent/test/lobster_roll_sandwich'.\n",
            "There are 0 directories and 250 images in '101_food_classes_10_percent/test/fried_rice'.\n",
            "There are 0 directories and 250 images in '101_food_classes_10_percent/test/crab_cakes'.\n",
            "There are 0 directories and 250 images in '101_food_classes_10_percent/test/seaweed_salad'.\n",
            "There are 0 directories and 250 images in '101_food_classes_10_percent/test/red_velvet_cake'.\n",
            "There are 0 directories and 250 images in '101_food_classes_10_percent/test/ramen'.\n",
            "There are 0 directories and 250 images in '101_food_classes_10_percent/test/beignets'.\n",
            "There are 101 directories and 0 images in '101_food_classes_10_percent/train'.\n",
            "There are 0 directories and 75 images in '101_food_classes_10_percent/train/sushi'.\n",
            "There are 0 directories and 75 images in '101_food_classes_10_percent/train/bibimbap'.\n",
            "There are 0 directories and 75 images in '101_food_classes_10_percent/train/french_toast'.\n",
            "There are 0 directories and 75 images in '101_food_classes_10_percent/train/miso_soup'.\n",
            "There are 0 directories and 75 images in '101_food_classes_10_percent/train/chicken_wings'.\n",
            "There are 0 directories and 75 images in '101_food_classes_10_percent/train/sashimi'.\n",
            "There are 0 directories and 75 images in '101_food_classes_10_percent/train/breakfast_burrito'.\n",
            "There are 0 directories and 75 images in '101_food_classes_10_percent/train/chicken_quesadilla'.\n",
            "There are 0 directories and 75 images in '101_food_classes_10_percent/train/escargots'.\n",
            "There are 0 directories and 75 images in '101_food_classes_10_percent/train/ceviche'.\n",
            "There are 0 directories and 75 images in '101_food_classes_10_percent/train/clam_chowder'.\n",
            "There are 0 directories and 75 images in '101_food_classes_10_percent/train/cheese_plate'.\n",
            "There are 0 directories and 75 images in '101_food_classes_10_percent/train/fried_calamari'.\n",
            "There are 0 directories and 75 images in '101_food_classes_10_percent/train/ravioli'.\n",
            "There are 0 directories and 75 images in '101_food_classes_10_percent/train/hummus'.\n",
            "There are 0 directories and 75 images in '101_food_classes_10_percent/train/edamame'.\n",
            "There are 0 directories and 75 images in '101_food_classes_10_percent/train/foie_gras'.\n",
            "There are 0 directories and 75 images in '101_food_classes_10_percent/train/bread_pudding'.\n",
            "There are 0 directories and 75 images in '101_food_classes_10_percent/train/takoyaki'.\n",
            "There are 0 directories and 75 images in '101_food_classes_10_percent/train/panna_cotta'.\n",
            "There are 0 directories and 75 images in '101_food_classes_10_percent/train/frozen_yogurt'.\n",
            "There are 0 directories and 75 images in '101_food_classes_10_percent/train/nachos'.\n",
            "There are 0 directories and 75 images in '101_food_classes_10_percent/train/chocolate_mousse'.\n",
            "There are 0 directories and 75 images in '101_food_classes_10_percent/train/tiramisu'.\n",
            "There are 0 directories and 75 images in '101_food_classes_10_percent/train/spaghetti_bolognese'.\n",
            "There are 0 directories and 75 images in '101_food_classes_10_percent/train/dumplings'.\n",
            "There are 0 directories and 75 images in '101_food_classes_10_percent/train/garlic_bread'.\n",
            "There are 0 directories and 75 images in '101_food_classes_10_percent/train/chicken_curry'.\n",
            "There are 0 directories and 75 images in '101_food_classes_10_percent/train/baklava'.\n",
            "There are 0 directories and 75 images in '101_food_classes_10_percent/train/eggs_benedict'.\n",
            "There are 0 directories and 75 images in '101_food_classes_10_percent/train/hot_and_sour_soup'.\n",
            "There are 0 directories and 75 images in '101_food_classes_10_percent/train/caprese_salad'.\n",
            "There are 0 directories and 75 images in '101_food_classes_10_percent/train/beef_carpaccio'.\n",
            "There are 0 directories and 75 images in '101_food_classes_10_percent/train/strawberry_shortcake'.\n",
            "There are 0 directories and 75 images in '101_food_classes_10_percent/train/paella'.\n",
            "There are 0 directories and 75 images in '101_food_classes_10_percent/train/bruschetta'.\n",
            "There are 0 directories and 75 images in '101_food_classes_10_percent/train/oysters'.\n",
            "There are 0 directories and 75 images in '101_food_classes_10_percent/train/scallops'.\n",
            "There are 0 directories and 75 images in '101_food_classes_10_percent/train/croque_madame'.\n",
            "There are 0 directories and 75 images in '101_food_classes_10_percent/train/peking_duck'.\n",
            "There are 0 directories and 75 images in '101_food_classes_10_percent/train/shrimp_and_grits'.\n",
            "There are 0 directories and 75 images in '101_food_classes_10_percent/train/samosa'.\n",
            "There are 0 directories and 75 images in '101_food_classes_10_percent/train/carrot_cake'.\n",
            "There are 0 directories and 75 images in '101_food_classes_10_percent/train/poutine'.\n",
            "There are 0 directories and 75 images in '101_food_classes_10_percent/train/huevos_rancheros'.\n",
            "There are 0 directories and 75 images in '101_food_classes_10_percent/train/prime_rib'.\n",
            "There are 0 directories and 75 images in '101_food_classes_10_percent/train/tacos'.\n",
            "There are 0 directories and 75 images in '101_food_classes_10_percent/train/baby_back_ribs'.\n",
            "There are 0 directories and 75 images in '101_food_classes_10_percent/train/grilled_cheese_sandwich'.\n",
            "There are 0 directories and 75 images in '101_food_classes_10_percent/train/tuna_tartare'.\n",
            "There are 0 directories and 75 images in '101_food_classes_10_percent/train/pulled_pork_sandwich'.\n",
            "There are 0 directories and 75 images in '101_food_classes_10_percent/train/chocolate_cake'.\n",
            "There are 0 directories and 75 images in '101_food_classes_10_percent/train/falafel'.\n",
            "There are 0 directories and 75 images in '101_food_classes_10_percent/train/lasagna'.\n",
            "There are 0 directories and 75 images in '101_food_classes_10_percent/train/pho'.\n",
            "There are 0 directories and 75 images in '101_food_classes_10_percent/train/pizza'.\n",
            "There are 0 directories and 75 images in '101_food_classes_10_percent/train/guacamole'.\n",
            "There are 0 directories and 75 images in '101_food_classes_10_percent/train/grilled_salmon'.\n",
            "There are 0 directories and 75 images in '101_food_classes_10_percent/train/french_onion_soup'.\n",
            "There are 0 directories and 75 images in '101_food_classes_10_percent/train/pad_thai'.\n",
            "There are 0 directories and 75 images in '101_food_classes_10_percent/train/macarons'.\n",
            "There are 0 directories and 75 images in '101_food_classes_10_percent/train/creme_brulee'.\n",
            "There are 0 directories and 75 images in '101_food_classes_10_percent/train/beef_tartare'.\n",
            "There are 0 directories and 75 images in '101_food_classes_10_percent/train/mussels'.\n",
            "There are 0 directories and 75 images in '101_food_classes_10_percent/train/apple_pie'.\n",
            "There are 0 directories and 75 images in '101_food_classes_10_percent/train/spaghetti_carbonara'.\n",
            "There are 0 directories and 75 images in '101_food_classes_10_percent/train/steak'.\n",
            "There are 0 directories and 75 images in '101_food_classes_10_percent/train/lobster_bisque'.\n",
            "There are 0 directories and 75 images in '101_food_classes_10_percent/train/hot_dog'.\n",
            "There are 0 directories and 75 images in '101_food_classes_10_percent/train/ice_cream'.\n",
            "There are 0 directories and 75 images in '101_food_classes_10_percent/train/churros'.\n",
            "There are 0 directories and 75 images in '101_food_classes_10_percent/train/onion_rings'.\n",
            "There are 0 directories and 75 images in '101_food_classes_10_percent/train/donuts'.\n",
            "There are 0 directories and 75 images in '101_food_classes_10_percent/train/hamburger'.\n",
            "There are 0 directories and 75 images in '101_food_classes_10_percent/train/french_fries'.\n",
            "There are 0 directories and 75 images in '101_food_classes_10_percent/train/waffles'.\n",
            "There are 0 directories and 75 images in '101_food_classes_10_percent/train/cup_cakes'.\n",
            "There are 0 directories and 75 images in '101_food_classes_10_percent/train/macaroni_and_cheese'.\n",
            "There are 0 directories and 75 images in '101_food_classes_10_percent/train/cheesecake'.\n",
            "There are 0 directories and 75 images in '101_food_classes_10_percent/train/filet_mignon'.\n",
            "There are 0 directories and 75 images in '101_food_classes_10_percent/train/cannoli'.\n",
            "There are 0 directories and 75 images in '101_food_classes_10_percent/train/risotto'.\n",
            "There are 0 directories and 75 images in '101_food_classes_10_percent/train/omelette'.\n",
            "There are 0 directories and 75 images in '101_food_classes_10_percent/train/fish_and_chips'.\n",
            "There are 0 directories and 75 images in '101_food_classes_10_percent/train/deviled_eggs'.\n",
            "There are 0 directories and 75 images in '101_food_classes_10_percent/train/beet_salad'.\n",
            "There are 0 directories and 75 images in '101_food_classes_10_percent/train/pancakes'.\n",
            "There are 0 directories and 75 images in '101_food_classes_10_percent/train/spring_rolls'.\n",
            "There are 0 directories and 75 images in '101_food_classes_10_percent/train/gnocchi'.\n",
            "There are 0 directories and 75 images in '101_food_classes_10_percent/train/pork_chop'.\n",
            "There are 0 directories and 75 images in '101_food_classes_10_percent/train/gyoza'.\n",
            "There are 0 directories and 75 images in '101_food_classes_10_percent/train/club_sandwich'.\n",
            "There are 0 directories and 75 images in '101_food_classes_10_percent/train/greek_salad'.\n",
            "There are 0 directories and 75 images in '101_food_classes_10_percent/train/caesar_salad'.\n",
            "There are 0 directories and 75 images in '101_food_classes_10_percent/train/lobster_roll_sandwich'.\n",
            "There are 0 directories and 75 images in '101_food_classes_10_percent/train/fried_rice'.\n",
            "There are 0 directories and 75 images in '101_food_classes_10_percent/train/crab_cakes'.\n",
            "There are 0 directories and 75 images in '101_food_classes_10_percent/train/seaweed_salad'.\n",
            "There are 0 directories and 75 images in '101_food_classes_10_percent/train/red_velvet_cake'.\n",
            "There are 0 directories and 75 images in '101_food_classes_10_percent/train/ramen'.\n",
            "There are 0 directories and 75 images in '101_food_classes_10_percent/train/beignets'.\n"
          ]
        }
      ],
      "source": [
        "# How many images/classes are there?\n",
        "walk_through_dir('101_food_classes_10_percent')"
      ]
    },
    {
      "cell_type": "code",
      "execution_count": 9,
      "id": "8d178e7e",
      "metadata": {
        "execution": {
          "iopub.execute_input": "2022-06-16T02:45:38.240604Z",
          "iopub.status.busy": "2022-06-16T02:45:38.240200Z",
          "iopub.status.idle": "2022-06-16T02:45:45.748590Z",
          "shell.execute_reply": "2022-06-16T02:45:45.746854Z",
          "shell.execute_reply.started": "2022-06-16T02:45:38.240594Z"
        },
        "papermill": {
          "duration": 4.622961,
          "end_time": "2022-06-15T17:22:26.983480",
          "exception": false,
          "start_time": "2022-06-15T17:22:22.360519",
          "status": "completed"
        },
        "tags": [],
        "colab": {
          "base_uri": "https://localhost:8080/"
        },
        "id": "8d178e7e",
        "outputId": "a7b41511-dc32-4666-b441-5ff99117ac3e"
      },
      "outputs": [
        {
          "output_type": "stream",
          "name": "stdout",
          "text": [
            "Found 7575 files belonging to 101 classes.\n",
            "Found 25250 files belonging to 101 classes.\n"
          ]
        }
      ],
      "source": [
        "# Setup data inputs\n",
        "import tensorflow as tf\n",
        "IMG_SIZE = (224, 224)\n",
        "train_data_all_10_percent = tf.keras.utils.image_dataset_from_directory(train_dir,\n",
        "                                                                      label_mode='categorical',\n",
        "                                                                      image_size=IMG_SIZE)\n",
        "test_data = tf.keras.utils.image_dataset_from_directory(test_dir,\n",
        "                                                       label_mode='categorical',\n",
        "                                                       image_size=IMG_SIZE,\n",
        "                                                       shuffle=False) # don't shuffle test data for prediction analysis"
      ]
    },
    {
      "cell_type": "markdown",
      "id": "2fbf49e5",
      "metadata": {
        "papermill": {
          "duration": 0.943556,
          "end_time": "2022-06-15T17:22:27.935629",
          "exception": false,
          "start_time": "2022-06-15T17:22:26.992073",
          "status": "completed"
        },
        "tags": [],
        "id": "2fbf49e5"
      },
      "source": [
        "## Train a big dog model with transfer learning on 10% of 101 food classes\n",
        "\n",
        "Here are the steps we're going to take:\n",
        "* Create a ModelCheckpoint callback\n",
        "* Create a data augmentation layer to build data augmentation right into the model\n",
        "* Build a headless (no top layers) Functional EfficientNetB0 backboned-model (we'll create our own output layer)\n",
        "* Compile our model\n",
        "* Feature extract for 5 full passes (5 epochs on the train dataset and validate on 15% of the test data, to save epoch time)"
      ]
    },
    {
      "cell_type": "code",
      "execution_count": 10,
      "id": "b8b281b7",
      "metadata": {
        "execution": {
          "iopub.execute_input": "2022-06-16T02:45:45.751316Z",
          "iopub.status.busy": "2022-06-16T02:45:45.750896Z",
          "iopub.status.idle": "2022-06-16T02:45:45.763267Z",
          "shell.execute_reply": "2022-06-16T02:45:45.759927Z",
          "shell.execute_reply.started": "2022-06-16T02:45:45.751271Z"
        },
        "papermill": {
          "duration": 0.045767,
          "end_time": "2022-06-15T17:22:28.004166",
          "exception": false,
          "start_time": "2022-06-15T17:22:27.958399",
          "status": "completed"
        },
        "tags": [],
        "id": "b8b281b7"
      },
      "outputs": [],
      "source": [
        "# Create checkpoint callback\n",
        "checkpoint_path = '101_classes_10_percent_data_model_checkpoint'\n",
        "checkpoint_callback = tf.keras.callbacks.ModelCheckpoint(checkpoint_path,\n",
        "                                                        save_weights_only=True,\n",
        "                                                        monitor='val_accuracy',\n",
        "                                                        save_best_only=True)"
      ]
    },
    {
      "cell_type": "code",
      "execution_count": 11,
      "id": "2e6935a8",
      "metadata": {
        "execution": {
          "iopub.execute_input": "2022-06-16T02:45:45.765952Z",
          "iopub.status.busy": "2022-06-16T02:45:45.765638Z",
          "iopub.status.idle": "2022-06-16T02:45:45.804558Z",
          "shell.execute_reply": "2022-06-16T02:45:45.802329Z",
          "shell.execute_reply.started": "2022-06-16T02:45:45.765904Z"
        },
        "papermill": {
          "duration": 0.081143,
          "end_time": "2022-06-15T17:22:28.109699",
          "exception": false,
          "start_time": "2022-06-15T17:22:28.028556",
          "status": "completed"
        },
        "tags": [],
        "id": "2e6935a8"
      },
      "outputs": [],
      "source": [
        "# Create data augmentation layer to incorporate it right into the model\n",
        "from tensorflow.keras.layers import RandomFlip, RandomRotation, RandomHeight, RandomWidth, RandomZoom\n",
        "from tensorflow.keras.models import Sequential\n",
        "\n",
        "# Setup data augmentation\n",
        "data_augmentation = Sequential([\n",
        "    RandomFlip('horizontal'),\n",
        "    RandomRotation(0.2),\n",
        "    RandomHeight(0.2),\n",
        "    RandomWidth(0.2),\n",
        "    RandomZoom(0.2),\n",
        "    # Rescaling(1/255.) # rescale inputs of images to between 0 & 1, required for models like ResNet50\n",
        "], name='data_aumgmentation')"
      ]
    },
    {
      "cell_type": "code",
      "execution_count": 12,
      "id": "85d61758",
      "metadata": {
        "execution": {
          "iopub.execute_input": "2022-06-16T02:45:45.809581Z",
          "iopub.status.busy": "2022-06-16T02:45:45.809164Z",
          "iopub.status.idle": "2022-06-16T02:45:54.976947Z",
          "shell.execute_reply": "2022-06-16T02:45:54.966137Z",
          "shell.execute_reply.started": "2022-06-16T02:45:45.809536Z"
        },
        "papermill": {
          "duration": 3.042726,
          "end_time": "2022-06-15T17:22:31.165607",
          "exception": false,
          "start_time": "2022-06-15T17:22:28.122881",
          "status": "completed"
        },
        "tags": [],
        "id": "85d61758"
      },
      "outputs": [],
      "source": [
        "from tensorflow.keras import layers\n",
        "\n",
        "# Setup the base model and freeze its layers (this will extract features)\n",
        "base_model = tf.keras.applications.EfficientNetB0(include_top=False)\n",
        "base_model.trainable = False\n",
        "\n",
        "# Setup model architecture with trainable top layers\n",
        "inputs = layers.Input(shape=IMG_SIZE + (3,), name='input_layer')\n",
        "x = data_augmentation(inputs) # augment images (only happens during training phase)\n",
        "x = base_model(x, training=False) # put the base model in inference mode so weights which need to stay frozen, stay frozen\n",
        "x = layers.GlobalAveragePooling2D(name='global_avg_pool_layer')(x)\n",
        "outputs = layers.Dense(len(train_data_all_10_percent.class_names), activation='softmax', name='output_layer')(x)\n",
        "model = tf.keras.Model(inputs, outputs)"
      ]
    },
    {
      "cell_type": "code",
      "execution_count": 13,
      "id": "1fa52e2e",
      "metadata": {
        "execution": {
          "iopub.execute_input": "2022-06-16T02:45:54.999432Z",
          "iopub.status.busy": "2022-06-16T02:45:54.999045Z",
          "iopub.status.idle": "2022-06-16T02:45:55.049520Z",
          "shell.execute_reply": "2022-06-16T02:45:55.044717Z",
          "shell.execute_reply.started": "2022-06-16T02:45:54.999393Z"
        },
        "papermill": {
          "duration": 0.028714,
          "end_time": "2022-06-15T17:22:31.204099",
          "exception": false,
          "start_time": "2022-06-15T17:22:31.175385",
          "status": "completed"
        },
        "tags": [],
        "colab": {
          "base_uri": "https://localhost:8080/"
        },
        "id": "1fa52e2e",
        "outputId": "3bd97b99-8650-4d8a-c73b-6be7fd7435af"
      },
      "outputs": [
        {
          "output_type": "stream",
          "name": "stdout",
          "text": [
            "Model: \"model\"\n",
            "_________________________________________________________________\n",
            " Layer (type)                Output Shape              Param #   \n",
            "=================================================================\n",
            " input_layer (InputLayer)    [(None, 224, 224, 3)]     0         \n",
            "                                                                 \n",
            " data_aumgmentation (Sequent  (None, 224, 224, 3)      0         \n",
            " ial)                                                            \n",
            "                                                                 \n",
            " efficientnetb0 (Functional)  (None, None, None, 1280)  4049571  \n",
            "                                                                 \n",
            " global_avg_pool_layer (Glob  (None, 1280)             0         \n",
            " alAveragePooling2D)                                             \n",
            "                                                                 \n",
            " output_layer (Dense)        (None, 101)               129381    \n",
            "                                                                 \n",
            "=================================================================\n",
            "Total params: 4,178,952\n",
            "Trainable params: 129,381\n",
            "Non-trainable params: 4,049,571\n",
            "_________________________________________________________________\n"
          ]
        }
      ],
      "source": [
        "# Get a summary of model we've created\n",
        "model.summary()"
      ]
    },
    {
      "cell_type": "code",
      "execution_count": 14,
      "id": "33a87496",
      "metadata": {
        "execution": {
          "iopub.execute_input": "2022-06-16T02:45:55.051916Z",
          "iopub.status.busy": "2022-06-16T02:45:55.051456Z",
          "iopub.status.idle": "2022-06-16T02:53:09.604930Z",
          "shell.execute_reply": "2022-06-16T02:53:09.603367Z",
          "shell.execute_reply.started": "2022-06-16T02:45:55.051873Z"
        },
        "papermill": {
          "duration": 225.826195,
          "end_time": "2022-06-15T17:26:17.039189",
          "exception": false,
          "start_time": "2022-06-15T17:22:31.212994",
          "status": "completed"
        },
        "tags": [],
        "colab": {
          "base_uri": "https://localhost:8080/",
          "height": 304
        },
        "id": "33a87496",
        "outputId": "6fe24230-1aae-4521-bc12-0d07aab99c61"
      },
      "outputs": [
        {
          "output_type": "stream",
          "name": "stderr",
          "text": [
            "\u001b[34m\u001b[1mwandb\u001b[0m: Currently logged in as: \u001b[33mjpao\u001b[0m. Use \u001b[1m`wandb login --relogin`\u001b[0m to force relogin\n"
          ]
        },
        {
          "output_type": "display_data",
          "data": {
            "text/plain": [
              "<IPython.core.display.HTML object>"
            ],
            "text/html": [
              "Tracking run with wandb version 0.12.18"
            ]
          },
          "metadata": {}
        },
        {
          "output_type": "display_data",
          "data": {
            "text/plain": [
              "<IPython.core.display.HTML object>"
            ],
            "text/html": [
              "Run data is saved locally in <code>/content/wandb/run-20220616_065707-23t9gbfz</code>"
            ]
          },
          "metadata": {}
        },
        {
          "output_type": "display_data",
          "data": {
            "text/plain": [
              "<IPython.core.display.HTML object>"
            ],
            "text/html": [
              "Syncing run <strong><a href=\"https://wandb.ai/jpao/food_vision/runs/23t9gbfz\" target=\"_blank\">model_10_percent</a></strong> to <a href=\"https://wandb.ai/jpao/food_vision\" target=\"_blank\">Weights & Biases</a> (<a href=\"https://wandb.me/run\" target=\"_blank\">docs</a>)<br/>"
            ]
          },
          "metadata": {}
        },
        {
          "output_type": "stream",
          "name": "stderr",
          "text": [
            "\u001b[34m\u001b[1mwandb\u001b[0m: \u001b[33mWARNING\u001b[0m The save_model argument by default saves the model in the HDF5 format that cannot save custom objects like subclassed models and custom layers. This behavior will be deprecated in a future release in favor of the SavedModel format. Meanwhile, the HDF5 model is saved as W&B files and the SavedModel as W&B Artifacts.\n"
          ]
        },
        {
          "output_type": "stream",
          "name": "stdout",
          "text": [
            "Epoch 1/5\n",
            "237/237 [==============================] - 95s 332ms/step - loss: 3.4499 - accuracy: 0.2507 - val_loss: 2.6555 - val_accuracy: 0.3935 - _timestamp: 1655362724.0000 - _runtime: 97.0000\n",
            "Epoch 2/5\n",
            "237/237 [==============================] - 62s 261ms/step - loss: 2.3327 - accuracy: 0.4628 - val_loss: 2.2278 - val_accuracy: 0.4478 - _timestamp: 1655362786.0000 - _runtime: 159.0000\n",
            "Epoch 3/5\n",
            "237/237 [==============================] - 54s 227ms/step - loss: 1.9676 - accuracy: 0.5329 - val_loss: 2.0799 - val_accuracy: 0.4746 - _timestamp: 1655362860.0000 - _runtime: 233.0000\n",
            "Epoch 4/5\n",
            "237/237 [==============================] - 50s 207ms/step - loss: 1.7557 - accuracy: 0.5695 - val_loss: 2.0140 - val_accuracy: 0.4772 - _timestamp: 1655362910.0000 - _runtime: 283.0000\n",
            "Epoch 5/5\n",
            "237/237 [==============================] - 48s 201ms/step - loss: 1.5883 - accuracy: 0.6124 - val_loss: 1.9835 - val_accuracy: 0.4841 - _timestamp: 1655362958.0000 - _runtime: 331.0000\n"
          ]
        }
      ],
      "source": [
        "# Compile\n",
        "model.compile(loss=tf.keras.losses.CategoricalCrossentropy(),\n",
        "             optimizer=tf.keras.optimizers.Adam(),\n",
        "             metrics=['accuracy'])\n",
        "\n",
        "# Setup wandb run name and configs\n",
        "wandb.init(project='food_vision', \n",
        "           entity='jpao',\n",
        "           name='model_10_percent',\n",
        "           config={'epochs': 5,\n",
        "                   'val_steps': 0.15,\n",
        "                   'n_train': len(train_data_all_10_percent.class_names)})\n",
        "\n",
        "# Fit\n",
        "history_all_classes_10_percent = model.fit(train_data_all_10_percent,\n",
        "                                          epochs=wandb.config.epochs, # fit for 5 epochs to keep experiments quick\n",
        "                                          validation_data=test_data,\n",
        "                                          validation_steps=int(wandb.config.val_steps * len(test_data)), # validate only on 15% of test data during training\n",
        "                                          callbacks=[checkpoint_callback,\n",
        "                                                     WandbCallback()])"
      ]
    },
    {
      "cell_type": "code",
      "execution_count": 15,
      "id": "7b7c03fc",
      "metadata": {
        "execution": {
          "iopub.execute_input": "2022-06-16T02:53:09.608190Z",
          "iopub.status.busy": "2022-06-16T02:53:09.607746Z",
          "iopub.status.idle": "2022-06-16T02:54:48.183796Z",
          "shell.execute_reply": "2022-06-16T02:54:48.182514Z",
          "shell.execute_reply.started": "2022-06-16T02:53:09.608151Z"
        },
        "papermill": {
          "duration": 82.200933,
          "end_time": "2022-06-15T17:27:39.367807",
          "exception": false,
          "start_time": "2022-06-15T17:26:17.166874",
          "status": "completed"
        },
        "tags": [],
        "colab": {
          "base_uri": "https://localhost:8080/"
        },
        "id": "7b7c03fc",
        "outputId": "dce93663-f3d1-4f8a-ab4a-8e01ec058779"
      },
      "outputs": [
        {
          "output_type": "stream",
          "name": "stdout",
          "text": [
            "790/790 [==============================] - 60s 76ms/step - loss: 1.7199 - accuracy: 0.5522\n"
          ]
        },
        {
          "output_type": "execute_result",
          "data": {
            "text/plain": [
              "[1.7199339866638184, 0.5521584153175354]"
            ]
          },
          "metadata": {},
          "execution_count": 15
        }
      ],
      "source": [
        "# Evaluate on the whole test dataset\n",
        "feature_extraction_results = model.evaluate(test_data)\n",
        "feature_extraction_results"
      ]
    },
    {
      "cell_type": "code",
      "execution_count": 16,
      "id": "6291c519",
      "metadata": {
        "execution": {
          "iopub.execute_input": "2022-06-16T02:54:48.185568Z",
          "iopub.status.busy": "2022-06-16T02:54:48.185263Z",
          "iopub.status.idle": "2022-06-16T02:54:48.912242Z",
          "shell.execute_reply": "2022-06-16T02:54:48.907704Z",
          "shell.execute_reply.started": "2022-06-16T02:54:48.185533Z"
        },
        "papermill": {
          "duration": 0.560061,
          "end_time": "2022-06-15T17:27:40.055174",
          "exception": false,
          "start_time": "2022-06-15T17:27:39.495113",
          "status": "completed"
        },
        "tags": [],
        "colab": {
          "base_uri": "https://localhost:8080/",
          "height": 573
        },
        "id": "6291c519",
        "outputId": "0061f38b-e953-4c0a-800d-37c896733b99"
      },
      "outputs": [
        {
          "output_type": "display_data",
          "data": {
            "text/plain": [
              "<Figure size 432x288 with 1 Axes>"
            ],
            "image/png": "[encoded data removed]"
          },
          "metadata": {
            "needs_background": "light"
          }
        },
        {
          "output_type": "display_data",
          "data": {
            "text/plain": [
              "<Figure size 432x288 with 1 Axes>"
            ],
            "image/png": "[encoded data removed]"
          },
          "metadata": {
            "needs_background": "light"
          }
        }
      ],
      "source": [
        "plot_loss_curves(history_all_classes_10_percent)"
      ]
    },
    {
      "cell_type": "markdown",
      "id": "a3e01aa4",
      "metadata": {
        "papermill": {
          "duration": 0.125828,
          "end_time": "2022-06-15T17:27:40.311131",
          "exception": false,
          "start_time": "2022-06-15T17:27:40.185303",
          "status": "completed"
        },
        "tags": [],
        "id": "a3e01aa4"
      },
      "source": [
        "**Question:** What do these curves suggest? Hint: ideally, the two curves should be very similar to each other, if not it may suggest that our model is overfitting  (performing too well on the training data and not generalizing to unseen data)."
      ]
    },
    {
      "cell_type": "markdown",
      "id": "3203241d-482c-4a59-af9d-d83cb3372083",
      "metadata": {
        "id": "3203241d-482c-4a59-af9d-d83cb3372083"
      },
      "source": [
        "## Fine-tuning"
      ]
    },
    {
      "cell_type": "code",
      "execution_count": 17,
      "id": "47930c03-ec74-4aff-9722-92360b4d757d",
      "metadata": {
        "execution": {
          "iopub.execute_input": "2022-06-16T03:04:59.928554Z",
          "iopub.status.busy": "2022-06-16T03:04:59.928129Z",
          "iopub.status.idle": "2022-06-16T03:04:59.966809Z",
          "shell.execute_reply": "2022-06-16T03:04:59.964326Z",
          "shell.execute_reply.started": "2022-06-16T03:04:59.928511Z"
        },
        "id": "47930c03-ec74-4aff-9722-92360b4d757d"
      },
      "outputs": [],
      "source": [
        "# Unfreeze all of the layer in the base model\n",
        "base_model.trainable = True\n",
        "\n",
        "# Refreeze every layer except the last 5\n",
        "for layer in base_model.layers[:-5]:\n",
        "    layer.trainable = False"
      ]
    },
    {
      "cell_type": "code",
      "execution_count": 18,
      "id": "d2a3d3c2-494c-43ef-a84c-21bb93a6b135",
      "metadata": {
        "execution": {
          "iopub.execute_input": "2022-06-16T03:22:53.801012Z",
          "iopub.status.busy": "2022-06-16T03:22:53.799548Z",
          "iopub.status.idle": "2022-06-16T03:22:53.839890Z",
          "shell.execute_reply": "2022-06-16T03:22:53.838264Z",
          "shell.execute_reply.started": "2022-06-16T03:22:53.800945Z"
        },
        "id": "d2a3d3c2-494c-43ef-a84c-21bb93a6b135"
      },
      "outputs": [],
      "source": [
        "# Adding wandb lr config for fine-tuning model\n",
        "wandb.config.lr = 0.0001\n",
        "\n",
        "# Recompile model with lower learning rate (it's typically best practice to lower the learning rate when fine-tuning)\n",
        "model.compile(loss=tf.keras.losses.CategoricalCrossentropy(),\n",
        "              optimizer=tf.keras.optimizers.Adam(learning_rate=wandb.config.lr),\n",
        "              metrics=['accuracy'])"
      ]
    },
    {
      "cell_type": "code",
      "execution_count": 19,
      "id": "97a1e426-4818-42cd-90bb-50f05ec512ef",
      "metadata": {
        "execution": {
          "iopub.execute_input": "2022-06-16T03:24:03.634086Z",
          "iopub.status.busy": "2022-06-16T03:24:03.633280Z",
          "iopub.status.idle": "2022-06-16T03:24:03.646376Z",
          "shell.execute_reply": "2022-06-16T03:24:03.643670Z",
          "shell.execute_reply.started": "2022-06-16T03:24:03.634038Z"
        },
        "colab": {
          "base_uri": "https://localhost:8080/"
        },
        "id": "97a1e426-4818-42cd-90bb-50f05ec512ef",
        "outputId": "90e8dc6a-07a0-47c0-9c56-c8a617237f36"
      },
      "outputs": [
        {
          "output_type": "stream",
          "name": "stdout",
          "text": [
            "0 input_layer True\n",
            "1 data_aumgmentation True\n",
            "2 efficientnetb0 True\n",
            "3 global_avg_pool_layer True\n",
            "4 output_layer True\n"
          ]
        }
      ],
      "source": [
        "# What layers in the model are trainable?\n",
        "for layer_number, layer in enumerate(model.layers):\n",
        "    print(layer_number, layer.name, layer.trainable)"
      ]
    },
    {
      "cell_type": "code",
      "execution_count": 20,
      "id": "85de117d-791a-4fb3-bac6-6e14a300e8e5",
      "metadata": {
        "execution": {
          "iopub.execute_input": "2022-06-16T03:25:17.070930Z",
          "iopub.status.busy": "2022-06-16T03:25:17.070031Z",
          "iopub.status.idle": "2022-06-16T03:25:17.237117Z",
          "shell.execute_reply": "2022-06-16T03:25:17.234532Z",
          "shell.execute_reply.started": "2022-06-16T03:25:17.070881Z"
        },
        "colab": {
          "base_uri": "https://localhost:8080/"
        },
        "id": "85de117d-791a-4fb3-bac6-6e14a300e8e5",
        "outputId": "8c44c5fe-e985-4d8f-f73a-32090f29326c"
      },
      "outputs": [
        {
          "output_type": "stream",
          "name": "stdout",
          "text": [
            "0 input_1 False\n",
            "1 rescaling False\n",
            "2 normalization False\n",
            "3 stem_conv_pad False\n",
            "4 stem_conv False\n",
            "5 stem_bn False\n",
            "6 stem_activation False\n",
            "7 block1a_dwconv False\n",
            "8 block1a_bn False\n",
            "9 block1a_activation False\n",
            "10 block1a_se_squeeze False\n",
            "11 block1a_se_reshape False\n",
            "12 block1a_se_reduce False\n",
            "13 block1a_se_expand False\n",
            "14 block1a_se_excite False\n",
            "15 block1a_project_conv False\n",
            "16 block1a_project_bn False\n",
            "17 block2a_expand_conv False\n",
            "18 block2a_expand_bn False\n",
            "19 block2a_expand_activation False\n",
            "20 block2a_dwconv_pad False\n",
            "21 block2a_dwconv False\n",
            "22 block2a_bn False\n",
            "23 block2a_activation False\n",
            "24 block2a_se_squeeze False\n",
            "25 block2a_se_reshape False\n",
            "26 block2a_se_reduce False\n",
            "27 block2a_se_expand False\n",
            "28 block2a_se_excite False\n",
            "29 block2a_project_conv False\n",
            "30 block2a_project_bn False\n",
            "31 block2b_expand_conv False\n",
            "32 block2b_expand_bn False\n",
            "33 block2b_expand_activation False\n",
            "34 block2b_dwconv False\n",
            "35 block2b_bn False\n",
            "36 block2b_activation False\n",
            "37 block2b_se_squeeze False\n",
            "38 block2b_se_reshape False\n",
            "39 block2b_se_reduce False\n",
            "40 block2b_se_expand False\n",
            "41 block2b_se_excite False\n",
            "42 block2b_project_conv False\n",
            "43 block2b_project_bn False\n",
            "44 block2b_drop False\n",
            "45 block2b_add False\n",
            "46 block3a_expand_conv False\n",
            "47 block3a_expand_bn False\n",
            "48 block3a_expand_activation False\n",
            "49 block3a_dwconv_pad False\n",
            "50 block3a_dwconv False\n",
            "51 block3a_bn False\n",
            "52 block3a_activation False\n",
            "53 block3a_se_squeeze False\n",
            "54 block3a_se_reshape False\n",
            "55 block3a_se_reduce False\n",
            "56 block3a_se_expand False\n",
            "57 block3a_se_excite False\n",
            "58 block3a_project_conv False\n",
            "59 block3a_project_bn False\n",
            "60 block3b_expand_conv False\n",
            "61 block3b_expand_bn False\n",
            "62 block3b_expand_activation False\n",
            "63 block3b_dwconv False\n",
            "64 block3b_bn False\n",
            "65 block3b_activation False\n",
            "66 block3b_se_squeeze False\n",
            "67 block3b_se_reshape False\n",
            "68 block3b_se_reduce False\n",
            "69 block3b_se_expand False\n",
            "70 block3b_se_excite False\n",
            "71 block3b_project_conv False\n",
            "72 block3b_project_bn False\n",
            "73 block3b_drop False\n",
            "74 block3b_add False\n",
            "75 block4a_expand_conv False\n",
            "76 block4a_expand_bn False\n",
            "77 block4a_expand_activation False\n",
            "78 block4a_dwconv_pad False\n",
            "79 block4a_dwconv False\n",
            "80 block4a_bn False\n",
            "81 block4a_activation False\n",
            "82 block4a_se_squeeze False\n",
            "83 block4a_se_reshape False\n",
            "84 block4a_se_reduce False\n",
            "85 block4a_se_expand False\n",
            "86 block4a_se_excite False\n",
            "87 block4a_project_conv False\n",
            "88 block4a_project_bn False\n",
            "89 block4b_expand_conv False\n",
            "90 block4b_expand_bn False\n",
            "91 block4b_expand_activation False\n",
            "92 block4b_dwconv False\n",
            "93 block4b_bn False\n",
            "94 block4b_activation False\n",
            "95 block4b_se_squeeze False\n",
            "96 block4b_se_reshape False\n",
            "97 block4b_se_reduce False\n",
            "98 block4b_se_expand False\n",
            "99 block4b_se_excite False\n",
            "100 block4b_project_conv False\n",
            "101 block4b_project_bn False\n",
            "102 block4b_drop False\n",
            "103 block4b_add False\n",
            "104 block4c_expand_conv False\n",
            "105 block4c_expand_bn False\n",
            "106 block4c_expand_activation False\n",
            "107 block4c_dwconv False\n",
            "108 block4c_bn False\n",
            "109 block4c_activation False\n",
            "110 block4c_se_squeeze False\n",
            "111 block4c_se_reshape False\n",
            "112 block4c_se_reduce False\n",
            "113 block4c_se_expand False\n",
            "114 block4c_se_excite False\n",
            "115 block4c_project_conv False\n",
            "116 block4c_project_bn False\n",
            "117 block4c_drop False\n",
            "118 block4c_add False\n",
            "119 block5a_expand_conv False\n",
            "120 block5a_expand_bn False\n",
            "121 block5a_expand_activation False\n",
            "122 block5a_dwconv False\n",
            "123 block5a_bn False\n",
            "124 block5a_activation False\n",
            "125 block5a_se_squeeze False\n",
            "126 block5a_se_reshape False\n",
            "127 block5a_se_reduce False\n",
            "128 block5a_se_expand False\n",
            "129 block5a_se_excite False\n",
            "130 block5a_project_conv False\n",
            "131 block5a_project_bn False\n",
            "132 block5b_expand_conv False\n",
            "133 block5b_expand_bn False\n",
            "134 block5b_expand_activation False\n",
            "135 block5b_dwconv False\n",
            "136 block5b_bn False\n",
            "137 block5b_activation False\n",
            "138 block5b_se_squeeze False\n",
            "139 block5b_se_reshape False\n",
            "140 block5b_se_reduce False\n",
            "141 block5b_se_expand False\n",
            "142 block5b_se_excite False\n",
            "143 block5b_project_conv False\n",
            "144 block5b_project_bn False\n",
            "145 block5b_drop False\n",
            "146 block5b_add False\n",
            "147 block5c_expand_conv False\n",
            "148 block5c_expand_bn False\n",
            "149 block5c_expand_activation False\n",
            "150 block5c_dwconv False\n",
            "151 block5c_bn False\n",
            "152 block5c_activation False\n",
            "153 block5c_se_squeeze False\n",
            "154 block5c_se_reshape False\n",
            "155 block5c_se_reduce False\n",
            "156 block5c_se_expand False\n",
            "157 block5c_se_excite False\n",
            "158 block5c_project_conv False\n",
            "159 block5c_project_bn False\n",
            "160 block5c_drop False\n",
            "161 block5c_add False\n",
            "162 block6a_expand_conv False\n",
            "163 block6a_expand_bn False\n",
            "164 block6a_expand_activation False\n",
            "165 block6a_dwconv_pad False\n",
            "166 block6a_dwconv False\n",
            "167 block6a_bn False\n",
            "168 block6a_activation False\n",
            "169 block6a_se_squeeze False\n",
            "170 block6a_se_reshape False\n",
            "171 block6a_se_reduce False\n",
            "172 block6a_se_expand False\n",
            "173 block6a_se_excite False\n",
            "174 block6a_project_conv False\n",
            "175 block6a_project_bn False\n",
            "176 block6b_expand_conv False\n",
            "177 block6b_expand_bn False\n",
            "178 block6b_expand_activation False\n",
            "179 block6b_dwconv False\n",
            "180 block6b_bn False\n",
            "181 block6b_activation False\n",
            "182 block6b_se_squeeze False\n",
            "183 block6b_se_reshape False\n",
            "184 block6b_se_reduce False\n",
            "185 block6b_se_expand False\n",
            "186 block6b_se_excite False\n",
            "187 block6b_project_conv False\n",
            "188 block6b_project_bn False\n",
            "189 block6b_drop False\n",
            "190 block6b_add False\n",
            "191 block6c_expand_conv False\n",
            "192 block6c_expand_bn False\n",
            "193 block6c_expand_activation False\n",
            "194 block6c_dwconv False\n",
            "195 block6c_bn False\n",
            "196 block6c_activation False\n",
            "197 block6c_se_squeeze False\n",
            "198 block6c_se_reshape False\n",
            "199 block6c_se_reduce False\n",
            "200 block6c_se_expand False\n",
            "201 block6c_se_excite False\n",
            "202 block6c_project_conv False\n",
            "203 block6c_project_bn False\n",
            "204 block6c_drop False\n",
            "205 block6c_add False\n",
            "206 block6d_expand_conv False\n",
            "207 block6d_expand_bn False\n",
            "208 block6d_expand_activation False\n",
            "209 block6d_dwconv False\n",
            "210 block6d_bn False\n",
            "211 block6d_activation False\n",
            "212 block6d_se_squeeze False\n",
            "213 block6d_se_reshape False\n",
            "214 block6d_se_reduce False\n",
            "215 block6d_se_expand False\n",
            "216 block6d_se_excite False\n",
            "217 block6d_project_conv False\n",
            "218 block6d_project_bn False\n",
            "219 block6d_drop False\n",
            "220 block6d_add False\n",
            "221 block7a_expand_conv False\n",
            "222 block7a_expand_bn False\n",
            "223 block7a_expand_activation False\n",
            "224 block7a_dwconv False\n",
            "225 block7a_bn False\n",
            "226 block7a_activation False\n",
            "227 block7a_se_squeeze False\n",
            "228 block7a_se_reshape False\n",
            "229 block7a_se_reduce False\n",
            "230 block7a_se_expand False\n",
            "231 block7a_se_excite False\n",
            "232 block7a_project_conv True\n",
            "233 block7a_project_bn True\n",
            "234 top_conv True\n",
            "235 top_bn True\n",
            "236 top_activation True\n"
          ]
        }
      ],
      "source": [
        "# How many layer in base_model (efficientnetb0) are trainabel?\n",
        "for layer_number, layer in enumerate(model.layers[2].layers):\n",
        "    print(layer_number, layer.name, layer.trainable)"
      ]
    },
    {
      "cell_type": "code",
      "execution_count": 21,
      "id": "7d0c0c01-d7fe-4cd6-92ab-6897c51b3d6c",
      "metadata": {
        "execution": {
          "iopub.execute_input": "2022-06-16T03:33:18.360362Z",
          "iopub.status.busy": "2022-06-16T03:33:18.359978Z",
          "iopub.status.idle": "2022-06-16T03:39:56.193845Z",
          "shell.execute_reply": "2022-06-16T03:39:56.192092Z",
          "shell.execute_reply.started": "2022-06-16T03:33:18.360322Z"
        },
        "colab": {
          "base_uri": "https://localhost:8080/",
          "height": 601,
          "referenced_widgets": [
            "37cd1db3c63a430e8b67d8d0018ce4f5",
            "c2e6d9757205450b92afb06284a9eab6",
            "bfb2ea16efd145f19c0cda6a356b82cb",
            "23033a13b8a54615b1fbc08b186fb4e9",
            "d71d35fba59c45c2a0a019bc8e41bf4c",
            "f2d9d257600b4cff87bd643838ec121c",
            "c5fb3d872306480aaebed83f7380d151",
            "2630ef63c49647a8a91def979d3e1c27"
          ]
        },
        "id": "7d0c0c01-d7fe-4cd6-92ab-6897c51b3d6c",
        "outputId": "021fe9d6-e6b0-4581-e750-d153d1eac6f0"
      },
      "outputs": [
        {
          "output_type": "display_data",
          "data": {
            "text/plain": [
              "<IPython.core.display.HTML object>"
            ],
            "text/html": [
              "Finishing last run (ID:23t9gbfz) before initializing another..."
            ]
          },
          "metadata": {}
        },
        {
          "output_type": "display_data",
          "data": {
            "text/plain": [
              "<IPython.core.display.HTML object>"
            ],
            "text/html": [
              "Waiting for W&B process to finish... <strong style=\"color:green\">(success).</strong>"
            ]
          },
          "metadata": {}
        },
        {
          "output_type": "display_data",
          "data": {
            "text/plain": [
              "VBox(children=(Label(value='17.310 MB of 17.310 MB uploaded (0.000 MB deduped)\\r'), FloatProgress(value=1.0, m…"
            ],
            "application/vnd.jupyter.widget-view+json": {
              "version_major": 2,
              "version_minor": 0,
              "model_id": "37cd1db3c63a430e8b67d8d0018ce4f5"
            }
          },
          "metadata": {}
        },
        {
          "output_type": "display_data",
          "data": {
            "text/plain": [
              "<IPython.core.display.HTML object>"
            ],
            "text/html": [
              "<style>\n",
              "    table.wandb td:nth-child(1) { padding: 0 10px; text-align: left ; width: auto;} td:nth-child(2) {text-align: left ; width: 100%}\n",
              "    .wandb-row { display: flex; flex-direction: row; flex-wrap: wrap; justify-content: flex-start; width: 100% }\n",
              "    .wandb-col { display: flex; flex-direction: column; flex-basis: 100%; flex: 1; padding: 10px; }\n",
              "    </style>\n",
              "<div class=\"wandb-row\"><div class=\"wandb-col\"><h3>Run history:</h3><br/><table class=\"wandb\"><tr><td>accuracy</td><td>▁▅▆▇█</td></tr><tr><td>epoch</td><td>▁▃▅▆█</td></tr><tr><td>loss</td><td>█▄▂▂▁</td></tr><tr><td>val_accuracy</td><td>▁▅▇▇█</td></tr><tr><td>val_loss</td><td>█▄▂▁▁</td></tr></table><br/></div><div class=\"wandb-col\"><h3>Run summary:</h3><br/><table class=\"wandb\"><tr><td>accuracy</td><td>0.61241</td></tr><tr><td>best_epoch</td><td>4</td></tr><tr><td>best_val_loss</td><td>1.9835</td></tr><tr><td>epoch</td><td>4</td></tr><tr><td>loss</td><td>1.5883</td></tr><tr><td>val_accuracy</td><td>0.48411</td></tr><tr><td>val_loss</td><td>1.9835</td></tr></table><br/></div></div>"
            ]
          },
          "metadata": {}
        },
        {
          "output_type": "display_data",
          "data": {
            "text/plain": [
              "<IPython.core.display.HTML object>"
            ],
            "text/html": [
              "Synced <strong style=\"color:#cdcd00\">model_10_percent</strong>: <a href=\"https://wandb.ai/jpao/food_vision/runs/23t9gbfz\" target=\"_blank\">https://wandb.ai/jpao/food_vision/runs/23t9gbfz</a><br/>Synced 5 W&B file(s), 1 media file(s), 0 artifact file(s) and 1 other file(s)"
            ]
          },
          "metadata": {}
        },
        {
          "output_type": "display_data",
          "data": {
            "text/plain": [
              "<IPython.core.display.HTML object>"
            ],
            "text/html": [
              "Find logs at: <code>./wandb/run-20220616_065707-23t9gbfz/logs</code>"
            ]
          },
          "metadata": {}
        },
        {
          "output_type": "display_data",
          "data": {
            "text/plain": [
              "<IPython.core.display.HTML object>"
            ],
            "text/html": [
              "Successfully finished last run (ID:23t9gbfz). Initializing new run:<br/>"
            ]
          },
          "metadata": {}
        },
        {
          "output_type": "display_data",
          "data": {
            "text/plain": [
              "<IPython.core.display.HTML object>"
            ],
            "text/html": [
              "Tracking run with wandb version 0.12.18"
            ]
          },
          "metadata": {}
        },
        {
          "output_type": "display_data",
          "data": {
            "text/plain": [
              "<IPython.core.display.HTML object>"
            ],
            "text/html": [
              "Run data is saved locally in <code>/content/wandb/run-20220616_070413-u7vw8nbo</code>"
            ]
          },
          "metadata": {}
        },
        {
          "output_type": "display_data",
          "data": {
            "text/plain": [
              "<IPython.core.display.HTML object>"
            ],
            "text/html": [
              "Syncing run <strong><a href=\"https://wandb.ai/jpao/food_vision/runs/u7vw8nbo\" target=\"_blank\">model_10_percent_fine_tune</a></strong> to <a href=\"https://wandb.ai/jpao/food_vision\" target=\"_blank\">Weights & Biases</a> (<a href=\"https://wandb.me/run\" target=\"_blank\">docs</a>)<br/>"
            ]
          },
          "metadata": {}
        },
        {
          "output_type": "stream",
          "name": "stdout",
          "text": [
            "Epoch 5/10\n",
            "237/237 [==============================] - 56s 206ms/step - loss: 1.3639 - accuracy: 0.6421 - val_loss: 1.8819 - val_accuracy: 0.5074 - _timestamp: 1655363114.0000 - _runtime: 58.0000\n",
            "Epoch 6/10\n",
            "237/237 [==============================] - 42s 175ms/step - loss: 1.2415 - accuracy: 0.6696 - val_loss: 1.8888 - val_accuracy: 0.5013 - _timestamp: 1655363156.0000 - _runtime: 100.0000\n",
            "Epoch 7/10\n",
            "237/237 [==============================] - 41s 172ms/step - loss: 1.1516 - accuracy: 0.6927 - val_loss: 1.8791 - val_accuracy: 0.5101 - _timestamp: 1655363197.0000 - _runtime: 141.0000\n",
            "Epoch 8/10\n",
            "237/237 [==============================] - 39s 164ms/step - loss: 1.0760 - accuracy: 0.7098 - val_loss: 1.9038 - val_accuracy: 0.5042 - _timestamp: 1655363278.0000 - _runtime: 222.0000\n",
            "Epoch 9/10\n",
            "237/237 [==============================] - 38s 160ms/step - loss: 1.0125 - accuracy: 0.7343 - val_loss: 1.9189 - val_accuracy: 0.5053 - _timestamp: 1655363316.0000 - _runtime: 260.0000\n",
            "Epoch 10/10\n",
            "237/237 [==============================] - 38s 159ms/step - loss: 0.9602 - accuracy: 0.7415 - val_loss: 1.8959 - val_accuracy: 0.5090 - _timestamp: 1655363354.0000 - _runtime: 298.0000\n"
          ]
        }
      ],
      "source": [
        "# Fine-tune for 5 more epochs\n",
        "fine_tune_epochs = 10 # model has already done 5 epochs (feature extraction), this is the total number of epochs we're after (5 + 5 = 10)\n",
        "\n",
        "# Setup wandb init and config\n",
        "wandb.init(project='food_vision',\n",
        "           entity='jpao',\n",
        "           name='model_10_percent_fine_tune',\n",
        "           config={'epochs': fine_tune_epochs,\n",
        "                  'val_steps': 0.15,\n",
        "                  'n_train': len(train_data_all_10_percent.class_names),\n",
        "                  'lr': 0.0001})\n",
        "\n",
        "# Fine-tune fit our model\n",
        "history_all_classes_10_percent_fine_tune = model.fit(train_data_all_10_percent,\n",
        "                                                   epochs=wandb.config.epochs,\n",
        "                                                   validation_data=test_data,\n",
        "                                                   validation_steps=int(wandb.config.val_steps * len(test_data)),\n",
        "                                                   initial_epoch=history_all_classes_10_percent.epoch[-1],\n",
        "                                                   callbacks=[WandbCallback()])"
      ]
    },
    {
      "cell_type": "code",
      "execution_count": 22,
      "id": "9ddf70c8-8237-4cc5-8351-fa1303f7d0ae",
      "metadata": {
        "execution": {
          "iopub.execute_input": "2022-06-16T03:43:40.754974Z",
          "iopub.status.busy": "2022-06-16T03:43:40.754472Z",
          "iopub.status.idle": "2022-06-16T03:45:22.489954Z",
          "shell.execute_reply": "2022-06-16T03:45:22.488801Z",
          "shell.execute_reply.started": "2022-06-16T03:43:40.754970Z"
        },
        "colab": {
          "base_uri": "https://localhost:8080/"
        },
        "id": "9ddf70c8-8237-4cc5-8351-fa1303f7d0ae",
        "outputId": "77740b80-9115-4d3d-f631-30698ce85c32"
      },
      "outputs": [
        {
          "output_type": "stream",
          "name": "stdout",
          "text": [
            "790/790 [==============================] - 57s 72ms/step - loss: 1.6169 - accuracy: 0.5740\n"
          ]
        },
        {
          "output_type": "execute_result",
          "data": {
            "text/plain": [
              "[1.6169095039367676, 0.5739802122116089]"
            ]
          },
          "metadata": {},
          "execution_count": 22
        }
      ],
      "source": [
        "# Evaluate on the whole test data\n",
        "all_classes_10_percent_fine_tune_results = model.evaluate(test_data)\n",
        "all_classes_10_percent_fine_tune_results"
      ]
    },
    {
      "cell_type": "code",
      "execution_count": 23,
      "id": "58d45e80-76bd-47f8-a188-8203191b2b6a",
      "metadata": {
        "execution": {
          "iopub.execute_input": "2022-06-16T03:48:19.088220Z",
          "iopub.status.busy": "2022-06-16T03:48:19.087788Z",
          "iopub.status.idle": "2022-06-16T03:48:19.591556Z",
          "shell.execute_reply": "2022-06-16T03:48:19.589582Z",
          "shell.execute_reply.started": "2022-06-16T03:48:19.088183Z"
        },
        "colab": {
          "base_uri": "https://localhost:8080/",
          "height": 513
        },
        "id": "58d45e80-76bd-47f8-a188-8203191b2b6a",
        "outputId": "2343e076-0507-4374-88c9-e31ae63d4fbc"
      },
      "outputs": [
        {
          "output_type": "display_data",
          "data": {
            "text/plain": [
              "<Figure size 576x576 with 2 Axes>"
            ],
            "image/png": "[encoded data removed]"
          },
          "metadata": {
            "needs_background": "light"
          }
        }
      ],
      "source": [
        "# Compare the histories of feature extraction model with fine-tuning model\n",
        "compare_historys(original_history=history_all_classes_10_percent,\n",
        "                 new_history=history_all_classes_10_percent_fine_tune,\n",
        "                 initial_epochs=history_all_classes_10_percent.epoch[-1])"
      ]
    },
    {
      "cell_type": "markdown",
      "id": "ca77ab35-1cf4-45ba-8788-5d117df58a52",
      "metadata": {
        "id": "ca77ab35-1cf4-45ba-8788-5d117df58a52"
      },
      "source": [
        "## Saving and loading our model\n",
        "\n",
        "To use our model in an external application, we'll need to save it and export it somewhere."
      ]
    },
    {
      "cell_type": "code",
      "execution_count": 24,
      "id": "eb3b44ea-74d9-4f95-9d32-63b21ecdf2a3",
      "metadata": {
        "execution": {
          "iopub.execute_input": "2022-06-16T03:59:33.445649Z",
          "iopub.status.busy": "2022-06-16T03:59:33.445274Z",
          "iopub.status.idle": "2022-06-16T03:59:34.393084Z",
          "shell.execute_reply": "2022-06-16T03:59:34.392177Z",
          "shell.execute_reply.started": "2022-06-16T03:59:33.445601Z"
        },
        "colab": {
          "base_uri": "https://localhost:8080/"
        },
        "id": "eb3b44ea-74d9-4f95-9d32-63b21ecdf2a3",
        "outputId": "7bb3362c-b135-46f7-ee0d-9c197ad161e9"
      },
      "outputs": [
        {
          "output_type": "stream",
          "name": "stdout",
          "text": [
            "INFO:tensorflow:Assets written to: 101_food_classes_10_percent_saved_big_dog_model/assets\n"
          ]
        }
      ],
      "source": [
        "# Save our fine-tuning model\n",
        "model.save('101_food_classes_10_percent_saved_big_dog_model')"
      ]
    },
    {
      "cell_type": "code",
      "execution_count": 25,
      "id": "506339de-b382-4160-9485-95d9e29d752b",
      "metadata": {
        "execution": {
          "iopub.execute_input": "2022-06-16T04:00:02.467639Z",
          "iopub.status.busy": "2022-06-16T04:00:02.465893Z",
          "iopub.status.idle": "2022-06-16T04:00:07.741822Z",
          "shell.execute_reply": "2022-06-16T04:00:07.740383Z",
          "shell.execute_reply.started": "2022-06-16T04:00:02.467562Z"
        },
        "id": "506339de-b382-4160-9485-95d9e29d752b"
      },
      "outputs": [],
      "source": [
        "# Load the saved model\n",
        "loaded_model = tf.keras.models.load_model('101_food_classes_10_percent_saved_big_dog_model')"
      ]
    },
    {
      "cell_type": "code",
      "execution_count": 26,
      "id": "b0660ca6-0126-4828-b9d4-e540a88ebed5",
      "metadata": {
        "execution": {
          "iopub.execute_input": "2022-06-16T04:02:18.041174Z",
          "iopub.status.busy": "2022-06-16T04:02:18.040833Z",
          "iopub.status.idle": "2022-06-16T04:03:57.936275Z",
          "shell.execute_reply": "2022-06-16T04:03:57.933143Z",
          "shell.execute_reply.started": "2022-06-16T04:02:18.041130Z"
        },
        "colab": {
          "base_uri": "https://localhost:8080/"
        },
        "id": "b0660ca6-0126-4828-b9d4-e540a88ebed5",
        "outputId": "0f85537c-19c7-4e83-f0f9-2b40101b1a6e"
      },
      "outputs": [
        {
          "output_type": "stream",
          "name": "stdout",
          "text": [
            "790/790 [==============================] - 59s 73ms/step - loss: 1.6169 - accuracy: 0.5740\n"
          ]
        },
        {
          "output_type": "execute_result",
          "data": {
            "text/plain": [
              "[1.6169095039367676, 0.5739802122116089]"
            ]
          },
          "metadata": {},
          "execution_count": 26
        }
      ],
      "source": [
        "# Evaluate loaded model and compare performance to pre-saved model\n",
        "loaded_model_results = loaded_model.evaluate(test_data)\n",
        "loaded_model_results"
      ]
    },
    {
      "cell_type": "code",
      "execution_count": 27,
      "id": "d3c7150a-858a-41ca-ab87-ac1c383c5756",
      "metadata": {
        "execution": {
          "iopub.execute_input": "2022-06-16T04:02:15.393671Z",
          "iopub.status.busy": "2022-06-16T04:02:15.393109Z",
          "iopub.status.idle": "2022-06-16T04:02:15.402620Z",
          "shell.execute_reply": "2022-06-16T04:02:15.400969Z",
          "shell.execute_reply.started": "2022-06-16T04:02:15.393671Z"
        },
        "colab": {
          "base_uri": "https://localhost:8080/"
        },
        "id": "d3c7150a-858a-41ca-ab87-ac1c383c5756",
        "outputId": "6249f0bb-13fa-4ee0-ad9f-f931bf0c6b78"
      },
      "outputs": [
        {
          "output_type": "execute_result",
          "data": {
            "text/plain": [
              "[1.6169095039367676, 0.5739802122116089]"
            ]
          },
          "metadata": {},
          "execution_count": 27
        }
      ],
      "source": [
        "# The results from our loaded_model (above) should be very similar to the results below\n",
        "all_classes_10_percent_fine_tune_results"
      ]
    },
    {
      "cell_type": "markdown",
      "source": [
        "## Evaluating the performance of the big dog model across all different classes\n",
        "\n",
        "Let's make some predictions, visualize them and then later find out which predictions were the \"most\" wrong."
      ],
      "metadata": {
        "id": "h7D703QkW7QF"
      },
      "id": "h7D703QkW7QF"
    },
    {
      "cell_type": "code",
      "source": [
        "import tensorflow as tf\n",
        "\n",
        "# Download pretrained model (one that was prepared earlier, so all predictions are similar)\n",
        "!wget https://storage.googleapis.com/ztm_tf_course/food_vision/06_101_food_class_10_percent_saved_big_dog_model.zip"
      ],
      "metadata": {
        "colab": {
          "base_uri": "https://localhost:8080/"
        },
        "id": "ur18TnqQXTIV",
        "outputId": "41dcdbe4-d9fa-4fbf-f04b-3bcc6551dfde"
      },
      "id": "ur18TnqQXTIV",
      "execution_count": 28,
      "outputs": [
        {
          "output_type": "stream",
          "name": "stdout",
          "text": [
            "--2022-06-16 07:15:40--  https://storage.googleapis.com/ztm_tf_course/food_vision/06_101_food_class_10_percent_saved_big_dog_model.zip\n",
            "Resolving storage.googleapis.com (storage.googleapis.com)... 74.125.195.128, 142.250.99.128, 173.194.202.128, ...\n",
            "Connecting to storage.googleapis.com (storage.googleapis.com)|74.125.195.128|:443... connected.\n",
            "HTTP request sent, awaiting response... 200 OK\n",
            "Length: 46760742 (45M) [application/zip]\n",
            "Saving to: ‘06_101_food_class_10_percent_saved_big_dog_model.zip’\n",
            "\n",
            "06_101_food_class_1 100%[===================>]  44.59M  67.3MB/s    in 0.7s    \n",
            "\n",
            "2022-06-16 07:15:41 (67.3 MB/s) - ‘06_101_food_class_10_percent_saved_big_dog_model.zip’ saved [46760742/46760742]\n",
            "\n"
          ]
        }
      ]
    },
    {
      "cell_type": "code",
      "source": [
        "unzip_data('06_101_food_class_10_percent_saved_big_dog_model.zip')"
      ],
      "metadata": {
        "id": "g0eVd9cpXh9n"
      },
      "id": "g0eVd9cpXh9n",
      "execution_count": 29,
      "outputs": []
    },
    {
      "cell_type": "code",
      "source": [
        "# Load in saved model\n",
        "model = tf.keras.models.load_model('06_101_food_class_10_percent_saved_big_dog_model')"
      ],
      "metadata": {
        "colab": {
          "base_uri": "https://localhost:8080/"
        },
        "id": "NxwgL9eWXmol",
        "outputId": "d9f646b3-b52b-45e8-e3df-4e46f7c0fd06"
      },
      "id": "NxwgL9eWXmol",
      "execution_count": 30,
      "outputs": [
        {
          "output_type": "stream",
          "name": "stdout",
          "text": [
            "WARNING:tensorflow:SavedModel saved prior to TF 2.5 detected when loading Keras model. Please ensure that you are saving the model with model.save() or tf.keras.models.save_model(), *NOT* tf.saved_model.save(). To confirm, there should be a file named \"keras_metadata.pb\" in the SavedModel directory.\n"
          ]
        },
        {
          "output_type": "stream",
          "name": "stderr",
          "text": [
            "WARNING:absl:Importing a function (__inference_block6c_expand_activation_layer_call_and_return_conditional_losses_419470) with ops with unsaved custom gradients. Will likely fail if a gradient is requested.\n",
            "WARNING:absl:Importing a function (__inference_efficientnetb0_layer_call_and_return_conditional_losses_446460) with ops with unsaved custom gradients. Will likely fail if a gradient is requested.\n",
            "WARNING:absl:Importing a function (__inference_block2a_activation_layer_call_and_return_conditional_losses_450449) with ops with unsaved custom gradients. Will likely fail if a gradient is requested.\n",
            "WARNING:absl:Importing a function (__inference_block2a_expand_activation_layer_call_and_return_conditional_losses_415747) with ops with unsaved custom gradients. Will likely fail if a gradient is requested.\n",
            "WARNING:absl:Importing a function (__inference_block2b_activation_layer_call_and_return_conditional_losses_416083) with ops with unsaved custom gradients. Will likely fail if a gradient is requested.\n",
            "WARNING:absl:Importing a function (__inference_block2b_activation_layer_call_and_return_conditional_losses_450775) with ops with unsaved custom gradients. Will likely fail if a gradient is requested.\n",
            "WARNING:absl:Importing a function (__inference_block4a_activation_layer_call_and_return_conditional_losses_451847) with ops with unsaved custom gradients. Will likely fail if a gradient is requested.\n",
            "WARNING:absl:Importing a function (__inference_block5a_expand_activation_layer_call_and_return_conditional_losses_417915) with ops with unsaved custom gradients. Will likely fail if a gradient is requested.\n",
            "WARNING:absl:Importing a function (__inference_block4a_se_reduce_layer_call_and_return_conditional_losses_451887) with ops with unsaved custom gradients. Will likely fail if a gradient is requested.\n",
            "WARNING:absl:Importing a function (__inference_block4c_expand_activation_layer_call_and_return_conditional_losses_452467) with ops with unsaved custom gradients. Will likely fail if a gradient is requested.\n",
            "WARNING:absl:Importing a function (__inference_functional_17_layer_call_and_return_conditional_losses_438312) with ops with unsaved custom gradients. Will likely fail if a gradient is requested.\n",
            "WARNING:absl:Importing a function (__inference_block4c_expand_activation_layer_call_and_return_conditional_losses_417583) with ops with unsaved custom gradients. Will likely fail if a gradient is requested.\n",
            "WARNING:absl:Importing a function (__inference_block5c_activation_layer_call_and_return_conditional_losses_418582) with ops with unsaved custom gradients. Will likely fail if a gradient is requested.\n",
            "WARNING:absl:Importing a function (__inference_block6a_se_reduce_layer_call_and_return_conditional_losses_454031) with ops with unsaved custom gradients. Will likely fail if a gradient is requested.\n",
            "WARNING:absl:Importing a function (__inference_block7a_activation_layer_call_and_return_conditional_losses_455436) with ops with unsaved custom gradients. Will likely fail if a gradient is requested.\n",
            "WARNING:absl:Importing a function (__inference_block1a_activation_layer_call_and_return_conditional_losses_415524) with ops with unsaved custom gradients. Will likely fail if a gradient is requested.\n",
            "WARNING:absl:Importing a function (__inference_block3b_activation_layer_call_and_return_conditional_losses_451474) with ops with unsaved custom gradients. Will likely fail if a gradient is requested.\n",
            "WARNING:absl:Importing a function (__inference_block4a_expand_activation_layer_call_and_return_conditional_losses_451768) with ops with unsaved custom gradients. Will likely fail if a gradient is requested.\n",
            "WARNING:absl:Importing a function (__inference_efficientnetb0_layer_call_and_return_conditional_losses_441729) with ops with unsaved custom gradients. Will likely fail if a gradient is requested.\n",
            "WARNING:absl:Importing a function (__inference_block6b_se_reduce_layer_call_and_return_conditional_losses_454357) with ops with unsaved custom gradients. Will likely fail if a gradient is requested.\n",
            "WARNING:absl:Importing a function (__inference_block3b_activation_layer_call_and_return_conditional_losses_416695) with ops with unsaved custom gradients. Will likely fail if a gradient is requested.\n",
            "WARNING:absl:Importing a function (__inference_block6b_expand_activation_layer_call_and_return_conditional_losses_454238) with ops with unsaved custom gradients. Will likely fail if a gradient is requested.\n",
            "WARNING:absl:Importing a function (__inference_functional_17_layer_call_and_return_conditional_losses_436681) with ops with unsaved custom gradients. Will likely fail if a gradient is requested.\n",
            "WARNING:absl:Importing a function (__inference_block2a_activation_layer_call_and_return_conditional_losses_415804) with ops with unsaved custom gradients. Will likely fail if a gradient is requested.\n",
            "WARNING:absl:Importing a function (__inference_block5a_activation_layer_call_and_return_conditional_losses_452919) with ops with unsaved custom gradients. Will likely fail if a gradient is requested.\n",
            "WARNING:absl:Importing a function (__inference_block5c_se_reduce_layer_call_and_return_conditional_losses_453658) with ops with unsaved custom gradients. Will likely fail if a gradient is requested.\n",
            "WARNING:absl:Importing a function (__inference_efficientnetb0_layer_call_and_return_conditional_losses_448082) with ops with unsaved custom gradients. Will likely fail if a gradient is requested.\n",
            "WARNING:absl:Importing a function (__inference_block6a_activation_layer_call_and_return_conditional_losses_418915) with ops with unsaved custom gradients. Will likely fail if a gradient is requested.\n",
            "WARNING:absl:Importing a function (__inference_block5c_expand_activation_layer_call_and_return_conditional_losses_453539) with ops with unsaved custom gradients. Will likely fail if a gradient is requested.\n",
            "WARNING:absl:Importing a function (__inference_block4c_se_reduce_layer_call_and_return_conditional_losses_452586) with ops with unsaved custom gradients. Will likely fail if a gradient is requested.\n",
            "WARNING:absl:Importing a function (__inference_block1a_se_reduce_layer_call_and_return_conditional_losses_450163) with ops with unsaved custom gradients. Will likely fail if a gradient is requested.\n",
            "WARNING:absl:Importing a function (__inference_block5a_se_reduce_layer_call_and_return_conditional_losses_418018) with ops with unsaved custom gradients. Will likely fail if a gradient is requested.\n",
            "WARNING:absl:Importing a function (__inference_block7a_expand_activation_layer_call_and_return_conditional_losses_455357) with ops with unsaved custom gradients. Will likely fail if a gradient is requested.\n",
            "WARNING:absl:Importing a function (__inference_block4c_activation_layer_call_and_return_conditional_losses_417639) with ops with unsaved custom gradients. Will likely fail if a gradient is requested.\n",
            "WARNING:absl:Importing a function (__inference_block3a_se_reduce_layer_call_and_return_conditional_losses_451188) with ops with unsaved custom gradients. Will likely fail if a gradient is requested.\n",
            "WARNING:absl:Importing a function (__inference_block7a_activation_layer_call_and_return_conditional_losses_420190) with ops with unsaved custom gradients. Will likely fail if a gradient is requested.\n",
            "WARNING:absl:Importing a function (__inference_stem_activation_layer_call_and_return_conditional_losses_415468) with ops with unsaved custom gradients. Will likely fail if a gradient is requested.\n",
            "WARNING:absl:Importing a function (__inference_block7a_se_reduce_layer_call_and_return_conditional_losses_455476) with ops with unsaved custom gradients. Will likely fail if a gradient is requested.\n",
            "WARNING:absl:Importing a function (__inference_block4b_se_reduce_layer_call_and_return_conditional_losses_417354) with ops with unsaved custom gradients. Will likely fail if a gradient is requested.\n",
            "WARNING:absl:Importing a function (__inference_block4b_se_reduce_layer_call_and_return_conditional_losses_452213) with ops with unsaved custom gradients. Will likely fail if a gradient is requested.\n",
            "WARNING:absl:Importing a function (__inference_block4b_activation_layer_call_and_return_conditional_losses_452173) with ops with unsaved custom gradients. Will likely fail if a gradient is requested.\n",
            "WARNING:absl:Importing a function (__inference_block1a_se_reduce_layer_call_and_return_conditional_losses_415571) with ops with unsaved custom gradients. Will likely fail if a gradient is requested.\n",
            "WARNING:absl:Importing a function (__inference_block3b_se_reduce_layer_call_and_return_conditional_losses_451514) with ops with unsaved custom gradients. Will likely fail if a gradient is requested.\n",
            "WARNING:absl:Importing a function (__inference_block5a_activation_layer_call_and_return_conditional_losses_417971) with ops with unsaved custom gradients. Will likely fail if a gradient is requested.\n",
            "WARNING:absl:Importing a function (__inference_block6c_se_reduce_layer_call_and_return_conditional_losses_454730) with ops with unsaved custom gradients. Will likely fail if a gradient is requested.\n",
            "WARNING:absl:Importing a function (__inference_block3b_se_reduce_layer_call_and_return_conditional_losses_416742) with ops with unsaved custom gradients. Will likely fail if a gradient is requested.\n",
            "WARNING:absl:Importing a function (__inference_block2a_se_reduce_layer_call_and_return_conditional_losses_450489) with ops with unsaved custom gradients. Will likely fail if a gradient is requested.\n",
            "WARNING:absl:Importing a function (__inference_block3a_activation_layer_call_and_return_conditional_losses_451148) with ops with unsaved custom gradients. Will likely fail if a gradient is requested.\n",
            "WARNING:absl:Importing a function (__inference_block5b_expand_activation_layer_call_and_return_conditional_losses_418194) with ops with unsaved custom gradients. Will likely fail if a gradient is requested.\n",
            "WARNING:absl:Importing a function (__inference_block3a_se_reduce_layer_call_and_return_conditional_losses_416463) with ops with unsaved custom gradients. Will likely fail if a gradient is requested.\n",
            "WARNING:absl:Importing a function (__inference_efficientnetb0_layer_call_and_return_conditional_losses_429711) with ops with unsaved custom gradients. Will likely fail if a gradient is requested.\n",
            "WARNING:absl:Importing a function (__inference_efficientnetb0_layer_call_and_return_conditional_losses_443351) with ops with unsaved custom gradients. Will likely fail if a gradient is requested.\n",
            "WARNING:absl:Importing a function (__inference_block5c_expand_activation_layer_call_and_return_conditional_losses_418526) with ops with unsaved custom gradients. Will likely fail if a gradient is requested.\n",
            "WARNING:absl:Importing a function (__inference_block5b_activation_layer_call_and_return_conditional_losses_453245) with ops with unsaved custom gradients. Will likely fail if a gradient is requested.\n",
            "WARNING:absl:Importing a function (__inference_block3a_activation_layer_call_and_return_conditional_losses_416416) with ops with unsaved custom gradients. Will likely fail if a gradient is requested.\n",
            "WARNING:absl:Importing a function (__inference_efficientnetb0_layer_call_and_return_conditional_losses_428089) with ops with unsaved custom gradients. Will likely fail if a gradient is requested.\n",
            "WARNING:absl:Importing a function (__inference_block2b_expand_activation_layer_call_and_return_conditional_losses_416027) with ops with unsaved custom gradients. Will likely fail if a gradient is requested.\n",
            "WARNING:absl:Importing a function (__inference_block6a_expand_activation_layer_call_and_return_conditional_losses_453912) with ops with unsaved custom gradients. Will likely fail if a gradient is requested.\n",
            "WARNING:absl:Importing a function (__inference_block4c_activation_layer_call_and_return_conditional_losses_452546) with ops with unsaved custom gradients. Will likely fail if a gradient is requested.\n",
            "WARNING:absl:Importing a function (__inference_block7a_se_reduce_layer_call_and_return_conditional_losses_420237) with ops with unsaved custom gradients. Will likely fail if a gradient is requested.\n",
            "WARNING:absl:Importing a function (__inference_block5c_se_reduce_layer_call_and_return_conditional_losses_418629) with ops with unsaved custom gradients. Will likely fail if a gradient is requested.\n",
            "WARNING:absl:Importing a function (__inference_block3a_expand_activation_layer_call_and_return_conditional_losses_416359) with ops with unsaved custom gradients. Will likely fail if a gradient is requested.\n",
            "WARNING:absl:Importing a function (__inference_block3b_expand_activation_layer_call_and_return_conditional_losses_451395) with ops with unsaved custom gradients. Will likely fail if a gradient is requested.\n",
            "WARNING:absl:Importing a function (__inference_block6c_activation_layer_call_and_return_conditional_losses_454690) with ops with unsaved custom gradients. Will likely fail if a gradient is requested.\n",
            "WARNING:absl:Importing a function (__inference_block6d_se_reduce_layer_call_and_return_conditional_losses_419905) with ops with unsaved custom gradients. Will likely fail if a gradient is requested.\n",
            "WARNING:absl:Importing a function (__inference_block6c_activation_layer_call_and_return_conditional_losses_419526) with ops with unsaved custom gradients. Will likely fail if a gradient is requested.\n",
            "WARNING:absl:Importing a function (__inference_block5b_se_reduce_layer_call_and_return_conditional_losses_418297) with ops with unsaved custom gradients. Will likely fail if a gradient is requested.\n",
            "WARNING:absl:Importing a function (__inference_block4b_expand_activation_layer_call_and_return_conditional_losses_452094) with ops with unsaved custom gradients. Will likely fail if a gradient is requested.\n",
            "WARNING:absl:Importing a function (__inference__wrapped_model_408990) with ops with unsaved custom gradients. Will likely fail if a gradient is requested.\n",
            "WARNING:absl:Importing a function (__inference_block5c_activation_layer_call_and_return_conditional_losses_453618) with ops with unsaved custom gradients. Will likely fail if a gradient is requested.\n",
            "WARNING:absl:Importing a function (__inference_block6d_expand_activation_layer_call_and_return_conditional_losses_454984) with ops with unsaved custom gradients. Will likely fail if a gradient is requested.\n",
            "WARNING:absl:Importing a function (__inference_block2b_expand_activation_layer_call_and_return_conditional_losses_450696) with ops with unsaved custom gradients. Will likely fail if a gradient is requested.\n",
            "WARNING:absl:Importing a function (__inference_block6a_expand_activation_layer_call_and_return_conditional_losses_418858) with ops with unsaved custom gradients. Will likely fail if a gradient is requested.\n",
            "WARNING:absl:Importing a function (__inference_stem_activation_layer_call_and_return_conditional_losses_450044) with ops with unsaved custom gradients. Will likely fail if a gradient is requested.\n",
            "WARNING:absl:Importing a function (__inference_block5b_activation_layer_call_and_return_conditional_losses_418250) with ops with unsaved custom gradients. Will likely fail if a gradient is requested.\n",
            "WARNING:absl:Importing a function (__inference_block6a_activation_layer_call_and_return_conditional_losses_453991) with ops with unsaved custom gradients. Will likely fail if a gradient is requested.\n",
            "WARNING:absl:Importing a function (__inference_block5b_se_reduce_layer_call_and_return_conditional_losses_453285) with ops with unsaved custom gradients. Will likely fail if a gradient is requested.\n",
            "WARNING:absl:Importing a function (__inference_block4a_expand_activation_layer_call_and_return_conditional_losses_416971) with ops with unsaved custom gradients. Will likely fail if a gradient is requested.\n",
            "WARNING:absl:Importing a function (__inference_top_activation_layer_call_and_return_conditional_losses_455683) with ops with unsaved custom gradients. Will likely fail if a gradient is requested.\n",
            "WARNING:absl:Importing a function (__inference_block2a_se_reduce_layer_call_and_return_conditional_losses_415851) with ops with unsaved custom gradients. Will likely fail if a gradient is requested.\n",
            "WARNING:absl:Importing a function (__inference_block5b_expand_activation_layer_call_and_return_conditional_losses_453166) with ops with unsaved custom gradients. Will likely fail if a gradient is requested.\n",
            "WARNING:absl:Importing a function (__inference_top_activation_layer_call_and_return_conditional_losses_420413) with ops with unsaved custom gradients. Will likely fail if a gradient is requested.\n",
            "WARNING:absl:Importing a function (__inference_block1a_activation_layer_call_and_return_conditional_losses_450123) with ops with unsaved custom gradients. Will likely fail if a gradient is requested.\n",
            "WARNING:absl:Importing a function (__inference_block4a_se_reduce_layer_call_and_return_conditional_losses_417075) with ops with unsaved custom gradients. Will likely fail if a gradient is requested.\n",
            "WARNING:absl:Importing a function (__inference_block5a_expand_activation_layer_call_and_return_conditional_losses_452840) with ops with unsaved custom gradients. Will likely fail if a gradient is requested.\n",
            "WARNING:absl:Importing a function (__inference_block4b_activation_layer_call_and_return_conditional_losses_417307) with ops with unsaved custom gradients. Will likely fail if a gradient is requested.\n",
            "WARNING:absl:Importing a function (__inference_block6d_activation_layer_call_and_return_conditional_losses_455063) with ops with unsaved custom gradients. Will likely fail if a gradient is requested.\n",
            "WARNING:absl:Importing a function (__inference_block6d_expand_activation_layer_call_and_return_conditional_losses_419802) with ops with unsaved custom gradients. Will likely fail if a gradient is requested.\n",
            "WARNING:absl:Importing a function (__inference_block6d_activation_layer_call_and_return_conditional_losses_419858) with ops with unsaved custom gradients. Will likely fail if a gradient is requested.\n",
            "WARNING:absl:Importing a function (__inference_block5a_se_reduce_layer_call_and_return_conditional_losses_452959) with ops with unsaved custom gradients. Will likely fail if a gradient is requested.\n",
            "WARNING:absl:Importing a function (__inference_block3a_expand_activation_layer_call_and_return_conditional_losses_451069) with ops with unsaved custom gradients. Will likely fail if a gradient is requested.\n",
            "WARNING:absl:Importing a function (__inference_block2a_expand_activation_layer_call_and_return_conditional_losses_450370) with ops with unsaved custom gradients. Will likely fail if a gradient is requested.\n",
            "WARNING:absl:Importing a function (__inference_block6b_expand_activation_layer_call_and_return_conditional_losses_419138) with ops with unsaved custom gradients. Will likely fail if a gradient is requested.\n",
            "WARNING:absl:Importing a function (__inference_block6b_activation_layer_call_and_return_conditional_losses_419194) with ops with unsaved custom gradients. Will likely fail if a gradient is requested.\n",
            "WARNING:absl:Importing a function (__inference_block6c_se_reduce_layer_call_and_return_conditional_losses_419573) with ops with unsaved custom gradients. Will likely fail if a gradient is requested.\n",
            "WARNING:absl:Importing a function (__inference_block7a_expand_activation_layer_call_and_return_conditional_losses_420134) with ops with unsaved custom gradients. Will likely fail if a gradient is requested.\n",
            "WARNING:absl:Importing a function (__inference_block4a_activation_layer_call_and_return_conditional_losses_417028) with ops with unsaved custom gradients. Will likely fail if a gradient is requested.\n",
            "WARNING:absl:Importing a function (__inference_block6c_expand_activation_layer_call_and_return_conditional_losses_454611) with ops with unsaved custom gradients. Will likely fail if a gradient is requested.\n",
            "WARNING:absl:Importing a function (__inference_block3b_expand_activation_layer_call_and_return_conditional_losses_416639) with ops with unsaved custom gradients. Will likely fail if a gradient is requested.\n",
            "WARNING:absl:Importing a function (__inference_block4c_se_reduce_layer_call_and_return_conditional_losses_417686) with ops with unsaved custom gradients. Will likely fail if a gradient is requested.\n",
            "WARNING:absl:Importing a function (__inference_block4b_expand_activation_layer_call_and_return_conditional_losses_417251) with ops with unsaved custom gradients. Will likely fail if a gradient is requested.\n",
            "WARNING:absl:Importing a function (__inference_block6d_se_reduce_layer_call_and_return_conditional_losses_455103) with ops with unsaved custom gradients. Will likely fail if a gradient is requested.\n",
            "WARNING:absl:Importing a function (__inference_block2b_se_reduce_layer_call_and_return_conditional_losses_450815) with ops with unsaved custom gradients. Will likely fail if a gradient is requested.\n",
            "WARNING:absl:Importing a function (__inference_block2b_se_reduce_layer_call_and_return_conditional_losses_416130) with ops with unsaved custom gradients. Will likely fail if a gradient is requested.\n",
            "WARNING:absl:Importing a function (__inference_block6b_activation_layer_call_and_return_conditional_losses_454317) with ops with unsaved custom gradients. Will likely fail if a gradient is requested.\n",
            "WARNING:absl:Importing a function (__inference_block6a_se_reduce_layer_call_and_return_conditional_losses_418962) with ops with unsaved custom gradients. Will likely fail if a gradient is requested.\n",
            "WARNING:absl:Importing a function (__inference_block6b_se_reduce_layer_call_and_return_conditional_losses_419241) with ops with unsaved custom gradients. Will likely fail if a gradient is requested.\n"
          ]
        }
      ]
    },
    {
      "cell_type": "code",
      "source": [
        "# Evaluate loaded model (the one we just downloaded on test data)\n",
        "results_downloaded_model = model.evaluate(test_data)\n",
        "results_downloaded_model"
      ],
      "metadata": {
        "colab": {
          "base_uri": "https://localhost:8080/"
        },
        "id": "DZLP_2KaYCn-",
        "outputId": "c1769a41-4975-4d59-aa36-3878a4597068"
      },
      "id": "DZLP_2KaYCn-",
      "execution_count": 31,
      "outputs": [
        {
          "output_type": "stream",
          "name": "stdout",
          "text": [
            "790/790 [==============================] - 60s 74ms/step - loss: 1.8027 - accuracy: 0.6078\n"
          ]
        },
        {
          "output_type": "execute_result",
          "data": {
            "text/plain": [
              "[1.8027206659317017, 0.6077623963356018]"
            ]
          },
          "metadata": {},
          "execution_count": 31
        }
      ]
    },
    {
      "cell_type": "markdown",
      "source": [
        "## Making predictions with our trained model"
      ],
      "metadata": {
        "id": "rrsvS1zPYamq"
      },
      "id": "rrsvS1zPYamq"
    },
    {
      "cell_type": "code",
      "source": [
        "# Make predictions with model\n",
        "preds_probs = model.predict(test_data, verbose=1) # set verbosity to see how long is left"
      ],
      "metadata": {
        "colab": {
          "base_uri": "https://localhost:8080/"
        },
        "id": "AQrG3CY9a_5B",
        "outputId": "5df8f29a-506f-4101-8462-df7d982b388d"
      },
      "id": "AQrG3CY9a_5B",
      "execution_count": 32,
      "outputs": [
        {
          "output_type": "stream",
          "name": "stdout",
          "text": [
            "790/790 [==============================] - 62s 77ms/step\n"
          ]
        }
      ]
    },
    {
      "cell_type": "code",
      "source": [
        "len(test_data)"
      ],
      "metadata": {
        "colab": {
          "base_uri": "https://localhost:8080/"
        },
        "id": "mywJ9W-PbjTP",
        "outputId": "2c1010a8-56d0-4c9c-9d5e-b487a801cc5d"
      },
      "id": "mywJ9W-PbjTP",
      "execution_count": 33,
      "outputs": [
        {
          "output_type": "execute_result",
          "data": {
            "text/plain": [
              "790"
            ]
          },
          "metadata": {},
          "execution_count": 33
        }
      ]
    },
    {
      "cell_type": "code",
      "source": [
        "# How many predictions are there?\n",
        "len(preds_probs)"
      ],
      "metadata": {
        "colab": {
          "base_uri": "https://localhost:8080/"
        },
        "id": "gw5IwCM_b08b",
        "outputId": "f828aa1c-3d2a-4192-a45c-b2b15e2e24ae"
      },
      "id": "gw5IwCM_b08b",
      "execution_count": 34,
      "outputs": [
        {
          "output_type": "execute_result",
          "data": {
            "text/plain": [
              "25250"
            ]
          },
          "metadata": {},
          "execution_count": 34
        }
      ]
    },
    {
      "cell_type": "code",
      "source": [
        "# What's the shape of our predictions?\n",
        "preds_probs.shape"
      ],
      "metadata": {
        "colab": {
          "base_uri": "https://localhost:8080/"
        },
        "id": "zrK3VDbQb8u3",
        "outputId": "8e8ed936-e1b5-4cbe-a7e8-b949a37d5c72"
      },
      "id": "zrK3VDbQb8u3",
      "execution_count": 35,
      "outputs": [
        {
          "output_type": "execute_result",
          "data": {
            "text/plain": [
              "(25250, 101)"
            ]
          },
          "metadata": {},
          "execution_count": 35
        }
      ]
    },
    {
      "cell_type": "code",
      "source": [
        "# Let's see what the first 10 predictions look like\n",
        "preds_probs[:10]"
      ],
      "metadata": {
        "colab": {
          "base_uri": "https://localhost:8080/"
        },
        "id": "rFVQdl1KcH4f",
        "outputId": "d19c50fe-87a3-4484-f10d-88046a77c4d3"
      },
      "id": "rFVQdl1KcH4f",
      "execution_count": 36,
      "outputs": [
        {
          "output_type": "execute_result",
          "data": {
            "text/plain": [
              "array([[5.9541997e-02, 3.5742044e-06, 4.1377008e-02, ..., 1.4138679e-09,\n",
              "        8.3530824e-05, 3.0897509e-03],\n",
              "       [9.6401680e-01, 1.3753272e-09, 8.4780820e-04, ..., 5.4287048e-05,\n",
              "        7.8362204e-12, 9.8466024e-10],\n",
              "       [9.5925868e-01, 3.2533648e-05, 1.4866963e-03, ..., 7.1891270e-07,\n",
              "        5.4397265e-07, 4.0275925e-05],\n",
              "       ...,\n",
              "       [4.7313246e-01, 1.2931228e-07, 1.4805609e-03, ..., 5.9750048e-04,\n",
              "        6.6969005e-05, 2.3469245e-05],\n",
              "       [4.4571832e-02, 4.7265476e-07, 1.2258517e-01, ..., 6.3498501e-06,\n",
              "        7.5318512e-06, 3.6778776e-03],\n",
              "       [7.2438955e-01, 1.9249771e-09, 5.2310937e-05, ..., 1.2291373e-03,\n",
              "        1.5792714e-09, 9.6395648e-05]], dtype=float32)"
            ]
          },
          "metadata": {},
          "execution_count": 36
        }
      ]
    },
    {
      "cell_type": "code",
      "source": [
        "# What does the first prediction probability array look like?\n",
        "preds_probs[0], len(preds_probs[0]), sum(preds_probs[0])"
      ],
      "metadata": {
        "colab": {
          "base_uri": "https://localhost:8080/"
        },
        "id": "5RNPk62JcV3j",
        "outputId": "a366dc59-7cc1-4e27-9e5d-83361d5d7a8c"
      },
      "id": "5RNPk62JcV3j",
      "execution_count": 39,
      "outputs": [
        {
          "output_type": "execute_result",
          "data": {
            "text/plain": [
              "(array([5.9541997e-02, 3.5742044e-06, 4.1377008e-02, 1.0660534e-09,\n",
              "        8.1614111e-09, 8.6639478e-09, 8.0927191e-07, 8.5652403e-07,\n",
              "        1.9859070e-05, 8.0977674e-07, 3.1727800e-09, 9.8673911e-07,\n",
              "        2.8532185e-04, 7.8049184e-10, 7.4230076e-04, 3.8916409e-05,\n",
              "        6.4740357e-06, 2.4977301e-06, 3.7891128e-05, 2.0678326e-07,\n",
              "        1.5538435e-05, 8.1507017e-07, 2.6230514e-06, 2.0010684e-07,\n",
              "        8.3827518e-07, 5.4216030e-06, 3.7390816e-06, 1.3150530e-08,\n",
              "        2.7761480e-03, 2.8051860e-05, 6.8562017e-10, 2.5574853e-05,\n",
              "        1.6688880e-04, 7.6406842e-10, 4.0452872e-04, 1.3150632e-08,\n",
              "        1.7957391e-06, 1.4448174e-06, 2.3062943e-02, 8.2466846e-07,\n",
              "        8.5365838e-07, 1.7138658e-06, 7.0525025e-06, 1.8402130e-08,\n",
              "        2.8553373e-07, 7.9483443e-06, 2.0681568e-06, 1.8525114e-07,\n",
              "        3.3619767e-08, 3.1522580e-04, 1.0410922e-05, 8.5448272e-07,\n",
              "        8.4741855e-01, 1.0555444e-05, 4.4094620e-07, 3.7404177e-05,\n",
              "        3.5306122e-05, 3.2489035e-05, 6.7314730e-05, 1.2852565e-08,\n",
              "        2.6219704e-10, 1.0318108e-05, 8.5744112e-05, 1.0569904e-06,\n",
              "        2.1293351e-06, 3.7637546e-05, 7.5972999e-08, 2.5340536e-04,\n",
              "        9.2905668e-07, 1.2598113e-04, 6.2621534e-06, 1.2458702e-08,\n",
              "        4.0519491e-05, 6.8728106e-08, 1.2546303e-06, 5.2887280e-08,\n",
              "        7.5424914e-08, 7.5398340e-05, 7.7540433e-05, 6.4025880e-07,\n",
              "        9.9033480e-07, 2.2225879e-05, 1.5013875e-05, 1.4038460e-07,\n",
              "        1.2232531e-05, 1.9044764e-02, 4.9999646e-05, 4.6226128e-06,\n",
              "        1.5388179e-07, 3.3824128e-07, 3.9228252e-09, 1.6563671e-07,\n",
              "        8.1320752e-05, 4.8965157e-06, 2.4068302e-07, 2.3124045e-05,\n",
              "        3.1040644e-04, 3.1379939e-05, 1.4138679e-09, 8.3530824e-05,\n",
              "        3.0897509e-03], dtype=float32), 101, 1.000000060049003)"
            ]
          },
          "metadata": {},
          "execution_count": 39
        }
      ]
    },
    {
      "cell_type": "markdown",
      "source": [
        "Our model outputs a prediction probability array (with N number of variables, where N is the number of classes) for each sample passed to the predict method."
      ],
      "metadata": {
        "id": "a47gvXHZcfno"
      },
      "id": "a47gvXHZcfno"
    },
    {
      "cell_type": "code",
      "source": [
        "# We get one prediction probability per class (in our case there's 101 prediction probability)\n",
        "print(f'Number of prediction probabilities for sample 0: {len(preds_probs[0])}')\n",
        "print(f'What prediction probability sample 0 looks like:\\n {preds_probs[0]}')\n",
        "print(f'The class with the highest predicted probability by the model for sample 0: {preds_probs[0].argmax()}')"
      ],
      "metadata": {
        "colab": {
          "base_uri": "https://localhost:8080/"
        },
        "id": "tW2KIKM6dEo9",
        "outputId": "a67e3779-c5e7-4738-c422-cce6dba56cd6"
      },
      "id": "tW2KIKM6dEo9",
      "execution_count": 40,
      "outputs": [
        {
          "output_type": "stream",
          "name": "stdout",
          "text": [
            "Number of prediction probabilities for sample 0: 101\n",
            "What prediction probability sample 0 looks like:\n",
            " [5.9541997e-02 3.5742044e-06 4.1377008e-02 1.0660534e-09 8.1614111e-09\n",
            " 8.6639478e-09 8.0927191e-07 8.5652403e-07 1.9859070e-05 8.0977674e-07\n",
            " 3.1727800e-09 9.8673911e-07 2.8532185e-04 7.8049184e-10 7.4230076e-04\n",
            " 3.8916409e-05 6.4740357e-06 2.4977301e-06 3.7891128e-05 2.0678326e-07\n",
            " 1.5538435e-05 8.1507017e-07 2.6230514e-06 2.0010684e-07 8.3827518e-07\n",
            " 5.4216030e-06 3.7390816e-06 1.3150530e-08 2.7761480e-03 2.8051860e-05\n",
            " 6.8562017e-10 2.5574853e-05 1.6688880e-04 7.6406842e-10 4.0452872e-04\n",
            " 1.3150632e-08 1.7957391e-06 1.4448174e-06 2.3062943e-02 8.2466846e-07\n",
            " 8.5365838e-07 1.7138658e-06 7.0525025e-06 1.8402130e-08 2.8553373e-07\n",
            " 7.9483443e-06 2.0681568e-06 1.8525114e-07 3.3619767e-08 3.1522580e-04\n",
            " 1.0410922e-05 8.5448272e-07 8.4741855e-01 1.0555444e-05 4.4094620e-07\n",
            " 3.7404177e-05 3.5306122e-05 3.2489035e-05 6.7314730e-05 1.2852565e-08\n",
            " 2.6219704e-10 1.0318108e-05 8.5744112e-05 1.0569904e-06 2.1293351e-06\n",
            " 3.7637546e-05 7.5972999e-08 2.5340536e-04 9.2905668e-07 1.2598113e-04\n",
            " 6.2621534e-06 1.2458702e-08 4.0519491e-05 6.8728106e-08 1.2546303e-06\n",
            " 5.2887280e-08 7.5424914e-08 7.5398340e-05 7.7540433e-05 6.4025880e-07\n",
            " 9.9033480e-07 2.2225879e-05 1.5013875e-05 1.4038460e-07 1.2232531e-05\n",
            " 1.9044764e-02 4.9999646e-05 4.6226128e-06 1.5388179e-07 3.3824128e-07\n",
            " 3.9228252e-09 1.6563671e-07 8.1320752e-05 4.8965157e-06 2.4068302e-07\n",
            " 2.3124045e-05 3.1040644e-04 3.1379939e-05 1.4138679e-09 8.3530824e-05\n",
            " 3.0897509e-03]\n",
            "The class with the highest predicted probability by the model for sample 0: 52\n"
          ]
        }
      ]
    },
    {
      "cell_type": "code",
      "source": [
        "# Get the pred classes of each label\n",
        "pred_classes = preds_probs.argmax(axis=1)\n",
        "\n",
        "# How do they lok?\n",
        "pred_classes[:10]"
      ],
      "metadata": {
        "colab": {
          "base_uri": "https://localhost:8080/"
        },
        "id": "llotyX2Md-wd",
        "outputId": "8e07dd0a-03ba-48e6-f49d-bf09c5194ab1"
      },
      "id": "llotyX2Md-wd",
      "execution_count": 43,
      "outputs": [
        {
          "output_type": "execute_result",
          "data": {
            "text/plain": [
              "array([52,  0,  0, 80, 79, 61, 29,  0, 85,  0])"
            ]
          },
          "metadata": {},
          "execution_count": 43
        }
      ]
    },
    {
      "cell_type": "code",
      "source": [
        "# How many pred classes do we have?\n",
        "len(pred_classes)"
      ],
      "metadata": {
        "colab": {
          "base_uri": "https://localhost:8080/"
        },
        "id": "KVD3Vd8ReF85",
        "outputId": "a9e97371-7073-4280-fa36-dd1e6c79912b"
      },
      "id": "KVD3Vd8ReF85",
      "execution_count": 44,
      "outputs": [
        {
          "output_type": "execute_result",
          "data": {
            "text/plain": [
              "25250"
            ]
          },
          "metadata": {},
          "execution_count": 44
        }
      ]
    },
    {
      "cell_type": "code",
      "source": [
        "import numpy as np\n",
        "true_label = []\n",
        "for image, label in test_data:\n",
        "  true_label.append(tf.argmax(label[1]).numpy())\n",
        "true_label = np.asarray(true_label)"
      ],
      "metadata": {
        "id": "zhPpG79-eZPl"
      },
      "id": "zhPpG79-eZPl",
      "execution_count": 54,
      "outputs": []
    },
    {
      "cell_type": "code",
      "source": [
        "true_label"
      ],
      "metadata": {
        "colab": {
          "base_uri": "https://localhost:8080/"
        },
        "id": "45mF2vyxejJ5",
        "outputId": "214bddb6-0cbe-443a-f8f7-26a7120f0ba3"
      },
      "id": "45mF2vyxejJ5",
      "execution_count": 55,
      "outputs": [
        {
          "output_type": "execute_result",
          "data": {
            "text/plain": [
              "array([  0,   0,   0,   0,   0,   0,   0,   0,   1,   1,   1,   1,   1,\n",
              "         1,   1,   1,   2,   2,   2,   2,   2,   2,   2,   2,   3,   3,\n",
              "         3,   3,   3,   3,   3,   3,   4,   4,   4,   4,   4,   4,   4,\n",
              "         4,   5,   5,   5,   5,   5,   5,   5,   6,   6,   6,   6,   6,\n",
              "         6,   6,   6,   7,   7,   7,   7,   7,   7,   7,   7,   8,   8,\n",
              "         8,   8,   8,   8,   8,   8,   9,   9,   9,   9,   9,   9,   9,\n",
              "         9,  10,  10,  10,  10,  10,  10,  10,  11,  11,  11,  11,  11,\n",
              "        11,  11,  11,  12,  12,  12,  12,  12,  12,  12,  12,  13,  13,\n",
              "        13,  13,  13,  13,  13,  13,  14,  14,  14,  14,  14,  14,  14,\n",
              "        14,  15,  15,  15,  15,  15,  15,  15,  16,  16,  16,  16,  16,\n",
              "        16,  16,  16,  17,  17,  17,  17,  17,  17,  17,  17,  18,  18,\n",
              "        18,  18,  18,  18,  18,  18,  19,  19,  19,  19,  19,  19,  19,\n",
              "        19,  20,  20,  20,  20,  20,  20,  20,  20,  21,  21,  21,  21,\n",
              "        21,  21,  21,  22,  22,  22,  22,  22,  22,  22,  22,  23,  23,\n",
              "        23,  23,  23,  23,  23,  23,  24,  24,  24,  24,  24,  24,  24,\n",
              "        24,  25,  25,  25,  25,  25,  25,  25,  25,  26,  26,  26,  26,\n",
              "        26,  26,  26,  27,  27,  27,  27,  27,  27,  27,  27,  28,  28,\n",
              "        28,  28,  28,  28,  28,  28,  29,  29,  29,  29,  29,  29,  29,\n",
              "        29,  30,  30,  30,  30,  30,  30,  30,  30,  31,  31,  31,  31,\n",
              "        31,  31,  31,  32,  32,  32,  32,  32,  32,  32,  32,  33,  33,\n",
              "        33,  33,  33,  33,  33,  33,  34,  34,  34,  34,  34,  34,  34,\n",
              "        34,  35,  35,  35,  35,  35,  35,  35,  35,  36,  36,  36,  36,\n",
              "        36,  36,  36,  36,  37,  37,  37,  37,  37,  37,  37,  38,  38,\n",
              "        38,  38,  38,  38,  38,  38,  39,  39,  39,  39,  39,  39,  39,\n",
              "        39,  40,  40,  40,  40,  40,  40,  40,  40,  41,  41,  41,  41,\n",
              "        41,  41,  41,  41,  42,  42,  42,  42,  42,  42,  42,  43,  43,\n",
              "        43,  43,  43,  43,  43,  43,  44,  44,  44,  44,  44,  44,  44,\n",
              "        44,  45,  45,  45,  45,  45,  45,  45,  45,  46,  46,  46,  46,\n",
              "        46,  46,  46,  46,  47,  47,  47,  47,  47,  47,  47,  48,  48,\n",
              "        48,  48,  48,  48,  48,  48,  49,  49,  49,  49,  49,  49,  49,\n",
              "        49,  50,  50,  50,  50,  50,  50,  50,  50,  51,  51,  51,  51,\n",
              "        51,  51,  51,  51,  52,  52,  52,  52,  52,  52,  52,  52,  53,\n",
              "        53,  53,  53,  53,  53,  53,  54,  54,  54,  54,  54,  54,  54,\n",
              "        54,  55,  55,  55,  55,  55,  55,  55,  55,  56,  56,  56,  56,\n",
              "        56,  56,  56,  56,  57,  57,  57,  57,  57,  57,  57,  57,  58,\n",
              "        58,  58,  58,  58,  58,  58,  59,  59,  59,  59,  59,  59,  59,\n",
              "        59,  60,  60,  60,  60,  60,  60,  60,  60,  61,  61,  61,  61,\n",
              "        61,  61,  61,  61,  62,  62,  62,  62,  62,  62,  62,  62,  63,\n",
              "        63,  63,  63,  63,  63,  63,  64,  64,  64,  64,  64,  64,  64,\n",
              "        64,  65,  65,  65,  65,  65,  65,  65,  65,  66,  66,  66,  66,\n",
              "        66,  66,  66,  66,  67,  67,  67,  67,  67,  67,  67,  67,  68,\n",
              "        68,  68,  68,  68,  68,  68,  68,  69,  69,  69,  69,  69,  69,\n",
              "        69,  70,  70,  70,  70,  70,  70,  70,  70,  71,  71,  71,  71,\n",
              "        71,  71,  71,  71,  72,  72,  72,  72,  72,  72,  72,  72,  73,\n",
              "        73,  73,  73,  73,  73,  73,  73,  74,  74,  74,  74,  74,  74,\n",
              "        74,  75,  75,  75,  75,  75,  75,  75,  75,  76,  76,  76,  76,\n",
              "        76,  76,  76,  76,  77,  77,  77,  77,  77,  77,  77,  77,  78,\n",
              "        78,  78,  78,  78,  78,  78,  78,  79,  79,  79,  79,  79,  79,\n",
              "        79,  80,  80,  80,  80,  80,  80,  80,  80,  81,  81,  81,  81,\n",
              "        81,  81,  81,  81,  82,  82,  82,  82,  82,  82,  82,  82,  83,\n",
              "        83,  83,  83,  83,  83,  83,  83,  84,  84,  84,  84,  84,  84,\n",
              "        84,  84,  85,  85,  85,  85,  85,  85,  85,  86,  86,  86,  86,\n",
              "        86,  86,  86,  86,  87,  87,  87,  87,  87,  87,  87,  87,  88,\n",
              "        88,  88,  88,  88,  88,  88,  88,  89,  89,  89,  89,  89,  89,\n",
              "        89,  89,  90,  90,  90,  90,  90,  90,  90,  91,  91,  91,  91,\n",
              "        91,  91,  91,  91,  92,  92,  92,  92,  92,  92,  92,  92,  93,\n",
              "        93,  93,  93,  93,  93,  93,  93,  94,  94,  94,  94,  94,  94,\n",
              "        94,  94,  95,  95,  95,  95,  95,  95,  95,  96,  96,  96,  96,\n",
              "        96,  96,  96,  96,  97,  97,  97,  97,  97,  97,  97,  97,  98,\n",
              "        98,  98,  98,  98,  98,  98,  98,  99,  99,  99,  99,  99,  99,\n",
              "        99,  99, 100, 100, 100, 100, 100, 100, 100, 100])"
            ]
          },
          "metadata": {},
          "execution_count": 55
        }
      ]
    },
    {
      "cell_type": "code",
      "source": [
        ""
      ],
      "metadata": {
        "id": "xqCa3hoxhuVX"
      },
      "id": "xqCa3hoxhuVX",
      "execution_count": null,
      "outputs": []
    }
  ],
  "metadata": {
    "kernelspec": {
      "display_name": "Python 3 (ipykernel)",
      "language": "python",
      "name": "python3"
    },
    "language_info": {
      "codemirror_mode": {
        "name": "ipython",
        "version": 3
      },
      "file_extension": ".py",
      "mimetype": "text/x-python",
      "name": "python",
      "nbconvert_exporter": "python",
      "pygments_lexer": "ipython3",
      "version": "3.8.10"
    },
    "papermill": {
      "default_parameters": {},
      "duration": 360.355324,
      "end_time": "2022-06-15T17:27:43.420370",
      "environment_variables": {},
      "exception": null,
      "input_path": "__notebook__.ipynb",
      "output_path": "__notebook__.ipynb",
      "parameters": {},
      "start_time": "2022-06-15T17:21:43.065046",
      "version": "2.3.4"
    },
    "widgets": {
      "application/vnd.jupyter.widget-state+json": {
        "37cd1db3c63a430e8b67d8d0018ce4f5": {
          "model_module": "@jupyter-widgets/controls",
          "model_name": "VBoxModel",
          "model_module_version": "1.5.0",
          "state": {
            "_dom_classes": [],
            "_model_module": "@jupyter-widgets/controls",
            "_model_module_version": "1.5.0",
            "_model_name": "VBoxModel",
            "_view_count": null,
            "_view_module": "@jupyter-widgets/controls",
            "_view_module_version": "1.5.0",
            "_view_name": "VBoxView",
            "box_style": "",
            "children": [
              "IPY_MODEL_c2e6d9757205450b92afb06284a9eab6",
              "IPY_MODEL_bfb2ea16efd145f19c0cda6a356b82cb"
            ],
            "layout": "IPY_MODEL_23033a13b8a54615b1fbc08b186fb4e9"
          }
        },
        "c2e6d9757205450b92afb06284a9eab6": {
          "model_module": "@jupyter-widgets/controls",
          "model_name": "LabelModel",
          "model_module_version": "1.5.0",
          "state": {
            "_dom_classes": [],
            "_model_module": "@jupyter-widgets/controls",
            "_model_module_version": "1.5.0",
            "_model_name": "LabelModel",
            "_view_count": null,
            "_view_module": "@jupyter-widgets/controls",
            "_view_module_version": "1.5.0",
            "_view_name": "LabelView",
            "description": "",
            "description_tooltip": null,
            "layout": "IPY_MODEL_d71d35fba59c45c2a0a019bc8e41bf4c",
            "placeholder": "​",
            "style": "IPY_MODEL_f2d9d257600b4cff87bd643838ec121c",
            "value": "17.326 MB of 17.326 MB uploaded (0.000 MB deduped)\r"
          }
        },
        "bfb2ea16efd145f19c0cda6a356b82cb": {
          "model_module": "@jupyter-widgets/controls",
          "model_name": "FloatProgressModel",
          "model_module_version": "1.5.0",
          "state": {
            "_dom_classes": [],
            "_model_module": "@jupyter-widgets/controls",
            "_model_module_version": "1.5.0",
            "_model_name": "FloatProgressModel",
            "_view_count": null,
            "_view_module": "@jupyter-widgets/controls",
            "_view_module_version": "1.5.0",
            "_view_name": "ProgressView",
            "bar_style": "",
            "description": "",
            "description_tooltip": null,
            "layout": "IPY_MODEL_c5fb3d872306480aaebed83f7380d151",
            "max": 1,
            "min": 0,
            "orientation": "horizontal",
            "style": "IPY_MODEL_2630ef63c49647a8a91def979d3e1c27",
            "value": 1
          }
        },
        "23033a13b8a54615b1fbc08b186fb4e9": {
          "model_module": "@jupyter-widgets/base",
          "model_name": "LayoutModel",
          "model_module_version": "1.2.0",
          "state": {
            "_model_module": "@jupyter-widgets/base",
            "_model_module_version": "1.2.0",
            "_model_name": "LayoutModel",
            "_view_count": null,
            "_view_module": "@jupyter-widgets/base",
            "_view_module_version": "1.2.0",
            "_view_name": "LayoutView",
            "align_content": null,
            "align_items": null,
            "align_self": null,
            "border": null,
            "bottom": null,
            "display": null,
            "flex": null,
            "flex_flow": null,
            "grid_area": null,
            "grid_auto_columns": null,
            "grid_auto_flow": null,
            "grid_auto_rows": null,
            "grid_column": null,
            "grid_gap": null,
            "grid_row": null,
            "grid_template_areas": null,
            "grid_template_columns": null,
            "grid_template_rows": null,
            "height": null,
            "justify_content": null,
            "justify_items": null,
            "left": null,
            "margin": null,
            "max_height": null,
            "max_width": null,
            "min_height": null,
            "min_width": null,
            "object_fit": null,
            "object_position": null,
            "order": null,
            "overflow": null,
            "overflow_x": null,
            "overflow_y": null,
            "padding": null,
            "right": null,
            "top": null,
            "visibility": null,
            "width": null
          }
        },
        "d71d35fba59c45c2a0a019bc8e41bf4c": {
          "model_module": "@jupyter-widgets/base",
          "model_name": "LayoutModel",
          "model_module_version": "1.2.0",
          "state": {
            "_model_module": "@jupyter-widgets/base",
            "_model_module_version": "1.2.0",
            "_model_name": "LayoutModel",
            "_view_count": null,
            "_view_module": "@jupyter-widgets/base",
            "_view_module_version": "1.2.0",
            "_view_name": "LayoutView",
            "align_content": null,
            "align_items": null,
            "align_self": null,
            "border": null,
            "bottom": null,
            "display": null,
            "flex": null,
            "flex_flow": null,
            "grid_area": null,
            "grid_auto_columns": null,
            "grid_auto_flow": null,
            "grid_auto_rows": null,
            "grid_column": null,
            "grid_gap": null,
            "grid_row": null,
            "grid_template_areas": null,
            "grid_template_columns": null,
            "grid_template_rows": null,
            "height": null,
            "justify_content": null,
            "justify_items": null,
            "left": null,
            "margin": null,
            "max_height": null,
            "max_width": null,
            "min_height": null,
            "min_width": null,
            "object_fit": null,
            "object_position": null,
            "order": null,
            "overflow": null,
            "overflow_x": null,
            "overflow_y": null,
            "padding": null,
            "right": null,
            "top": null,
            "visibility": null,
            "width": null
          }
        },
        "f2d9d257600b4cff87bd643838ec121c": {
          "model_module": "@jupyter-widgets/controls",
          "model_name": "DescriptionStyleModel",
          "model_module_version": "1.5.0",
          "state": {
            "_model_module": "@jupyter-widgets/controls",
            "_model_module_version": "1.5.0",
            "_model_name": "DescriptionStyleModel",
            "_view_count": null,
            "_view_module": "@jupyter-widgets/base",
            "_view_module_version": "1.2.0",
            "_view_name": "StyleView",
            "description_width": ""
          }
        },
        "c5fb3d872306480aaebed83f7380d151": {
          "model_module": "@jupyter-widgets/base",
          "model_name": "LayoutModel",
          "model_module_version": "1.2.0",
          "state": {
            "_model_module": "@jupyter-widgets/base",
            "_model_module_version": "1.2.0",
            "_model_name": "LayoutModel",
            "_view_count": null,
            "_view_module": "@jupyter-widgets/base",
            "_view_module_version": "1.2.0",
            "_view_name": "LayoutView",
            "align_content": null,
            "align_items": null,
            "align_self": null,
            "border": null,
            "bottom": null,
            "display": null,
            "flex": null,
            "flex_flow": null,
            "grid_area": null,
            "grid_auto_columns": null,
            "grid_auto_flow": null,
            "grid_auto_rows": null,
            "grid_column": null,
            "grid_gap": null,
            "grid_row": null,
            "grid_template_areas": null,
            "grid_template_columns": null,
            "grid_template_rows": null,
            "height": null,
            "justify_content": null,
            "justify_items": null,
            "left": null,
            "margin": null,
            "max_height": null,
            "max_width": null,
            "min_height": null,
            "min_width": null,
            "object_fit": null,
            "object_position": null,
            "order": null,
            "overflow": null,
            "overflow_x": null,
            "overflow_y": null,
            "padding": null,
            "right": null,
            "top": null,
            "visibility": null,
            "width": null
          }
        },
        "2630ef63c49647a8a91def979d3e1c27": {
          "model_module": "@jupyter-widgets/controls",
          "model_name": "ProgressStyleModel",
          "model_module_version": "1.5.0",
          "state": {
            "_model_module": "@jupyter-widgets/controls",
            "_model_module_version": "1.5.0",
            "_model_name": "ProgressStyleModel",
            "_view_count": null,
            "_view_module": "@jupyter-widgets/base",
            "_view_module_version": "1.2.0",
            "_view_name": "StyleView",
            "bar_color": null,
            "description_width": ""
          }
        }
      }
    },
    "colab": {
      "name": "06-transfer-learning-in-tensorflow-pt-3-scaling-up.ipynb",
      "provenance": [],
      "collapsed_sections": [],
      "include_colab_link": true
    },
    "accelerator": "GPU",
    "gpuClass": "standard"
  },
  "nbformat": 4,
  "nbformat_minor": 5
}