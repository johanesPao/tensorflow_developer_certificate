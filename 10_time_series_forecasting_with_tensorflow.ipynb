{
  "nbformat": 4,
  "nbformat_minor": 0,
  "metadata": {
    "colab": {
      "name": "10_time_series_forecasting_with_tensorflow.ipynb",
      "provenance": [],
      "collapsed_sections": [],
      "authorship_tag": "ABX9TyOXn5SS1w6HP+zXF5g5pT75",
      "include_colab_link": true
    },
    "kernelspec": {
      "name": "python3",
      "display_name": "Python 3"
    },
    "language_info": {
      "name": "python"
    },
    "accelerator": "GPU",
    "gpuClass": "standard"
  },
  "cells": [
    {
      "cell_type": "markdown",
      "metadata": {
        "id": "view-in-github",
        "colab_type": "text"
      },
      "source": [
        "<a href=\"https://colab.research.google.com/github/johanesPao/tensorflow_developer_certificate/blob/main/10_time_series_forecasting_with_tensorflow.ipynb\" target=\"_parent\"><img src=\"https://colab.research.google.com/assets/colab-badge.svg\" alt=\"Open In Colab\"/></a>"
      ]
    },
    {
      "cell_type": "markdown",
      "source": [
        "# Time series forecasting fundamentals with TensorFlow + Milestone Project 3: BitPredict\n",
        "\n",
        "Let's write some tensorFlow code to predict the price of Bitcoin based on the historical price of Bitcoin.\n",
        "\n",
        "⚠ **Note:** This is not financial advice.\n",
        "\n",
        "Links:\n",
        "* All resources: https://github.com/mrdbourke/tensorflow-deep-learning\n",
        "* Book version of actual code/text: https://dev.mrdbourke.com/tensorflow-deep-learning/10_time_series_forecasting_in_tensorflow/"
      ],
      "metadata": {
        "id": "-ROI4QTRmdPp"
      }
    },
    {
      "cell_type": "markdown",
      "source": [
        "## Get data\n",
        "\n",
        "We're going to be using the historical price data of Bitcoin to try and predict the future price of Bitcoin, we download the data from here: https://www.coindesk.com/price/bitcoin"
      ],
      "metadata": {
        "id": "tMpJYGZqnenz"
      }
    },
    {
      "cell_type": "code",
      "source": [
        "!wget https://raw.githubusercontent.com/mrdbourke/tensorflow-deep-learning/main/extras/BTC_USD_2013-10-01_2021-05-18-CoinDesk.csv"
      ],
      "metadata": {
        "colab": {
          "base_uri": "https://localhost:8080/"
        },
        "id": "zk8d0_tNnkIj",
        "outputId": "acade27d-ef95-4bb8-81e2-7080a2e0d126"
      },
      "execution_count": 248,
      "outputs": [
        {
          "output_type": "stream",
          "name": "stdout",
          "text": [
            "--2022-07-14 06:02:21--  https://raw.githubusercontent.com/mrdbourke/tensorflow-deep-learning/main/extras/BTC_USD_2013-10-01_2021-05-18-CoinDesk.csv\n",
            "Resolving raw.githubusercontent.com (raw.githubusercontent.com)... 185.199.108.133, 185.199.109.133, 185.199.110.133, ...\n",
            "Connecting to raw.githubusercontent.com (raw.githubusercontent.com)|185.199.108.133|:443... connected.\n",
            "HTTP request sent, awaiting response... 200 OK\n",
            "Length: 178509 (174K) [text/plain]\n",
            "Saving to: ‘BTC_USD_2013-10-01_2021-05-18-CoinDesk.csv.2’\n",
            "\n",
            "\r          BTC_USD_2   0%[                    ]       0  --.-KB/s               \rBTC_USD_2013-10-01_ 100%[===================>] 174.33K  --.-KB/s    in 0.02s   \n",
            "\n",
            "2022-07-14 06:02:22 (10.2 MB/s) - ‘BTC_USD_2013-10-01_2021-05-18-CoinDesk.csv.2’ saved [178509/178509]\n",
            "\n"
          ]
        }
      ]
    },
    {
      "cell_type": "markdown",
      "source": [
        "## Importing time series with pandas"
      ],
      "metadata": {
        "id": "bwLwK8X0pNN2"
      }
    },
    {
      "cell_type": "code",
      "source": [
        "# Import with pandas\n",
        "import pandas as pd\n",
        "# Let's read in our Bitcoin data and parse the dates\n",
        "df = pd.read_csv('/content/BTC_USD_2013-10-01_2021-05-18-CoinDesk.csv',\n",
        "                 parse_dates=['Date'],\n",
        "                 index_col=['Date']) # parse the date column and tell pandas column 1 is a datetime\n",
        "df.head()"
      ],
      "metadata": {
        "colab": {
          "base_uri": "https://localhost:8080/",
          "height": 238
        },
        "id": "jGUoo6p1poT6",
        "outputId": "8ebc3da5-829d-469f-f1a5-8a273e9cb678"
      },
      "execution_count": 249,
      "outputs": [
        {
          "output_type": "execute_result",
          "data": {
            "text/plain": [
              "           Currency  Closing Price (USD)  24h Open (USD)  24h High (USD)  \\\n",
              "Date                                                                       \n",
              "2013-10-01      BTC            123.65499       124.30466       124.75166   \n",
              "2013-10-02      BTC            125.45500       123.65499       125.75850   \n",
              "2013-10-03      BTC            108.58483       125.45500       125.66566   \n",
              "2013-10-04      BTC            118.67466       108.58483       118.67500   \n",
              "2013-10-05      BTC            121.33866       118.67466       121.93633   \n",
              "\n",
              "            24h Low (USD)  \n",
              "Date                       \n",
              "2013-10-01      122.56349  \n",
              "2013-10-02      123.63383  \n",
              "2013-10-03       83.32833  \n",
              "2013-10-04      107.05816  \n",
              "2013-10-05      118.00566  "
            ],
            "text/html": [
              "\n",
              "  <div id=\"df-cc1eace4-a352-4b4c-95a5-fad8e44849da\">\n",
              "    <div class=\"colab-df-container\">\n",
              "      <div>\n",
              "<style scoped>\n",
              "    .dataframe tbody tr th:only-of-type {\n",
              "        vertical-align: middle;\n",
              "    }\n",
              "\n",
              "    .dataframe tbody tr th {\n",
              "        vertical-align: top;\n",
              "    }\n",
              "\n",
              "    .dataframe thead th {\n",
              "        text-align: right;\n",
              "    }\n",
              "</style>\n",
              "<table border=\"1\" class=\"dataframe\">\n",
              "  <thead>\n",
              "    <tr style=\"text-align: right;\">\n",
              "      <th></th>\n",
              "      <th>Currency</th>\n",
              "      <th>Closing Price (USD)</th>\n",
              "      <th>24h Open (USD)</th>\n",
              "      <th>24h High (USD)</th>\n",
              "      <th>24h Low (USD)</th>\n",
              "    </tr>\n",
              "    <tr>\n",
              "      <th>Date</th>\n",
              "      <th></th>\n",
              "      <th></th>\n",
              "      <th></th>\n",
              "      <th></th>\n",
              "      <th></th>\n",
              "    </tr>\n",
              "  </thead>\n",
              "  <tbody>\n",
              "    <tr>\n",
              "      <th>2013-10-01</th>\n",
              "      <td>BTC</td>\n",
              "      <td>123.65499</td>\n",
              "      <td>124.30466</td>\n",
              "      <td>124.75166</td>\n",
              "      <td>122.56349</td>\n",
              "    </tr>\n",
              "    <tr>\n",
              "      <th>2013-10-02</th>\n",
              "      <td>BTC</td>\n",
              "      <td>125.45500</td>\n",
              "      <td>123.65499</td>\n",
              "      <td>125.75850</td>\n",
              "      <td>123.63383</td>\n",
              "    </tr>\n",
              "    <tr>\n",
              "      <th>2013-10-03</th>\n",
              "      <td>BTC</td>\n",
              "      <td>108.58483</td>\n",
              "      <td>125.45500</td>\n",
              "      <td>125.66566</td>\n",
              "      <td>83.32833</td>\n",
              "    </tr>\n",
              "    <tr>\n",
              "      <th>2013-10-04</th>\n",
              "      <td>BTC</td>\n",
              "      <td>118.67466</td>\n",
              "      <td>108.58483</td>\n",
              "      <td>118.67500</td>\n",
              "      <td>107.05816</td>\n",
              "    </tr>\n",
              "    <tr>\n",
              "      <th>2013-10-05</th>\n",
              "      <td>BTC</td>\n",
              "      <td>121.33866</td>\n",
              "      <td>118.67466</td>\n",
              "      <td>121.93633</td>\n",
              "      <td>118.00566</td>\n",
              "    </tr>\n",
              "  </tbody>\n",
              "</table>\n",
              "</div>\n",
              "      <button class=\"colab-df-convert\" onclick=\"convertToInteractive('df-cc1eace4-a352-4b4c-95a5-fad8e44849da')\"\n",
              "              title=\"Convert this dataframe to an interactive table.\"\n",
              "              style=\"display:none;\">\n",
              "        \n",
              "  <svg xmlns=\"http://www.w3.org/2000/svg\" height=\"24px\"viewBox=\"0 0 24 24\"\n",
              "       width=\"24px\">\n",
              "    <path d=\"M0 0h24v24H0V0z\" fill=\"none\"/>\n",
              "    <path d=\"M18.56 5.44l.94 2.06.94-2.06 2.06-.94-2.06-.94-.94-2.06-.94 2.06-2.06.94zm-11 1L8.5 8.5l.94-2.06 2.06-.94-2.06-.94L8.5 2.5l-.94 2.06-2.06.94zm10 10l.94 2.06.94-2.06 2.06-.94-2.06-.94-.94-2.06-.94 2.06-2.06.94z\"/><path d=\"M17.41 7.96l-1.37-1.37c-.4-.4-.92-.59-1.43-.59-.52 0-1.04.2-1.43.59L10.3 9.45l-7.72 7.72c-.78.78-.78 2.05 0 2.83L4 21.41c.39.39.9.59 1.41.59.51 0 1.02-.2 1.41-.59l7.78-7.78 2.81-2.81c.8-.78.8-2.07 0-2.86zM5.41 20L4 18.59l7.72-7.72 1.47 1.35L5.41 20z\"/>\n",
              "  </svg>\n",
              "      </button>\n",
              "      \n",
              "  <style>\n",
              "    .colab-df-container {\n",
              "      display:flex;\n",
              "      flex-wrap:wrap;\n",
              "      gap: 12px;\n",
              "    }\n",
              "\n",
              "    .colab-df-convert {\n",
              "      background-color: #E8F0FE;\n",
              "      border: none;\n",
              "      border-radius: 50%;\n",
              "      cursor: pointer;\n",
              "      display: none;\n",
              "      fill: #1967D2;\n",
              "      height: 32px;\n",
              "      padding: 0 0 0 0;\n",
              "      width: 32px;\n",
              "    }\n",
              "\n",
              "    .colab-df-convert:hover {\n",
              "      background-color: #E2EBFA;\n",
              "      box-shadow: 0px 1px 2px rgba(60, 64, 67, 0.3), 0px 1px 3px 1px rgba(60, 64, 67, 0.15);\n",
              "      fill: #174EA6;\n",
              "    }\n",
              "\n",
              "    [theme=dark] .colab-df-convert {\n",
              "      background-color: #3B4455;\n",
              "      fill: #D2E3FC;\n",
              "    }\n",
              "\n",
              "    [theme=dark] .colab-df-convert:hover {\n",
              "      background-color: #434B5C;\n",
              "      box-shadow: 0px 1px 3px 1px rgba(0, 0, 0, 0.15);\n",
              "      filter: drop-shadow(0px 1px 2px rgba(0, 0, 0, 0.3));\n",
              "      fill: #FFFFFF;\n",
              "    }\n",
              "  </style>\n",
              "\n",
              "      <script>\n",
              "        const buttonEl =\n",
              "          document.querySelector('#df-cc1eace4-a352-4b4c-95a5-fad8e44849da button.colab-df-convert');\n",
              "        buttonEl.style.display =\n",
              "          google.colab.kernel.accessAllowed ? 'block' : 'none';\n",
              "\n",
              "        async function convertToInteractive(key) {\n",
              "          const element = document.querySelector('#df-cc1eace4-a352-4b4c-95a5-fad8e44849da');\n",
              "          const dataTable =\n",
              "            await google.colab.kernel.invokeFunction('convertToInteractive',\n",
              "                                                     [key], {});\n",
              "          if (!dataTable) return;\n",
              "\n",
              "          const docLinkHtml = 'Like what you see? Visit the ' +\n",
              "            '<a target=\"_blank\" href=https://colab.research.google.com/notebooks/data_table.ipynb>data table notebook</a>'\n",
              "            + ' to learn more about interactive tables.';\n",
              "          element.innerHTML = '';\n",
              "          dataTable['output_type'] = 'display_data';\n",
              "          await google.colab.output.renderOutput(dataTable, element);\n",
              "          const docLink = document.createElement('div');\n",
              "          docLink.innerHTML = docLinkHtml;\n",
              "          element.appendChild(docLink);\n",
              "        }\n",
              "      </script>\n",
              "    </div>\n",
              "  </div>\n",
              "  "
            ]
          },
          "metadata": {},
          "execution_count": 249
        }
      ]
    },
    {
      "cell_type": "code",
      "source": [
        "df.info()"
      ],
      "metadata": {
        "colab": {
          "base_uri": "https://localhost:8080/"
        },
        "id": "JXgHqmaxqcvG",
        "outputId": "ba1c8ce0-a519-4332-c97a-e73b6b8f9bf5"
      },
      "execution_count": 250,
      "outputs": [
        {
          "output_type": "stream",
          "name": "stdout",
          "text": [
            "<class 'pandas.core.frame.DataFrame'>\n",
            "DatetimeIndex: 2787 entries, 2013-10-01 to 2021-05-18\n",
            "Data columns (total 5 columns):\n",
            " #   Column               Non-Null Count  Dtype  \n",
            "---  ------               --------------  -----  \n",
            " 0   Currency             2787 non-null   object \n",
            " 1   Closing Price (USD)  2787 non-null   float64\n",
            " 2   24h Open (USD)       2787 non-null   float64\n",
            " 3   24h High (USD)       2787 non-null   float64\n",
            " 4   24h Low (USD)        2787 non-null   float64\n",
            "dtypes: float64(4), object(1)\n",
            "memory usage: 130.6+ KB\n"
          ]
        }
      ]
    },
    {
      "cell_type": "code",
      "source": [
        "# How many samples do we have\n",
        "len(df)"
      ],
      "metadata": {
        "colab": {
          "base_uri": "https://localhost:8080/"
        },
        "id": "l5ASu9RYqgYn",
        "outputId": "a4038b11-3cd1-410e-ebcc-19d0ce8eb9b9"
      },
      "execution_count": 251,
      "outputs": [
        {
          "output_type": "execute_result",
          "data": {
            "text/plain": [
              "2787"
            ]
          },
          "metadata": {},
          "execution_count": 251
        }
      ]
    },
    {
      "cell_type": "markdown",
      "source": [
        "We've collected the historical price of Bitcoin for the past ~8 years but there's 2787 samples.\n",
        "\n",
        "Typically deep learning models usually like lots and lots and lots of samples (where lots and lots and lots can be a thousands to tens of thousands to millions).\n",
        "\n",
        "A smaller number of samples is something you'll often run into with time series data problems.\n",
        "\n",
        "> 🔑 **Note:** The **seasonality** of a time series dataset is referred as the number of samples per year. So for our Bitcoin data, it has a seasonality of daily or value of 365 because we collect one sample per day meaning we'll get 365 samples per year."
      ],
      "metadata": {
        "id": "PEAHKLzaqoTS"
      }
    },
    {
      "cell_type": "code",
      "source": [
        "# Only want closing price for each day\n",
        "bitcoin_prices = pd.DataFrame(df['Closing Price (USD)']).rename(columns={'Closing Price (USD)': 'Price'})\n",
        "bitcoin_prices.head()"
      ],
      "metadata": {
        "colab": {
          "base_uri": "https://localhost:8080/",
          "height": 238
        },
        "id": "iwA8yDWvrlhO",
        "outputId": "6f396d2a-2769-48c4-e0a1-3a949edbdc7a"
      },
      "execution_count": 252,
      "outputs": [
        {
          "output_type": "execute_result",
          "data": {
            "text/plain": [
              "                Price\n",
              "Date                 \n",
              "2013-10-01  123.65499\n",
              "2013-10-02  125.45500\n",
              "2013-10-03  108.58483\n",
              "2013-10-04  118.67466\n",
              "2013-10-05  121.33866"
            ],
            "text/html": [
              "\n",
              "  <div id=\"df-69182f46-c498-41b2-9535-907d6aee3b4a\">\n",
              "    <div class=\"colab-df-container\">\n",
              "      <div>\n",
              "<style scoped>\n",
              "    .dataframe tbody tr th:only-of-type {\n",
              "        vertical-align: middle;\n",
              "    }\n",
              "\n",
              "    .dataframe tbody tr th {\n",
              "        vertical-align: top;\n",
              "    }\n",
              "\n",
              "    .dataframe thead th {\n",
              "        text-align: right;\n",
              "    }\n",
              "</style>\n",
              "<table border=\"1\" class=\"dataframe\">\n",
              "  <thead>\n",
              "    <tr style=\"text-align: right;\">\n",
              "      <th></th>\n",
              "      <th>Price</th>\n",
              "    </tr>\n",
              "    <tr>\n",
              "      <th>Date</th>\n",
              "      <th></th>\n",
              "    </tr>\n",
              "  </thead>\n",
              "  <tbody>\n",
              "    <tr>\n",
              "      <th>2013-10-01</th>\n",
              "      <td>123.65499</td>\n",
              "    </tr>\n",
              "    <tr>\n",
              "      <th>2013-10-02</th>\n",
              "      <td>125.45500</td>\n",
              "    </tr>\n",
              "    <tr>\n",
              "      <th>2013-10-03</th>\n",
              "      <td>108.58483</td>\n",
              "    </tr>\n",
              "    <tr>\n",
              "      <th>2013-10-04</th>\n",
              "      <td>118.67466</td>\n",
              "    </tr>\n",
              "    <tr>\n",
              "      <th>2013-10-05</th>\n",
              "      <td>121.33866</td>\n",
              "    </tr>\n",
              "  </tbody>\n",
              "</table>\n",
              "</div>\n",
              "      <button class=\"colab-df-convert\" onclick=\"convertToInteractive('df-69182f46-c498-41b2-9535-907d6aee3b4a')\"\n",
              "              title=\"Convert this dataframe to an interactive table.\"\n",
              "              style=\"display:none;\">\n",
              "        \n",
              "  <svg xmlns=\"http://www.w3.org/2000/svg\" height=\"24px\"viewBox=\"0 0 24 24\"\n",
              "       width=\"24px\">\n",
              "    <path d=\"M0 0h24v24H0V0z\" fill=\"none\"/>\n",
              "    <path d=\"M18.56 5.44l.94 2.06.94-2.06 2.06-.94-2.06-.94-.94-2.06-.94 2.06-2.06.94zm-11 1L8.5 8.5l.94-2.06 2.06-.94-2.06-.94L8.5 2.5l-.94 2.06-2.06.94zm10 10l.94 2.06.94-2.06 2.06-.94-2.06-.94-.94-2.06-.94 2.06-2.06.94z\"/><path d=\"M17.41 7.96l-1.37-1.37c-.4-.4-.92-.59-1.43-.59-.52 0-1.04.2-1.43.59L10.3 9.45l-7.72 7.72c-.78.78-.78 2.05 0 2.83L4 21.41c.39.39.9.59 1.41.59.51 0 1.02-.2 1.41-.59l7.78-7.78 2.81-2.81c.8-.78.8-2.07 0-2.86zM5.41 20L4 18.59l7.72-7.72 1.47 1.35L5.41 20z\"/>\n",
              "  </svg>\n",
              "      </button>\n",
              "      \n",
              "  <style>\n",
              "    .colab-df-container {\n",
              "      display:flex;\n",
              "      flex-wrap:wrap;\n",
              "      gap: 12px;\n",
              "    }\n",
              "\n",
              "    .colab-df-convert {\n",
              "      background-color: #E8F0FE;\n",
              "      border: none;\n",
              "      border-radius: 50%;\n",
              "      cursor: pointer;\n",
              "      display: none;\n",
              "      fill: #1967D2;\n",
              "      height: 32px;\n",
              "      padding: 0 0 0 0;\n",
              "      width: 32px;\n",
              "    }\n",
              "\n",
              "    .colab-df-convert:hover {\n",
              "      background-color: #E2EBFA;\n",
              "      box-shadow: 0px 1px 2px rgba(60, 64, 67, 0.3), 0px 1px 3px 1px rgba(60, 64, 67, 0.15);\n",
              "      fill: #174EA6;\n",
              "    }\n",
              "\n",
              "    [theme=dark] .colab-df-convert {\n",
              "      background-color: #3B4455;\n",
              "      fill: #D2E3FC;\n",
              "    }\n",
              "\n",
              "    [theme=dark] .colab-df-convert:hover {\n",
              "      background-color: #434B5C;\n",
              "      box-shadow: 0px 1px 3px 1px rgba(0, 0, 0, 0.15);\n",
              "      filter: drop-shadow(0px 1px 2px rgba(0, 0, 0, 0.3));\n",
              "      fill: #FFFFFF;\n",
              "    }\n",
              "  </style>\n",
              "\n",
              "      <script>\n",
              "        const buttonEl =\n",
              "          document.querySelector('#df-69182f46-c498-41b2-9535-907d6aee3b4a button.colab-df-convert');\n",
              "        buttonEl.style.display =\n",
              "          google.colab.kernel.accessAllowed ? 'block' : 'none';\n",
              "\n",
              "        async function convertToInteractive(key) {\n",
              "          const element = document.querySelector('#df-69182f46-c498-41b2-9535-907d6aee3b4a');\n",
              "          const dataTable =\n",
              "            await google.colab.kernel.invokeFunction('convertToInteractive',\n",
              "                                                     [key], {});\n",
              "          if (!dataTable) return;\n",
              "\n",
              "          const docLinkHtml = 'Like what you see? Visit the ' +\n",
              "            '<a target=\"_blank\" href=https://colab.research.google.com/notebooks/data_table.ipynb>data table notebook</a>'\n",
              "            + ' to learn more about interactive tables.';\n",
              "          element.innerHTML = '';\n",
              "          dataTable['output_type'] = 'display_data';\n",
              "          await google.colab.output.renderOutput(dataTable, element);\n",
              "          const docLink = document.createElement('div');\n",
              "          docLink.innerHTML = docLinkHtml;\n",
              "          element.appendChild(docLink);\n",
              "        }\n",
              "      </script>\n",
              "    </div>\n",
              "  </div>\n",
              "  "
            ]
          },
          "metadata": {},
          "execution_count": 252
        }
      ]
    },
    {
      "cell_type": "code",
      "source": [
        "import matplotlib.pyplot as plt\n",
        "bitcoin_prices.plot(figsize=(10, 7))\n",
        "plt.ylabel('BTC Price')\n",
        "plt.title('Price of Bitcoin from 1 Oct 2013 to 18 May 2021', fontsize=16)\n",
        "plt.legend(fontsize=14)"
      ],
      "metadata": {
        "colab": {
          "base_uri": "https://localhost:8080/",
          "height": 478
        },
        "id": "nHZ_qgSZuf1w",
        "outputId": "d0301497-93f4-456d-e7d7-6ad2dce57ee1"
      },
      "execution_count": 253,
      "outputs": [
        {
          "output_type": "execute_result",
          "data": {
            "text/plain": [
              "<matplotlib.legend.Legend at 0x7fc272b8d610>"
            ]
          },
          "metadata": {},
          "execution_count": 253
        },
        {
          "output_type": "display_data",
          "data": {
            "text/plain": [
              "<Figure size 720x504 with 1 Axes>"
            ],
            "image/png": "[encoded data removed]"
          },
          "metadata": {
            "needs_background": "light"
          }
        }
      ]
    },
    {
      "cell_type": "markdown",
      "source": [
        "## Importing time series data with Python's CSV module"
      ],
      "metadata": {
        "id": "KeU2qISsuoQN"
      }
    },
    {
      "cell_type": "code",
      "source": [
        "# Importing and formatting historical Bitcoin data with Python\n",
        "import csv\n",
        "from datetime import datetime\n",
        "\n",
        "timesteps = []\n",
        "btc_price = []\n",
        "with open('/content/BTC_USD_2013-10-01_2021-05-18-CoinDesk.csv', 'r') as f:\n",
        "    csv_reader = csv.reader(f, delimiter=',')\n",
        "    next(csv_reader) # skip first line (this gets rid of the column titles)\n",
        "    for line in csv_reader:\n",
        "        timesteps.append(datetime.strptime(line[1], \"%Y-%m-%d\")) # get the dates as dates (not string)\n",
        "        btc_price.append(float(line[2])) # get closing price as float\n",
        "\n",
        "# View first 10 of each\n",
        "timesteps[:10], btc_price[:10]"
      ],
      "metadata": {
        "colab": {
          "base_uri": "https://localhost:8080/"
        },
        "id": "7iESRPmEvZuT",
        "outputId": "21dfef77-1e71-428e-f7ab-51c5b654716b"
      },
      "execution_count": 254,
      "outputs": [
        {
          "output_type": "execute_result",
          "data": {
            "text/plain": [
              "([datetime.datetime(2013, 10, 1, 0, 0),\n",
              "  datetime.datetime(2013, 10, 2, 0, 0),\n",
              "  datetime.datetime(2013, 10, 3, 0, 0),\n",
              "  datetime.datetime(2013, 10, 4, 0, 0),\n",
              "  datetime.datetime(2013, 10, 5, 0, 0),\n",
              "  datetime.datetime(2013, 10, 6, 0, 0),\n",
              "  datetime.datetime(2013, 10, 7, 0, 0),\n",
              "  datetime.datetime(2013, 10, 8, 0, 0),\n",
              "  datetime.datetime(2013, 10, 9, 0, 0),\n",
              "  datetime.datetime(2013, 10, 10, 0, 0)],\n",
              " [123.65499,\n",
              "  125.455,\n",
              "  108.58483,\n",
              "  118.67466,\n",
              "  121.33866,\n",
              "  120.65533,\n",
              "  121.795,\n",
              "  123.033,\n",
              "  124.049,\n",
              "  125.96116])"
            ]
          },
          "metadata": {},
          "execution_count": 254
        }
      ]
    },
    {
      "cell_type": "code",
      "source": [
        "# Plot from CSV\n",
        "import matplotlib.pyplot as plt\n",
        "import numpy as np\n",
        "plt.figure(figsize=(10, 7))\n",
        "plt.plot(timesteps, btc_price)\n",
        "plt.title('Price of Bitcoin from 1 Oct 2013 to 18 May 2021', fontsize=16)\n",
        "plt.xlabel('Date')"
      ],
      "metadata": {
        "colab": {
          "base_uri": "https://localhost:8080/",
          "height": 478
        },
        "id": "N3PIr0fYw6QR",
        "outputId": "0b67227d-f12b-404f-974f-b422a464a914"
      },
      "execution_count": 255,
      "outputs": [
        {
          "output_type": "execute_result",
          "data": {
            "text/plain": [
              "Text(0.5, 0, 'Date')"
            ]
          },
          "metadata": {},
          "execution_count": 255
        },
        {
          "output_type": "display_data",
          "data": {
            "text/plain": [
              "<Figure size 720x504 with 1 Axes>"
            ],
            "image/png": "[encoded data removed]"
          },
          "metadata": {
            "needs_background": "light"
          }
        }
      ]
    },
    {
      "cell_type": "markdown",
      "source": [
        "## Format data part 1: Create train and test sets of our time series data"
      ],
      "metadata": {
        "id": "vFQjprXCxsxq"
      }
    },
    {
      "cell_type": "markdown",
      "source": [
        "### Creating train and test sets with time series data (the wrong way)"
      ],
      "metadata": {
        "id": "UDsGf35iyHGG"
      }
    },
    {
      "cell_type": "code",
      "source": [
        "# Get bitcoin date array\n",
        "timesteps = bitcoin_prices.index.to_numpy()\n",
        "prices = bitcoin_prices['Price'].to_numpy()\n",
        "\n",
        "timesteps[:10], prices[:10]"
      ],
      "metadata": {
        "colab": {
          "base_uri": "https://localhost:8080/"
        },
        "id": "hxKmjJZ1yEvT",
        "outputId": "c7eae654-bad0-4a66-f5c7-9978405b99ae"
      },
      "execution_count": 256,
      "outputs": [
        {
          "output_type": "execute_result",
          "data": {
            "text/plain": [
              "(array(['2013-10-01T00:00:00.000000000', '2013-10-02T00:00:00.000000000',\n",
              "        '2013-10-03T00:00:00.000000000', '2013-10-04T00:00:00.000000000',\n",
              "        '2013-10-05T00:00:00.000000000', '2013-10-06T00:00:00.000000000',\n",
              "        '2013-10-07T00:00:00.000000000', '2013-10-08T00:00:00.000000000',\n",
              "        '2013-10-09T00:00:00.000000000', '2013-10-10T00:00:00.000000000'],\n",
              "       dtype='datetime64[ns]'),\n",
              " array([123.65499, 125.455  , 108.58483, 118.67466, 121.33866, 120.65533,\n",
              "        121.795  , 123.033  , 124.049  , 125.96116]))"
            ]
          },
          "metadata": {},
          "execution_count": 256
        }
      ]
    },
    {
      "cell_type": "code",
      "source": [
        "# Wrong way to make train/test sets for time series data\n",
        "from sklearn.model_selection import train_test_split\n",
        "\n",
        "X_train, X_test, y_train, y_test = train_test_split(timesteps, # dates\n",
        "                                                    prices, # BTC prices\n",
        "                                                    test_size=0.2,\n",
        "                                                    random_state=42)\n",
        "\n",
        "X_train.shape, X_test.shape, y_train.shape, y_test.shape"
      ],
      "metadata": {
        "colab": {
          "base_uri": "https://localhost:8080/"
        },
        "id": "vDc-k5VlyhfT",
        "outputId": "e63668be-fc48-4a6c-a5b8-b05ae354e208"
      },
      "execution_count": 257,
      "outputs": [
        {
          "output_type": "execute_result",
          "data": {
            "text/plain": [
              "((2229,), (558,), (2229,), (558,))"
            ]
          },
          "metadata": {},
          "execution_count": 257
        }
      ]
    },
    {
      "cell_type": "code",
      "source": [
        "# Let's plot wrong train and test splits\n",
        "plt.figure(figsize=(10, 7))\n",
        "plt.scatter(X_train, y_train, s=5, label='Train data')\n",
        "plt.scatter(X_test, y_test, s=5, label='Test data')\n",
        "plt.xlabel('Date')\n",
        "plt.ylabel('BTC Price')\n",
        "plt.legend(fontsize=14)\n",
        "plt.show()"
      ],
      "metadata": {
        "colab": {
          "base_uri": "https://localhost:8080/",
          "height": 442
        },
        "id": "2nPMKn6RzETM",
        "outputId": "6ee35d80-07dd-440e-ea13-2995a9509175"
      },
      "execution_count": 258,
      "outputs": [
        {
          "output_type": "display_data",
          "data": {
            "text/plain": [
              "<Figure size 720x504 with 1 Axes>"
            ],
            "image/png": "[encoded data removed]"
          },
          "metadata": {
            "needs_background": "light"
          }
        }
      ]
    },
    {
      "cell_type": "markdown",
      "source": [
        "### Create train & test sets for time series (the right way)"
      ],
      "metadata": {
        "id": "uRuFzpeZzkQH"
      }
    },
    {
      "cell_type": "code",
      "source": [
        "# Create train and test splits the right way for time series data\n",
        "split_size = int(0.8 * len(prices)) # 80% train, 20% test - you can change these values as needed, e.g. 90/10, 95/5\n",
        "\n",
        "# Create train data splits (everything before the split)\n",
        "X_train, y_train = timesteps[:split_size], prices[:split_size]\n",
        "\n",
        "# Create test data splits (everything beyond the split)\n",
        "X_test, y_test = timesteps[split_size:], prices[split_size:]\n",
        "\n",
        "len(X_train), len(X_test), len(y_train), len(y_test)"
      ],
      "metadata": {
        "colab": {
          "base_uri": "https://localhost:8080/"
        },
        "id": "OkIIPV890I8s",
        "outputId": "25ebd892-32bd-42df-aefa-a5def4140781"
      },
      "execution_count": 259,
      "outputs": [
        {
          "output_type": "execute_result",
          "data": {
            "text/plain": [
              "(2229, 558, 2229, 558)"
            ]
          },
          "metadata": {},
          "execution_count": 259
        }
      ]
    },
    {
      "cell_type": "code",
      "source": [
        "# Plot correctly made splits\n",
        "plt.figure(figsize=(10, 7))\n",
        "plt.scatter(X_train, y_train, s=5, label='Train data')\n",
        "plt.scatter(X_test, y_test, s=5, label='Test data')\n",
        "plt.xlabel('Date')\n",
        "plt.ylabel('BTC Price')\n",
        "plt.legend(fontsize=14)\n",
        "plt.show()"
      ],
      "metadata": {
        "colab": {
          "base_uri": "https://localhost:8080/",
          "height": 442
        },
        "id": "CCBa0Gog1hSd",
        "outputId": "53c15f81-1df7-4f08-b6e5-be2d6ff72328"
      },
      "execution_count": 260,
      "outputs": [
        {
          "output_type": "display_data",
          "data": {
            "text/plain": [
              "<Figure size 720x504 with 1 Axes>"
            ],
            "image/png": "[encoded data removed]"
          },
          "metadata": {
            "needs_background": "light"
          }
        }
      ]
    },
    {
      "cell_type": "markdown",
      "source": [
        "## Create a plotting function\n",
        "\n",
        "Typing plotting code is tedious, let's functionize it"
      ],
      "metadata": {
        "id": "QcF4iIr51zMA"
      }
    },
    {
      "cell_type": "code",
      "source": [
        "# Create a function to plot time series data\n",
        "def plot_time_series(timesteps, values, format=\".\", start=0, end=None, label=None):\n",
        "    \"\"\"\n",
        "    Plots timesteps (a series of points in time) against values (a series of values across timesteps).\n",
        "\n",
        "    Args:\n",
        "        timesteps: array of timestep values\n",
        "        values: array of values across time\n",
        "        format: style of plot, default \".\"\n",
        "        start: where to start the plot (setting a value will index from start of timesteps & values)\n",
        "        end: where to end the plot (similar to start but for the end)\n",
        "        label: label to show on plot about values, default None\n",
        "\n",
        "    Return:\n",
        "        plot\n",
        "    \"\"\"\n",
        "    # Plot the series\n",
        "    plt.plot(timesteps[start:end], values[start:end], format, label=label)\n",
        "    plt.xlabel(\"Time\")\n",
        "    plt.ylabel(\"BTC Price\")\n",
        "    if label:\n",
        "        plt.legend(fontsize=14) # make label bigger\n",
        "    plt.grid(True)"
      ],
      "metadata": {
        "id": "Sgi9UuKvT9WB"
      },
      "execution_count": 261,
      "outputs": []
    },
    {
      "cell_type": "code",
      "source": [
        "# Test out plotting function\n",
        "plt.figure(figsize=(10, 7))\n",
        "plot_time_series(timesteps=X_train, values=y_train, label=\"Train data\")\n",
        "plot_time_series(timesteps=X_test, values=y_test, label=\"Test data\")"
      ],
      "metadata": {
        "colab": {
          "base_uri": "https://localhost:8080/",
          "height": 442
        },
        "id": "GeVZoLl0VCkI",
        "outputId": "4d6cea3e-2d3e-4e05-ee02-a6d1444af0c1"
      },
      "execution_count": 262,
      "outputs": [
        {
          "output_type": "display_data",
          "data": {
            "text/plain": [
              "<Figure size 720x504 with 1 Axes>"
            ],
            "image/png": "[encoded data removed]"
          },
          "metadata": {
            "needs_background": "light"
          }
        }
      ]
    },
    {
      "cell_type": "markdown",
      "source": [
        "## Modelling Experiments\n",
        "\n",
        "We've got some Bitcoin historical data, to model it, let's run a series of modelling experiments and see which model performs best.\n",
        "\n",
        "Terms to be familiar with:\n",
        "* **Horizon** = number of timesteps into the future we're going to predict\n",
        "* **Window size** = number of timesteps we're going to use to predict **horizon**\n",
        "\n",
        "Modelling experiments we're running:\n",
        "* 0 Naive model (baseline)\n",
        "* 1 Dense model, horizon = 1, window = 7\n",
        "* 2 Same as 1, horizon = 1, window = 30\n",
        "* 3 Same as 1, horizon = 7, window = 30\n",
        "* 4 Conv1D\n",
        "* 5 LSTM\n",
        "* 6 Same as 1 (but with multivariate data)\n",
        "* 7 N-BEATs Algorithm\n",
        "* 8 Ensemble (multiple models optimized on different loss functions)\n",
        "* 9 Future prediction model (model to predict future values)\n",
        "* 10 Same as 1 (but with turkey data introduced)"
      ],
      "metadata": {
        "id": "5575gVq_VWf2"
      }
    },
    {
      "cell_type": "markdown",
      "source": [
        "## Model 0: Naive forecast (baseline)\n",
        "\n",
        "The formula looks like this:\n",
        "\n",
        "$\\hat{y}_{t} = y_{t-1}$\n",
        "\n",
        "In English:\n",
        "\n",
        "> The prediction at timestep t (y-hat) is equal to the value at timestep t-1 (previous timestep) - this is for a horizon of 1."
      ],
      "metadata": {
        "id": "ES06ZKU6WUWU"
      }
    },
    {
      "cell_type": "code",
      "source": [
        "# Create a naive forecast\n",
        "naive_forecast = y_test[:-1]\n",
        "\n",
        "naive_forecast[:10], naive_forecast[-10:]"
      ],
      "metadata": {
        "colab": {
          "base_uri": "https://localhost:8080/"
        },
        "id": "P1hZYWmSa2wP",
        "outputId": "37420177-851b-4fa8-c210-b3285208d740"
      },
      "execution_count": 263,
      "outputs": [
        {
          "output_type": "execute_result",
          "data": {
            "text/plain": [
              "(array([9226.48582088, 8794.35864452, 8798.04205463, 9081.18687849,\n",
              "        8711.53433917, 8760.89271814, 8749.52059102, 8656.97092235,\n",
              "        8500.64355816, 8469.2608989 ]),\n",
              " array([57107.12067189, 58788.20967893, 58102.19142623, 55715.54665129,\n",
              "        56573.5554719 , 52147.82118698, 49764.1320816 , 50032.69313676,\n",
              "        47885.62525472, 45604.61575361]))"
            ]
          },
          "metadata": {},
          "execution_count": 263
        }
      ]
    },
    {
      "cell_type": "code",
      "source": [
        "# Plot naive forecast\n",
        "plt.figure(figsize=(10, 7))\n",
        "# plot_time_series(timesteps=X_train, values=y_train, label='Train data')\n",
        "plot_time_series(timesteps=X_test, values=y_test, start=350, format=\"-\", label='Test data')\n",
        "plot_time_series(timesteps=X_test[1:], values=naive_forecast, start=350, format=\"-\", label=\"Naive forecast\")"
      ],
      "metadata": {
        "colab": {
          "base_uri": "https://localhost:8080/",
          "height": 442
        },
        "id": "7WjU6MQSbnJA",
        "outputId": "e7c50088-328a-4df3-c27e-11206f3a9612"
      },
      "execution_count": 264,
      "outputs": [
        {
          "output_type": "display_data",
          "data": {
            "text/plain": [
              "<Figure size 720x504 with 1 Axes>"
            ],
            "image/png": "[encoded data removed]"
          },
          "metadata": {
            "needs_background": "light"
          }
        }
      ]
    },
    {
      "cell_type": "markdown",
      "source": [
        "## Evaluating a time series model\n",
        "\n",
        "Let's look into some evaluation metrics for time series forecasting.\n",
        "\n",
        "What are we doing?\n",
        "\n",
        "We're predicting a number, so that means we have a form of a regression problem.\n",
        "\n",
        "Because we're working on a regression problem, we'll need some regression-like metrics.\n",
        "\n",
        "A few common regression metrics (which can also be used for time series forecasting):\n",
        "* MAE - mean absolute error\n",
        "* MSE - mean squared error\n",
        "* RMSE - root mean squared error\n",
        "* MAPE/sMAPE - (symmetric) mean absolute percentage error\n",
        "* MASE - mean absolute scaled error\n",
        "\n",
        "For all of the above metrics, **lower is better**, for example, an MAE of 0 is better than an MAE of 100.\n",
        "\n",
        "The main thing we're evaluating here is: **how do our model's forecasts (y_pred) compare against the actual values (y_true or ground truth values)?**"
      ],
      "metadata": {
        "id": "qTIbyUkxcMhI"
      }
    },
    {
      "cell_type": "code",
      "source": [
        "import tensorflow as tf"
      ],
      "metadata": {
        "id": "OkF0vYmyebr8"
      },
      "execution_count": 265,
      "outputs": []
    },
    {
      "cell_type": "code",
      "source": [
        "# MASE implementation\n",
        "def mean_absolute_scaled_error(y_true, y_pred):\n",
        "    \"\"\"\n",
        "    Implement MASE (assuming no seasonality of data).\n",
        "    \"\"\"\n",
        "    mae = tf.reduce_mean(tf.abs(y_true-y_pred))\n",
        "\n",
        "    # Find MAE of naive forecast (no seasonality)\n",
        "    mae_naive_no_season = tf.reduce_mean(tf.abs(y_true[1:] - y_true[:-1])) # our seasonality is 1 day (hence the shift of 1)\n",
        "\n",
        "    return mae / mae_naive_no_season"
      ],
      "metadata": {
        "id": "6AG5Px8xmh4e"
      },
      "execution_count": 266,
      "outputs": []
    },
    {
      "cell_type": "code",
      "source": [
        "mean_absolute_scaled_error(y_test[1:], y_pred=naive_forecast).numpy()"
      ],
      "metadata": {
        "colab": {
          "base_uri": "https://localhost:8080/"
        },
        "id": "O7QV1r_Tn7-x",
        "outputId": "2bb1ca5b-a94c-490e-a9a8-0227dcdf20fe"
      },
      "execution_count": 267,
      "outputs": [
        {
          "output_type": "execute_result",
          "data": {
            "text/plain": [
              "0.9995699939182624"
            ]
          },
          "metadata": {},
          "execution_count": 267
        }
      ]
    },
    {
      "cell_type": "code",
      "source": [
        "# Create a function to take in model predictions and truth values and return evaluation metrics\n",
        "def evaluate_preds(y_true, y_pred):\n",
        "    # Make sure float32 datatype (for metric calculation)\n",
        "    y_true = tf.cast(y_true, dtype=tf.float32)\n",
        "    y_pred = tf.cast(y_pred, dtype=tf.float32)\n",
        "\n",
        "    # Calculate various evaluation metrics\n",
        "    mae = tf.keras.metrics.mean_absolute_error(y_true, y_pred)\n",
        "    mse = tf.keras.metrics.mean_squared_error(y_true, y_pred)\n",
        "    rmse = tf.sqrt(mse)\n",
        "    mape = tf.keras.metrics.mean_absolute_percentage_error(y_true, y_pred)\n",
        "    mase = mean_absolute_scaled_error(y_true, y_pred)\n",
        "\n",
        "    return {\"mae\": mae.numpy(),\n",
        "            \"mse\": mse.numpy(),\n",
        "            \"rmse\": rmse.numpy(),\n",
        "            \"mape\": mape.numpy(),\n",
        "            \"mase\": mase.numpy()}"
      ],
      "metadata": {
        "id": "SX2t3PCxoCgZ"
      },
      "execution_count": 268,
      "outputs": []
    },
    {
      "cell_type": "markdown",
      "source": [
        "That's one good looking evaluation function!\n",
        "\n",
        "Let's now see if it works..."
      ],
      "metadata": {
        "id": "OhZqiWfJp1zN"
      }
    },
    {
      "cell_type": "code",
      "source": [
        "naive_results = evaluate_preds(y_true=y_test[1:],\n",
        "                               y_pred=naive_forecast)\n",
        "naive_results"
      ],
      "metadata": {
        "colab": {
          "base_uri": "https://localhost:8080/"
        },
        "id": "ZBJ6z8BFp0Bj",
        "outputId": "5985aae1-0223-4396-b6c3-2f3bc564a973"
      },
      "execution_count": 269,
      "outputs": [
        {
          "output_type": "execute_result",
          "data": {
            "text/plain": [
              "{'mae': 567.9802,\n",
              " 'mape': 2.516525,\n",
              " 'mase': 0.99957,\n",
              " 'mse': 1147547.0,\n",
              " 'rmse': 1071.2362}"
            ]
          },
          "metadata": {},
          "execution_count": 269
        }
      ]
    },
    {
      "cell_type": "markdown",
      "source": [
        "## Othe models you can use for baselines and for actual forecasts\n",
        "\n",
        "In this notebook, we're focused on TensorFlow and deep learning models.\n",
        "\n",
        "However there are plenty of other styles of time series forecasting models you may want to experiment with:\n",
        "https://dev.mrdbourke.com/tensorflow-deep-learning/10_time_series_forecasting_in_tensorflow/#other-kinds-of-time-series-forecasting-models-which-can-be-used-for-baselines-and-actual-forecasts"
      ],
      "metadata": {
        "id": "LGsQbj1PrUX9"
      }
    },
    {
      "cell_type": "markdown",
      "source": [
        "## Format Data Part 2: Windowing our dataset\n",
        "\n",
        "Why do we window?\n",
        "\n",
        "We window our time series dataset to turn our data into a supervised learning problem.\n",
        "\n",
        "```\n",
        "Windowing for one week\n",
        "[0, 1, 2, 3, 4, 5, 6] -> [7]\n",
        "[1, 2, 3, 4, 5, 6, 7] -> [8]\n",
        "[2, 3, 4, 5, 6, 7, 8] -> [9]\n",
        "```"
      ],
      "metadata": {
        "id": "u08ydhM-qLAj"
      }
    },
    {
      "cell_type": "code",
      "source": [
        "btc_price[:8]"
      ],
      "metadata": {
        "colab": {
          "base_uri": "https://localhost:8080/"
        },
        "id": "jxqoM0uUt9JX",
        "outputId": "de620d30-2b6f-4bdb-9c2e-a3915aef0c99"
      },
      "execution_count": 270,
      "outputs": [
        {
          "output_type": "execute_result",
          "data": {
            "text/plain": [
              "[123.65499,\n",
              " 125.455,\n",
              " 108.58483,\n",
              " 118.67466,\n",
              " 121.33866,\n",
              " 120.65533,\n",
              " 121.795,\n",
              " 123.033]"
            ]
          },
          "metadata": {},
          "execution_count": 270
        }
      ]
    },
    {
      "cell_type": "code",
      "source": [
        "# What we want to do with our Bitcoin data\n",
        "print(f'We want to use: {btc_price[:7]} to predict this: {btc_price[7]}')"
      ],
      "metadata": {
        "colab": {
          "base_uri": "https://localhost:8080/"
        },
        "id": "11WH9Ue4uVI2",
        "outputId": "f82bd24a-dffd-46ee-a648-9c4e65fa6c22"
      },
      "execution_count": 271,
      "outputs": [
        {
          "output_type": "stream",
          "name": "stdout",
          "text": [
            "We want to use: [123.65499, 125.455, 108.58483, 118.67466, 121.33866, 120.65533, 121.795] to predict this: 123.033\n"
          ]
        }
      ]
    },
    {
      "cell_type": "code",
      "source": [
        "# Let's setup a global variables for window and horizon size\n",
        "HORIZON = 1 # predict next 1 day\n",
        "WINDOW_SIZE = 7 # use the past week of Bitcoin data to make the prediction"
      ],
      "metadata": {
        "id": "VXbxK73VuaTE"
      },
      "execution_count": 272,
      "outputs": []
    },
    {
      "cell_type": "code",
      "source": [
        "# Create function to label windowed data\n",
        "def get_labelled_windows(x, horizon=HORIZON):\n",
        "    \"\"\"\n",
        "    Creates labels for windowed dataset\n",
        "\n",
        "    e.g. if horizon=1\n",
        "    Input: [0, 1, 2, 3, 4, 5, 6, 7] -> Output: ([0, 1, 2, 3, 4, 5, 6], [7])\n",
        "    \"\"\"\n",
        "    return x[:, :-horizon], x[:, -horizon:]"
      ],
      "metadata": {
        "id": "fXHEeysCvGsM"
      },
      "execution_count": 273,
      "outputs": []
    },
    {
      "cell_type": "code",
      "source": [
        "# Test out the window labelling function\n",
        "test_window, test_label = get_labelled_windows(tf.expand_dims(tf.range(8), axis=0))\n",
        "print(f'Window: {tf.squeeze(test_window.numpy())} -> Label: {tf.squeeze(test_label.numpy())}')"
      ],
      "metadata": {
        "colab": {
          "base_uri": "https://localhost:8080/"
        },
        "id": "Lz-XdKQNwPlr",
        "outputId": "4d8cda35-7faf-4644-d2ea-e5d891ff1503"
      },
      "execution_count": 274,
      "outputs": [
        {
          "output_type": "stream",
          "name": "stdout",
          "text": [
            "Window: [0 1 2 3 4 5 6] -> Label: 7\n"
          ]
        }
      ]
    },
    {
      "cell_type": "code",
      "source": [
        "tf.expand_dims(tf.range(8), axis=0)"
      ],
      "metadata": {
        "colab": {
          "base_uri": "https://localhost:8080/"
        },
        "id": "K2dCnKFNwbss",
        "outputId": "cd27525d-2560-4991-87be-71ac656f45e5"
      },
      "execution_count": 275,
      "outputs": [
        {
          "output_type": "execute_result",
          "data": {
            "text/plain": [
              "<tf.Tensor: shape=(1, 8), dtype=int32, numpy=array([[0, 1, 2, 3, 4, 5, 6, 7]], dtype=int32)>"
            ]
          },
          "metadata": {},
          "execution_count": 275
        }
      ]
    },
    {
      "cell_type": "markdown",
      "source": [
        "We've got a way to label our windowed data.\n",
        "\n",
        "However, this only works on a small scale.\n",
        "\n",
        "We need a way to do the above across our entire time series.\n",
        "\n",
        "We could do this with Python for loops, however, for large time series, that'd be quite slow.\n",
        "\n",
        "To speed things up, we'll leverage NumPy's array indexing - https://numpy.org/doc/1.21/reference/arrays.indexing.html.\n",
        "\n",
        "Our function will:\n",
        "1. Create a window step of specific window size (e.g. [0, 1, 2, 3, 4, 5, 6])\n",
        "2. Use NumPy indexing to create a 2D array of multiple window steps, for example:\n",
        "```\n",
        "[[0, 1, 2, 3, 4, 5, 6],\n",
        "[1, 2, 3, 4, 5, 6, 7],\n",
        "[2, 3, 4, 5, 6, 7, 8]]\n",
        "```\n",
        "3. Uses the 2D array of multiple window steps (from 2.) to index on a target series (e.g. the historical price of Bitcoin)\n",
        "4. Uses our `get_labelled_windows()` function we created above to turn the window steps into windows with a specified horizon\n",
        "\n",
        "> 📖 **Resource:** The function we're about to create has been adapted from the following article: https://towardsdatascience.com/fast-and-robust-sliding-window-vectorization-with-numpy-3ad950ed62f5"
      ],
      "metadata": {
        "id": "E7uwTnLCxDuw"
      }
    },
    {
      "cell_type": "code",
      "source": [
        "import numpy as np\n",
        "# Create function to view NumPy arrays as windows\n",
        "def make_windows(x, window_size=WINDOW_SIZE, horizon=HORIZON):\n",
        "    \"\"\"\n",
        "    Turns a 1D array into a 2D array of sequential labelled windows of window_size with horizon size labels.\n",
        "    \"\"\"\n",
        "    # 1. Create a window of specific window_size (add the horizon on the end for labelling later)\n",
        "    window_step = np.expand_dims(np.arange(window_size+horizon), axis=0)\n",
        "\n",
        "    # 2. Create a 2D array of multiple window steps (minus 1 to account for 0 indexing)\n",
        "    window_indexes = window_step + np.expand_dims(np.arange(len(x)-(window_size+horizon-1)), axis=0).T # -(window_size+horizon-1) to prevent the window of getting out of index. create 2D array of windows of size window_size\n",
        "    # print(f'Window indexes:\\n {window_indexes, window_indexes.shape}')\n",
        "\n",
        "    # 3. Index on the target array (a time series) with 2D array of multiple window steps\n",
        "    windowed_array = x[window_indexes]\n",
        "    # print(windowed_array)\n",
        "\n",
        "    # 4. Get the labelled windows\n",
        "    windows, labels = get_labelled_windows(windowed_array, horizon=horizon)\n",
        "    return windows, labels"
      ],
      "metadata": {
        "id": "l0fEEoxzzzpl"
      },
      "execution_count": 276,
      "outputs": []
    },
    {
      "cell_type": "code",
      "source": [
        "full_windows, full_labels = make_windows(prices, window_size=WINDOW_SIZE, horizon=HORIZON)\n",
        "len(full_windows), len(full_labels)"
      ],
      "metadata": {
        "colab": {
          "base_uri": "https://localhost:8080/"
        },
        "id": "SIoaTcl23Car",
        "outputId": "01748a60-99d3-4caa-a9aa-55cdfa1ef2df"
      },
      "execution_count": 277,
      "outputs": [
        {
          "output_type": "execute_result",
          "data": {
            "text/plain": [
              "(2780, 2780)"
            ]
          },
          "metadata": {},
          "execution_count": 277
        }
      ]
    },
    {
      "cell_type": "code",
      "source": [
        "# View the first 3 windows/labels\n",
        "for i in range(3):\n",
        "    print(f'Window: {full_windows[i]} -> Label: {full_labels[i]}')"
      ],
      "metadata": {
        "colab": {
          "base_uri": "https://localhost:8080/"
        },
        "id": "65psIv8t3DiN",
        "outputId": "c42d3ee0-0b54-4dcf-8d9e-15c8a12049b7"
      },
      "execution_count": 278,
      "outputs": [
        {
          "output_type": "stream",
          "name": "stdout",
          "text": [
            "Window: [123.65499 125.455   108.58483 118.67466 121.33866 120.65533 121.795  ] -> Label: [123.033]\n",
            "Window: [125.455   108.58483 118.67466 121.33866 120.65533 121.795   123.033  ] -> Label: [124.049]\n",
            "Window: [108.58483 118.67466 121.33866 120.65533 121.795   123.033   124.049  ] -> Label: [125.96116]\n"
          ]
        }
      ]
    },
    {
      "cell_type": "code",
      "source": [
        "# View the last 3 windows/labels\n",
        "for i in range(3):\n",
        "    print(f'Window: {full_windows[i-3]} -> Label: {full_labels[i-3]}')"
      ],
      "metadata": {
        "colab": {
          "base_uri": "https://localhost:8080/"
        },
        "id": "efwm6qMo6o-G",
        "outputId": "d3394caf-823b-47f8-faef-24b6f444c4ef"
      },
      "execution_count": 279,
      "outputs": [
        {
          "output_type": "stream",
          "name": "stdout",
          "text": [
            "Window: [58788.20967893 58102.19142623 55715.54665129 56573.5554719\n",
            " 52147.82118698 49764.1320816  50032.69313676] -> Label: [47885.62525472]\n",
            "Window: [58102.19142623 55715.54665129 56573.5554719  52147.82118698\n",
            " 49764.1320816  50032.69313676 47885.62525472] -> Label: [45604.61575361]\n",
            "Window: [55715.54665129 56573.5554719  52147.82118698 49764.1320816\n",
            " 50032.69313676 47885.62525472 45604.61575361] -> Label: [43144.47129086]\n"
          ]
        }
      ]
    },
    {
      "cell_type": "markdown",
      "source": [
        "> 🔑 **Note:** There's a function which does similar to the above in tf.keras.utils, an extension could be to try and replicate what we've done using the premade function: https://www.tensorflow.org/api_docs/python/tf/keras/utils/timeseries_dataset_from_array"
      ],
      "metadata": {
        "id": "5img2mB6795X"
      }
    },
    {
      "cell_type": "markdown",
      "source": [
        "## Turning windows into training and test sets"
      ],
      "metadata": {
        "id": "r3mEuCio7DSZ"
      }
    },
    {
      "cell_type": "code",
      "source": [
        "# Make the train/test splits\n",
        "def make_train_test_splits(windows, labels, test_split=0.2):\n",
        "    \"\"\"\n",
        "    Splits matching pairs of windows and labels into train and test splits.\n",
        "    \"\"\"\n",
        "    split_size = int(len(windows) * (1-test_split)) # this will default to 80% train/20% test\n",
        "    train_windows = windows[:split_size]\n",
        "    train_labels = labels[:split_size]\n",
        "    test_windows = windows[split_size:]\n",
        "    test_labels = labels[split_size:]\n",
        "    return train_windows, test_windows, train_labels, test_labels"
      ],
      "metadata": {
        "id": "3fOcn9y-8y05"
      },
      "execution_count": 280,
      "outputs": []
    },
    {
      "cell_type": "code",
      "source": [
        "# Create train and test windows\n",
        "train_windows, test_windows, train_labels, test_labels = make_train_test_splits(full_windows, full_labels)\n",
        "len(train_windows), len(test_windows), len(train_labels), len(test_labels)"
      ],
      "metadata": {
        "colab": {
          "base_uri": "https://localhost:8080/"
        },
        "id": "BD19UZVQ95pN",
        "outputId": "357bc724-af3a-422d-9d7b-59937a7a1d85"
      },
      "execution_count": 281,
      "outputs": [
        {
          "output_type": "execute_result",
          "data": {
            "text/plain": [
              "(2224, 556, 2224, 556)"
            ]
          },
          "metadata": {},
          "execution_count": 281
        }
      ]
    },
    {
      "cell_type": "code",
      "source": [
        "train_windows[:5], train_labels[:5]"
      ],
      "metadata": {
        "colab": {
          "base_uri": "https://localhost:8080/"
        },
        "id": "bf_vwwli-IkH",
        "outputId": "43573672-0d55-48d2-f23e-154c1599256d"
      },
      "execution_count": 282,
      "outputs": [
        {
          "output_type": "execute_result",
          "data": {
            "text/plain": [
              "(array([[123.65499, 125.455  , 108.58483, 118.67466, 121.33866, 120.65533,\n",
              "         121.795  ],\n",
              "        [125.455  , 108.58483, 118.67466, 121.33866, 120.65533, 121.795  ,\n",
              "         123.033  ],\n",
              "        [108.58483, 118.67466, 121.33866, 120.65533, 121.795  , 123.033  ,\n",
              "         124.049  ],\n",
              "        [118.67466, 121.33866, 120.65533, 121.795  , 123.033  , 124.049  ,\n",
              "         125.96116],\n",
              "        [121.33866, 120.65533, 121.795  , 123.033  , 124.049  , 125.96116,\n",
              "         125.27966]]), array([[123.033  ],\n",
              "        [124.049  ],\n",
              "        [125.96116],\n",
              "        [125.27966],\n",
              "        [125.9275 ]]))"
            ]
          },
          "metadata": {},
          "execution_count": 282
        }
      ]
    },
    {
      "cell_type": "code",
      "source": [
        "test_windows[:5], test_labels[:5]"
      ],
      "metadata": {
        "colab": {
          "base_uri": "https://localhost:8080/"
        },
        "id": "VoBJBYQy-QIQ",
        "outputId": "2efbd99d-0c17-443f-b512-2c882d231ca0"
      },
      "execution_count": 283,
      "outputs": [
        {
          "output_type": "execute_result",
          "data": {
            "text/plain": [
              "(array([[9290.89660239, 9202.41545055, 9369.62808116, 9326.59962378,\n",
              "         9335.75240233, 9226.48582088, 8794.35864452],\n",
              "        [9202.41545055, 9369.62808116, 9326.59962378, 9335.75240233,\n",
              "         9226.48582088, 8794.35864452, 8798.04205463],\n",
              "        [9369.62808116, 9326.59962378, 9335.75240233, 9226.48582088,\n",
              "         8794.35864452, 8798.04205463, 9081.18687849],\n",
              "        [9326.59962378, 9335.75240233, 9226.48582088, 8794.35864452,\n",
              "         8798.04205463, 9081.18687849, 8711.53433917],\n",
              "        [9335.75240233, 9226.48582088, 8794.35864452, 8798.04205463,\n",
              "         9081.18687849, 8711.53433917, 8760.89271814]]),\n",
              " array([[8798.04205463],\n",
              "        [9081.18687849],\n",
              "        [8711.53433917],\n",
              "        [8760.89271814],\n",
              "        [8749.52059102]]))"
            ]
          },
          "metadata": {},
          "execution_count": 283
        }
      ]
    },
    {
      "cell_type": "code",
      "source": [
        "# Check to see if train_labels are the same (before and after window split)\n",
        "np.array_equal(np.squeeze(train_labels[:-HORIZON-1]), y_train[WINDOW_SIZE:])"
      ],
      "metadata": {
        "colab": {
          "base_uri": "https://localhost:8080/"
        },
        "id": "FPGVejsC-S9V",
        "outputId": "e7ed9427-1f4e-4c6c-aac2-27c565bb3e98"
      },
      "execution_count": 284,
      "outputs": [
        {
          "output_type": "execute_result",
          "data": {
            "text/plain": [
              "True"
            ]
          },
          "metadata": {},
          "execution_count": 284
        }
      ]
    },
    {
      "cell_type": "markdown",
      "source": [
        "## Make a modelling checkpoint\n",
        "\n",
        "Because our model's performance will fluctuate from experiment to experiment, we're going to write a model checkpoint so we can compare apples to apples.\n",
        "\n",
        "More spcifically, we want to compare each of our model's best performances against the other model's best performances.\n",
        "\n",
        "For example if our model performs the best on epoch 55 (but we're training for 100 epochs), we want to load and evaluate the model saved on epoch 55.\n",
        "\n",
        "We can create a modelling checkpoint callback using the following:\n",
        "https://www.tensorflow.org/api_docs/python/tf/keras/callbacks/ModelCheckpoint"
      ],
      "metadata": {
        "id": "V-o1_bH5OIa4"
      }
    },
    {
      "cell_type": "code",
      "source": [
        "import os\n",
        "\n",
        "# Create a function to implement a ModelCheckpoint callback with a specific filename\n",
        "def create_model_checkpoint(model_name, save_path=\"model_experiments\"):\n",
        "    return tf.keras.callbacks.ModelCheckpoint(filepath=os.path.join(save_path, model_name),\n",
        "                                              monitor=\"val_loss\",\n",
        "                                              verbosity=0, # only output a limited amount of text\n",
        "                                              save_best_only=True)"
      ],
      "metadata": {
        "id": "W-sROOGw-k28"
      },
      "execution_count": 285,
      "outputs": []
    },
    {
      "cell_type": "markdown",
      "source": [
        "## Model 1: Dense model (window = 7, horizon = 1)\n",
        "\n",
        "Our first deep model is going to be a simple dense model:\n",
        "* A single dense layer with 128 hidden units and ReLU\n",
        "* An output layer with linear activation (no activation)\n",
        "* Adam optimizer and MAE loss function\n",
        "* Batch size of 128 (previously we've used 32)\n",
        "* 100 epochs\n",
        "\n",
        "Why these values?\n",
        "\n",
        "I picked them out of experimentation.\n",
        "\n",
        "* **Hyperparameters** = values a machine learning practicioner (you!) can adjust themselves\n",
        "* **Parameters** = values a model learns on its own"
      ],
      "metadata": {
        "id": "rsSrsudx-9LY"
      }
    },
    {
      "cell_type": "code",
      "source": [
        "import tensorflow as tf\n",
        "from tensorflow.keras import layers\n",
        "\n",
        "# Set random seed for as reproducible results as possible\n",
        "tf.random.set_seed(42)\n",
        "\n",
        "# 1. Construct model\n",
        "model_1 = tf.keras.Sequential([\n",
        "    layers.Dense(128, activation='relu'),\n",
        "    layers.Dense(HORIZON, activation='linear') # linear activation is the same as having no activation\n",
        "], name=\"model_1_dense\") # name our model so we can save it\n",
        "\n",
        "# 2. Compile\n",
        "model_1.compile(loss='mae',\n",
        "                optimizer=tf.keras.optimizers.Adam(),\n",
        "                metrics=['mae', 'mse'])\n",
        "\n",
        "# 3. Fit the model\n",
        "model_1.fit(x=train_windows,\n",
        "            y=train_labels,\n",
        "            epochs=100,\n",
        "            verbose=1,\n",
        "            batch_size=128,\n",
        "            validation_data=(test_windows, test_labels),\n",
        "            callbacks=[create_model_checkpoint(model_name=model_1.name)])"
      ],
      "metadata": {
        "colab": {
          "base_uri": "https://localhost:8080/"
        },
        "id": "1hJMvmXhQf8j",
        "outputId": "ea2a166e-cc44-47f0-dfd8-b10f133cdcbc"
      },
      "execution_count": 286,
      "outputs": [
        {
          "output_type": "stream",
          "name": "stdout",
          "text": [
            "Epoch 1/100\n",
            " 1/18 [>.............................] - ETA: 6s - loss: 2111.0571 - mae: 2111.0571 - mse: 9255782.0000INFO:tensorflow:Assets written to: model_experiments/model_1_dense/assets\n"
          ]
        },
        {
          "output_type": "stream",
          "name": "stderr",
          "text": [
            "INFO:tensorflow:Assets written to: model_experiments/model_1_dense/assets\n"
          ]
        },
        {
          "output_type": "stream",
          "name": "stdout",
          "text": [
            "\b\b\b\b\b\b\b\b\b\b\b\b\b\b\b\b\b\b\b\b\b\b\b\b\b\b\b\b\b\b\b\b\b\b\b\b\b\b\b\b\b\b\b\b\b\b\b\b\b\b\b\b\b\b\b\b\b\b\b\b\b\b\b\b\b\b\b\b\b\b\b\b\b\b\b\b\b\b\b\b\b\b\b\b\b\b\b\b\b\b\b\b\b\b\b\b\b\b\b\b\b\b\b\r18/18 [==============================] - 1s 37ms/step - loss: 780.3455 - mae: 780.3455 - mse: 2312725.7500 - val_loss: 2279.6528 - val_mae: 2279.6528 - val_mse: 12772731.0000\n",
            "Epoch 2/100\n",
            " 1/18 [>.............................] - ETA: 0s - loss: 348.8859 - mae: 348.8859 - mse: 600802.6250INFO:tensorflow:Assets written to: model_experiments/model_1_dense/assets\n"
          ]
        },
        {
          "output_type": "stream",
          "name": "stderr",
          "text": [
            "INFO:tensorflow:Assets written to: model_experiments/model_1_dense/assets\n"
          ]
        },
        {
          "output_type": "stream",
          "name": "stdout",
          "text": [
            "\b\b\b\b\b\b\b\b\b\b\b\b\b\b\b\b\b\b\b\b\b\b\b\b\b\b\b\b\b\b\b\b\b\b\b\b\b\b\b\b\b\b\b\b\b\b\b\b\b\b\b\b\b\b\b\b\b\b\b\b\b\b\b\b\b\b\b\b\b\b\b\b\b\b\b\b\b\b\b\b\b\b\b\b\b\b\b\b\b\b\b\b\b\b\b\b\b\b\b\b\r18/18 [==============================] - 0s 27ms/step - loss: 247.6756 - mae: 247.6756 - mse: 285481.1875 - val_loss: 1005.9993 - val_mae: 1005.9993 - val_mse: 3441833.2500\n",
            "Epoch 3/100\n",
            "17/18 [===========================>..] - ETA: 0s - loss: 190.2321 - mae: 190.2321 - mse: 172918.6562INFO:tensorflow:Assets written to: model_experiments/model_1_dense/assets\n"
          ]
        },
        {
          "output_type": "stream",
          "name": "stderr",
          "text": [
            "INFO:tensorflow:Assets written to: model_experiments/model_1_dense/assets\n"
          ]
        },
        {
          "output_type": "stream",
          "name": "stdout",
          "text": [
            "\b\b\b\b\b\b\b\b\b\b\b\b\b\b\b\b\b\b\b\b\b\b\b\b\b\b\b\b\b\b\b\b\b\b\b\b\b\b\b\b\b\b\b\b\b\b\b\b\b\b\b\b\b\b\b\b\b\b\b\b\b\b\b\b\b\b\b\b\b\b\b\b\b\b\b\b\b\b\b\b\b\b\b\b\b\b\b\b\b\b\b\b\b\b\b\b\b\b\b\b\r18/18 [==============================] - 1s 29ms/step - loss: 188.4116 - mae: 188.4116 - mse: 171891.6094 - val_loss: 923.2862 - val_mae: 923.2861 - val_mse: 2868220.7500\n",
            "Epoch 4/100\n",
            " 1/18 [>.............................] - ETA: 0s - loss: 211.3724 - mae: 211.3724 - mse: 238018.8906INFO:tensorflow:Assets written to: model_experiments/model_1_dense/assets\n"
          ]
        },
        {
          "output_type": "stream",
          "name": "stderr",
          "text": [
            "INFO:tensorflow:Assets written to: model_experiments/model_1_dense/assets\n"
          ]
        },
        {
          "output_type": "stream",
          "name": "stdout",
          "text": [
            "\b\b\b\b\b\b\b\b\b\b\b\b\b\b\b\b\b\b\b\b\b\b\b\b\b\b\b\b\b\b\b\b\b\b\b\b\b\b\b\b\b\b\b\b\b\b\b\b\b\b\b\b\b\b\b\b\b\b\b\b\b\b\b\b\b\b\b\b\b\b\b\b\b\b\b\b\b\b\b\b\b\b\b\b\b\b\b\b\b\b\b\b\b\b\b\b\b\b\b\b\r18/18 [==============================] - 1s 35ms/step - loss: 169.4340 - mae: 169.4340 - mse: 151700.5781 - val_loss: 900.5872 - val_mae: 900.5872 - val_mse: 2683715.5000\n",
            "Epoch 5/100\n",
            "18/18 [==============================] - ETA: 0s - loss: 165.0894 - mae: 165.0894 - mse: 145490.7812INFO:tensorflow:Assets written to: model_experiments/model_1_dense/assets\n"
          ]
        },
        {
          "output_type": "stream",
          "name": "stderr",
          "text": [
            "INFO:tensorflow:Assets written to: model_experiments/model_1_dense/assets\n"
          ]
        },
        {
          "output_type": "stream",
          "name": "stdout",
          "text": [
            "\b\b\b\b\b\b\b\b\b\b\b\b\b\b\b\b\b\b\b\b\b\b\b\b\b\b\b\b\b\b\b\b\b\b\b\b\b\b\b\b\b\b\b\b\b\b\b\b\b\b\b\b\b\b\b\b\b\b\b\b\b\b\b\b\b\b\b\b\b\b\b\b\b\b\b\b\b\b\b\b\b\b\b\b\b\b\b\b\b\b\b\b\b\b\b\b\b\b\b\b\r18/18 [==============================] - 1s 61ms/step - loss: 165.0894 - mae: 165.0894 - mse: 145490.7812 - val_loss: 895.2237 - val_mae: 895.2237 - val_mse: 2564574.5000\n",
            "Epoch 6/100\n",
            "11/18 [=================>............] - ETA: 0s - loss: 155.7485 - mae: 155.7485 - mse: 118215.6719INFO:tensorflow:Assets written to: model_experiments/model_1_dense/assets\n"
          ]
        },
        {
          "output_type": "stream",
          "name": "stderr",
          "text": [
            "INFO:tensorflow:Assets written to: model_experiments/model_1_dense/assets\n"
          ]
        },
        {
          "output_type": "stream",
          "name": "stdout",
          "text": [
            "\b\b\b\b\b\b\b\b\b\b\b\b\b\b\b\b\b\b\b\b\b\b\b\b\b\b\b\b\b\b\b\b\b\b\b\b\b\b\b\b\b\b\b\b\b\b\b\b\b\b\b\b\b\b\b\b\b\b\b\b\b\b\b\b\b\b\b\b\b\b\b\b\b\b\b\b\b\b\b\b\b\b\b\b\b\b\b\b\b\b\b\b\b\b\b\b\b\b\b\b\r18/18 [==============================] - 2s 99ms/step - loss: 158.5210 - mae: 158.5210 - mse: 133817.7344 - val_loss: 855.1984 - val_mae: 855.1984 - val_mse: 2481873.2500\n",
            "Epoch 7/100\n",
            " 9/18 [==============>...............] - ETA: 0s - loss: 164.8275 - mae: 164.8275 - mse: 150596.2812INFO:tensorflow:Assets written to: model_experiments/model_1_dense/assets\n"
          ]
        },
        {
          "output_type": "stream",
          "name": "stderr",
          "text": [
            "INFO:tensorflow:Assets written to: model_experiments/model_1_dense/assets\n"
          ]
        },
        {
          "output_type": "stream",
          "name": "stdout",
          "text": [
            "\b\b\b\b\b\b\b\b\b\b\b\b\b\b\b\b\b\b\b\b\b\b\b\b\b\b\b\b\b\b\b\b\b\b\b\b\b\b\b\b\b\b\b\b\b\b\b\b\b\b\b\b\b\b\b\b\b\b\b\b\b\b\b\b\b\b\b\b\b\b\b\b\b\b\b\b\b\b\b\b\b\b\b\b\b\b\b\b\b\b\b\b\b\b\b\b\b\b\b\b\r18/18 [==============================] - 1s 49ms/step - loss: 151.3566 - mae: 151.3566 - mse: 123446.9766 - val_loss: 840.9166 - val_mae: 840.9166 - val_mse: 2276451.5000\n",
            "Epoch 8/100\n",
            "15/18 [========================>.....] - ETA: 0s - loss: 143.4757 - mae: 143.4757 - mse: 115762.9922INFO:tensorflow:Assets written to: model_experiments/model_1_dense/assets\n"
          ]
        },
        {
          "output_type": "stream",
          "name": "stderr",
          "text": [
            "INFO:tensorflow:Assets written to: model_experiments/model_1_dense/assets\n"
          ]
        },
        {
          "output_type": "stream",
          "name": "stdout",
          "text": [
            "\b\b\b\b\b\b\b\b\b\b\b\b\b\b\b\b\b\b\b\b\b\b\b\b\b\b\b\b\b\b\b\b\b\b\b\b\b\b\b\b\b\b\b\b\b\b\b\b\b\b\b\b\b\b\b\b\b\b\b\b\b\b\b\b\b\b\b\b\b\b\b\b\b\b\b\b\b\b\b\b\b\b\b\b\b\b\b\b\b\b\b\b\b\b\b\b\b\b\b\b\r18/18 [==============================] - 1s 47ms/step - loss: 145.2560 - mae: 145.2560 - mse: 117694.5000 - val_loss: 803.5956 - val_mae: 803.5956 - val_mse: 2140573.5000\n",
            "Epoch 9/100\n",
            "11/18 [=================>............] - ETA: 0s - loss: 144.3166 - mae: 144.3166 - mse: 108879.2500INFO:tensorflow:Assets written to: model_experiments/model_1_dense/assets\n"
          ]
        },
        {
          "output_type": "stream",
          "name": "stderr",
          "text": [
            "INFO:tensorflow:Assets written to: model_experiments/model_1_dense/assets\n"
          ]
        },
        {
          "output_type": "stream",
          "name": "stdout",
          "text": [
            "\b\b\b\b\b\b\b\b\b\b\b\b\b\b\b\b\b\b\b\b\b\b\b\b\b\b\b\b\b\b\b\b\b\b\b\b\b\b\b\b\b\b\b\b\b\b\b\b\b\b\b\b\b\b\b\b\b\b\b\b\b\b\b\b\b\b\b\b\b\b\b\b\b\b\b\b\b\b\b\b\b\b\b\b\b\b\b\b\b\b\b\b\b\b\b\b\b\b\b\b\r18/18 [==============================] - 1s 59ms/step - loss: 144.3546 - mae: 144.3546 - mse: 115269.3047 - val_loss: 799.5454 - val_mae: 799.5454 - val_mse: 2049207.7500\n",
            "Epoch 10/100\n",
            "17/18 [===========================>..] - ETA: 0s - loss: 140.3382 - mae: 140.3382 - mse: 111963.5859INFO:tensorflow:Assets written to: model_experiments/model_1_dense/assets\n"
          ]
        },
        {
          "output_type": "stream",
          "name": "stderr",
          "text": [
            "INFO:tensorflow:Assets written to: model_experiments/model_1_dense/assets\n"
          ]
        },
        {
          "output_type": "stream",
          "name": "stdout",
          "text": [
            "\b\b\b\b\b\b\b\b\b\b\b\b\b\b\b\b\b\b\b\b\b\b\b\b\b\b\b\b\b\b\b\b\b\b\b\b\b\b\b\b\b\b\b\b\b\b\b\b\b\b\b\b\b\b\b\b\b\b\b\b\b\b\b\b\b\b\b\b\b\b\b\b\b\b\b\b\b\b\b\b\b\b\b\b\b\b\b\b\b\b\b\b\b\b\b\b\b\b\b\b\r18/18 [==============================] - 1s 59ms/step - loss: 141.2943 - mae: 141.2943 - mse: 112394.5938 - val_loss: 763.5010 - val_mae: 763.5010 - val_mse: 1933140.7500\n",
            "Epoch 11/100\n",
            "18/18 [==============================] - 0s 10ms/step - loss: 135.6595 - mae: 135.6595 - mse: 104118.2344 - val_loss: 771.3356 - val_mae: 771.3356 - val_mse: 1885849.7500\n",
            "Epoch 12/100\n",
            "18/18 [==============================] - 0s 8ms/step - loss: 134.1700 - mae: 134.1700 - mse: 101780.8672 - val_loss: 782.8079 - val_mae: 782.8079 - val_mse: 1881727.1250\n",
            "Epoch 13/100\n",
            "18/18 [==============================] - 0s 10ms/step - loss: 134.6015 - mae: 134.6015 - mse: 102345.2266 - val_loss: 784.4449 - val_mae: 784.4449 - val_mse: 1860996.1250\n",
            "Epoch 14/100\n",
            "12/18 [===================>..........] - ETA: 0s - loss: 126.2412 - mae: 126.2412 - mse: 90989.1016INFO:tensorflow:Assets written to: model_experiments/model_1_dense/assets\n"
          ]
        },
        {
          "output_type": "stream",
          "name": "stderr",
          "text": [
            "INFO:tensorflow:Assets written to: model_experiments/model_1_dense/assets\n"
          ]
        },
        {
          "output_type": "stream",
          "name": "stdout",
          "text": [
            "\b\b\b\b\b\b\b\b\b\b\b\b\b\b\b\b\b\b\b\b\b\b\b\b\b\b\b\b\b\b\b\b\b\b\b\b\b\b\b\b\b\b\b\b\b\b\b\b\b\b\b\b\b\b\b\b\b\b\b\b\b\b\b\b\b\b\b\b\b\b\b\b\b\b\b\b\b\b\b\b\b\b\b\b\b\b\b\b\b\b\b\b\b\b\b\b\b\b\b\r18/18 [==============================] - 1s 83ms/step - loss: 130.6127 - mae: 130.6127 - mse: 96225.1328 - val_loss: 751.3234 - val_mae: 751.3233 - val_mse: 1749609.0000\n",
            "Epoch 15/100\n",
            "12/18 [===================>..........] - ETA: 0s - loss: 122.8770 - mae: 122.8770 - mse: 85870.7109INFO:tensorflow:Assets written to: model_experiments/model_1_dense/assets\n"
          ]
        },
        {
          "output_type": "stream",
          "name": "stderr",
          "text": [
            "INFO:tensorflow:Assets written to: model_experiments/model_1_dense/assets\n"
          ]
        },
        {
          "output_type": "stream",
          "name": "stdout",
          "text": [
            "\b\b\b\b\b\b\b\b\b\b\b\b\b\b\b\b\b\b\b\b\b\b\b\b\b\b\b\b\b\b\b\b\b\b\b\b\b\b\b\b\b\b\b\b\b\b\b\b\b\b\b\b\b\b\b\b\b\b\b\b\b\b\b\b\b\b\b\b\b\b\b\b\b\b\b\b\b\b\b\b\b\b\b\b\b\b\b\b\b\b\b\b\b\b\b\b\b\b\b\r18/18 [==============================] - 1s 45ms/step - loss: 128.8347 - mae: 128.8347 - mse: 94306.9922 - val_loss: 696.5756 - val_mae: 696.5756 - val_mse: 1606352.3750\n",
            "Epoch 16/100\n",
            "18/18 [==============================] - 0s 10ms/step - loss: 124.7739 - mae: 124.7739 - mse: 90394.9375 - val_loss: 702.4698 - val_mae: 702.4698 - val_mse: 1592416.2500\n",
            "Epoch 17/100\n",
            "18/18 [==============================] - 0s 10ms/step - loss: 123.4474 - mae: 123.4474 - mse: 89247.7031 - val_loss: 704.9239 - val_mae: 704.9239 - val_mse: 1580782.7500\n",
            "Epoch 18/100\n",
            "13/18 [====================>.........] - ETA: 0s - loss: 128.4065 - mae: 128.4065 - mse: 95061.4922INFO:tensorflow:Assets written to: model_experiments/model_1_dense/assets\n"
          ]
        },
        {
          "output_type": "stream",
          "name": "stderr",
          "text": [
            "INFO:tensorflow:Assets written to: model_experiments/model_1_dense/assets\n"
          ]
        },
        {
          "output_type": "stream",
          "name": "stdout",
          "text": [
            "\b\b\b\b\b\b\b\b\b\b\b\b\b\b\b\b\b\b\b\b\b\b\b\b\b\b\b\b\b\b\b\b\b\b\b\b\b\b\b\b\b\b\b\b\b\b\b\b\b\b\b\b\b\b\b\b\b\b\b\b\b\b\b\b\b\b\b\b\b\b\b\b\b\b\b\b\b\b\b\b\b\b\b\b\b\b\b\b\b\b\b\b\b\b\b\b\b\b\b\r18/18 [==============================] - 1s 46ms/step - loss: 122.2105 - mae: 122.2105 - mse: 87607.5938 - val_loss: 667.9724 - val_mae: 667.9724 - val_mse: 1498881.8750\n",
            "Epoch 19/100\n",
            "18/18 [==============================] - 0s 14ms/step - loss: 121.7263 - mae: 121.7263 - mse: 86632.2422 - val_loss: 718.8796 - val_mae: 718.8796 - val_mse: 1589299.3750\n",
            "Epoch 20/100\n",
            " 9/18 [==============>...............] - ETA: 0s - loss: 121.8251 - mae: 121.8251 - mse: 83666.1875 INFO:tensorflow:Assets written to: model_experiments/model_1_dense/assets\n"
          ]
        },
        {
          "output_type": "stream",
          "name": "stderr",
          "text": [
            "INFO:tensorflow:Assets written to: model_experiments/model_1_dense/assets\n"
          ]
        },
        {
          "output_type": "stream",
          "name": "stdout",
          "text": [
            "\b\b\b\b\b\b\b\b\b\b\b\b\b\b\b\b\b\b\b\b\b\b\b\b\b\b\b\b\b\b\b\b\b\b\b\b\b\b\b\b\b\b\b\b\b\b\b\b\b\b\b\b\b\b\b\b\b\b\b\b\b\b\b\b\b\b\b\b\b\b\b\b\b\b\b\b\b\b\b\b\b\b\b\b\b\b\b\b\b\b\b\b\b\b\b\b\b\b\b\r18/18 [==============================] - 1s 64ms/step - loss: 119.2420 - mae: 119.2420 - mse: 84334.3203 - val_loss: 657.0666 - val_mae: 657.0666 - val_mse: 1447501.1250\n",
            "Epoch 21/100\n",
            "13/18 [====================>.........] - ETA: 0s - loss: 119.8308 - mae: 119.8308 - mse: 78497.4219INFO:tensorflow:Assets written to: model_experiments/model_1_dense/assets\n"
          ]
        },
        {
          "output_type": "stream",
          "name": "stderr",
          "text": [
            "INFO:tensorflow:Assets written to: model_experiments/model_1_dense/assets\n"
          ]
        },
        {
          "output_type": "stream",
          "name": "stdout",
          "text": [
            "\b\b\b\b\b\b\b\b\b\b\b\b\b\b\b\b\b\b\b\b\b\b\b\b\b\b\b\b\b\b\b\b\b\b\b\b\b\b\b\b\b\b\b\b\b\b\b\b\b\b\b\b\b\b\b\b\b\b\b\b\b\b\b\b\b\b\b\b\b\b\b\b\b\b\b\b\b\b\b\b\b\b\b\b\b\b\b\b\b\b\b\b\b\b\b\b\b\b\b\r18/18 [==============================] - 1s 71ms/step - loss: 121.2275 - mae: 121.2275 - mse: 85743.3828 - val_loss: 637.0333 - val_mae: 637.0333 - val_mse: 1401774.2500\n",
            "Epoch 22/100\n",
            "18/18 [==============================] - 0s 8ms/step - loss: 119.9544 - mae: 119.9544 - mse: 84050.1094 - val_loss: 671.2488 - val_mae: 671.2488 - val_mse: 1447895.7500\n",
            "Epoch 23/100\n",
            "10/18 [===============>..............] - ETA: 0s - loss: 121.0707 - mae: 121.0707 - mse: 72879.2031INFO:tensorflow:Assets written to: model_experiments/model_1_dense/assets\n"
          ]
        },
        {
          "output_type": "stream",
          "name": "stderr",
          "text": [
            "INFO:tensorflow:Assets written to: model_experiments/model_1_dense/assets\n"
          ]
        },
        {
          "output_type": "stream",
          "name": "stdout",
          "text": [
            "\b\b\b\b\b\b\b\b\b\b\b\b\b\b\b\b\b\b\b\b\b\b\b\b\b\b\b\b\b\b\b\b\b\b\b\b\b\b\b\b\b\b\b\b\b\b\b\b\b\b\b\b\b\b\b\b\b\b\b\b\b\b\b\b\b\b\b\b\b\b\b\b\b\b\b\b\b\b\b\b\b\b\b\b\b\b\b\b\b\b\b\b\b\b\b\b\b\b\b\r18/18 [==============================] - 1s 72ms/step - loss: 121.9248 - mae: 121.9248 - mse: 83746.1250 - val_loss: 633.3592 - val_mae: 633.3592 - val_mse: 1367377.8750\n",
            "Epoch 24/100\n",
            "12/18 [===================>..........] - ETA: 0s - loss: 119.1843 - mae: 119.1843 - mse: 91346.6172INFO:tensorflow:Assets written to: model_experiments/model_1_dense/assets\n"
          ]
        },
        {
          "output_type": "stream",
          "name": "stderr",
          "text": [
            "INFO:tensorflow:Assets written to: model_experiments/model_1_dense/assets\n"
          ]
        },
        {
          "output_type": "stream",
          "name": "stdout",
          "text": [
            "\b\b\b\b\b\b\b\b\b\b\b\b\b\b\b\b\b\b\b\b\b\b\b\b\b\b\b\b\b\b\b\b\b\b\b\b\b\b\b\b\b\b\b\b\b\b\b\b\b\b\b\b\b\b\b\b\b\b\b\b\b\b\b\b\b\b\b\b\b\b\b\b\b\b\b\b\b\b\b\b\b\b\b\b\b\b\b\b\b\b\b\b\b\b\b\b\b\b\b\r18/18 [==============================] - 1s 60ms/step - loss: 116.3665 - mae: 116.3665 - mse: 81446.6562 - val_loss: 624.4852 - val_mae: 624.4852 - val_mse: 1348960.6250\n",
            "Epoch 25/100\n",
            "14/18 [======================>.......] - ETA: 0s - loss: 116.2266 - mae: 116.2266 - mse: 78071.9922INFO:tensorflow:Assets written to: model_experiments/model_1_dense/assets\n"
          ]
        },
        {
          "output_type": "stream",
          "name": "stderr",
          "text": [
            "INFO:tensorflow:Assets written to: model_experiments/model_1_dense/assets\n"
          ]
        },
        {
          "output_type": "stream",
          "name": "stdout",
          "text": [
            "\b\b\b\b\b\b\b\b\b\b\b\b\b\b\b\b\b\b\b\b\b\b\b\b\b\b\b\b\b\b\b\b\b\b\b\b\b\b\b\b\b\b\b\b\b\b\b\b\b\b\b\b\b\b\b\b\b\b\b\b\b\b\b\b\b\b\b\b\b\b\b\b\b\b\b\b\b\b\b\b\b\b\b\b\b\b\b\b\b\b\b\b\b\b\b\b\b\b\b\r18/18 [==============================] - 1s 49ms/step - loss: 114.6816 - mae: 114.6816 - mse: 78912.8359 - val_loss: 619.7570 - val_mae: 619.7570 - val_mse: 1351089.7500\n",
            "Epoch 26/100\n",
            "12/18 [===================>..........] - ETA: 0s - loss: 115.0316 - mae: 115.0316 - mse: 69628.1094INFO:tensorflow:Assets written to: model_experiments/model_1_dense/assets\n"
          ]
        },
        {
          "output_type": "stream",
          "name": "stderr",
          "text": [
            "INFO:tensorflow:Assets written to: model_experiments/model_1_dense/assets\n"
          ]
        },
        {
          "output_type": "stream",
          "name": "stdout",
          "text": [
            "\b\b\b\b\b\b\b\b\b\b\b\b\b\b\b\b\b\b\b\b\b\b\b\b\b\b\b\b\b\b\b\b\b\b\b\b\b\b\b\b\b\b\b\b\b\b\b\b\b\b\b\b\b\b\b\b\b\b\b\b\b\b\b\b\b\b\b\b\b\b\b\b\b\b\b\b\b\b\b\b\b\b\b\b\b\b\b\b\b\b\b\b\b\b\b\b\b\b\b\r18/18 [==============================] - 1s 55ms/step - loss: 116.4455 - mae: 116.4455 - mse: 79365.5938 - val_loss: 615.6364 - val_mae: 615.6364 - val_mse: 1321514.3750\n",
            "Epoch 27/100\n",
            "18/18 [==============================] - 0s 11ms/step - loss: 116.5868 - mae: 116.5868 - mse: 78672.9062 - val_loss: 615.9629 - val_mae: 615.9629 - val_mse: 1313077.5000\n",
            "Epoch 28/100\n",
            "11/18 [=================>............] - ETA: 0s - loss: 117.1528 - mae: 117.1528 - mse: 80414.4141INFO:tensorflow:Assets written to: model_experiments/model_1_dense/assets\n"
          ]
        },
        {
          "output_type": "stream",
          "name": "stderr",
          "text": [
            "INFO:tensorflow:Assets written to: model_experiments/model_1_dense/assets\n"
          ]
        },
        {
          "output_type": "stream",
          "name": "stdout",
          "text": [
            "\b\b\b\b\b\b\b\b\b\b\b\b\b\b\b\b\b\b\b\b\b\b\b\b\b\b\b\b\b\b\b\b\b\b\b\b\b\b\b\b\b\b\b\b\b\b\b\b\b\b\b\b\b\b\b\b\b\b\b\b\b\b\b\b\b\b\b\b\b\b\b\b\b\b\b\b\b\b\b\b\b\b\b\b\b\b\b\b\b\b\b\b\b\b\b\b\b\b\b\r18/18 [==============================] - 2s 94ms/step - loss: 113.4691 - mae: 113.4691 - mse: 77440.0938 - val_loss: 608.0921 - val_mae: 608.0921 - val_mse: 1309775.3750\n",
            "Epoch 29/100\n",
            "18/18 [==============================] - 0s 7ms/step - loss: 113.7598 - mae: 113.7598 - mse: 78506.9531 - val_loss: 621.9305 - val_mae: 621.9305 - val_mse: 1313324.6250\n",
            "Epoch 30/100\n",
            "14/18 [======================>.......] - ETA: 0s - loss: 117.3913 - mae: 117.3913 - mse: 77817.2500INFO:tensorflow:Assets written to: model_experiments/model_1_dense/assets\n"
          ]
        },
        {
          "output_type": "stream",
          "name": "stderr",
          "text": [
            "INFO:tensorflow:Assets written to: model_experiments/model_1_dense/assets\n"
          ]
        },
        {
          "output_type": "stream",
          "name": "stdout",
          "text": [
            "\b\b\b\b\b\b\b\b\b\b\b\b\b\b\b\b\b\b\b\b\b\b\b\b\b\b\b\b\b\b\b\b\b\b\b\b\b\b\b\b\b\b\b\b\b\b\b\b\b\b\b\b\b\b\b\b\b\b\b\b\b\b\b\b\b\b\b\b\b\b\b\b\b\b\b\b\b\b\b\b\b\b\b\b\b\b\b\b\b\b\b\b\b\b\b\b\b\b\b\r18/18 [==============================] - 1s 65ms/step - loss: 116.8613 - mae: 116.8613 - mse: 79236.4609 - val_loss: 604.4056 - val_mae: 604.4056 - val_mse: 1283408.0000\n",
            "Epoch 31/100\n",
            "18/18 [==============================] - 0s 7ms/step - loss: 111.9375 - mae: 111.9375 - mse: 74849.0703 - val_loss: 609.3882 - val_mae: 609.3882 - val_mse: 1284506.2500\n",
            "Epoch 32/100\n",
            "14/18 [======================>.......] - ETA: 0s - loss: 115.2051 - mae: 115.2051 - mse: 80412.7734INFO:tensorflow:Assets written to: model_experiments/model_1_dense/assets\n"
          ]
        },
        {
          "output_type": "stream",
          "name": "stderr",
          "text": [
            "INFO:tensorflow:Assets written to: model_experiments/model_1_dense/assets\n"
          ]
        },
        {
          "output_type": "stream",
          "name": "stdout",
          "text": [
            "\b\b\b\b\b\b\b\b\b\b\b\b\b\b\b\b\b\b\b\b\b\b\b\b\b\b\b\b\b\b\b\b\b\b\b\b\b\b\b\b\b\b\b\b\b\b\b\b\b\b\b\b\b\b\b\b\b\b\b\b\b\b\b\b\b\b\b\b\b\b\b\b\b\b\b\b\b\b\b\b\b\b\b\b\b\b\b\b\b\b\b\b\b\b\b\b\b\b\b\r18/18 [==============================] - 1s 58ms/step - loss: 112.4175 - mae: 112.4175 - mse: 77178.5859 - val_loss: 603.0588 - val_mae: 603.0588 - val_mse: 1273059.5000\n",
            "Epoch 33/100\n",
            "18/18 [==============================] - 0s 8ms/step - loss: 112.6697 - mae: 112.6697 - mse: 75787.9766 - val_loss: 645.6973 - val_mae: 645.6973 - val_mse: 1353255.7500\n",
            "Epoch 34/100\n",
            "18/18 [==============================] - 0s 12ms/step - loss: 111.9867 - mae: 111.9867 - mse: 77245.7266 - val_loss: 604.7634 - val_mae: 604.7634 - val_mse: 1289360.3750\n",
            "Epoch 35/100\n",
            "12/18 [===================>..........] - ETA: 0s - loss: 112.6920 - mae: 112.6920 - mse: 75658.5000INFO:tensorflow:Assets written to: model_experiments/model_1_dense/assets\n"
          ]
        },
        {
          "output_type": "stream",
          "name": "stderr",
          "text": [
            "INFO:tensorflow:Assets written to: model_experiments/model_1_dense/assets\n"
          ]
        },
        {
          "output_type": "stream",
          "name": "stdout",
          "text": [
            "\b\b\b\b\b\b\b\b\b\b\b\b\b\b\b\b\b\b\b\b\b\b\b\b\b\b\b\b\b\b\b\b\b\b\b\b\b\b\b\b\b\b\b\b\b\b\b\b\b\b\b\b\b\b\b\b\b\b\b\b\b\b\b\b\b\b\b\b\b\b\b\b\b\b\b\b\b\b\b\b\b\b\b\b\b\b\b\b\b\b\b\b\b\b\b\b\b\b\b\r18/18 [==============================] - 1s 65ms/step - loss: 110.9451 - mae: 110.9451 - mse: 75301.7812 - val_loss: 593.4648 - val_mae: 593.4648 - val_mse: 1250491.3750\n",
            "Epoch 36/100\n",
            "18/18 [==============================] - 0s 7ms/step - loss: 114.4816 - mae: 114.4816 - mse: 76138.5391 - val_loss: 608.0074 - val_mae: 608.0074 - val_mse: 1269272.3750\n",
            "Epoch 37/100\n",
            "18/18 [==============================] - 0s 7ms/step - loss: 110.2016 - mae: 110.2016 - mse: 74635.3047 - val_loss: 597.2308 - val_mae: 597.2308 - val_mse: 1248474.0000\n",
            "Epoch 38/100\n",
            "18/18 [==============================] - 0s 10ms/step - loss: 112.2372 - mae: 112.2372 - mse: 75821.6953 - val_loss: 637.9798 - val_mae: 637.9798 - val_mse: 1366130.8750\n",
            "Epoch 39/100\n",
            "12/18 [===================>..........] - ETA: 0s - loss: 116.3627 - mae: 116.3627 - mse: 80992.7734 INFO:tensorflow:Assets written to: model_experiments/model_1_dense/assets\n"
          ]
        },
        {
          "output_type": "stream",
          "name": "stderr",
          "text": [
            "INFO:tensorflow:Assets written to: model_experiments/model_1_dense/assets\n"
          ]
        },
        {
          "output_type": "stream",
          "name": "stdout",
          "text": [
            "\b\b\b\b\b\b\b\b\b\b\b\b\b\b\b\b\b\b\b\b\b\b\b\b\b\b\b\b\b\b\b\b\b\b\b\b\b\b\b\b\b\b\b\b\b\b\b\b\b\b\b\b\b\b\b\b\b\b\b\b\b\b\b\b\b\b\b\b\b\b\b\b\b\b\b\b\b\b\b\b\b\b\b\b\b\b\b\b\b\b\b\b\b\b\b\b\b\b\b\r18/18 [==============================] - 1s 48ms/step - loss: 115.1289 - mae: 115.1289 - mse: 76339.6797 - val_loss: 587.4680 - val_mae: 587.4680 - val_mse: 1233512.3750\n",
            "Epoch 40/100\n",
            "18/18 [==============================] - 0s 8ms/step - loss: 110.0854 - mae: 110.0854 - mse: 73528.4766 - val_loss: 592.7117 - val_mae: 592.7117 - val_mse: 1251474.6250\n",
            "Epoch 41/100\n",
            "18/18 [==============================] - 0s 8ms/step - loss: 110.6344 - mae: 110.6344 - mse: 73528.7891 - val_loss: 593.8997 - val_mae: 593.8997 - val_mse: 1253678.5000\n",
            "Epoch 42/100\n",
            "18/18 [==============================] - 0s 8ms/step - loss: 113.5762 - mae: 113.5762 - mse: 77076.7031 - val_loss: 636.3674 - val_mae: 636.3674 - val_mse: 1317283.5000\n",
            "Epoch 43/100\n",
            "18/18 [==============================] - 0s 11ms/step - loss: 116.2285 - mae: 116.2285 - mse: 74712.2031 - val_loss: 662.9263 - val_mae: 662.9263 - val_mse: 1419201.7500\n",
            "Epoch 44/100\n",
            "18/18 [==============================] - 0s 14ms/step - loss: 120.0192 - mae: 120.0192 - mse: 80971.8750 - val_loss: 635.6360 - val_mae: 635.6360 - val_mse: 1345999.3750\n",
            "Epoch 45/100\n",
            "18/18 [==============================] - 0s 10ms/step - loss: 110.9675 - mae: 110.9675 - mse: 74941.2891 - val_loss: 601.9926 - val_mae: 601.9926 - val_mse: 1244816.7500\n",
            "Epoch 46/100\n",
            "18/18 [==============================] - 0s 13ms/step - loss: 111.6012 - mae: 111.6012 - mse: 74565.6016 - val_loss: 593.3531 - val_mae: 593.3531 - val_mse: 1248764.3750\n",
            "Epoch 47/100\n",
            "18/18 [==============================] - 0s 10ms/step - loss: 109.6161 - mae: 109.6161 - mse: 74190.7109 - val_loss: 637.0011 - val_mae: 637.0011 - val_mse: 1314970.2500\n",
            "Epoch 48/100\n",
            "18/18 [==============================] - 0s 9ms/step - loss: 109.1368 - mae: 109.1368 - mse: 72792.5547 - val_loss: 598.4197 - val_mae: 598.4197 - val_mse: 1234610.1250\n",
            "Epoch 49/100\n",
            "12/18 [===================>..........] - ETA: 0s - loss: 119.1200 - mae: 119.1200 - mse: 87492.3125 INFO:tensorflow:Assets written to: model_experiments/model_1_dense/assets\n"
          ]
        },
        {
          "output_type": "stream",
          "name": "stderr",
          "text": [
            "INFO:tensorflow:Assets written to: model_experiments/model_1_dense/assets\n"
          ]
        },
        {
          "output_type": "stream",
          "name": "stdout",
          "text": [
            "\b\b\b\b\b\b\b\b\b\b\b\b\b\b\b\b\b\b\b\b\b\b\b\b\b\b\b\b\b\b\b\b\b\b\b\b\b\b\b\b\b\b\b\b\b\b\b\b\b\b\b\b\b\b\b\b\b\b\b\b\b\b\b\b\b\b\b\b\b\b\b\b\b\b\b\b\b\b\b\b\b\b\b\b\b\b\b\b\b\b\b\b\b\b\b\b\b\b\b\r18/18 [==============================] - 1s 73ms/step - loss: 112.4355 - mae: 112.4355 - mse: 73980.3359 - val_loss: 579.7042 - val_mae: 579.7042 - val_mse: 1208301.8750\n",
            "Epoch 50/100\n",
            "18/18 [==============================] - 0s 8ms/step - loss: 110.2108 - mae: 110.2108 - mse: 72939.7109 - val_loss: 639.2327 - val_mae: 639.2327 - val_mse: 1347994.1250\n",
            "Epoch 51/100\n",
            "18/18 [==============================] - 0s 9ms/step - loss: 111.0958 - mae: 111.0958 - mse: 73281.9062 - val_loss: 597.3571 - val_mae: 597.3571 - val_mse: 1229791.1250\n",
            "Epoch 52/100\n",
            "18/18 [==============================] - 0s 9ms/step - loss: 110.7351 - mae: 110.7351 - mse: 74529.6328 - val_loss: 580.7227 - val_mae: 580.7227 - val_mse: 1215477.1250\n",
            "Epoch 53/100\n",
            "18/18 [==============================] - 0s 10ms/step - loss: 111.1785 - mae: 111.1785 - mse: 74149.4766 - val_loss: 648.3586 - val_mae: 648.3586 - val_mse: 1336951.1250\n",
            "Epoch 54/100\n",
            "18/18 [==============================] - 0s 9ms/step - loss: 114.0831 - mae: 114.0831 - mse: 74815.0781 - val_loss: 593.2006 - val_mae: 593.2006 - val_mse: 1220661.2500\n",
            "Epoch 55/100\n",
            "13/18 [====================>.........] - ETA: 0s - loss: 117.7897 - mae: 117.7897 - mse: 82670.2109 INFO:tensorflow:Assets written to: model_experiments/model_1_dense/assets\n"
          ]
        },
        {
          "output_type": "stream",
          "name": "stderr",
          "text": [
            "INFO:tensorflow:Assets written to: model_experiments/model_1_dense/assets\n"
          ]
        },
        {
          "output_type": "stream",
          "name": "stdout",
          "text": [
            "\b\b\b\b\b\b\b\b\b\b\b\b\b\b\b\b\b\b\b\b\b\b\b\b\b\b\b\b\b\b\b\b\b\b\b\b\b\b\b\b\b\b\b\b\b\b\b\b\b\b\b\b\b\b\b\b\b\b\b\b\b\b\b\b\b\b\b\b\b\b\b\b\b\b\b\b\b\b\b\b\b\b\b\b\b\b\b\b\b\b\b\b\b\b\b\b\b\b\b\r18/18 [==============================] - 1s 55ms/step - loss: 110.4910 - mae: 110.4910 - mse: 74711.2500 - val_loss: 579.5067 - val_mae: 579.5067 - val_mse: 1211580.3750\n",
            "Epoch 56/100\n",
            "18/18 [==============================] - 0s 10ms/step - loss: 108.0488 - mae: 108.0488 - mse: 71844.1562 - val_loss: 807.3853 - val_mae: 807.3853 - val_mse: 1859292.5000\n",
            "Epoch 57/100\n",
            "18/18 [==============================] - 0s 8ms/step - loss: 125.0614 - mae: 125.0614 - mse: 84025.2812 - val_loss: 674.1658 - val_mae: 674.1658 - val_mse: 1437686.8750\n",
            "Epoch 58/100\n",
            "18/18 [==============================] - 0s 9ms/step - loss: 115.4340 - mae: 115.4340 - mse: 73710.7422 - val_loss: 582.2697 - val_mae: 582.2697 - val_mse: 1202679.3750\n",
            "Epoch 59/100\n",
            "18/18 [==============================] - 0s 7ms/step - loss: 110.0881 - mae: 110.0881 - mse: 72845.1172 - val_loss: 606.7640 - val_mae: 606.7640 - val_mse: 1267544.0000\n",
            "Epoch 60/100\n",
            "18/18 [==============================] - 0s 10ms/step - loss: 108.7156 - mae: 108.7156 - mse: 72675.7734 - val_loss: 602.3099 - val_mae: 602.3099 - val_mse: 1234690.0000\n",
            "Epoch 61/100\n",
            "13/18 [====================>.........] - ETA: 0s - loss: 107.6740 - mae: 107.6740 - mse: 71137.1953INFO:tensorflow:Assets written to: model_experiments/model_1_dense/assets\n"
          ]
        },
        {
          "output_type": "stream",
          "name": "stderr",
          "text": [
            "INFO:tensorflow:Assets written to: model_experiments/model_1_dense/assets\n"
          ]
        },
        {
          "output_type": "stream",
          "name": "stdout",
          "text": [
            "\b\b\b\b\b\b\b\b\b\b\b\b\b\b\b\b\b\b\b\b\b\b\b\b\b\b\b\b\b\b\b\b\b\b\b\b\b\b\b\b\b\b\b\b\b\b\b\b\b\b\b\b\b\b\b\b\b\b\b\b\b\b\b\b\b\b\b\b\b\b\b\b\b\b\b\b\b\b\b\b\b\b\b\b\b\b\b\b\b\b\b\b\b\b\b\b\b\b\b\r18/18 [==============================] - 1s 54ms/step - loss: 108.1525 - mae: 108.1525 - mse: 72252.1250 - val_loss: 573.9990 - val_mae: 573.9990 - val_mse: 1189583.5000\n",
            "Epoch 62/100\n",
            "18/18 [==============================] - 0s 13ms/step - loss: 107.3726 - mae: 107.3726 - mse: 70822.7891 - val_loss: 581.7015 - val_mae: 581.7015 - val_mse: 1214006.6250\n",
            "Epoch 63/100\n",
            "18/18 [==============================] - 0s 7ms/step - loss: 110.7667 - mae: 110.7667 - mse: 73178.4453 - val_loss: 637.5243 - val_mae: 637.5243 - val_mse: 1311201.6250\n",
            "Epoch 64/100\n",
            "18/18 [==============================] - 0s 9ms/step - loss: 110.1539 - mae: 110.1539 - mse: 72588.2188 - val_loss: 586.6598 - val_mae: 586.6598 - val_mse: 1207116.3750\n",
            "Epoch 65/100\n",
            " 9/18 [==============>...............] - ETA: 0s - loss: 108.3574 - mae: 108.3574 - mse: 71259.5156 INFO:tensorflow:Assets written to: model_experiments/model_1_dense/assets\n"
          ]
        },
        {
          "output_type": "stream",
          "name": "stderr",
          "text": [
            "INFO:tensorflow:Assets written to: model_experiments/model_1_dense/assets\n"
          ]
        },
        {
          "output_type": "stream",
          "name": "stdout",
          "text": [
            "\b\b\b\b\b\b\b\b\b\b\b\b\b\b\b\b\b\b\b\b\b\b\b\b\b\b\b\b\b\b\b\b\b\b\b\b\b\b\b\b\b\b\b\b\b\b\b\b\b\b\b\b\b\b\b\b\b\b\b\b\b\b\b\b\b\b\b\b\b\b\b\b\b\b\b\b\b\b\b\b\b\b\b\b\b\b\b\b\b\b\b\b\b\b\b\b\b\b\b\r18/18 [==============================] - 1s 55ms/step - loss: 108.2325 - mae: 108.2325 - mse: 71962.0859 - val_loss: 573.5618 - val_mae: 573.5618 - val_mse: 1188986.2500\n",
            "Epoch 66/100\n",
            "10/18 [===============>..............] - ETA: 0s - loss: 103.6594 - mae: 103.6594 - mse: 56086.6367INFO:tensorflow:Assets written to: model_experiments/model_1_dense/assets\n"
          ]
        },
        {
          "output_type": "stream",
          "name": "stderr",
          "text": [
            "INFO:tensorflow:Assets written to: model_experiments/model_1_dense/assets\n"
          ]
        },
        {
          "output_type": "stream",
          "name": "stdout",
          "text": [
            "\b\b\b\b\b\b\b\b\b\b\b\b\b\b\b\b\b\b\b\b\b\b\b\b\b\b\b\b\b\b\b\b\b\b\b\b\b\b\b\b\b\b\b\b\b\b\b\b\b\b\b\b\b\b\b\b\b\b\b\b\b\b\b\b\b\b\b\b\b\b\b\b\b\b\b\b\b\b\b\b\b\b\b\b\b\b\b\b\b\b\b\b\b\b\b\b\b\b\b\r18/18 [==============================] - 1s 48ms/step - loss: 108.6825 - mae: 108.6825 - mse: 71026.3516 - val_loss: 572.2206 - val_mae: 572.2206 - val_mse: 1187818.3750\n",
            "Epoch 67/100\n",
            "18/18 [==============================] - 0s 5ms/step - loss: 106.6371 - mae: 106.6371 - mse: 70166.2578 - val_loss: 646.6359 - val_mae: 646.6359 - val_mse: 1356393.0000\n",
            "Epoch 68/100\n",
            "18/18 [==============================] - 0s 4ms/step - loss: 114.1603 - mae: 114.1603 - mse: 71297.3203 - val_loss: 681.8572 - val_mae: 681.8572 - val_mse: 1455430.5000\n",
            "Epoch 69/100\n",
            "18/18 [==============================] - 0s 5ms/step - loss: 124.5514 - mae: 124.5514 - mse: 81238.9609 - val_loss: 655.9892 - val_mae: 655.9892 - val_mse: 1383324.6250\n",
            "Epoch 70/100\n",
            "18/18 [==============================] - 0s 5ms/step - loss: 125.0234 - mae: 125.0234 - mse: 83058.2109 - val_loss: 601.0039 - val_mae: 601.0039 - val_mse: 1256963.6250\n",
            "Epoch 71/100\n",
            "18/18 [==============================] - 0s 5ms/step - loss: 110.3652 - mae: 110.3652 - mse: 71691.4922 - val_loss: 595.3957 - val_mae: 595.3957 - val_mse: 1222771.6250\n",
            "Epoch 72/100\n",
            "18/18 [==============================] - 0s 5ms/step - loss: 107.9285 - mae: 107.9285 - mse: 71745.5312 - val_loss: 573.7084 - val_mae: 573.7084 - val_mse: 1192818.5000\n",
            "Epoch 73/100\n",
            "18/18 [==============================] - 0s 4ms/step - loss: 109.5085 - mae: 109.5085 - mse: 71691.1484 - val_loss: 580.4183 - val_mae: 580.4183 - val_mse: 1211317.6250\n",
            "Epoch 74/100\n",
            "18/18 [==============================] - 0s 4ms/step - loss: 108.7380 - mae: 108.7380 - mse: 72051.1094 - val_loss: 576.1216 - val_mae: 576.1216 - val_mse: 1199670.7500\n",
            "Epoch 75/100\n",
            "18/18 [==============================] - 0s 5ms/step - loss: 107.9404 - mae: 107.9404 - mse: 71043.1328 - val_loss: 591.1470 - val_mae: 591.1470 - val_mse: 1211107.6250\n",
            "Epoch 76/100\n",
            "18/18 [==============================] - 0s 5ms/step - loss: 109.4232 - mae: 109.4232 - mse: 72295.0312 - val_loss: 597.8611 - val_mae: 597.8611 - val_mse: 1243936.2500\n",
            "Epoch 77/100\n",
            " 1/18 [>.............................] - ETA: 0s - loss: 85.1158 - mae: 85.1158 - mse: 65630.7578INFO:tensorflow:Assets written to: model_experiments/model_1_dense/assets\n"
          ]
        },
        {
          "output_type": "stream",
          "name": "stderr",
          "text": [
            "INFO:tensorflow:Assets written to: model_experiments/model_1_dense/assets\n"
          ]
        },
        {
          "output_type": "stream",
          "name": "stdout",
          "text": [
            "\b\b\b\b\b\b\b\b\b\b\b\b\b\b\b\b\b\b\b\b\b\b\b\b\b\b\b\b\b\b\b\b\b\b\b\b\b\b\b\b\b\b\b\b\b\b\b\b\b\b\b\b\b\b\b\b\b\b\b\b\b\b\b\b\b\b\b\b\b\b\b\b\b\b\b\b\b\b\b\b\b\b\b\b\b\b\b\b\b\b\b\b\b\b\b\b\b\r18/18 [==============================] - 0s 29ms/step - loss: 107.5879 - mae: 107.5879 - mse: 70333.8359 - val_loss: 571.9301 - val_mae: 571.9301 - val_mse: 1186830.0000\n",
            "Epoch 78/100\n",
            "18/18 [==============================] - 0s 6ms/step - loss: 108.1598 - mae: 108.1598 - mse: 70200.0781 - val_loss: 575.2387 - val_mae: 575.2387 - val_mse: 1195318.0000\n",
            "Epoch 79/100\n",
            "18/18 [==============================] - 0s 4ms/step - loss: 107.9175 - mae: 107.9175 - mse: 72451.5859 - val_loss: 617.3083 - val_mae: 617.3083 - val_mse: 1285512.3750\n",
            "Epoch 80/100\n",
            "18/18 [==============================] - 0s 4ms/step - loss: 108.9510 - mae: 108.9510 - mse: 72158.7812 - val_loss: 583.4841 - val_mae: 583.4841 - val_mse: 1194356.7500\n",
            "Epoch 81/100\n",
            " 1/18 [>.............................] - ETA: 0s - loss: 96.3487 - mae: 96.3487 - mse: 44505.5117INFO:tensorflow:Assets written to: model_experiments/model_1_dense/assets\n"
          ]
        },
        {
          "output_type": "stream",
          "name": "stderr",
          "text": [
            "INFO:tensorflow:Assets written to: model_experiments/model_1_dense/assets\n"
          ]
        },
        {
          "output_type": "stream",
          "name": "stdout",
          "text": [
            "\b\b\b\b\b\b\b\b\b\b\b\b\b\b\b\b\b\b\b\b\b\b\b\b\b\b\b\b\b\b\b\b\b\b\b\b\b\b\b\b\b\b\b\b\b\b\b\b\b\b\b\b\b\b\b\b\b\b\b\b\b\b\b\b\b\b\b\b\b\b\b\b\b\b\b\b\b\b\b\b\b\b\b\b\b\b\b\b\b\b\b\b\b\b\b\b\b\r18/18 [==============================] - 0s 28ms/step - loss: 106.0505 - mae: 106.0505 - mse: 69690.9219 - val_loss: 570.0803 - val_mae: 570.0803 - val_mse: 1177237.8750\n",
            "Epoch 82/100\n",
            "18/18 [==============================] - 0s 4ms/step - loss: 115.6827 - mae: 115.6827 - mse: 76903.4922 - val_loss: 575.7388 - val_mae: 575.7388 - val_mse: 1194662.6250\n",
            "Epoch 83/100\n",
            "18/18 [==============================] - 0s 5ms/step - loss: 110.9379 - mae: 110.9379 - mse: 72968.3047 - val_loss: 659.6579 - val_mae: 659.6579 - val_mse: 1388829.8750\n",
            "Epoch 84/100\n",
            "18/18 [==============================] - 0s 5ms/step - loss: 111.4836 - mae: 111.4836 - mse: 73017.9453 - val_loss: 570.1957 - val_mae: 570.1957 - val_mse: 1177492.2500\n",
            "Epoch 85/100\n",
            "18/18 [==============================] - 0s 5ms/step - loss: 107.5949 - mae: 107.5949 - mse: 70728.2266 - val_loss: 601.5939 - val_mae: 601.5939 - val_mse: 1228450.7500\n",
            "Epoch 86/100\n",
            "18/18 [==============================] - 0s 4ms/step - loss: 108.9425 - mae: 108.9425 - mse: 70066.7422 - val_loss: 592.8101 - val_mae: 592.8101 - val_mse: 1209680.7500\n",
            "Epoch 87/100\n",
            "18/18 [==============================] - 0s 4ms/step - loss: 105.7717 - mae: 105.7717 - mse: 68382.3516 - val_loss: 603.6174 - val_mae: 603.6174 - val_mse: 1252409.5000\n",
            "Epoch 88/100\n",
            " 1/18 [>.............................] - ETA: 0s - loss: 135.4518 - mae: 135.4518 - mse: 130713.5312INFO:tensorflow:Assets written to: model_experiments/model_1_dense/assets\n"
          ]
        },
        {
          "output_type": "stream",
          "name": "stderr",
          "text": [
            "INFO:tensorflow:Assets written to: model_experiments/model_1_dense/assets\n"
          ]
        },
        {
          "output_type": "stream",
          "name": "stdout",
          "text": [
            "\b\b\b\b\b\b\b\b\b\b\b\b\b\b\b\b\b\b\b\b\b\b\b\b\b\b\b\b\b\b\b\b\b\b\b\b\b\b\b\b\b\b\b\b\b\b\b\b\b\b\b\b\b\b\b\b\b\b\b\b\b\b\b\b\b\b\b\b\b\b\b\b\b\b\b\b\b\b\b\b\b\b\b\b\b\b\b\b\b\b\b\b\b\b\b\b\b\b\b\b\r18/18 [==============================] - 0s 29ms/step - loss: 107.9217 - mae: 107.9217 - mse: 71668.0469 - val_loss: 569.0500 - val_mae: 569.0500 - val_mse: 1174588.3750\n",
            "Epoch 89/100\n",
            " 1/18 [>.............................] - ETA: 0s - loss: 101.8746 - mae: 101.8746 - mse: 57186.1758INFO:tensorflow:Assets written to: model_experiments/model_1_dense/assets\n"
          ]
        },
        {
          "output_type": "stream",
          "name": "stderr",
          "text": [
            "INFO:tensorflow:Assets written to: model_experiments/model_1_dense/assets\n"
          ]
        },
        {
          "output_type": "stream",
          "name": "stdout",
          "text": [
            "\b\b\b\b\b\b\b\b\b\b\b\b\b\b\b\b\b\b\b\b\b\b\b\b\b\b\b\b\b\b\b\b\b\b\b\b\b\b\b\b\b\b\b\b\b\b\b\b\b\b\b\b\b\b\b\b\b\b\b\b\b\b\b\b\b\b\b\b\b\b\b\b\b\b\b\b\b\b\b\b\b\b\b\b\b\b\b\b\b\b\b\b\b\b\b\b\b\b\b\r18/18 [==============================] - 0s 28ms/step - loss: 106.0344 - mae: 106.0344 - mse: 68979.1484 - val_loss: 568.9510 - val_mae: 568.9510 - val_mse: 1171743.5000\n",
            "Epoch 90/100\n",
            "18/18 [==============================] - 0s 5ms/step - loss: 105.4977 - mae: 105.4977 - mse: 67516.5000 - val_loss: 581.7677 - val_mae: 581.7677 - val_mse: 1190160.5000\n",
            "Epoch 91/100\n",
            "18/18 [==============================] - 0s 5ms/step - loss: 108.8468 - mae: 108.8468 - mse: 71112.3281 - val_loss: 573.6025 - val_mae: 573.6025 - val_mse: 1185216.0000\n",
            "Epoch 92/100\n",
            "18/18 [==============================] - 0s 5ms/step - loss: 110.8884 - mae: 110.8884 - mse: 73287.8125 - val_loss: 576.8243 - val_mae: 576.8243 - val_mse: 1181628.3750\n",
            "Epoch 93/100\n",
            "18/18 [==============================] - 0s 4ms/step - loss: 113.8781 - mae: 113.8781 - mse: 75236.4375 - val_loss: 608.3022 - val_mae: 608.3022 - val_mse: 1264206.1250\n",
            "Epoch 94/100\n",
            "18/18 [==============================] - 0s 4ms/step - loss: 110.5763 - mae: 110.5763 - mse: 72590.8672 - val_loss: 601.6042 - val_mae: 601.6042 - val_mse: 1229105.1250\n",
            "Epoch 95/100\n",
            "18/18 [==============================] - 0s 6ms/step - loss: 106.5906 - mae: 106.5906 - mse: 68612.3281 - val_loss: 570.3651 - val_mae: 570.3651 - val_mse: 1175759.6250\n",
            "Epoch 96/100\n",
            "18/18 [==============================] - 0s 4ms/step - loss: 116.9515 - mae: 116.9515 - mse: 75082.1172 - val_loss: 615.2584 - val_mae: 615.2584 - val_mse: 1277124.3750\n",
            "Epoch 97/100\n",
            "18/18 [==============================] - 0s 5ms/step - loss: 108.0739 - mae: 108.0739 - mse: 71321.4219 - val_loss: 580.3076 - val_mae: 580.3076 - val_mse: 1202622.3750\n",
            "Epoch 98/100\n",
            "18/18 [==============================] - 0s 4ms/step - loss: 108.7102 - mae: 108.7102 - mse: 70248.0625 - val_loss: 586.6510 - val_mae: 586.6510 - val_mse: 1200831.2500\n",
            "Epoch 99/100\n",
            "18/18 [==============================] - 0s 4ms/step - loss: 109.0488 - mae: 109.0488 - mse: 70913.1562 - val_loss: 570.0628 - val_mae: 570.0628 - val_mse: 1177064.5000\n",
            "Epoch 100/100\n",
            "18/18 [==============================] - 0s 5ms/step - loss: 106.1845 - mae: 106.1845 - mse: 68681.7344 - val_loss: 585.9758 - val_mae: 585.9758 - val_mse: 1197802.1250\n"
          ]
        },
        {
          "output_type": "execute_result",
          "data": {
            "text/plain": [
              "<keras.callbacks.History at 0x7fc2647f69d0>"
            ]
          },
          "metadata": {},
          "execution_count": 286
        }
      ]
    },
    {
      "cell_type": "code",
      "source": [
        "# Evaluate model on test data\n",
        "model_1.evaluate(test_windows, test_labels)"
      ],
      "metadata": {
        "colab": {
          "base_uri": "https://localhost:8080/"
        },
        "id": "ePadDW_WTaJ5",
        "outputId": "e26436fc-989e-4e74-b2e7-5bd8c456cfae"
      },
      "execution_count": 287,
      "outputs": [
        {
          "output_type": "stream",
          "name": "stdout",
          "text": [
            "18/18 [==============================] - 0s 2ms/step - loss: 585.9758 - mae: 585.9758 - mse: 1197802.1250\n"
          ]
        },
        {
          "output_type": "execute_result",
          "data": {
            "text/plain": [
              "[585.9757690429688, 585.9757690429688, 1197802.125]"
            ]
          },
          "metadata": {},
          "execution_count": 287
        }
      ]
    },
    {
      "cell_type": "code",
      "source": [
        "# Load in saved best performing model_1 and evaluate it on test data\n",
        "model_1 = tf.keras.models.load_model(\"model_experiments/model_1_dense/\")\n",
        "model_1.evaluate(test_windows, test_labels)"
      ],
      "metadata": {
        "colab": {
          "base_uri": "https://localhost:8080/"
        },
        "id": "IP7Z0qqATx-s",
        "outputId": "0af740e1-39db-4024-b919-ce78fedaaa40"
      },
      "execution_count": 288,
      "outputs": [
        {
          "output_type": "stream",
          "name": "stdout",
          "text": [
            "18/18 [==============================] - 0s 2ms/step - loss: 568.9510 - mae: 568.9510 - mse: 1171743.6250\n"
          ]
        },
        {
          "output_type": "execute_result",
          "data": {
            "text/plain": [
              "[568.9510498046875, 568.9510498046875, 1171743.625]"
            ]
          },
          "metadata": {},
          "execution_count": 288
        }
      ]
    },
    {
      "cell_type": "markdown",
      "source": [
        "## Making forecasts with a model (on the test dataset)\n",
        "\n",
        "To make \"forecasts\" on the test dataset (note: these won't be actual forecasts, they're only pseudo forecasts because actual forecasts are into the future), let's write a function to:\n",
        "\n",
        "1. Take in a train model\n",
        "2. Takes in some input data (same kind of data the model was trained on)\n",
        "3. Passes the input data to the model's `predict()` method\n",
        "4. Returns the predictions"
      ],
      "metadata": {
        "id": "_xOy5kLzVIcg"
      }
    },
    {
      "cell_type": "code",
      "source": [
        "def make_preds(model, input_data):\n",
        "    \"\"\"\n",
        "    Uses model to make predictions input_data\n",
        "    \"\"\"\n",
        "    forecast = model.predict(input_data)\n",
        "    return tf.squeeze(forecast) # return 1D array of predictions"
      ],
      "metadata": {
        "id": "vLL26XBfVqYU"
      },
      "execution_count": 289,
      "outputs": []
    },
    {
      "cell_type": "code",
      "source": [
        "# Make predictions using model_1 on the test dataset and view results\n",
        "model_1_preds = make_preds(model_1, test_windows)\n",
        "len(model_1_preds), model_1_preds[:10]"
      ],
      "metadata": {
        "colab": {
          "base_uri": "https://localhost:8080/"
        },
        "id": "46vLxB56WPf3",
        "outputId": "b5608096-b9f3-40e4-8736-22999d038144"
      },
      "execution_count": 290,
      "outputs": [
        {
          "output_type": "execute_result",
          "data": {
            "text/plain": [
              "(556, <tf.Tensor: shape=(10,), dtype=float32, numpy=\n",
              " array([8861.71 , 8769.887, 9015.711, 8795.519, 8723.811, 8730.111,\n",
              "        8691.952, 8502.054, 8460.961, 8516.548], dtype=float32)>)"
            ]
          },
          "metadata": {},
          "execution_count": 290
        }
      ]
    },
    {
      "cell_type": "code",
      "source": [
        "test_labels[:10]"
      ],
      "metadata": {
        "colab": {
          "base_uri": "https://localhost:8080/"
        },
        "id": "Ee6Xdj2YXCB3",
        "outputId": "bea60028-ca3d-41b2-eab3-c358bdb7a5d3"
      },
      "execution_count": 291,
      "outputs": [
        {
          "output_type": "execute_result",
          "data": {
            "text/plain": [
              "array([[8798.04205463],\n",
              "       [9081.18687849],\n",
              "       [8711.53433917],\n",
              "       [8760.89271814],\n",
              "       [8749.52059102],\n",
              "       [8656.97092235],\n",
              "       [8500.64355816],\n",
              "       [8469.2608989 ],\n",
              "       [8537.33965197],\n",
              "       [8205.80636599]])"
            ]
          },
          "metadata": {},
          "execution_count": 291
        }
      ]
    },
    {
      "cell_type": "code",
      "source": [
        "# Evaluate preds\n",
        "model_1_results = evaluate_preds(y_true=tf.squeeze(test_labels),\n",
        "                                 y_pred=model_1_preds)\n",
        "model_1_results"
      ],
      "metadata": {
        "colab": {
          "base_uri": "https://localhost:8080/"
        },
        "id": "IufSYljTXQcp",
        "outputId": "655ba87a-53d0-4dd4-dc26-556c205464cb"
      },
      "execution_count": 292,
      "outputs": [
        {
          "output_type": "execute_result",
          "data": {
            "text/plain": [
              "{'mae': 568.9511,\n",
              " 'mape': 2.5448983,\n",
              " 'mase': 0.99948955,\n",
              " 'mse': 1171743.8,\n",
              " 'rmse': 1082.4711}"
            ]
          },
          "metadata": {},
          "execution_count": 292
        }
      ]
    },
    {
      "cell_type": "code",
      "source": [
        "naive_results"
      ],
      "metadata": {
        "colab": {
          "base_uri": "https://localhost:8080/"
        },
        "id": "Rnoz2mP9XcwJ",
        "outputId": "a21b9e18-df9e-43bc-ac71-67f168a5ef02"
      },
      "execution_count": 293,
      "outputs": [
        {
          "output_type": "execute_result",
          "data": {
            "text/plain": [
              "{'mae': 567.9802,\n",
              " 'mape': 2.516525,\n",
              " 'mase': 0.99957,\n",
              " 'mse': 1147547.0,\n",
              " 'rmse': 1071.2362}"
            ]
          },
          "metadata": {},
          "execution_count": 293
        }
      ]
    },
    {
      "cell_type": "code",
      "source": [
        "# Let's plot our model_1 predictions\n",
        "offset = 450\n",
        "plt.figure(figsize=(10, 7))\n",
        "# Account for the test_window offset and index into test_labels to ensure correct plotting\n",
        "plot_time_series(timesteps=X_test[-len(test_windows):], \n",
        "                 values=test_labels[:, 0], \n",
        "                 start=offset, \n",
        "                 label=\"Test Data\")\n",
        "plot_time_series(timesteps=X_test[-len(test_windows):],\n",
        "                 values=model_1_preds,\n",
        "                 start=offset,\n",
        "                 format=\"-\",\n",
        "                 label=\"model_1_preds\")"
      ],
      "metadata": {
        "colab": {
          "base_uri": "https://localhost:8080/",
          "height": 446
        },
        "id": "IQWcq11EXyEZ",
        "outputId": "70ee0632-0fb3-4a54-c317-48179626c97c"
      },
      "execution_count": 294,
      "outputs": [
        {
          "output_type": "display_data",
          "data": {
            "text/plain": [
              "<Figure size 720x504 with 1 Axes>"
            ],
            "image/png": "[encoded data removed]"
          },
          "metadata": {
            "needs_background": "light"
          }
        }
      ]
    },
    {
      "cell_type": "markdown",
      "source": [
        "## Model 2: Dense (window = 30, horizon = 1)"
      ],
      "metadata": {
        "id": "JeLOv3oeY3i6"
      }
    },
    {
      "cell_type": "code",
      "source": [
        "HORIZON = 1 # predict one step at a time (one day of Bitcoin prices)\n",
        "WINDOW_SIZE = 30 # use 30 timesteps in past"
      ],
      "metadata": {
        "id": "t-guy9C3atZU"
      },
      "execution_count": 295,
      "outputs": []
    },
    {
      "cell_type": "code",
      "source": [
        "# Make window data with appropriate horizon and window sizes\n",
        "full_windows, full_labels = make_windows(prices, window_size=WINDOW_SIZE, horizon=HORIZON)\n",
        "len(full_windows), len(full_labels)"
      ],
      "metadata": {
        "colab": {
          "base_uri": "https://localhost:8080/"
        },
        "id": "jEJeeMBQa82x",
        "outputId": "5027d363-ace4-4d03-c567-56a0dab59817"
      },
      "execution_count": 296,
      "outputs": [
        {
          "output_type": "execute_result",
          "data": {
            "text/plain": [
              "(2757, 2757)"
            ]
          },
          "metadata": {},
          "execution_count": 296
        }
      ]
    },
    {
      "cell_type": "code",
      "source": [
        "# Make train and testing windows\n",
        "train_windows, test_windows, train_labels, test_labels = make_train_test_splits(windows=full_windows,\n",
        "                                                                                labels=full_labels,\n",
        "                                                                                test_split=0.2)\n",
        "len(train_windows), len(test_windows), len(train_labels), len(test_labels)"
      ],
      "metadata": {
        "colab": {
          "base_uri": "https://localhost:8080/"
        },
        "id": "3uyPkoFRbOoJ",
        "outputId": "b02f4ef0-a2db-4118-b6c9-d2dd742a4312"
      },
      "execution_count": 297,
      "outputs": [
        {
          "output_type": "execute_result",
          "data": {
            "text/plain": [
              "(2205, 552, 2205, 552)"
            ]
          },
          "metadata": {},
          "execution_count": 297
        }
      ]
    },
    {
      "cell_type": "code",
      "source": [
        "train_windows[:3], train_labels[:3]"
      ],
      "metadata": {
        "colab": {
          "base_uri": "https://localhost:8080/"
        },
        "id": "BZaKuIs1bnFW",
        "outputId": "c1dd7306-b331-426c-f13d-197a1ffae5ad"
      },
      "execution_count": 298,
      "outputs": [
        {
          "output_type": "execute_result",
          "data": {
            "text/plain": [
              "(array([[123.65499, 125.455  , 108.58483, 118.67466, 121.33866, 120.65533,\n",
              "         121.795  , 123.033  , 124.049  , 125.96116, 125.27966, 125.9275 ,\n",
              "         126.38333, 135.24199, 133.20333, 142.76333, 137.92333, 142.95166,\n",
              "         152.55183, 160.33883, 164.31499, 177.63333, 188.29716, 200.70166,\n",
              "         180.355  , 175.03166, 177.6965 , 187.15983, 192.75666, 197.4    ],\n",
              "        [125.455  , 108.58483, 118.67466, 121.33866, 120.65533, 121.795  ,\n",
              "         123.033  , 124.049  , 125.96116, 125.27966, 125.9275 , 126.38333,\n",
              "         135.24199, 133.20333, 142.76333, 137.92333, 142.95166, 152.55183,\n",
              "         160.33883, 164.31499, 177.63333, 188.29716, 200.70166, 180.355  ,\n",
              "         175.03166, 177.6965 , 187.15983, 192.75666, 197.4    , 196.02499],\n",
              "        [108.58483, 118.67466, 121.33866, 120.65533, 121.795  , 123.033  ,\n",
              "         124.049  , 125.96116, 125.27966, 125.9275 , 126.38333, 135.24199,\n",
              "         133.20333, 142.76333, 137.92333, 142.95166, 152.55183, 160.33883,\n",
              "         164.31499, 177.63333, 188.29716, 200.70166, 180.355  , 175.03166,\n",
              "         177.6965 , 187.15983, 192.75666, 197.4    , 196.02499, 198.04883]]),\n",
              " array([[196.02499],\n",
              "        [198.04883],\n",
              "        [198.93233]]))"
            ]
          },
          "metadata": {},
          "execution_count": 298
        }
      ]
    },
    {
      "cell_type": "code",
      "source": [
        "tf.random.set_seed(42)\n",
        "\n",
        "# Create model\n",
        "model_2 = tf.keras.Sequential([\n",
        "    layers.Dense(128, activation='relu'),\n",
        "    layers.Dense(HORIZON)\n",
        "], name=\"model_2_dense\")\n",
        "\n",
        "# Compile model\n",
        "model_2.compile(loss='mae',\n",
        "                optimizer=tf.keras.optimizers.Adam())\n",
        "\n",
        "# Fit\n",
        "model_2.fit(train_windows,\n",
        "            train_labels,\n",
        "            epochs=100,\n",
        "            batch_size=128,\n",
        "            verbose=0,\n",
        "            validation_data=(test_windows, test_labels),\n",
        "            callbacks=[create_model_checkpoint(model_name=model_2.name)])"
      ],
      "metadata": {
        "colab": {
          "base_uri": "https://localhost:8080/"
        },
        "id": "TdNHZeBTbpw8",
        "outputId": "f062b047-615e-4fae-84f6-da37a0a9a30b"
      },
      "execution_count": 299,
      "outputs": [
        {
          "output_type": "stream",
          "name": "stdout",
          "text": [
            "INFO:tensorflow:Assets written to: model_experiments/model_2_dense/assets\n"
          ]
        },
        {
          "output_type": "stream",
          "name": "stderr",
          "text": [
            "INFO:tensorflow:Assets written to: model_experiments/model_2_dense/assets\n"
          ]
        },
        {
          "output_type": "stream",
          "name": "stdout",
          "text": [
            "INFO:tensorflow:Assets written to: model_experiments/model_2_dense/assets\n"
          ]
        },
        {
          "output_type": "stream",
          "name": "stderr",
          "text": [
            "INFO:tensorflow:Assets written to: model_experiments/model_2_dense/assets\n"
          ]
        },
        {
          "output_type": "stream",
          "name": "stdout",
          "text": [
            "INFO:tensorflow:Assets written to: model_experiments/model_2_dense/assets\n"
          ]
        },
        {
          "output_type": "stream",
          "name": "stderr",
          "text": [
            "INFO:tensorflow:Assets written to: model_experiments/model_2_dense/assets\n"
          ]
        },
        {
          "output_type": "stream",
          "name": "stdout",
          "text": [
            "INFO:tensorflow:Assets written to: model_experiments/model_2_dense/assets\n"
          ]
        },
        {
          "output_type": "stream",
          "name": "stderr",
          "text": [
            "INFO:tensorflow:Assets written to: model_experiments/model_2_dense/assets\n"
          ]
        },
        {
          "output_type": "stream",
          "name": "stdout",
          "text": [
            "INFO:tensorflow:Assets written to: model_experiments/model_2_dense/assets\n"
          ]
        },
        {
          "output_type": "stream",
          "name": "stderr",
          "text": [
            "INFO:tensorflow:Assets written to: model_experiments/model_2_dense/assets\n"
          ]
        },
        {
          "output_type": "stream",
          "name": "stdout",
          "text": [
            "INFO:tensorflow:Assets written to: model_experiments/model_2_dense/assets\n"
          ]
        },
        {
          "output_type": "stream",
          "name": "stderr",
          "text": [
            "INFO:tensorflow:Assets written to: model_experiments/model_2_dense/assets\n"
          ]
        },
        {
          "output_type": "stream",
          "name": "stdout",
          "text": [
            "INFO:tensorflow:Assets written to: model_experiments/model_2_dense/assets\n"
          ]
        },
        {
          "output_type": "stream",
          "name": "stderr",
          "text": [
            "INFO:tensorflow:Assets written to: model_experiments/model_2_dense/assets\n"
          ]
        },
        {
          "output_type": "stream",
          "name": "stdout",
          "text": [
            "INFO:tensorflow:Assets written to: model_experiments/model_2_dense/assets\n"
          ]
        },
        {
          "output_type": "stream",
          "name": "stderr",
          "text": [
            "INFO:tensorflow:Assets written to: model_experiments/model_2_dense/assets\n"
          ]
        },
        {
          "output_type": "stream",
          "name": "stdout",
          "text": [
            "INFO:tensorflow:Assets written to: model_experiments/model_2_dense/assets\n"
          ]
        },
        {
          "output_type": "stream",
          "name": "stderr",
          "text": [
            "INFO:tensorflow:Assets written to: model_experiments/model_2_dense/assets\n"
          ]
        },
        {
          "output_type": "stream",
          "name": "stdout",
          "text": [
            "INFO:tensorflow:Assets written to: model_experiments/model_2_dense/assets\n"
          ]
        },
        {
          "output_type": "stream",
          "name": "stderr",
          "text": [
            "INFO:tensorflow:Assets written to: model_experiments/model_2_dense/assets\n"
          ]
        },
        {
          "output_type": "stream",
          "name": "stdout",
          "text": [
            "INFO:tensorflow:Assets written to: model_experiments/model_2_dense/assets\n"
          ]
        },
        {
          "output_type": "stream",
          "name": "stderr",
          "text": [
            "INFO:tensorflow:Assets written to: model_experiments/model_2_dense/assets\n"
          ]
        },
        {
          "output_type": "stream",
          "name": "stdout",
          "text": [
            "INFO:tensorflow:Assets written to: model_experiments/model_2_dense/assets\n"
          ]
        },
        {
          "output_type": "stream",
          "name": "stderr",
          "text": [
            "INFO:tensorflow:Assets written to: model_experiments/model_2_dense/assets\n"
          ]
        },
        {
          "output_type": "stream",
          "name": "stdout",
          "text": [
            "INFO:tensorflow:Assets written to: model_experiments/model_2_dense/assets\n"
          ]
        },
        {
          "output_type": "stream",
          "name": "stderr",
          "text": [
            "INFO:tensorflow:Assets written to: model_experiments/model_2_dense/assets\n"
          ]
        },
        {
          "output_type": "stream",
          "name": "stdout",
          "text": [
            "INFO:tensorflow:Assets written to: model_experiments/model_2_dense/assets\n"
          ]
        },
        {
          "output_type": "stream",
          "name": "stderr",
          "text": [
            "INFO:tensorflow:Assets written to: model_experiments/model_2_dense/assets\n"
          ]
        },
        {
          "output_type": "stream",
          "name": "stdout",
          "text": [
            "INFO:tensorflow:Assets written to: model_experiments/model_2_dense/assets\n"
          ]
        },
        {
          "output_type": "stream",
          "name": "stderr",
          "text": [
            "INFO:tensorflow:Assets written to: model_experiments/model_2_dense/assets\n"
          ]
        },
        {
          "output_type": "stream",
          "name": "stdout",
          "text": [
            "INFO:tensorflow:Assets written to: model_experiments/model_2_dense/assets\n"
          ]
        },
        {
          "output_type": "stream",
          "name": "stderr",
          "text": [
            "INFO:tensorflow:Assets written to: model_experiments/model_2_dense/assets\n"
          ]
        },
        {
          "output_type": "stream",
          "name": "stdout",
          "text": [
            "INFO:tensorflow:Assets written to: model_experiments/model_2_dense/assets\n"
          ]
        },
        {
          "output_type": "stream",
          "name": "stderr",
          "text": [
            "INFO:tensorflow:Assets written to: model_experiments/model_2_dense/assets\n"
          ]
        },
        {
          "output_type": "stream",
          "name": "stdout",
          "text": [
            "INFO:tensorflow:Assets written to: model_experiments/model_2_dense/assets\n"
          ]
        },
        {
          "output_type": "stream",
          "name": "stderr",
          "text": [
            "INFO:tensorflow:Assets written to: model_experiments/model_2_dense/assets\n"
          ]
        },
        {
          "output_type": "stream",
          "name": "stdout",
          "text": [
            "INFO:tensorflow:Assets written to: model_experiments/model_2_dense/assets\n"
          ]
        },
        {
          "output_type": "stream",
          "name": "stderr",
          "text": [
            "INFO:tensorflow:Assets written to: model_experiments/model_2_dense/assets\n"
          ]
        },
        {
          "output_type": "stream",
          "name": "stdout",
          "text": [
            "INFO:tensorflow:Assets written to: model_experiments/model_2_dense/assets\n"
          ]
        },
        {
          "output_type": "stream",
          "name": "stderr",
          "text": [
            "INFO:tensorflow:Assets written to: model_experiments/model_2_dense/assets\n"
          ]
        },
        {
          "output_type": "stream",
          "name": "stdout",
          "text": [
            "INFO:tensorflow:Assets written to: model_experiments/model_2_dense/assets\n"
          ]
        },
        {
          "output_type": "stream",
          "name": "stderr",
          "text": [
            "INFO:tensorflow:Assets written to: model_experiments/model_2_dense/assets\n"
          ]
        },
        {
          "output_type": "stream",
          "name": "stdout",
          "text": [
            "INFO:tensorflow:Assets written to: model_experiments/model_2_dense/assets\n"
          ]
        },
        {
          "output_type": "stream",
          "name": "stderr",
          "text": [
            "INFO:tensorflow:Assets written to: model_experiments/model_2_dense/assets\n"
          ]
        },
        {
          "output_type": "stream",
          "name": "stdout",
          "text": [
            "INFO:tensorflow:Assets written to: model_experiments/model_2_dense/assets\n"
          ]
        },
        {
          "output_type": "stream",
          "name": "stderr",
          "text": [
            "INFO:tensorflow:Assets written to: model_experiments/model_2_dense/assets\n"
          ]
        },
        {
          "output_type": "stream",
          "name": "stdout",
          "text": [
            "INFO:tensorflow:Assets written to: model_experiments/model_2_dense/assets\n"
          ]
        },
        {
          "output_type": "stream",
          "name": "stderr",
          "text": [
            "INFO:tensorflow:Assets written to: model_experiments/model_2_dense/assets\n"
          ]
        },
        {
          "output_type": "stream",
          "name": "stdout",
          "text": [
            "INFO:tensorflow:Assets written to: model_experiments/model_2_dense/assets\n"
          ]
        },
        {
          "output_type": "stream",
          "name": "stderr",
          "text": [
            "INFO:tensorflow:Assets written to: model_experiments/model_2_dense/assets\n"
          ]
        },
        {
          "output_type": "stream",
          "name": "stdout",
          "text": [
            "INFO:tensorflow:Assets written to: model_experiments/model_2_dense/assets\n"
          ]
        },
        {
          "output_type": "stream",
          "name": "stderr",
          "text": [
            "INFO:tensorflow:Assets written to: model_experiments/model_2_dense/assets\n"
          ]
        },
        {
          "output_type": "stream",
          "name": "stdout",
          "text": [
            "INFO:tensorflow:Assets written to: model_experiments/model_2_dense/assets\n"
          ]
        },
        {
          "output_type": "stream",
          "name": "stderr",
          "text": [
            "INFO:tensorflow:Assets written to: model_experiments/model_2_dense/assets\n"
          ]
        },
        {
          "output_type": "stream",
          "name": "stdout",
          "text": [
            "INFO:tensorflow:Assets written to: model_experiments/model_2_dense/assets\n"
          ]
        },
        {
          "output_type": "stream",
          "name": "stderr",
          "text": [
            "INFO:tensorflow:Assets written to: model_experiments/model_2_dense/assets\n"
          ]
        },
        {
          "output_type": "stream",
          "name": "stdout",
          "text": [
            "INFO:tensorflow:Assets written to: model_experiments/model_2_dense/assets\n"
          ]
        },
        {
          "output_type": "stream",
          "name": "stderr",
          "text": [
            "INFO:tensorflow:Assets written to: model_experiments/model_2_dense/assets\n"
          ]
        },
        {
          "output_type": "stream",
          "name": "stdout",
          "text": [
            "INFO:tensorflow:Assets written to: model_experiments/model_2_dense/assets\n"
          ]
        },
        {
          "output_type": "stream",
          "name": "stderr",
          "text": [
            "INFO:tensorflow:Assets written to: model_experiments/model_2_dense/assets\n"
          ]
        },
        {
          "output_type": "execute_result",
          "data": {
            "text/plain": [
              "<keras.callbacks.History at 0x7fc273c6b250>"
            ]
          },
          "metadata": {},
          "execution_count": 299
        }
      ]
    },
    {
      "cell_type": "code",
      "source": [
        "# Evaluate model_2 on test data\n",
        "model_2.evaluate(test_windows, test_labels)"
      ],
      "metadata": {
        "colab": {
          "base_uri": "https://localhost:8080/"
        },
        "id": "usOY4kVyciqU",
        "outputId": "7224097b-1629-4594-92ba-aae3faf84848"
      },
      "execution_count": 300,
      "outputs": [
        {
          "output_type": "stream",
          "name": "stdout",
          "text": [
            "18/18 [==============================] - 0s 2ms/step - loss: 659.3332\n"
          ]
        },
        {
          "output_type": "execute_result",
          "data": {
            "text/plain": [
              "659.3331909179688"
            ]
          },
          "metadata": {},
          "execution_count": 300
        }
      ]
    },
    {
      "cell_type": "code",
      "source": [
        "# Load in the best performing model\n",
        "model_2 = tf.keras.models.load_model(\"model_experiments/model_2_dense/\")\n",
        "model_2.evaluate(test_windows, test_labels)"
      ],
      "metadata": {
        "colab": {
          "base_uri": "https://localhost:8080/"
        },
        "id": "AdfM0xW_csVm",
        "outputId": "bc8c00ab-5856-4275-c7d4-257d965466cc"
      },
      "execution_count": 301,
      "outputs": [
        {
          "output_type": "stream",
          "name": "stdout",
          "text": [
            "18/18 [==============================] - 0s 2ms/step - loss: 605.8741\n"
          ]
        },
        {
          "output_type": "execute_result",
          "data": {
            "text/plain": [
              "605.8740844726562"
            ]
          },
          "metadata": {},
          "execution_count": 301
        }
      ]
    },
    {
      "cell_type": "code",
      "source": [
        "# Get the forecast predictions\n",
        "model_2_preds = make_preds(model_2,\n",
        "                           input_data=test_windows)"
      ],
      "metadata": {
        "id": "LfeUT56bc7hD"
      },
      "execution_count": 302,
      "outputs": []
    },
    {
      "cell_type": "code",
      "source": [
        "# Evaluate results for model 2 predictions\n",
        "model_2_results = evaluate_preds(y_true=tf.squeeze(test_labels),\n",
        "                                 y_pred=model_2_preds)\n",
        "model_2_results"
      ],
      "metadata": {
        "colab": {
          "base_uri": "https://localhost:8080/"
        },
        "id": "ZLZkEhLwdFfC",
        "outputId": "a20619d9-48c7-4db2-e5a5-52700a02dedd"
      },
      "execution_count": 303,
      "outputs": [
        {
          "output_type": "execute_result",
          "data": {
            "text/plain": [
              "{'mae': 605.8741,\n",
              " 'mape': 2.726445,\n",
              " 'mase': 1.0590738,\n",
              " 'mse': 1273360.8,\n",
              " 'rmse': 1128.4329}"
            ]
          },
          "metadata": {},
          "execution_count": 303
        }
      ]
    },
    {
      "cell_type": "code",
      "source": [
        "model_1_results"
      ],
      "metadata": {
        "colab": {
          "base_uri": "https://localhost:8080/"
        },
        "id": "iasK_wA-dV1a",
        "outputId": "636a626e-8355-4c92-dff1-b0989b4b2491"
      },
      "execution_count": 304,
      "outputs": [
        {
          "output_type": "execute_result",
          "data": {
            "text/plain": [
              "{'mae': 568.9511,\n",
              " 'mape': 2.5448983,\n",
              " 'mase': 0.99948955,\n",
              " 'mse': 1171743.8,\n",
              " 'rmse': 1082.4711}"
            ]
          },
          "metadata": {},
          "execution_count": 304
        }
      ]
    },
    {
      "cell_type": "code",
      "source": [
        "offset = 300\n",
        "plt.figure(figsize=(10, 7))\n",
        "# Account for test_windows offset when plotting\n",
        "plot_time_series(timesteps=X_test[-len(test_windows):],\n",
        "                 values=test_labels[:, 0],\n",
        "                 start=offset,\n",
        "                 label=\"Test Data\")\n",
        "plot_time_series(timesteps=X_test[-len(test_windows):],\n",
        "                 values=model_2_preds,\n",
        "                 start=offset,\n",
        "                 format=\"-\",\n",
        "                 label=\"model_2_preds\")"
      ],
      "metadata": {
        "colab": {
          "base_uri": "https://localhost:8080/",
          "height": 442
        },
        "id": "WnmogD4xdYBV",
        "outputId": "07426732-fd4d-47eb-f2b8-dd4e951db0a8"
      },
      "execution_count": 305,
      "outputs": [
        {
          "output_type": "display_data",
          "data": {
            "text/plain": [
              "<Figure size 720x504 with 1 Axes>"
            ],
            "image/png": "[encoded data removed]"
          },
          "metadata": {
            "needs_background": "light"
          }
        }
      ]
    },
    {
      "cell_type": "markdown",
      "source": [
        "## Model 3: Dense (window = 30, horizon = 7)"
      ],
      "metadata": {
        "id": "vkwpsuGMeFOr"
      }
    },
    {
      "cell_type": "code",
      "source": [
        "HORIZON = 7\n",
        "WINDOW_SIZE = 30\n",
        "\n",
        "full_windows, full_labels = make_windows(prices, window_size=WINDOW_SIZE, horizon=HORIZON)\n",
        "len(full_windows), len(full_labels)"
      ],
      "metadata": {
        "colab": {
          "base_uri": "https://localhost:8080/"
        },
        "id": "1_Fs6AzCe3IZ",
        "outputId": "aad0aec8-abed-431e-81f0-c2e3dbe8ce94"
      },
      "execution_count": 306,
      "outputs": [
        {
          "output_type": "execute_result",
          "data": {
            "text/plain": [
              "(2751, 2751)"
            ]
          },
          "metadata": {},
          "execution_count": 306
        }
      ]
    },
    {
      "cell_type": "code",
      "source": [
        "train_windows, test_windows, train_labels, test_labels = make_train_test_splits(full_windows, \n",
        "                                                                                full_labels, \n",
        "                                                                                test_split=0.2)\n",
        "len(train_windows), len(test_windows), len(train_labels), len(test_labels)"
      ],
      "metadata": {
        "colab": {
          "base_uri": "https://localhost:8080/"
        },
        "id": "NzXtnKGIfFVu",
        "outputId": "fe22173c-bfbf-4c3a-a4be-38ff119d19dc"
      },
      "execution_count": 307,
      "outputs": [
        {
          "output_type": "execute_result",
          "data": {
            "text/plain": [
              "(2200, 551, 2200, 551)"
            ]
          },
          "metadata": {},
          "execution_count": 307
        }
      ]
    },
    {
      "cell_type": "code",
      "source": [
        "tf.random.set_seed(42)\n",
        "\n",
        "# Create model (same as model_1 except with different data input and output sizes)\n",
        "model_3 = tf.keras.Sequential([\n",
        "    layers.Dense(128, activation='relu'),\n",
        "    layers.Dense(HORIZON)\n",
        "], name='model_3_dense')\n",
        "\n",
        "# Compile model\n",
        "model_3.compile(loss='mae',\n",
        "                optimizer=tf.keras.optimizers.Adam())\n",
        "\n",
        "# Fit\n",
        "model_3.fit(train_windows,\n",
        "            train_labels,\n",
        "            batch_size=128,\n",
        "            epochs=100,\n",
        "            verbose=0,\n",
        "            validation_data=(test_windows, test_labels),\n",
        "            callbacks=[create_model_checkpoint(model_name=model_3.name)])"
      ],
      "metadata": {
        "colab": {
          "base_uri": "https://localhost:8080/"
        },
        "id": "-13sMLRqfeTB",
        "outputId": "2e69e2aa-ae5c-41fa-d2df-a4c6f949ef1a"
      },
      "execution_count": 308,
      "outputs": [
        {
          "output_type": "stream",
          "name": "stdout",
          "text": [
            "INFO:tensorflow:Assets written to: model_experiments/model_3_dense/assets\n"
          ]
        },
        {
          "output_type": "stream",
          "name": "stderr",
          "text": [
            "INFO:tensorflow:Assets written to: model_experiments/model_3_dense/assets\n"
          ]
        },
        {
          "output_type": "stream",
          "name": "stdout",
          "text": [
            "INFO:tensorflow:Assets written to: model_experiments/model_3_dense/assets\n"
          ]
        },
        {
          "output_type": "stream",
          "name": "stderr",
          "text": [
            "INFO:tensorflow:Assets written to: model_experiments/model_3_dense/assets\n"
          ]
        },
        {
          "output_type": "stream",
          "name": "stdout",
          "text": [
            "INFO:tensorflow:Assets written to: model_experiments/model_3_dense/assets\n"
          ]
        },
        {
          "output_type": "stream",
          "name": "stderr",
          "text": [
            "INFO:tensorflow:Assets written to: model_experiments/model_3_dense/assets\n"
          ]
        },
        {
          "output_type": "stream",
          "name": "stdout",
          "text": [
            "INFO:tensorflow:Assets written to: model_experiments/model_3_dense/assets\n"
          ]
        },
        {
          "output_type": "stream",
          "name": "stderr",
          "text": [
            "INFO:tensorflow:Assets written to: model_experiments/model_3_dense/assets\n"
          ]
        },
        {
          "output_type": "stream",
          "name": "stdout",
          "text": [
            "INFO:tensorflow:Assets written to: model_experiments/model_3_dense/assets\n"
          ]
        },
        {
          "output_type": "stream",
          "name": "stderr",
          "text": [
            "INFO:tensorflow:Assets written to: model_experiments/model_3_dense/assets\n"
          ]
        },
        {
          "output_type": "stream",
          "name": "stdout",
          "text": [
            "INFO:tensorflow:Assets written to: model_experiments/model_3_dense/assets\n"
          ]
        },
        {
          "output_type": "stream",
          "name": "stderr",
          "text": [
            "INFO:tensorflow:Assets written to: model_experiments/model_3_dense/assets\n"
          ]
        },
        {
          "output_type": "stream",
          "name": "stdout",
          "text": [
            "INFO:tensorflow:Assets written to: model_experiments/model_3_dense/assets\n"
          ]
        },
        {
          "output_type": "stream",
          "name": "stderr",
          "text": [
            "INFO:tensorflow:Assets written to: model_experiments/model_3_dense/assets\n"
          ]
        },
        {
          "output_type": "stream",
          "name": "stdout",
          "text": [
            "INFO:tensorflow:Assets written to: model_experiments/model_3_dense/assets\n"
          ]
        },
        {
          "output_type": "stream",
          "name": "stderr",
          "text": [
            "INFO:tensorflow:Assets written to: model_experiments/model_3_dense/assets\n"
          ]
        },
        {
          "output_type": "stream",
          "name": "stdout",
          "text": [
            "INFO:tensorflow:Assets written to: model_experiments/model_3_dense/assets\n"
          ]
        },
        {
          "output_type": "stream",
          "name": "stderr",
          "text": [
            "INFO:tensorflow:Assets written to: model_experiments/model_3_dense/assets\n"
          ]
        },
        {
          "output_type": "stream",
          "name": "stdout",
          "text": [
            "INFO:tensorflow:Assets written to: model_experiments/model_3_dense/assets\n"
          ]
        },
        {
          "output_type": "stream",
          "name": "stderr",
          "text": [
            "INFO:tensorflow:Assets written to: model_experiments/model_3_dense/assets\n"
          ]
        },
        {
          "output_type": "stream",
          "name": "stdout",
          "text": [
            "INFO:tensorflow:Assets written to: model_experiments/model_3_dense/assets\n"
          ]
        },
        {
          "output_type": "stream",
          "name": "stderr",
          "text": [
            "INFO:tensorflow:Assets written to: model_experiments/model_3_dense/assets\n"
          ]
        },
        {
          "output_type": "stream",
          "name": "stdout",
          "text": [
            "INFO:tensorflow:Assets written to: model_experiments/model_3_dense/assets\n"
          ]
        },
        {
          "output_type": "stream",
          "name": "stderr",
          "text": [
            "INFO:tensorflow:Assets written to: model_experiments/model_3_dense/assets\n"
          ]
        },
        {
          "output_type": "stream",
          "name": "stdout",
          "text": [
            "INFO:tensorflow:Assets written to: model_experiments/model_3_dense/assets\n"
          ]
        },
        {
          "output_type": "stream",
          "name": "stderr",
          "text": [
            "INFO:tensorflow:Assets written to: model_experiments/model_3_dense/assets\n"
          ]
        },
        {
          "output_type": "stream",
          "name": "stdout",
          "text": [
            "INFO:tensorflow:Assets written to: model_experiments/model_3_dense/assets\n"
          ]
        },
        {
          "output_type": "stream",
          "name": "stderr",
          "text": [
            "INFO:tensorflow:Assets written to: model_experiments/model_3_dense/assets\n"
          ]
        },
        {
          "output_type": "stream",
          "name": "stdout",
          "text": [
            "INFO:tensorflow:Assets written to: model_experiments/model_3_dense/assets\n"
          ]
        },
        {
          "output_type": "stream",
          "name": "stderr",
          "text": [
            "INFO:tensorflow:Assets written to: model_experiments/model_3_dense/assets\n"
          ]
        },
        {
          "output_type": "stream",
          "name": "stdout",
          "text": [
            "INFO:tensorflow:Assets written to: model_experiments/model_3_dense/assets\n"
          ]
        },
        {
          "output_type": "stream",
          "name": "stderr",
          "text": [
            "INFO:tensorflow:Assets written to: model_experiments/model_3_dense/assets\n"
          ]
        },
        {
          "output_type": "stream",
          "name": "stdout",
          "text": [
            "INFO:tensorflow:Assets written to: model_experiments/model_3_dense/assets\n"
          ]
        },
        {
          "output_type": "stream",
          "name": "stderr",
          "text": [
            "INFO:tensorflow:Assets written to: model_experiments/model_3_dense/assets\n"
          ]
        },
        {
          "output_type": "stream",
          "name": "stdout",
          "text": [
            "INFO:tensorflow:Assets written to: model_experiments/model_3_dense/assets\n"
          ]
        },
        {
          "output_type": "stream",
          "name": "stderr",
          "text": [
            "INFO:tensorflow:Assets written to: model_experiments/model_3_dense/assets\n"
          ]
        },
        {
          "output_type": "stream",
          "name": "stdout",
          "text": [
            "INFO:tensorflow:Assets written to: model_experiments/model_3_dense/assets\n"
          ]
        },
        {
          "output_type": "stream",
          "name": "stderr",
          "text": [
            "INFO:tensorflow:Assets written to: model_experiments/model_3_dense/assets\n"
          ]
        },
        {
          "output_type": "stream",
          "name": "stdout",
          "text": [
            "INFO:tensorflow:Assets written to: model_experiments/model_3_dense/assets\n"
          ]
        },
        {
          "output_type": "stream",
          "name": "stderr",
          "text": [
            "INFO:tensorflow:Assets written to: model_experiments/model_3_dense/assets\n"
          ]
        },
        {
          "output_type": "stream",
          "name": "stdout",
          "text": [
            "INFO:tensorflow:Assets written to: model_experiments/model_3_dense/assets\n"
          ]
        },
        {
          "output_type": "stream",
          "name": "stderr",
          "text": [
            "INFO:tensorflow:Assets written to: model_experiments/model_3_dense/assets\n"
          ]
        },
        {
          "output_type": "stream",
          "name": "stdout",
          "text": [
            "INFO:tensorflow:Assets written to: model_experiments/model_3_dense/assets\n"
          ]
        },
        {
          "output_type": "stream",
          "name": "stderr",
          "text": [
            "INFO:tensorflow:Assets written to: model_experiments/model_3_dense/assets\n"
          ]
        },
        {
          "output_type": "execute_result",
          "data": {
            "text/plain": [
              "<keras.callbacks.History at 0x7fc27218b5d0>"
            ]
          },
          "metadata": {},
          "execution_count": 308
        }
      ]
    },
    {
      "cell_type": "code",
      "source": [
        "# Evaluate model 3\n",
        "model_3.evaluate(test_windows, test_labels)"
      ],
      "metadata": {
        "colab": {
          "base_uri": "https://localhost:8080/"
        },
        "id": "-g9cswc5gMRw",
        "outputId": "c02f22ec-47a2-4e59-f3f5-1155c34d4910"
      },
      "execution_count": 309,
      "outputs": [
        {
          "output_type": "stream",
          "name": "stdout",
          "text": [
            "18/18 [==============================] - 0s 2ms/step - loss: 1300.1525\n"
          ]
        },
        {
          "output_type": "execute_result",
          "data": {
            "text/plain": [
              "1300.1524658203125"
            ]
          },
          "metadata": {},
          "execution_count": 309
        }
      ]
    },
    {
      "cell_type": "code",
      "source": [
        "# Load best version of model_3 and evaluate\n",
        "model_3 = tf.keras.models.load_model(\"model_experiments/model_3_dense/\")\n",
        "model_3.evaluate(test_windows, test_labels)"
      ],
      "metadata": {
        "colab": {
          "base_uri": "https://localhost:8080/"
        },
        "id": "Mw2RGPitgRwB",
        "outputId": "f71fd74d-1738-4fd0-e920-c684a036bc32"
      },
      "execution_count": 310,
      "outputs": [
        {
          "output_type": "stream",
          "name": "stdout",
          "text": [
            "18/18 [==============================] - 0s 2ms/step - loss: 1237.5065\n"
          ]
        },
        {
          "output_type": "execute_result",
          "data": {
            "text/plain": [
              "1237.5064697265625"
            ]
          },
          "metadata": {},
          "execution_count": 310
        }
      ]
    },
    {
      "cell_type": "code",
      "source": [
        "# Make predictions with model_3\n",
        "model_3_preds = make_preds(model_3,\n",
        "                           input_data=test_windows)\n",
        "model_3_preds[:5]"
      ],
      "metadata": {
        "colab": {
          "base_uri": "https://localhost:8080/"
        },
        "id": "UdlF0LRDicCC",
        "outputId": "a580f74b-5fb3-4f98-92e1-a4a30665aaec"
      },
      "execution_count": 311,
      "outputs": [
        {
          "output_type": "execute_result",
          "data": {
            "text/plain": [
              "<tf.Tensor: shape=(5, 7), dtype=float32, numpy=\n",
              "array([[9004.694 , 9048.1   , 9425.09  , 9258.256 , 9495.797 , 9558.453 ,\n",
              "        9357.3545],\n",
              "       [8735.506 , 8840.303 , 9247.793 , 8885.601 , 9097.186 , 9174.327 ,\n",
              "        9156.818 ],\n",
              "       [8672.508 , 8782.387 , 9123.857 , 8770.371 , 9007.13  , 9003.869 ,\n",
              "        9042.725 ],\n",
              "       [8874.399 , 8784.74  , 9043.902 , 8943.052 , 9033.477 , 9176.489 ,\n",
              "        9039.677 ],\n",
              "       [8825.891 , 8777.44  , 8926.78  , 8870.179 , 9213.232 , 9268.156 ,\n",
              "        8942.487 ]], dtype=float32)>"
            ]
          },
          "metadata": {},
          "execution_count": 311
        }
      ]
    },
    {
      "cell_type": "code",
      "source": [
        "# Evaluate model_3 results\n",
        "model_3_results = evaluate_preds(y_true=tf.squeeze(test_labels),\n",
        "                                 y_pred=model_3_preds)\n",
        "model_3_results"
      ],
      "metadata": {
        "colab": {
          "base_uri": "https://localhost:8080/"
        },
        "id": "a_ggS-gFipuF",
        "outputId": "0323e64e-c63d-47e2-9919-c8b238fabe4b"
      },
      "execution_count": 312,
      "outputs": [
        {
          "output_type": "execute_result",
          "data": {
            "text/plain": [
              "{'mae': array([ 513.6056  ,  355.08328 ,  327.17075 ,  358.5106  ,  420.53305 ,\n",
              "         537.854   ,  545.66156 ,  485.9228  ,  584.49713 ,  687.3824  ,\n",
              "         836.2264  ,  755.1577  ,  731.4958  ,  775.3399  ,  567.95544 ,\n",
              "         266.80865 ,  188.80225 ,  188.10799 ,  253.095   ,  301.43256 ,\n",
              "         151.10721 ,  196.81473 ,  191.46178 ,  231.65031 ,  143.61125 ,\n",
              "         122.59089 ,  132.78879 ,  190.8118  ,  179.15994 ,  228.26018 ,\n",
              "         314.44022 ,  379.09244 ,  278.32526 ,  295.3471  ,  299.3852  ,\n",
              "         248.64983 ,  299.75662 ,  259.69434 ,  180.30531 ,  206.72922 ,\n",
              "         374.62863 ,  144.85086 ,  142.33635 ,  131.11613 ,   93.941124,\n",
              "          54.825542,   73.79541 ,  103.60128 ,  121.333916,  168.67278 ,\n",
              "         183.90945 ,  152.25307 ,  186.57191 ,  146.91267 ,  240.42912 ,\n",
              "         351.00662 ,  540.952   ,  549.1573  ,  521.2411  ,  526.8554  ,\n",
              "         453.36237 ,  257.98117 ,  277.29486 ,  301.8247  ,  455.718   ,\n",
              "         458.96017 ,  503.4438  ,  522.3119  ,  223.07631 ,  250.09529 ,\n",
              "         297.1437  ,  400.571   ,  495.7984  ,  364.33707 ,  283.36606 ,\n",
              "         325.59543 ,  238.21191 ,  318.9777  ,  460.77106 ,  651.0762  ,\n",
              "         835.88    ,  669.96454 ,  319.54507 ,  261.99442 ,  142.3923  ,\n",
              "         136.62863 ,  154.75223 ,  221.32631 ,  290.50418 ,  503.88406 ,\n",
              "         414.2602  ,  434.35742 ,  377.988   ,  251.78947 ,  204.2832  ,\n",
              "         388.227   ,  360.65793 ,  493.80902 ,  614.861   ,  754.70245 ,\n",
              "         533.7712  ,  378.98898 ,  280.49496 ,  339.48074 ,  413.1289  ,\n",
              "         452.87875 ,  550.5381  ,  634.5726  ,  935.5726  ,  931.60016 ,\n",
              "         881.2803  ,  426.39984 ,  179.45871 ,  121.66197 ,  160.43889 ,\n",
              "         372.07108 ,  341.85764 ,  476.52408 ,  618.3245  , 1038.8986  ,\n",
              "        1569.5028  , 2157.1199  , 1987.6077  , 2158.6108  , 2303.5608  ,\n",
              "        2662.9429  , 1405.5013  ,  728.30096 ,  351.70062 ,  322.03195 ,\n",
              "         493.94748 ,  435.4843  ,  565.5558  ,  350.11676 ,  289.0198  ,\n",
              "         251.21603 ,  409.05615 ,  342.21002 ,  320.8361  ,  330.88608 ,\n",
              "         357.84604 ,  335.94818 ,  206.10303 ,  544.38416 ,  700.00934 ,\n",
              "         468.91992 ,  404.49615 ,  172.80127 ,  308.33685 ,  210.47621 ,\n",
              "         318.9543  ,  486.1326  ,  428.8803  ,  533.9111  ,  433.78146 ,\n",
              "         396.89432 ,  138.40381 ,  189.96658 ,  170.39209 ,  181.54346 ,\n",
              "         282.88992 ,  264.38867 ,  250.6218  ,  240.33762 ,  276.95425 ,\n",
              "         326.02963 ,  489.6155  ,  686.2448  ,  526.9793  ,  603.01135 ,\n",
              "         825.3831  ,  871.0465  ,  990.0687  , 1090.0597  ,  560.2842  ,\n",
              "         310.52246 ,  371.39035 ,  348.45953 ,  355.73438 ,  429.56543 ,\n",
              "         581.2835  ,  550.52203 ,  635.4312  ,  913.404   ,  840.7183  ,\n",
              "         305.0357  ,  493.93332 ,  751.31793 ,  410.6346  ,  220.62444 ,\n",
              "         282.25446 ,  291.8528  ,  422.5039  ,  458.6543  ,  637.2352  ,\n",
              "         647.82336 ,  417.24496 ,  220.23703 ,  246.72209 ,  200.22922 ,\n",
              "         455.1494  ,  719.6059  ,  696.3024  ,  485.0996  ,  294.95297 ,\n",
              "         170.52371 ,  211.82478 ,  270.565   ,  189.89299 ,  171.21736 ,\n",
              "         366.44727 ,  231.96387 ,  318.78738 ,  273.79395 ,  358.55664 ,\n",
              "         412.22797 ,  512.3167  ,  185.43959 ,  196.38225 ,  200.006   ,\n",
              "         224.58678 ,  213.41978 ,  186.23912 ,  113.371376,  172.23228 ,\n",
              "         168.89857 ,  236.0957  ,  307.5971  ,  328.93903 ,  566.59625 ,\n",
              "         285.04395 ,  300.44965 ,  125.45299 ,  168.94322 ,  137.25851 ,\n",
              "         143.5039  ,  145.27776 ,  107.339424,   77.16225 ,  131.87082 ,\n",
              "         134.02023 ,  167.45773 ,  137.9216  ,  148.91336 ,  204.95508 ,\n",
              "         157.89746 ,  196.95256 ,  167.93918 ,  156.45605 ,  188.68094 ,\n",
              "         161.44127 ,   90.99735 ,  136.8411  ,  198.51701 ,  230.1381  ,\n",
              "         294.78348 ,  594.2425  ,  699.6479  ,  815.13574 ,  905.339   ,\n",
              "        1127.2997  , 1342.6945  , 1317.0691  ,  590.1681  ,  296.34515 ,\n",
              "         243.43625 ,  256.3983  ,  222.28459 ,  323.83832 ,   82.513115,\n",
              "         120.14384 ,  249.14914 ,  205.73592 ,  243.4548  ,  250.64803 ,\n",
              "         287.2761  ,  224.38142 ,  266.56027 ,  221.51047 ,  218.4965  ,\n",
              "         272.42285 ,  279.59625 ,  252.5883  ,  381.565   ,  417.97086 ,\n",
              "         624.5573  ,  368.03738 ,  327.25488 ,  263.43973 ,  349.95297 ,\n",
              "         398.62527 ,  297.07407 ,  147.04924 ,  164.5431  ,  313.36328 ,\n",
              "         477.7482  ,  675.0409  ,  897.2679  , 1094.7103  , 1460.1775  ,\n",
              "        1398.586   ,  952.72504 ,  645.959   ,  166.17899 ,  144.66895 ,\n",
              "         189.18289 ,  304.8132  ,  435.10602 ,  449.64383 ,  425.2437  ,\n",
              "         441.93597 ,  407.29465 ,  252.40388 ,  248.36984 ,  336.17105 ,\n",
              "         482.8107  ,  437.53098 ,  533.0868  ,  346.97934 ,  127.68666 ,\n",
              "         110.20843 ,  301.75113 ,  195.50545 ,  174.65164 ,  238.47084 ,\n",
              "         302.3718  ,  313.51758 ,  310.1296  ,  200.29842 ,  172.47307 ,\n",
              "         140.2302  ,  252.48549 ,  289.32437 ,  343.62094 ,  504.1179  ,\n",
              "         635.1342  ,  602.13043 ,  519.06055 ,  214.90276 ,  195.9117  ,\n",
              "         265.0371  ,  198.90123 ,  345.51285 ,  517.2228  ,  631.0296  ,\n",
              "         988.4247  , 1174.214   , 1196.2844  , 1253.9299  ,  526.0653  ,\n",
              "         210.31487 ,  215.27107 ,  169.86008 ,  283.78656 ,  269.76157 ,\n",
              "         228.6349  ,  186.64648 ,  410.54242 ,  601.2651  ,  618.1225  ,\n",
              "         768.7529  , 1158.5457  , 1232.8796  , 1254.4298  ,  423.0244  ,\n",
              "         390.0357  ,  367.23856 ,  209.55775 ,  530.22235 ,  821.38226 ,\n",
              "         812.3729  ,  741.1964  ,  953.4834  , 1258.9906  , 1844.932   ,\n",
              "        1605.2845  , 1112.7659  ,  594.18835 ,  549.7667  ,  632.5435  ,\n",
              "         829.2642  , 1103.2218  , 1130.1029  , 1033.3522  ,  878.5865  ,\n",
              "         595.4085  , 1115.6506  , 1371.1725  , 1385.2511  ,  387.5229  ,\n",
              "         303.7486  ,  495.125   ,  719.5804  ,  648.90265 ,  766.1632  ,\n",
              "         683.23157 ,  596.4121  ,  523.09265 ,  577.3407  , 1337.6213  ,\n",
              "        2454.5972  , 2759.2344  , 3135.8762  , 3407.3806  , 3602.6335  ,\n",
              "        2527.1577  , 1158.0999  ,  679.8432  ,  748.5586  , 1073.4863  ,\n",
              "        1217.7327  , 1459.5656  , 2502.731   , 3075.8247  , 3090.2878  ,\n",
              "        2564.7583  , 2660.5317  , 2928.934   , 3690.556   , 3525.1406  ,\n",
              "        4183.6694  , 5144.068   , 4384.655   , 4164.9604  , 4431.0938  ,\n",
              "        3335.1216  , 3017.6858  , 2589.5396  , 4103.63    , 5582.0933  ,\n",
              "        5108.46    , 1382.9637  ,  953.5419  , 1081.6825  , 2483.1975  ,\n",
              "        2992.0547  , 3127.0942  , 2972.274   , 3054.65    , 3283.713   ,\n",
              "        3617.3674  , 1170.2589  , 1074.1833  , 1059.317   , 1044.5404  ,\n",
              "        1060.6217  , 2115.719   , 3569.8875  , 3474.363   , 2448.0156  ,\n",
              "        2641.418   , 3188.6028  , 4899.915   , 5516.288   , 4635.486   ,\n",
              "        4677.034   , 5732.883   , 5866.738   , 8083.3403  , 5049.8286  ,\n",
              "        1476.2288  , 1873.3275  , 1219.0994  , 2324.073   , 2467.0095  ,\n",
              "        3005.0898  , 2805.0503  , 3688.254   , 2962.7136  , 3664.2388  ,\n",
              "        5618.684   , 6925.097   , 9751.095   , 8790.821   , 5057.626   ,\n",
              "        2971.6848  , 1715.495   , 1125.7706  , 2201.4253  , 3969.4978  ,\n",
              "        2988.5083  , 2911.9285  , 2796.8672  , 3937.8806  , 5449.5894  ,\n",
              "        6395.021   , 6148.243   , 5437.6997  , 4291.8267  , 2362.3967  ,\n",
              "        1657.3405  , 1426.6367  , 1647.7155  , 2730.398   , 1813.7115  ,\n",
              "        2061.1506  , 3095.7227  , 4312.8096  , 5500.727   , 5258.027   ,\n",
              "        5152.0283  , 1331.4062  , 1634.4023  , 2493.4324  , 3957.9526  ,\n",
              "        4499.2144  , 2215.846   , 2587.4119  , 1622.4397  ,  591.875   ,\n",
              "        1297.4727  , 1284.5977  ,  915.22766 ,  940.44977 , 1084.6584  ,\n",
              "         875.8979  , 1041.3549  , 2299.2473  , 3152.6003  , 3518.394   ,\n",
              "        2531.524   , 2682.5737  , 3094.2917  , 3829.3372  , 5550.616   ,\n",
              "        7159.3477  , 8820.524   , 8587.342   , 6777.815   , 5193.292   ,\n",
              "        4793.3384  , 2605.2556  , 1668.3605  , 2510.7183  , 4105.6826  ,\n",
              "        6278.394   , 4109.754   , 1711.1172  , 2261.9832  , 2384.7534  ,\n",
              "        1246.6641  , 1672.8483  , 1103.1345  , 1743.3678  , 1608.4564  ,\n",
              "        1933.904   , 2742.3433  , 3945.3645  , 5765.941   , 6955.8433  ,\n",
              "        8107.7095  ], dtype=float32),\n",
              " 'mape': array([ 5.860151  ,  4.087341  ,  3.775816  ,  4.187658  ,  4.9781423 ,\n",
              "         6.448365  ,  6.6144614 ,  6.061672  ,  7.5475917 ,  9.095927  ,\n",
              "        11.300206  , 10.396474  , 10.109089  , 10.697326  ,  7.8628473 ,\n",
              "         3.6872826 ,  2.585637  ,  2.505004  ,  3.350452  ,  4.013581  ,\n",
              "         2.0036225 ,  2.6397398 ,  2.6087885 ,  3.1609263 ,  1.9612128 ,\n",
              "         1.6679873 ,  1.7952291 ,  2.5901227 ,  2.4362576 ,  3.1327405 ,\n",
              "         4.3595424 ,  5.285637  ,  3.940355  ,  4.3142257 ,  4.3733144 ,\n",
              "         3.6376853 ,  4.3629785 ,  3.7757437 ,  2.6192946 ,  2.900764  ,\n",
              "         5.1501083 ,  2.0147362 ,  1.9706653 ,  1.8104146 ,  1.3007245 ,\n",
              "         0.7535146 ,  1.0192324 ,  1.4282739 ,  1.6741855 ,  2.3589702 ,\n",
              "         2.563099  ,  2.1327195 ,  2.5974853 ,  2.0173264 ,  3.1387615 ,\n",
              "         4.502132  ,  6.95963   ,  6.9602227 ,  6.5331383 ,  6.5757856 ,\n",
              "         5.610285  ,  3.0642037 ,  3.2474003 ,  3.484728  ,  5.2227206 ,\n",
              "         5.2294765 ,  5.727937  ,  5.927383  ,  2.5284474 ,  2.8664036 ,\n",
              "         3.4308906 ,  4.68742   ,  5.841512  ,  4.309815  ,  3.3552825 ,\n",
              "         3.8162112 ,  2.7363598 ,  3.4623704 ,  4.9716797 ,  7.0261016 ,\n",
              "         8.974979  ,  7.1678147 ,  3.4013336 ,  2.7761197 ,  1.5223246 ,\n",
              "         1.4535493 ,  1.6354663 ,  2.252781  ,  2.947562  ,  5.0738955 ,\n",
              "         4.103283  ,  4.2952995 ,  3.7052832 ,  2.4620771 ,  2.0132227 ,\n",
              "         3.84283   ,  3.6306522 ,  5.016276  ,  6.279475  ,  7.757472  ,\n",
              "         5.495675  ,  3.8907118 ,  2.854692  ,  3.5311143 ,  4.464893  ,\n",
              "         5.0162416 ,  6.125715  ,  7.129436  , 10.711449  , 10.664078  ,\n",
              "        10.087246  ,  4.893629  ,  2.0717275 ,  1.3628381 ,  1.8011156 ,\n",
              "         4.219881  ,  4.0556946 ,  5.744895  ,  7.49288   , 15.03298   ,\n",
              "        24.388466  , 35.428123  , 34.702423  , 39.8611    , 42.836586  ,\n",
              "        49.60461   , 26.081121  , 13.669951  ,  6.3608704 ,  5.4986424 ,\n",
              "         7.9925127 ,  6.8575373 ,  8.820604  ,  5.3112006 ,  4.5279126 ,\n",
              "         3.8704064 ,  6.2283874 ,  5.2470317 ,  5.1045504 ,  5.329427  ,\n",
              "         5.7789717 ,  5.358489  ,  3.2211251 ,  8.118447  , 10.231979  ,\n",
              "         6.726865  ,  5.757307  ,  2.404117  ,  4.2864566 ,  2.9776995 ,\n",
              "         4.4548492 ,  6.9262066 ,  6.1590796 ,  7.763827  ,  6.3082023 ,\n",
              "         5.7371473 ,  1.9719498 ,  2.7191217 ,  2.399884  ,  2.5685852 ,\n",
              "         3.9529998 ,  3.6584747 ,  3.4535587 ,  3.301876  ,  3.794225  ,\n",
              "         4.310312  ,  6.4319797 ,  8.567103  ,  6.293656  ,  7.023875  ,\n",
              "         9.469172  ,  9.915061  , 11.217032  , 12.280664  ,  6.209284  ,\n",
              "         3.2802799 ,  3.8508568 ,  3.6124706 ,  3.7172365 ,  4.6127863 ,\n",
              "         6.233847  ,  6.0376983 ,  7.135962  , 10.132261  ,  9.337389  ,\n",
              "         3.379456  ,  5.190334  ,  7.8229227 ,  4.264503  ,  2.3285017 ,\n",
              "         3.0320892 ,  3.1225486 ,  4.572195  ,  5.01346   ,  7.059326  ,\n",
              "         7.1808734 ,  4.628824  ,  2.4294448 ,  2.6893463 ,  2.1346915 ,\n",
              "         4.670391  ,  7.4296794 ,  7.17774   ,  4.927452  ,  2.9697587 ,\n",
              "         1.7036037 ,  2.102083  ,  2.790086  ,  1.9540966 ,  1.7562671 ,\n",
              "         3.8170424 ,  2.455728  ,  3.3356586 ,  2.8912692 ,  3.8006883 ,\n",
              "         4.368519  ,  5.4371586 ,  1.969062  ,  2.0868657 ,  2.132989  ,\n",
              "         2.4014482 ,  2.2829754 ,  1.9878371 ,  1.212721  ,  1.8306261 ,\n",
              "         1.815668  ,  2.5207548 ,  3.292389  ,  3.5837185 ,  6.187771  ,\n",
              "         3.1184072 ,  3.2884552 ,  1.3740312 ,  1.8472781 ,  1.5017242 ,\n",
              "         1.56714   ,  1.5889224 ,  1.1630667 ,  0.83712757,  1.4223003 ,\n",
              "         1.4407552 ,  1.8029895 ,  1.4796977 ,  1.599085  ,  2.2175858 ,\n",
              "         1.7130921 ,  2.1422663 ,  1.8232723 ,  1.7015604 ,  2.0563033 ,\n",
              "         1.7596658 ,  0.98229367,  1.4560665 ,  2.1070144 ,  2.4114134 ,\n",
              "         3.0499952 ,  5.77384   ,  6.6185617 ,  7.4951463 ,  8.227665  ,\n",
              "        10.186892  , 11.928123  , 11.676128  ,  5.199712  ,  2.592971  ,\n",
              "         2.1249874 ,  2.23352   ,  1.9233074 ,  2.8466196 ,  0.7076641 ,\n",
              "         1.0350558 ,  2.1322331 ,  1.7789838 ,  2.1161134 ,  2.1635559 ,\n",
              "         2.4792871 ,  1.9270623 ,  2.255131  ,  1.845723  ,  1.811268  ,\n",
              "         2.2626755 ,  2.3515134 ,  2.117338  ,  3.2111607 ,  3.5736072 ,\n",
              "         5.371579  ,  3.1869485 ,  2.8585389 ,  2.2958062 ,  3.0580995 ,\n",
              "         3.4806094 ,  2.5900195 ,  1.2625039 ,  1.405033  ,  2.7622333 ,\n",
              "         4.3049507 ,  6.2830634 ,  8.513557  , 10.517092  , 14.161083  ,\n",
              "        13.64061   ,  9.320249  ,  6.3080707 ,  1.6300529 ,  1.3983192 ,\n",
              "         1.819187  ,  2.8875935 ,  4.0688186 ,  4.173644  ,  3.9228578 ,\n",
              "         4.0472693 ,  3.7387352 ,  2.3069754 ,  2.306329  ,  3.194118  ,\n",
              "         4.589591  ,  4.1579466 ,  5.0558167 ,  3.300564  ,  1.2102793 ,\n",
              "         1.0371078 ,  2.8088493 ,  1.8151473 ,  1.6353133 ,  2.2353556 ,\n",
              "         2.8412106 ,  2.9520082 ,  2.918753  ,  1.8913203 ,  1.6178724 ,\n",
              "         1.2982846 ,  2.3039372 ,  2.6034815 ,  3.0176406 ,  4.4442587 ,\n",
              "         5.598941  ,  5.266945  ,  4.535595  ,  1.8671705 ,  1.7055051 ,\n",
              "         2.3196983 ,  1.7318262 ,  2.7897274 ,  4.062607  ,  4.8944464 ,\n",
              "         7.6816387 ,  9.1078005 ,  9.207178  ,  9.502263  ,  3.9754753 ,\n",
              "         1.5744725 ,  1.5996995 ,  1.242373  ,  2.077033  ,  1.9747171 ,\n",
              "         1.6764205 ,  1.3502657 ,  2.785834  ,  3.9915614 ,  4.0835915 ,\n",
              "         5.016293  ,  7.6388426 ,  8.078356  ,  8.109144  ,  2.6612601 ,\n",
              "         2.4994817 ,  2.296388  ,  1.3040293 ,  3.2585542 ,  4.9145126 ,\n",
              "         4.7377963 ,  4.2538853 ,  5.3531475 ,  6.980067  , 10.170471  ,\n",
              "         8.772198  ,  6.0037904 ,  3.184009  ,  3.0089974 ,  3.6370165 ,\n",
              "         4.774086  ,  6.289237  ,  6.4191914 ,  5.904084  ,  4.996318  ,\n",
              "         3.1905975 ,  5.85623   ,  7.181029  ,  7.2116575 ,  2.0219858 ,\n",
              "         1.5912374 ,  2.6243296 ,  3.8534112 ,  3.5140622 ,  4.1405344 ,\n",
              "         3.6843975 ,  3.215591  ,  2.8228238 ,  2.88985   ,  6.284895  ,\n",
              "        11.458011  , 12.342679  , 13.76467   , 14.824157  , 15.566195  ,\n",
              "        10.829554  ,  4.9278164 ,  2.8345594 ,  3.0226746 ,  4.3117876 ,\n",
              "         4.720057  ,  5.5167937 ,  9.303037  , 11.212705  , 11.037068  ,\n",
              "         8.631595  ,  8.57773   ,  9.389047  , 11.49777   , 10.463528  ,\n",
              "        11.683611  , 13.823773  , 11.273861  , 10.805959  , 11.400708  ,\n",
              "         8.496614  ,  7.8893795 ,  7.1694746 , 11.423845  , 15.540586  ,\n",
              "        14.24639   ,  3.8430889 ,  2.5450244 ,  2.926231  ,  7.2883105 ,\n",
              "         8.999361  ,  9.586315  ,  9.271843  ,  9.42326   , 10.242951  ,\n",
              "        11.39661   ,  3.655802  ,  3.3454576 ,  3.2290843 ,  3.1591043 ,\n",
              "         3.1852615 ,  6.141231  , 10.163145  ,  9.673941  ,  6.657334  ,\n",
              "         6.975822  ,  8.377457  , 12.244591  , 13.002367  , 10.547288  ,\n",
              "        10.269909  , 12.405405  , 12.598534  , 17.187767  , 10.616799  ,\n",
              "         3.0717638 ,  3.766271  ,  2.39153   ,  4.426362  ,  4.6217623 ,\n",
              "         5.4785867 ,  5.115232  ,  6.8264303 ,  5.6151514 ,  7.090962  ,\n",
              "        11.599259  , 14.5101595 , 20.67855   , 18.67078   , 10.813845  ,\n",
              "         6.3959217 ,  3.68131   ,  2.3239684 ,  4.459366  ,  8.030946  ,\n",
              "         5.953289  ,  5.6428604 ,  5.137942  ,  7.162542  ,  9.831411  ,\n",
              "        11.2098    , 10.556696  ,  9.350716  ,  7.3507614 ,  3.9944015 ,\n",
              "         2.82334   ,  2.3929412 ,  2.8540518 ,  4.729089  ,  3.2363744 ,\n",
              "         3.6810775 ,  5.66858   ,  8.005048  , 10.247124  ,  9.747851  ,\n",
              "         9.54604   ,  2.477174  ,  2.9854128 ,  4.34938   ,  6.8806424 ,\n",
              "         7.7586837 ,  3.8011284 ,  4.4251747 ,  2.761091  ,  1.0093703 ,\n",
              "         2.242207  ,  2.2289226 ,  1.5868819 ,  1.6239101 ,  1.8814805 ,\n",
              "         1.5162615 ,  1.7166462 ,  3.7594323 ,  5.0977936 ,  5.66472   ,\n",
              "         4.075433  ,  4.348675  ,  5.1419644 ,  6.618981  ,  9.824003  ,\n",
              "        12.98138   , 16.388012  , 16.260683  , 13.2497835 , 10.180601  ,\n",
              "         9.383696  ,  5.121853  ,  3.2893925 ,  4.634882  ,  7.40683   ,\n",
              "        11.284329  ,  7.2873406 ,  3.019626  ,  4.0061307 ,  4.1726418 ,\n",
              "         2.2337658 ,  3.0054157 ,  1.9702908 ,  3.1211088 ,  2.7774823 ,\n",
              "         3.492497  ,  5.1419334 ,  7.6572046 , 11.470653  , 14.311554  ,\n",
              "        17.280174  ], dtype=float32),\n",
              " 'mase': 2.2020733,\n",
              " 'mse': array([3.15562562e+05, 1.69165047e+05, 1.44132125e+05, 1.76003203e+05,\n",
              "        2.63520375e+05, 3.91517562e+05, 3.99526219e+05, 3.44422156e+05,\n",
              "        4.93892469e+05, 6.88786938e+05, 9.18702875e+05, 8.00988875e+05,\n",
              "        6.35508688e+05, 6.45535812e+05, 3.57740594e+05, 1.03007414e+05,\n",
              "        5.33133203e+04, 4.65832188e+04, 1.10349016e+05, 1.11646961e+05,\n",
              "        4.35359453e+04, 5.45390977e+04, 4.55849648e+04, 7.64883672e+04,\n",
              "        4.03074453e+04, 2.71076816e+04, 1.90270059e+04, 4.55626055e+04,\n",
              "        4.25344805e+04, 6.63250547e+04, 1.16741703e+05, 1.69440500e+05,\n",
              "        1.10487078e+05, 1.59708281e+05, 1.61630891e+05, 1.23861797e+05,\n",
              "        1.50757391e+05, 1.31196844e+05, 5.50280977e+04, 6.28156445e+04,\n",
              "        1.77474219e+05, 2.68842363e+04, 2.53034434e+04, 2.58045059e+04,\n",
              "        1.34594580e+04, 3.88201562e+03, 9.22788672e+03, 1.22403281e+04,\n",
              "        2.20870137e+04, 3.60827500e+04, 4.87961602e+04, 3.74652578e+04,\n",
              "        4.10563438e+04, 4.17418945e+04, 1.10490461e+05, 2.00761469e+05,\n",
              "        3.48149906e+05, 3.58061312e+05, 3.28374031e+05, 2.96505938e+05,\n",
              "        2.33353781e+05, 1.54046719e+05, 1.43171672e+05, 1.62586703e+05,\n",
              "        2.96452750e+05, 2.66880812e+05, 2.94188594e+05, 3.10067562e+05,\n",
              "        6.27178242e+04, 8.63872109e+04, 9.69540391e+04, 2.01815250e+05,\n",
              "        2.97054594e+05, 2.00675078e+05, 1.27305359e+05, 1.32510266e+05,\n",
              "        8.46021953e+04, 1.74816891e+05, 2.95114281e+05, 4.75889719e+05,\n",
              "        7.21893438e+05, 4.62710188e+05, 1.33154703e+05, 8.13637656e+04,\n",
              "        3.43107852e+04, 3.45205547e+04, 5.36855352e+04, 7.42412266e+04,\n",
              "        1.09339273e+05, 2.79682500e+05, 2.19119391e+05, 1.99934375e+05,\n",
              "        1.65902594e+05, 8.16736484e+04, 4.82389180e+04, 1.65301344e+05,\n",
              "        1.81698328e+05, 3.30644938e+05, 4.63626844e+05, 6.75045625e+05,\n",
              "        3.34911812e+05, 1.69344000e+05, 1.03219461e+05, 1.48348172e+05,\n",
              "        2.98685688e+05, 3.71952438e+05, 4.43305844e+05, 5.27905000e+05,\n",
              "        1.12945238e+06, 1.00652912e+06, 8.03246812e+05, 2.21277531e+05,\n",
              "        6.64889766e+04, 2.66179375e+04, 3.29691523e+04, 1.68663719e+05,\n",
              "        1.76257344e+05, 2.99364906e+05, 4.31794719e+05, 1.91346938e+06,\n",
              "        3.90354050e+06, 6.29502550e+06, 5.49042500e+06, 6.25677100e+06,\n",
              "        6.28618500e+06, 7.23876700e+06, 2.08143475e+06, 6.66785812e+05,\n",
              "        1.44640328e+05, 1.83413734e+05, 3.41025938e+05, 3.02068688e+05,\n",
              "        3.71339250e+05, 2.02418469e+05, 1.36150797e+05, 8.24756250e+04,\n",
              "        1.96007016e+05, 1.61595625e+05, 1.71401094e+05, 2.00606781e+05,\n",
              "        2.37199281e+05, 1.58720219e+05, 6.36029766e+04, 3.38904938e+05,\n",
              "        5.23524188e+05, 2.86211969e+05, 1.92325922e+05, 3.73764375e+04,\n",
              "        1.31962375e+05, 9.33164844e+04, 1.18443625e+05, 3.00599344e+05,\n",
              "        2.28997641e+05, 3.57954781e+05, 2.36219172e+05, 1.71530031e+05,\n",
              "        2.68483613e+04, 4.79165352e+04, 4.00421953e+04, 5.41032422e+04,\n",
              "        1.07641438e+05, 9.80018828e+04, 7.08349922e+04, 6.55987812e+04,\n",
              "        8.53739609e+04, 1.33836688e+05, 2.72516031e+05, 6.54133000e+05,\n",
              "        4.97211812e+05, 6.11189312e+05, 9.92908312e+05, 9.56691312e+05,\n",
              "        1.09541312e+06, 1.19283188e+06, 3.75002188e+05, 2.22053828e+05,\n",
              "        2.60620156e+05, 1.88108875e+05, 1.87927750e+05, 2.49059219e+05,\n",
              "        3.79191938e+05, 4.07706812e+05, 6.24782625e+05, 9.62080500e+05,\n",
              "        7.95344312e+05, 1.40557766e+05, 2.65226344e+05, 6.26269938e+05,\n",
              "        2.05804641e+05, 6.53085820e+04, 1.33562875e+05, 1.14691586e+05,\n",
              "        2.26913922e+05, 2.61227344e+05, 5.08516812e+05, 4.90744344e+05,\n",
              "        2.38722219e+05, 6.85554844e+04, 7.30579844e+04, 5.36114375e+04,\n",
              "        3.28222750e+05, 6.26447562e+05, 5.17733938e+05, 3.32536906e+05,\n",
              "        1.72656625e+05, 8.28139297e+04, 1.43392859e+05, 8.83170859e+04,\n",
              "        5.15845234e+04, 4.20796602e+04, 1.78049500e+05, 1.17352047e+05,\n",
              "        1.16870359e+05, 1.02416914e+05, 1.67489453e+05, 2.05509344e+05,\n",
              "        2.73222562e+05, 4.73887266e+04, 4.60582461e+04, 5.33724297e+04,\n",
              "        7.87067500e+04, 7.06484219e+04, 5.23133984e+04, 2.50282949e+04,\n",
              "        4.52028984e+04, 4.14731211e+04, 7.00108125e+04, 1.24132516e+05,\n",
              "        1.34167734e+05, 3.38401844e+05, 9.75608906e+04, 1.10023234e+05,\n",
              "        1.99198105e+04, 3.32736992e+04, 2.43713613e+04, 2.76616055e+04,\n",
              "        2.70385918e+04, 1.58114443e+04, 1.16168496e+04, 2.74852637e+04,\n",
              "        2.95268613e+04, 3.95873516e+04, 2.81845449e+04, 3.19157754e+04,\n",
              "        5.60373164e+04, 3.98339648e+04, 5.02201758e+04, 3.19762402e+04,\n",
              "        2.96142949e+04, 4.48334258e+04, 4.32264375e+04, 1.52424111e+04,\n",
              "        2.86075918e+04, 4.23484023e+04, 7.25031172e+04, 1.21924250e+05,\n",
              "        6.41490500e+05, 8.50461375e+05, 1.11135250e+06, 1.22003288e+06,\n",
              "        1.54110100e+06, 2.03451888e+06, 1.76440675e+06, 4.22098719e+05,\n",
              "        1.30513617e+05, 7.30579375e+04, 8.56106875e+04, 7.42399219e+04,\n",
              "        1.49466484e+05, 1.25624111e+04, 2.13100684e+04, 9.81801094e+04,\n",
              "        7.28017891e+04, 1.26064570e+05, 1.01337180e+05, 1.24553477e+05,\n",
              "        7.13406719e+04, 8.41951797e+04, 6.25290625e+04, 8.18796172e+04,\n",
              "        1.27303258e+05, 8.94660078e+04, 1.04100891e+05, 1.66147531e+05,\n",
              "        2.32076047e+05, 4.41966531e+05, 1.75839109e+05, 1.76445078e+05,\n",
              "        9.12171094e+04, 1.67975547e+05, 1.87876500e+05, 1.07636641e+05,\n",
              "        3.26579023e+04, 5.35408945e+04, 1.38144219e+05, 3.28639000e+05,\n",
              "        6.38893000e+05, 1.08279062e+06, 1.55802688e+06, 2.42137000e+06,\n",
              "        2.08980188e+06, 9.83022000e+05, 4.27435062e+05, 5.84014375e+04,\n",
              "        4.02858125e+04, 5.27582695e+04, 1.33694031e+05, 2.41685969e+05,\n",
              "        2.54569906e+05, 2.18475656e+05, 2.39844203e+05, 1.72919391e+05,\n",
              "        9.46134297e+04, 8.14815547e+04, 1.83792781e+05, 3.41631688e+05,\n",
              "        2.67091656e+05, 3.54821562e+05, 1.69607172e+05, 2.63052148e+04,\n",
              "        2.11336660e+04, 1.11685516e+05, 6.08848320e+04, 4.64013945e+04,\n",
              "        6.97663359e+04, 1.16935750e+05, 1.44631531e+05, 1.14627359e+05,\n",
              "        7.92805547e+04, 5.69165547e+04, 3.03999824e+04, 9.47754453e+04,\n",
              "        1.19674555e+05, 2.15399078e+05, 3.15528062e+05, 4.17612281e+05,\n",
              "        3.91753469e+05, 2.83128781e+05, 8.15815625e+04, 5.00838711e+04,\n",
              "        1.01595758e+05, 6.17700664e+04, 3.16725938e+05, 5.76747812e+05,\n",
              "        7.41102938e+05, 1.33218062e+06, 1.56516288e+06, 1.55553262e+06,\n",
              "        1.68517800e+06, 3.21848812e+05, 6.30699648e+04, 7.78368047e+04,\n",
              "        5.12543789e+04, 1.14444672e+05, 1.13520664e+05, 7.03018281e+04,\n",
              "        4.71100312e+04, 4.52434969e+05, 7.79104812e+05, 7.32536688e+05,\n",
              "        1.03909069e+06, 1.56208825e+06, 1.63956662e+06, 1.72790162e+06,\n",
              "        4.00524938e+05, 2.34607969e+05, 1.76724578e+05, 6.78014375e+04,\n",
              "        3.90380906e+05, 9.80138500e+05, 1.03536912e+06, 8.44671688e+05,\n",
              "        1.38894238e+06, 1.98340575e+06, 3.62835000e+06, 2.66920550e+06,\n",
              "        1.42116625e+06, 4.54600656e+05, 3.65966188e+05, 9.46591875e+05,\n",
              "        1.45184338e+06, 1.85899962e+06, 1.89930900e+06, 1.82373088e+06,\n",
              "        1.21286275e+06, 4.94639656e+05, 1.49650112e+06, 2.03091888e+06,\n",
              "        2.25657600e+06, 2.11181391e+05, 1.21395414e+05, 3.04311312e+05,\n",
              "        7.11903125e+05, 6.20310625e+05, 8.05388000e+05, 6.26904125e+05,\n",
              "        5.66389625e+05, 4.27519062e+05, 7.83490438e+05, 3.63024725e+06,\n",
              "        8.18037700e+06, 1.07676110e+07, 1.26563590e+07, 1.33500370e+07,\n",
              "        1.33957210e+07, 6.52510400e+06, 1.60696225e+06, 8.56755125e+05,\n",
              "        1.15616888e+06, 1.69268262e+06, 2.17123725e+06, 3.34217825e+06,\n",
              "        7.84993050e+06, 1.08378820e+07, 1.05727040e+07, 1.01602590e+07,\n",
              "        1.14205950e+07, 1.16179760e+07, 1.73510000e+07, 1.79301540e+07,\n",
              "        2.70626400e+07, 3.72665360e+07, 2.97687480e+07, 2.14580120e+07,\n",
              "        2.44065800e+07, 1.56006630e+07, 1.03771430e+07, 9.93532300e+06,\n",
              "        2.18889420e+07, 3.45002520e+07, 2.72495560e+07, 2.51544575e+06,\n",
              "        2.11410050e+06, 1.65101438e+06, 8.78065100e+06, 1.42263850e+07,\n",
              "        1.50277490e+07, 1.42628800e+07, 1.11521150e+07, 1.31385830e+07,\n",
              "        1.44270310e+07, 2.10808025e+06, 2.37276825e+06, 2.06520375e+06,\n",
              "        1.51271862e+06, 1.63592488e+06, 6.01036300e+06, 1.48181600e+07,\n",
              "        1.51462650e+07, 8.88826800e+06, 1.03656160e+07, 1.24236500e+07,\n",
              "        3.12300380e+07, 4.44121720e+07, 3.35616920e+07, 3.37025520e+07,\n",
              "        4.33024880e+07, 4.04648120e+07, 6.68120760e+07, 2.68143000e+07,\n",
              "        3.37227625e+06, 6.18198100e+06, 3.33603075e+06, 9.76003500e+06,\n",
              "        9.50540900e+06, 1.48300480e+07, 1.08089090e+07, 1.52812330e+07,\n",
              "        1.21298720e+07, 1.47111110e+07, 4.46197040e+07, 6.19226600e+07,\n",
              "        1.05739152e+08, 8.06071200e+07, 3.00356780e+07, 1.30779050e+07,\n",
              "        4.55989850e+06, 1.67929975e+06, 6.99429200e+06, 1.63486880e+07,\n",
              "        1.21498720e+07, 1.21798100e+07, 1.68979380e+07, 2.39387620e+07,\n",
              "        3.73065320e+07, 5.09610680e+07, 4.59522160e+07, 3.20003220e+07,\n",
              "        2.06371660e+07, 8.14506450e+06, 4.14795200e+06, 4.23500700e+06,\n",
              "        3.09785350e+06, 8.37916900e+06, 7.36109850e+06, 7.06096000e+06,\n",
              "        1.57310800e+07, 2.78767000e+07, 4.07340160e+07, 3.28521320e+07,\n",
              "        2.89016620e+07, 3.40229975e+06, 3.84223750e+06, 8.10805100e+06,\n",
              "        1.74778640e+07, 2.13824540e+07, 5.77503650e+06, 7.30699550e+06,\n",
              "        3.70580475e+06, 6.14523812e+05, 1.92766775e+06, 2.29575050e+06,\n",
              "        1.09031838e+06, 1.19422512e+06, 2.01535212e+06, 1.38584200e+06,\n",
              "        2.60915475e+06, 7.48125100e+06, 1.25728590e+07, 1.49188430e+07,\n",
              "        7.64713050e+06, 9.50859600e+06, 1.16537280e+07, 2.15389020e+07,\n",
              "        4.32745680e+07, 6.52255360e+07, 9.30124960e+07, 8.49971200e+07,\n",
              "        5.87007160e+07, 3.43533080e+07, 2.82686400e+07, 9.30443000e+06,\n",
              "        4.66935400e+06, 8.00185850e+06, 2.05975080e+07, 4.07234520e+07,\n",
              "        1.93118560e+07, 4.04351800e+06, 5.92505450e+06, 7.37347950e+06,\n",
              "        2.68488600e+06, 5.27761950e+06, 1.84824825e+06, 4.87236000e+06,\n",
              "        4.87888300e+06, 5.77537050e+06, 1.21702160e+07, 2.70199620e+07,\n",
              "        4.94704520e+07, 6.90301360e+07, 8.50554960e+07], dtype=float32),\n",
              " 'rmse': array([  561.7495 ,   411.29678,   379.64737,   419.52734,   513.34235,\n",
              "          625.7136 ,   632.0809 ,   586.8749 ,   702.77484,   829.9319 ,\n",
              "          958.48987,   894.9798 ,   797.188  ,   803.45245,   598.1142 ,\n",
              "          320.9477 ,   230.89677,   215.83145,   332.18823,   334.13614,\n",
              "          208.65268,   233.53607,   213.50635,   276.5653 ,   200.76714,\n",
              "          164.6441 ,   137.93842,   213.454  ,   206.23889,   257.5365 ,\n",
              "          341.67484,   411.6315 ,   332.39597,   399.6352 ,   402.03345,\n",
              "          351.94003,   388.2749 ,   362.21103,   234.58067,   250.6305 ,\n",
              "          421.2769 ,   163.96413,   159.07056,   160.6378 ,   116.0149 ,\n",
              "           62.30582,    96.06189,   110.63602,   148.617  ,   189.9546 ,\n",
              "          220.89853,   193.55943,   202.62364,   204.30833,   332.40106,\n",
              "          448.06412,   590.0423 ,   598.3822 ,   573.03925,   544.52356,\n",
              "          483.06705,   392.48785,   378.3803 ,   403.22043,   544.47473,\n",
              "          516.60504,   542.39154,   556.8371 ,   250.43527,   293.917  ,\n",
              "          311.37442,   449.23853,   545.02716,   447.9677 ,   356.79877,\n",
              "          364.0196 ,   290.86456,   418.11108,   543.2442 ,   689.8476 ,\n",
              "          849.6431 ,   680.228  ,   364.9037 ,   285.24335,   185.2317 ,\n",
              "          185.79707,   231.70139,   272.47244,   330.6649 ,   528.85016,\n",
              "          468.1019 ,   447.1402 ,   407.3114 ,   285.786  ,   219.63359,\n",
              "          406.5727 ,   426.26086,   575.01733,   680.9015 ,   821.6116 ,\n",
              "          578.71564,   411.51428,   321.27786,   385.1599 ,   546.5214 ,\n",
              "          609.879  ,   665.81213,   726.5707 ,  1062.757  ,  1003.2593 ,\n",
              "          896.24036,   470.40146,   257.85455,   163.15005,   181.5741 ,\n",
              "          410.6869 ,   419.83014,   547.14246,   657.1109 ,  1383.2821 ,\n",
              "         1975.7379 ,  2508.9888 ,  2343.1655 ,  2501.3538 ,  2507.2266 ,\n",
              "         2690.4956 ,  1442.7178 ,   816.5695 ,   380.3161 ,   428.26828,\n",
              "          583.97424,   549.6077 ,   609.3761 ,   449.9094 ,   368.98618,\n",
              "          287.1857 ,   442.7268 ,   401.9896 ,   414.00616,   447.89148,\n",
              "          487.0311 ,   398.39706,   252.1963 ,   582.1554 ,   723.54974,\n",
              "          534.98785,   438.5498 ,   193.32986,   363.26624,   305.47745,\n",
              "          344.1564 ,   548.2694 ,   478.537  ,   598.2932 ,   486.02383,\n",
              "          414.16183,   163.85469,   218.89845,   200.10545,   232.60104,\n",
              "          328.08755,   313.05252,   266.14844,   256.1226 ,   292.18823,\n",
              "          365.83694,   522.03064,   808.7849 ,   705.13245,   781.78595,\n",
              "          996.4478 ,   978.10596,  1046.6199 ,  1092.1685 ,   612.3742 ,\n",
              "          471.22586,   510.5097 ,   433.7152 ,   433.50635,   499.05832,\n",
              "          615.7856 ,   638.5192 ,   790.4319 ,   980.857  ,   891.82074,\n",
              "          374.91034,   515.0013 ,   791.3722 ,   453.65695,   255.55544,\n",
              "          365.46252,   338.66144,   476.35483,   511.10403,   713.10364,\n",
              "          700.5315 ,   488.59207,   261.83102,   270.2924 ,   231.54144,\n",
              "          572.9073 ,   791.4844 ,   719.5373 ,   576.6601 ,   415.51968,\n",
              "          287.7741 ,   378.6725 ,   297.1819 ,   227.12227,   205.13327,\n",
              "          421.95914,   342.56683,   341.86307,   320.02643,   409.25476,\n",
              "          453.3314 ,   522.707  ,   217.68951,   214.61185,   231.02473,\n",
              "          280.54724,   265.7977 ,   228.72122,   158.20334,   212.60973,\n",
              "          203.6495 ,   264.59555,   352.32443,   366.28912,   581.72314,\n",
              "          312.34738,   331.6975 ,   141.13756,   182.4108 ,   156.1133 ,\n",
              "          166.31778,   164.43416,   125.74356,   107.78149,   165.7868 ,\n",
              "          171.83382,   198.9657 ,   167.88252,   178.64987,   236.72202,\n",
              "          199.58447,   224.09859,   178.81902,   172.08804,   211.73904,\n",
              "          207.90968,   123.46016,   169.13779,   205.78728,   269.26404,\n",
              "          349.1765 ,   800.93097,   922.20465,  1054.207  ,  1104.551  ,\n",
              "         1241.4109 ,  1426.3656 ,  1328.3097 ,   649.6912 ,   361.2667 ,\n",
              "          270.29233,   292.59305,   272.47003,   386.60898,   112.08216,\n",
              "          145.97968,   313.33704,   269.81805,   355.05573,   318.33502,\n",
              "          352.92136,   267.09674,   290.16406,   250.05812,   286.14615,\n",
              "          356.7958 ,   299.10867,   322.6467 ,   407.61197,   481.7427 ,\n",
              "          664.8056 ,   419.33173,   420.05365,   302.0217 ,   409.8482 ,\n",
              "          433.44724,   328.08023,   180.71498,   231.38905,   371.67758,\n",
              "          573.27045,   799.3078 ,  1040.5723 ,  1248.2095 ,  1556.0752 ,\n",
              "         1445.6147 ,   991.4747 ,   653.78516,   241.6639 ,   200.71326,\n",
              "          229.69168,   365.64194,   491.61566,   504.5492 ,   467.4138 ,\n",
              "          489.73892,   415.83575,   307.59296,   285.44974,   428.7106 ,\n",
              "          584.4927 ,   516.8091 ,   595.669  ,   411.83392,   162.18883,\n",
              "          145.37422,   334.19382,   246.74852,   215.40982,   264.13318,\n",
              "          341.95868,   380.30453,   338.56662,   281.56802,   238.5719 ,\n",
              "          174.35591,   307.8562 ,   345.9401 ,   464.11105,   561.7188 ,\n",
              "          646.2293 ,   625.9021 ,   532.09845,   285.62488,   223.79427,\n",
              "          318.74088,   248.53584,   562.78406,   759.43915,   860.87335,\n",
              "         1154.2013 ,  1251.0647 ,  1247.21   ,  1298.144  ,   567.3172 ,\n",
              "          251.13734,   278.99246,   226.3943 ,   338.29672,   336.92828,\n",
              "          265.14493,   217.04845,   672.6329 ,   882.6691 ,   855.88354,\n",
              "         1019.358  ,  1249.8352 ,  1280.4556 ,  1314.4967 ,   632.87036,\n",
              "          484.36346,   420.38623,   260.3871 ,   624.8047 ,   990.0194 ,\n",
              "         1017.5309 ,   919.0602 ,  1178.5339 ,  1408.3344 ,  1904.8229 ,\n",
              "         1633.7703 ,  1192.1268 ,   674.2408 ,   604.95135,   972.9295 ,\n",
              "         1204.9246 ,  1363.4513 ,  1378.1542 ,  1350.4558 ,  1101.3004 ,\n",
              "          703.3062 ,  1223.3156 ,  1425.1031 ,  1502.1904 ,   459.54477,\n",
              "          348.41843,   551.64417,   843.7435 ,   787.598  ,   897.4341 ,\n",
              "          791.77277,   752.5886 ,   653.8494 ,   885.14996,  1905.3208 ,\n",
              "         2860.1357 ,  3281.4038 ,  3557.5776 ,  3653.7703 ,  3660.0164 ,\n",
              "         2554.4282 ,  1267.6602 ,   925.61066,  1075.2529 ,  1301.0314 ,\n",
              "         1473.5118 ,  1828.1625 ,  2801.7727 ,  3292.0938 ,  3251.5696 ,\n",
              "         3187.516  ,  3379.437  ,  3408.5151 ,  4165.453  ,  4234.401  ,\n",
              "         5202.1763 ,  6104.6323 ,  5456.074  ,  4632.2793 ,  4940.3013 ,\n",
              "         3949.7673 ,  3221.3572 ,  3152.0347 ,  4678.562  ,  5873.6914 ,\n",
              "         5220.111  ,  1586.0157 ,  1453.9946 ,  1284.9181 ,  2963.2163 ,\n",
              "         3771.788  ,  3876.564  ,  3776.6228 ,  3339.4783 ,  3624.7183 ,\n",
              "         3798.2932 ,  1451.9229 ,  1540.3793 ,  1437.0817 ,  1229.9263 ,\n",
              "         1279.0327 ,  2451.6042 ,  3849.4363 ,  3891.8203 ,  2981.3198 ,\n",
              "         3219.5676 ,  3524.72   ,  5588.3843 ,  6664.2456 ,  5793.245  ,\n",
              "         5805.3896 ,  6580.4624 ,  6361.196  ,  8173.865  ,  5178.2524 ,\n",
              "         1836.3759 ,  2486.359  ,  1826.4805 ,  3124.1055 ,  3083.0842 ,\n",
              "         3850.98   ,  3287.6904 ,  3909.1218 ,  3482.7966 ,  3835.5066 ,\n",
              "         6679.798  ,  7869.095  , 10282.954  ,  8978.146  ,  5480.4814 ,\n",
              "         3616.3386 ,  2135.3918 ,  1295.8779 ,  2644.6724 ,  4043.351  ,\n",
              "         3485.6667 ,  3489.9585 ,  4110.71   ,  4892.725  ,  6107.907  ,\n",
              "         7138.702  ,  6778.8066 ,  5656.883  ,  4542.8145 ,  2853.9558 ,\n",
              "         2036.6521 ,  2057.9133 ,  1760.072  ,  2894.6794 ,  2713.1345 ,\n",
              "         2657.2466 ,  3966.2424 ,  5279.839  ,  6382.3203 ,  5731.6777 ,\n",
              "         5376.0264 ,  1844.5323 ,  1960.1626 ,  2847.4639 ,  4180.6533 ,\n",
              "         4624.1167 ,  2403.1304 ,  2703.1455 ,  1925.0466 ,   783.91565,\n",
              "         1388.4048 ,  1515.1733 ,  1044.1831 ,  1092.806  ,  1419.631  ,\n",
              "         1177.2179 ,  1615.2878 ,  2735.1875 ,  3545.8228 ,  3862.492  ,\n",
              "         2765.3445 ,  3083.601  ,  3413.7559 ,  4641.002  ,  6578.341  ,\n",
              "         8076.233  ,  9644.299  ,  9219.388  ,  7661.639  ,  5861.1694 ,\n",
              "         5316.826  ,  3050.3164 ,  2160.8687 ,  2828.7556 ,  4538.4478 ,\n",
              "         6381.4927 ,  4394.5254 ,  2010.85   ,  2434.1433 ,  2715.415  ,\n",
              "         1638.5621 ,  2297.307  ,  1359.5029 ,  2207.3423 ,  2208.8193 ,\n",
              "         2403.2    ,  3488.5837 ,  5198.0728 ,  7033.5234 ,  8308.4375 ,\n",
              "         9222.554  ], dtype=float32)}"
            ]
          },
          "metadata": {},
          "execution_count": 312
        }
      ]
    },
    {
      "cell_type": "markdown",
      "source": [
        "## Make our evaluation function work for larger horizons"
      ],
      "metadata": {
        "id": "GiNtKyFGjMpi"
      }
    },
    {
      "cell_type": "code",
      "source": [
        "tf.reduce_mean(model_3_results['mae']).numpy()"
      ],
      "metadata": {
        "colab": {
          "base_uri": "https://localhost:8080/"
        },
        "id": "BZxsR2ZfqyqC",
        "outputId": "11f7ff9c-77f9-49e8-bb51-836a72aaef36"
      },
      "execution_count": 313,
      "outputs": [
        {
          "output_type": "execute_result",
          "data": {
            "text/plain": [
              "1237.5065"
            ]
          },
          "metadata": {},
          "execution_count": 313
        }
      ]
    },
    {
      "cell_type": "code",
      "source": [
        "# Create a function to take in model predictions and truth values and return evaluation metrics\n",
        "def evaluate_preds(y_true, y_pred):\n",
        "    # Make sure float32 datatype (for metric calculation)\n",
        "    y_true = tf.cast(y_true, dtype=tf.float32)\n",
        "    y_pred = tf.cast(y_pred, dtype=tf.float32)\n",
        "\n",
        "    # Calculate various evaluation metrics\n",
        "    mae = tf.keras.metrics.mean_absolute_error(y_true, y_pred)\n",
        "    mse = tf.keras.metrics.mean_squared_error(y_true, y_pred)\n",
        "    rmse = tf.sqrt(mse)\n",
        "    mape = tf.keras.metrics.mean_absolute_percentage_error(y_true, y_pred)\n",
        "    mase = mean_absolute_scaled_error(y_true, y_pred)\n",
        "\n",
        "    # Account for different sized metrics (for longer horizons, we want to reduce metrics to a single value)\n",
        "    if mae.ndim > 0:\n",
        "        mae = tf.reduce_mean(mae)\n",
        "        mse = tf.reduce_mean(mse)\n",
        "        rmse = tf.reduce_mean(rmse)\n",
        "        mape = tf.reduce_mean(mape)\n",
        "        mase = tf.reduce_mean(mase)\n",
        "\n",
        "    return {\"mae\": mae.numpy(),\n",
        "            \"mse\": mse.numpy(),\n",
        "            \"rmse\": rmse.numpy(),\n",
        "            \"mape\": mape.numpy(),\n",
        "            \"mase\": mase.numpy()}"
      ],
      "metadata": {
        "id": "y1gcliRFqoOQ"
      },
      "execution_count": 314,
      "outputs": []
    },
    {
      "cell_type": "code",
      "source": [
        "# Get model 3 results aggregated to single value\n",
        "model_3_results = evaluate_preds(y_true=tf.squeeze(test_labels),\n",
        "                                 y_pred=model_3_preds)\n",
        "model_3_results"
      ],
      "metadata": {
        "colab": {
          "base_uri": "https://localhost:8080/"
        },
        "id": "ZpBPSwm8stS3",
        "outputId": "f1d53467-d2e5-4b9a-cc39-001c91a7b806"
      },
      "execution_count": 315,
      "outputs": [
        {
          "output_type": "execute_result",
          "data": {
            "text/plain": [
              "{'mae': 1237.5065,\n",
              " 'mape': 5.558879,\n",
              " 'mase': 2.2020733,\n",
              " 'mse': 5405199.0,\n",
              " 'rmse': 1425.7478}"
            ]
          },
          "metadata": {},
          "execution_count": 315
        }
      ]
    },
    {
      "cell_type": "code",
      "source": [
        "model_1_results, model_2_results, naive_results"
      ],
      "metadata": {
        "colab": {
          "base_uri": "https://localhost:8080/"
        },
        "id": "Guvd1Dbbs5Qb",
        "outputId": "6180967b-a9d6-4c3c-a7b7-f7bf6cbbecb0"
      },
      "execution_count": 316,
      "outputs": [
        {
          "output_type": "execute_result",
          "data": {
            "text/plain": [
              "({'mae': 568.9511,\n",
              "  'mape': 2.5448983,\n",
              "  'mase': 0.99948955,\n",
              "  'mse': 1171743.8,\n",
              "  'rmse': 1082.4711},\n",
              " {'mae': 605.8741,\n",
              "  'mape': 2.726445,\n",
              "  'mase': 1.0590738,\n",
              "  'mse': 1273360.8,\n",
              "  'rmse': 1128.4329},\n",
              " {'mae': 567.9802,\n",
              "  'mape': 2.516525,\n",
              "  'mase': 0.99957,\n",
              "  'mse': 1147547.0,\n",
              "  'rmse': 1071.2362})"
            ]
          },
          "metadata": {},
          "execution_count": 316
        }
      ]
    },
    {
      "cell_type": "markdown",
      "source": [
        "We've made and evaluated predictions with `model_3`, let's visualize, visualize, visualize!"
      ],
      "metadata": {
        "id": "eSbvhVpatQa0"
      }
    },
    {
      "cell_type": "code",
      "source": [
        "offset = 300\n",
        "plt.figure(figsize=(10, 7))\n",
        "plot_time_series(timesteps=X_test[-len(test_windows):], \n",
        "                 values=test_labels[:, 0], \n",
        "                 start=offset,\n",
        "                 format=\"-\",\n",
        "                 label='Test Data')\n",
        "plot_time_series(timesteps=X_test[-len(test_windows):],\n",
        "                 values=model_3_preds,\n",
        "                 start=offset,\n",
        "                 label='model_3_preds')"
      ],
      "metadata": {
        "colab": {
          "base_uri": "https://localhost:8080/",
          "height": 442
        },
        "id": "qIkjo6a9s9Ua",
        "outputId": "e1f0ecd4-99b5-4f8a-e396-52100795797a"
      },
      "execution_count": 317,
      "outputs": [
        {
          "output_type": "display_data",
          "data": {
            "text/plain": [
              "<Figure size 720x504 with 1 Axes>"
            ],
            "image/png": "[encoded data removed]"
          },
          "metadata": {
            "needs_background": "light"
          }
        }
      ]
    },
    {
      "cell_type": "code",
      "source": [
        "offset = 300\n",
        "plt.figure(figsize=(10, 7))\n",
        "plot_time_series(timesteps=X_test[-len(test_windows):], \n",
        "                 values=test_labels[:, 0], \n",
        "                 start=offset,\n",
        "                 label='Test Data')\n",
        "plot_time_series(timesteps=X_test[-len(test_windows):],\n",
        "                 values=tf.reduce_mean(model_3_preds, axis=1),\n",
        "                 start=offset,\n",
        "                 format=\"-\",\n",
        "                 label='model_3_preds')"
      ],
      "metadata": {
        "colab": {
          "base_uri": "https://localhost:8080/",
          "height": 442
        },
        "id": "zHHCaY9-t7sL",
        "outputId": "94adb58d-948a-4a33-8fe9-faad9ccabe0e"
      },
      "execution_count": 318,
      "outputs": [
        {
          "output_type": "display_data",
          "data": {
            "text/plain": [
              "<Figure size 720x504 with 1 Axes>"
            ],
            "image/png": "[encoded data removed]"
          },
          "metadata": {
            "needs_background": "light"
          }
        }
      ]
    },
    {
      "cell_type": "markdown",
      "source": [
        "## Which of our models is performing the best so far?\n",
        "\n",
        "So we've trained a few models, now let's compare them and see how they've gone..."
      ],
      "metadata": {
        "id": "Z6jMe-F6vAvt"
      }
    },
    {
      "cell_type": "code",
      "source": [
        "pd.DataFrame({\"naive\": naive_results[\"mae\"],\n",
        "              \"horizon_1_window_7\": model_1_results[\"mae\"],\n",
        "              \"horizon_1_window_30\": model_2_results[\"mae\"],\n",
        "              \"horizon_7_window_30\": model_3_results[\"mae\"]}, index=[\"mae\"]).plot(figsize=(10, 7), kind=\"bar\")"
      ],
      "metadata": {
        "colab": {
          "base_uri": "https://localhost:8080/",
          "height": 458
        },
        "id": "MHC0qzIs5cdq",
        "outputId": "b0281b06-4eec-4b94-e310-069b852afaae"
      },
      "execution_count": 319,
      "outputs": [
        {
          "output_type": "execute_result",
          "data": {
            "text/plain": [
              "<matplotlib.axes._subplots.AxesSubplot at 0x7fc274b745d0>"
            ]
          },
          "metadata": {},
          "execution_count": 319
        },
        {
          "output_type": "display_data",
          "data": {
            "text/plain": [
              "<Figure size 720x504 with 1 Axes>"
            ],
            "image/png": "[encoded data removed]"
          },
          "metadata": {
            "needs_background": "light"
          }
        }
      ]
    },
    {
      "cell_type": "markdown",
      "source": [
        "> 🔑 **Note:** You might be wondering, why are the naive results so good? One  of the reasons could be due to the presence of autocorrelation in the data. If a time series has autocorrelation it means the value at `t+1` (the next timestep) is typically close to the value at `t` (the current timestep). In other wordsm today's value is probably pretty close to yesterday's value. Of course, this isn't always the case but when it is (stock market prices often sem autocorrelated but often fluctuate randomly), a naive model will often get fairly good results.\n",
        "\n",
        "> 📖 **Resource:** For more on how autocorrelation influences a model's predictions, see this article [How (not) to use Machine Learning for time series forecasting: Avoiding the pitfalls by Vegard Flovik](https://towardsdatascience.com/how-not-to-use-machine-learning-for-time-series-forecasting-avoiding-the-pitfalls-19f9d7adf424)"
      ],
      "metadata": {
        "id": "CZGSNrkI5-1a"
      }
    },
    {
      "cell_type": "markdown",
      "source": [
        "## Model 4: Conv1D"
      ],
      "metadata": {
        "id": "SyY54VjG9Ncj"
      }
    },
    {
      "cell_type": "code",
      "source": [
        "HORIZON = 1 # predict next day of Bitcoin prices\n",
        "WINDOW_SIZE = 7 # use previous week worth data"
      ],
      "metadata": {
        "id": "galDPdmD9fZj"
      },
      "execution_count": 320,
      "outputs": []
    },
    {
      "cell_type": "code",
      "source": [
        "# Create windowed data\n",
        "full_windows, full_labels = make_windows(prices, window_size=WINDOW_SIZE, horizon=HORIZON)\n",
        "len(full_windows), len(full_labels)"
      ],
      "metadata": {
        "colab": {
          "base_uri": "https://localhost:8080/"
        },
        "id": "xTc67ANj9mXj",
        "outputId": "badc67f0-759d-4f1e-f1b3-bddb593d8d34"
      },
      "execution_count": 321,
      "outputs": [
        {
          "output_type": "execute_result",
          "data": {
            "text/plain": [
              "(2780, 2780)"
            ]
          },
          "metadata": {},
          "execution_count": 321
        }
      ]
    },
    {
      "cell_type": "code",
      "source": [
        "# Create train/test sets\n",
        "train_windows, test_windows, train_labels, test_labels = make_train_test_splits(full_windows, full_labels, test_split=0.2)\n",
        "len(train_windows), len(test_windows), len(train_labels), len(test_labels)"
      ],
      "metadata": {
        "colab": {
          "base_uri": "https://localhost:8080/"
        },
        "id": "__owLkzp9yGO",
        "outputId": "ec205d39-e636-4855-8266-7229b88a4434"
      },
      "execution_count": 322,
      "outputs": [
        {
          "output_type": "execute_result",
          "data": {
            "text/plain": [
              "(2224, 556, 2224, 556)"
            ]
          },
          "metadata": {},
          "execution_count": 322
        }
      ]
    },
    {
      "cell_type": "markdown",
      "source": [
        "We need an input shape of: `(batch_size, timesteps, input_dims)`...\n",
        "\n",
        "However our data isn't in that shape yet..."
      ],
      "metadata": {
        "id": "0dtOcqMT-BPT"
      }
    },
    {
      "cell_type": "code",
      "source": [
        "# Check data input shape\n",
        "train_windows[0].shape # return (WINDOW_SIZE, )"
      ],
      "metadata": {
        "colab": {
          "base_uri": "https://localhost:8080/"
        },
        "id": "3i7B6ksz-eDg",
        "outputId": "54f3ef5c-3517-484a-b6a9-587b0b34a0b6"
      },
      "execution_count": 323,
      "outputs": [
        {
          "output_type": "execute_result",
          "data": {
            "text/plain": [
              "(7,)"
            ]
          },
          "metadata": {},
          "execution_count": 323
        }
      ]
    },
    {
      "cell_type": "code",
      "source": [
        "# Before we pass our data to the Conv1D layer, we have to reshape it in order to make sure it works\n",
        "x = tf.constant(train_windows[0])\n",
        "x"
      ],
      "metadata": {
        "colab": {
          "base_uri": "https://localhost:8080/"
        },
        "id": "Ig_LcOko-g50",
        "outputId": "9c362d9a-2ae1-4243-b6c3-ebd501073393"
      },
      "execution_count": 324,
      "outputs": [
        {
          "output_type": "execute_result",
          "data": {
            "text/plain": [
              "<tf.Tensor: shape=(7,), dtype=float64, numpy=\n",
              "array([123.65499, 125.455  , 108.58483, 118.67466, 121.33866, 120.65533,\n",
              "       121.795  ])>"
            ]
          },
          "metadata": {},
          "execution_count": 324
        }
      ]
    },
    {
      "cell_type": "code",
      "source": [
        "expand_dims_layer = layers.Lambda(lambda x: tf.expand_dims(x, axis=1)) # add an extra dimension for `input_dim`"
      ],
      "metadata": {
        "id": "-yVChtAe-88c"
      },
      "execution_count": 325,
      "outputs": []
    },
    {
      "cell_type": "code",
      "source": [
        "# Test our our lambda layer\n",
        "print(f'Original shape: {x.shape}') # (WINDOW_SIZE)\n",
        "print(f'Expanded shape: {expand_dims_layer(x).shape}') # output = ...?\n",
        "print(f'Original values with expanded shape:\\n {expand_dims_layer(x)}')"
      ],
      "metadata": {
        "colab": {
          "base_uri": "https://localhost:8080/"
        },
        "id": "vlsBgtGh_L0J",
        "outputId": "09febac6-c928-4838-a098-42442cb580b4"
      },
      "execution_count": 326,
      "outputs": [
        {
          "output_type": "stream",
          "name": "stdout",
          "text": [
            "Original shape: (7,)\n",
            "Expanded shape: (7, 1)\n",
            "Original values with expanded shape:\n",
            " [[123.65499]\n",
            " [125.455  ]\n",
            " [108.58483]\n",
            " [118.67466]\n",
            " [121.33866]\n",
            " [120.65533]\n",
            " [121.795  ]]\n"
          ]
        }
      ]
    },
    {
      "cell_type": "code",
      "source": [
        "x.numpy()"
      ],
      "metadata": {
        "colab": {
          "base_uri": "https://localhost:8080/"
        },
        "id": "iqcB3CC7_qjl",
        "outputId": "02bea5d7-5bea-4055-fe7d-62e3ab1e0840"
      },
      "execution_count": 327,
      "outputs": [
        {
          "output_type": "execute_result",
          "data": {
            "text/plain": [
              "array([123.65499, 125.455  , 108.58483, 118.67466, 121.33866, 120.65533,\n",
              "       121.795  ])"
            ]
          },
          "metadata": {},
          "execution_count": 327
        }
      ]
    },
    {
      "cell_type": "code",
      "source": [
        "tf.random.set_seed(42)\n",
        "\n",
        "# Create Conv1D model\n",
        "model_4 = tf.keras.Sequential([\n",
        "    layers.Lambda(lambda x: tf.expand_dims(x, axis=1)),\n",
        "    layers.Conv1D(filters=128, kernel_size=5, strides=1, padding='causal', activation='relu'),\n",
        "    layers.Dense(HORIZON)\n",
        "], name=\"model_4_Conv1D\")\n",
        "\n",
        "# Compile model\n",
        "model_4.compile(loss=\"mae\",\n",
        "                optimizer=tf.keras.optimizers.Adam())\n",
        "\n",
        "# Fit\n",
        "model_4.fit(train_windows,\n",
        "            train_labels,\n",
        "            batch_size=128,\n",
        "            epochs=100,\n",
        "            verbose=0,\n",
        "            validation_data=(test_windows, test_labels),\n",
        "            callbacks=[create_model_checkpoint(model_name=model_4.name)])\n"
      ],
      "metadata": {
        "colab": {
          "base_uri": "https://localhost:8080/"
        },
        "id": "uLz4Tv80_-74",
        "outputId": "495d5a59-cc14-4986-9028-475b9966a75f"
      },
      "execution_count": 328,
      "outputs": [
        {
          "output_type": "stream",
          "name": "stdout",
          "text": [
            "INFO:tensorflow:Assets written to: model_experiments/model_4_Conv1D/assets\n"
          ]
        },
        {
          "output_type": "stream",
          "name": "stderr",
          "text": [
            "INFO:tensorflow:Assets written to: model_experiments/model_4_Conv1D/assets\n"
          ]
        },
        {
          "output_type": "stream",
          "name": "stdout",
          "text": [
            "INFO:tensorflow:Assets written to: model_experiments/model_4_Conv1D/assets\n"
          ]
        },
        {
          "output_type": "stream",
          "name": "stderr",
          "text": [
            "INFO:tensorflow:Assets written to: model_experiments/model_4_Conv1D/assets\n"
          ]
        },
        {
          "output_type": "stream",
          "name": "stdout",
          "text": [
            "INFO:tensorflow:Assets written to: model_experiments/model_4_Conv1D/assets\n"
          ]
        },
        {
          "output_type": "stream",
          "name": "stderr",
          "text": [
            "INFO:tensorflow:Assets written to: model_experiments/model_4_Conv1D/assets\n"
          ]
        },
        {
          "output_type": "stream",
          "name": "stdout",
          "text": [
            "INFO:tensorflow:Assets written to: model_experiments/model_4_Conv1D/assets\n"
          ]
        },
        {
          "output_type": "stream",
          "name": "stderr",
          "text": [
            "INFO:tensorflow:Assets written to: model_experiments/model_4_Conv1D/assets\n"
          ]
        },
        {
          "output_type": "stream",
          "name": "stdout",
          "text": [
            "INFO:tensorflow:Assets written to: model_experiments/model_4_Conv1D/assets\n"
          ]
        },
        {
          "output_type": "stream",
          "name": "stderr",
          "text": [
            "INFO:tensorflow:Assets written to: model_experiments/model_4_Conv1D/assets\n"
          ]
        },
        {
          "output_type": "stream",
          "name": "stdout",
          "text": [
            "INFO:tensorflow:Assets written to: model_experiments/model_4_Conv1D/assets\n"
          ]
        },
        {
          "output_type": "stream",
          "name": "stderr",
          "text": [
            "INFO:tensorflow:Assets written to: model_experiments/model_4_Conv1D/assets\n"
          ]
        },
        {
          "output_type": "stream",
          "name": "stdout",
          "text": [
            "INFO:tensorflow:Assets written to: model_experiments/model_4_Conv1D/assets\n"
          ]
        },
        {
          "output_type": "stream",
          "name": "stderr",
          "text": [
            "INFO:tensorflow:Assets written to: model_experiments/model_4_Conv1D/assets\n"
          ]
        },
        {
          "output_type": "stream",
          "name": "stdout",
          "text": [
            "INFO:tensorflow:Assets written to: model_experiments/model_4_Conv1D/assets\n"
          ]
        },
        {
          "output_type": "stream",
          "name": "stderr",
          "text": [
            "INFO:tensorflow:Assets written to: model_experiments/model_4_Conv1D/assets\n"
          ]
        },
        {
          "output_type": "stream",
          "name": "stdout",
          "text": [
            "INFO:tensorflow:Assets written to: model_experiments/model_4_Conv1D/assets\n"
          ]
        },
        {
          "output_type": "stream",
          "name": "stderr",
          "text": [
            "INFO:tensorflow:Assets written to: model_experiments/model_4_Conv1D/assets\n"
          ]
        },
        {
          "output_type": "stream",
          "name": "stdout",
          "text": [
            "INFO:tensorflow:Assets written to: model_experiments/model_4_Conv1D/assets\n"
          ]
        },
        {
          "output_type": "stream",
          "name": "stderr",
          "text": [
            "INFO:tensorflow:Assets written to: model_experiments/model_4_Conv1D/assets\n"
          ]
        },
        {
          "output_type": "stream",
          "name": "stdout",
          "text": [
            "INFO:tensorflow:Assets written to: model_experiments/model_4_Conv1D/assets\n"
          ]
        },
        {
          "output_type": "stream",
          "name": "stderr",
          "text": [
            "INFO:tensorflow:Assets written to: model_experiments/model_4_Conv1D/assets\n"
          ]
        },
        {
          "output_type": "stream",
          "name": "stdout",
          "text": [
            "INFO:tensorflow:Assets written to: model_experiments/model_4_Conv1D/assets\n"
          ]
        },
        {
          "output_type": "stream",
          "name": "stderr",
          "text": [
            "INFO:tensorflow:Assets written to: model_experiments/model_4_Conv1D/assets\n"
          ]
        },
        {
          "output_type": "stream",
          "name": "stdout",
          "text": [
            "INFO:tensorflow:Assets written to: model_experiments/model_4_Conv1D/assets\n"
          ]
        },
        {
          "output_type": "stream",
          "name": "stderr",
          "text": [
            "INFO:tensorflow:Assets written to: model_experiments/model_4_Conv1D/assets\n"
          ]
        },
        {
          "output_type": "stream",
          "name": "stdout",
          "text": [
            "INFO:tensorflow:Assets written to: model_experiments/model_4_Conv1D/assets\n"
          ]
        },
        {
          "output_type": "stream",
          "name": "stderr",
          "text": [
            "INFO:tensorflow:Assets written to: model_experiments/model_4_Conv1D/assets\n"
          ]
        },
        {
          "output_type": "stream",
          "name": "stdout",
          "text": [
            "INFO:tensorflow:Assets written to: model_experiments/model_4_Conv1D/assets\n"
          ]
        },
        {
          "output_type": "stream",
          "name": "stderr",
          "text": [
            "INFO:tensorflow:Assets written to: model_experiments/model_4_Conv1D/assets\n"
          ]
        },
        {
          "output_type": "stream",
          "name": "stdout",
          "text": [
            "INFO:tensorflow:Assets written to: model_experiments/model_4_Conv1D/assets\n"
          ]
        },
        {
          "output_type": "stream",
          "name": "stderr",
          "text": [
            "INFO:tensorflow:Assets written to: model_experiments/model_4_Conv1D/assets\n"
          ]
        },
        {
          "output_type": "stream",
          "name": "stdout",
          "text": [
            "INFO:tensorflow:Assets written to: model_experiments/model_4_Conv1D/assets\n"
          ]
        },
        {
          "output_type": "stream",
          "name": "stderr",
          "text": [
            "INFO:tensorflow:Assets written to: model_experiments/model_4_Conv1D/assets\n"
          ]
        },
        {
          "output_type": "stream",
          "name": "stdout",
          "text": [
            "INFO:tensorflow:Assets written to: model_experiments/model_4_Conv1D/assets\n"
          ]
        },
        {
          "output_type": "stream",
          "name": "stderr",
          "text": [
            "INFO:tensorflow:Assets written to: model_experiments/model_4_Conv1D/assets\n"
          ]
        },
        {
          "output_type": "stream",
          "name": "stdout",
          "text": [
            "INFO:tensorflow:Assets written to: model_experiments/model_4_Conv1D/assets\n"
          ]
        },
        {
          "output_type": "stream",
          "name": "stderr",
          "text": [
            "INFO:tensorflow:Assets written to: model_experiments/model_4_Conv1D/assets\n"
          ]
        },
        {
          "output_type": "stream",
          "name": "stdout",
          "text": [
            "INFO:tensorflow:Assets written to: model_experiments/model_4_Conv1D/assets\n"
          ]
        },
        {
          "output_type": "stream",
          "name": "stderr",
          "text": [
            "INFO:tensorflow:Assets written to: model_experiments/model_4_Conv1D/assets\n"
          ]
        },
        {
          "output_type": "stream",
          "name": "stdout",
          "text": [
            "INFO:tensorflow:Assets written to: model_experiments/model_4_Conv1D/assets\n"
          ]
        },
        {
          "output_type": "stream",
          "name": "stderr",
          "text": [
            "INFO:tensorflow:Assets written to: model_experiments/model_4_Conv1D/assets\n"
          ]
        },
        {
          "output_type": "stream",
          "name": "stdout",
          "text": [
            "INFO:tensorflow:Assets written to: model_experiments/model_4_Conv1D/assets\n"
          ]
        },
        {
          "output_type": "stream",
          "name": "stderr",
          "text": [
            "INFO:tensorflow:Assets written to: model_experiments/model_4_Conv1D/assets\n"
          ]
        },
        {
          "output_type": "stream",
          "name": "stdout",
          "text": [
            "INFO:tensorflow:Assets written to: model_experiments/model_4_Conv1D/assets\n"
          ]
        },
        {
          "output_type": "stream",
          "name": "stderr",
          "text": [
            "INFO:tensorflow:Assets written to: model_experiments/model_4_Conv1D/assets\n"
          ]
        },
        {
          "output_type": "stream",
          "name": "stdout",
          "text": [
            "INFO:tensorflow:Assets written to: model_experiments/model_4_Conv1D/assets\n"
          ]
        },
        {
          "output_type": "stream",
          "name": "stderr",
          "text": [
            "INFO:tensorflow:Assets written to: model_experiments/model_4_Conv1D/assets\n"
          ]
        },
        {
          "output_type": "stream",
          "name": "stdout",
          "text": [
            "INFO:tensorflow:Assets written to: model_experiments/model_4_Conv1D/assets\n"
          ]
        },
        {
          "output_type": "stream",
          "name": "stderr",
          "text": [
            "INFO:tensorflow:Assets written to: model_experiments/model_4_Conv1D/assets\n"
          ]
        },
        {
          "output_type": "stream",
          "name": "stdout",
          "text": [
            "INFO:tensorflow:Assets written to: model_experiments/model_4_Conv1D/assets\n"
          ]
        },
        {
          "output_type": "stream",
          "name": "stderr",
          "text": [
            "INFO:tensorflow:Assets written to: model_experiments/model_4_Conv1D/assets\n"
          ]
        },
        {
          "output_type": "stream",
          "name": "stdout",
          "text": [
            "INFO:tensorflow:Assets written to: model_experiments/model_4_Conv1D/assets\n"
          ]
        },
        {
          "output_type": "stream",
          "name": "stderr",
          "text": [
            "INFO:tensorflow:Assets written to: model_experiments/model_4_Conv1D/assets\n"
          ]
        },
        {
          "output_type": "stream",
          "name": "stdout",
          "text": [
            "INFO:tensorflow:Assets written to: model_experiments/model_4_Conv1D/assets\n"
          ]
        },
        {
          "output_type": "stream",
          "name": "stderr",
          "text": [
            "INFO:tensorflow:Assets written to: model_experiments/model_4_Conv1D/assets\n"
          ]
        },
        {
          "output_type": "stream",
          "name": "stdout",
          "text": [
            "INFO:tensorflow:Assets written to: model_experiments/model_4_Conv1D/assets\n"
          ]
        },
        {
          "output_type": "stream",
          "name": "stderr",
          "text": [
            "INFO:tensorflow:Assets written to: model_experiments/model_4_Conv1D/assets\n"
          ]
        },
        {
          "output_type": "stream",
          "name": "stdout",
          "text": [
            "INFO:tensorflow:Assets written to: model_experiments/model_4_Conv1D/assets\n"
          ]
        },
        {
          "output_type": "stream",
          "name": "stderr",
          "text": [
            "INFO:tensorflow:Assets written to: model_experiments/model_4_Conv1D/assets\n"
          ]
        },
        {
          "output_type": "stream",
          "name": "stdout",
          "text": [
            "INFO:tensorflow:Assets written to: model_experiments/model_4_Conv1D/assets\n"
          ]
        },
        {
          "output_type": "stream",
          "name": "stderr",
          "text": [
            "INFO:tensorflow:Assets written to: model_experiments/model_4_Conv1D/assets\n"
          ]
        },
        {
          "output_type": "stream",
          "name": "stdout",
          "text": [
            "INFO:tensorflow:Assets written to: model_experiments/model_4_Conv1D/assets\n"
          ]
        },
        {
          "output_type": "stream",
          "name": "stderr",
          "text": [
            "INFO:tensorflow:Assets written to: model_experiments/model_4_Conv1D/assets\n"
          ]
        },
        {
          "output_type": "stream",
          "name": "stdout",
          "text": [
            "INFO:tensorflow:Assets written to: model_experiments/model_4_Conv1D/assets\n"
          ]
        },
        {
          "output_type": "stream",
          "name": "stderr",
          "text": [
            "INFO:tensorflow:Assets written to: model_experiments/model_4_Conv1D/assets\n"
          ]
        },
        {
          "output_type": "stream",
          "name": "stdout",
          "text": [
            "INFO:tensorflow:Assets written to: model_experiments/model_4_Conv1D/assets\n"
          ]
        },
        {
          "output_type": "stream",
          "name": "stderr",
          "text": [
            "INFO:tensorflow:Assets written to: model_experiments/model_4_Conv1D/assets\n"
          ]
        },
        {
          "output_type": "stream",
          "name": "stdout",
          "text": [
            "INFO:tensorflow:Assets written to: model_experiments/model_4_Conv1D/assets\n"
          ]
        },
        {
          "output_type": "stream",
          "name": "stderr",
          "text": [
            "INFO:tensorflow:Assets written to: model_experiments/model_4_Conv1D/assets\n"
          ]
        },
        {
          "output_type": "stream",
          "name": "stdout",
          "text": [
            "INFO:tensorflow:Assets written to: model_experiments/model_4_Conv1D/assets\n"
          ]
        },
        {
          "output_type": "stream",
          "name": "stderr",
          "text": [
            "INFO:tensorflow:Assets written to: model_experiments/model_4_Conv1D/assets\n"
          ]
        },
        {
          "output_type": "stream",
          "name": "stdout",
          "text": [
            "INFO:tensorflow:Assets written to: model_experiments/model_4_Conv1D/assets\n"
          ]
        },
        {
          "output_type": "stream",
          "name": "stderr",
          "text": [
            "INFO:tensorflow:Assets written to: model_experiments/model_4_Conv1D/assets\n"
          ]
        },
        {
          "output_type": "stream",
          "name": "stdout",
          "text": [
            "INFO:tensorflow:Assets written to: model_experiments/model_4_Conv1D/assets\n"
          ]
        },
        {
          "output_type": "stream",
          "name": "stderr",
          "text": [
            "INFO:tensorflow:Assets written to: model_experiments/model_4_Conv1D/assets\n"
          ]
        },
        {
          "output_type": "stream",
          "name": "stdout",
          "text": [
            "INFO:tensorflow:Assets written to: model_experiments/model_4_Conv1D/assets\n"
          ]
        },
        {
          "output_type": "stream",
          "name": "stderr",
          "text": [
            "INFO:tensorflow:Assets written to: model_experiments/model_4_Conv1D/assets\n"
          ]
        },
        {
          "output_type": "execute_result",
          "data": {
            "text/plain": [
              "<keras.callbacks.History at 0x7fc26559c350>"
            ]
          },
          "metadata": {},
          "execution_count": 328
        }
      ]
    },
    {
      "cell_type": "code",
      "source": [
        "# Get a summary\n",
        "model_4.summary()"
      ],
      "metadata": {
        "colab": {
          "base_uri": "https://localhost:8080/"
        },
        "id": "d53c1X2PC41_",
        "outputId": "3476da3a-6ef8-4113-88cc-9bdffc75949b"
      },
      "execution_count": 329,
      "outputs": [
        {
          "output_type": "stream",
          "name": "stdout",
          "text": [
            "Model: \"model_4_Conv1D\"\n",
            "_________________________________________________________________\n",
            " Layer (type)                Output Shape              Param #   \n",
            "=================================================================\n",
            " lambda_7 (Lambda)           (None, 1, 7)              0         \n",
            "                                                                 \n",
            " conv1d_2 (Conv1D)           (None, 1, 128)            4608      \n",
            "                                                                 \n",
            " dense_32 (Dense)            (None, 1, 1)              129       \n",
            "                                                                 \n",
            "=================================================================\n",
            "Total params: 4,737\n",
            "Trainable params: 4,737\n",
            "Non-trainable params: 0\n",
            "_________________________________________________________________\n"
          ]
        }
      ]
    },
    {
      "cell_type": "code",
      "source": [
        "model_2.summary()"
      ],
      "metadata": {
        "colab": {
          "base_uri": "https://localhost:8080/"
        },
        "id": "wA9eNLJCDaNm",
        "outputId": "ba4a6598-8fdf-4bb6-f7c1-88e11b0430cd"
      },
      "execution_count": 330,
      "outputs": [
        {
          "output_type": "stream",
          "name": "stdout",
          "text": [
            "Model: \"model_2_dense\"\n",
            "_________________________________________________________________\n",
            " Layer (type)                Output Shape              Param #   \n",
            "=================================================================\n",
            " dense_28 (Dense)            (None, 128)               3968      \n",
            "                                                                 \n",
            " dense_29 (Dense)            (None, 1)                 129       \n",
            "                                                                 \n",
            "=================================================================\n",
            "Total params: 4,097\n",
            "Trainable params: 4,097\n",
            "Non-trainable params: 0\n",
            "_________________________________________________________________\n"
          ]
        }
      ]
    },
    {
      "cell_type": "code",
      "source": [
        "# Evaluate model 4\n",
        "model_4.evaluate(test_windows, test_labels)"
      ],
      "metadata": {
        "colab": {
          "base_uri": "https://localhost:8080/"
        },
        "id": "3rJz2g-lCbCL",
        "outputId": "1c0030b6-facf-4f38-f2ce-51611e547f28"
      },
      "execution_count": 331,
      "outputs": [
        {
          "output_type": "stream",
          "name": "stdout",
          "text": [
            "18/18 [==============================] - 0s 2ms/step - loss: 610.1541\n"
          ]
        },
        {
          "output_type": "execute_result",
          "data": {
            "text/plain": [
              "610.154052734375"
            ]
          },
          "metadata": {},
          "execution_count": 331
        }
      ]
    },
    {
      "cell_type": "code",
      "source": [
        "# Load the best performing model in model 4\n",
        "model_4 = tf.keras.models.load_model(\"model_experiments/model_4_Conv1D/\")\n",
        "model_4.evaluate(test_windows, test_labels)"
      ],
      "metadata": {
        "colab": {
          "base_uri": "https://localhost:8080/"
        },
        "id": "ArEKbHGHC842",
        "outputId": "a0af43e3-e016-4106-b364-ab901daa7500"
      },
      "execution_count": 332,
      "outputs": [
        {
          "output_type": "stream",
          "name": "stdout",
          "text": [
            "18/18 [==============================] - 0s 2ms/step - loss: 570.8284\n"
          ]
        },
        {
          "output_type": "execute_result",
          "data": {
            "text/plain": [
              "570.828369140625"
            ]
          },
          "metadata": {},
          "execution_count": 332
        }
      ]
    },
    {
      "cell_type": "code",
      "source": [
        "# Make predictions\n",
        "model_4_preds = make_preds(model_4, test_windows)\n",
        "model_4_preds[:10]"
      ],
      "metadata": {
        "colab": {
          "base_uri": "https://localhost:8080/"
        },
        "id": "6QXm2dj0DMAX",
        "outputId": "6b32a477-e104-4731-a27a-7dc53dcd6e94"
      },
      "execution_count": 333,
      "outputs": [
        {
          "output_type": "execute_result",
          "data": {
            "text/plain": [
              "<tf.Tensor: shape=(10,), dtype=float32, numpy=\n",
              "array([8851.464, 8754.47 , 8983.927, 8759.671, 8703.627, 8708.294,\n",
              "       8661.667, 8494.839, 8435.316, 8492.114], dtype=float32)>"
            ]
          },
          "metadata": {},
          "execution_count": 333
        }
      ]
    },
    {
      "cell_type": "code",
      "source": [
        "# Evaluate predictions\n",
        "model_4_results = evaluate_preds(y_true=tf.squeeze(test_labels),\n",
        "                                 y_pred=model_4_preds)\n",
        "model_4_results"
      ],
      "metadata": {
        "colab": {
          "base_uri": "https://localhost:8080/"
        },
        "id": "SG2YuNgjDx_G",
        "outputId": "c6dcad88-e707-4ef4-8e19-ee00dc596840"
      },
      "execution_count": 334,
      "outputs": [
        {
          "output_type": "execute_result",
          "data": {
            "text/plain": [
              "{'mae': 570.8284,\n",
              " 'mape': 2.5593357,\n",
              " 'mase': 1.0027875,\n",
              " 'mse': 1176671.2,\n",
              " 'rmse': 1084.7448}"
            ]
          },
          "metadata": {},
          "execution_count": 334
        }
      ]
    },
    {
      "cell_type": "markdown",
      "source": [
        "## Model 5: RNN (LSTM)\n",
        "\n",
        "Let's build an RNN model for our time series data.\n",
        "\n",
        "We'll use the same data we created previously."
      ],
      "metadata": {
        "id": "t-y5z40YD-gX"
      }
    },
    {
      "cell_type": "code",
      "source": [
        "tf.random.set_seed(42)\n",
        "\n",
        "# Let's build a LSTM model with the Functional API\n",
        "inputs = layers.Input(shape=(WINDOW_SIZE))\n",
        "x = layers.Lambda(lambda x: tf.expand_dims(x, axis=1))(inputs)\n",
        "# x = layers.LSTM(128, return_sequences=True)(x)\n",
        "x = layers.LSTM(128, activation='relu')(x)\n",
        "# x = layers.Dense(32, activation='relu')(x)\n",
        "outputs = layers.Dense(HORIZON)(x)\n",
        "model_5 = tf.keras.Model(inputs, outputs, name=\"model_5_LSTM\")\n",
        "\n",
        "# Compile\n",
        "model_5.compile(loss='mae',\n",
        "                optimizer=tf.keras.optimizers.Adam())\n",
        "\n",
        "# Fit\n",
        "model_5.fit(train_windows,\n",
        "            train_labels,\n",
        "            epochs=100,\n",
        "            verbose=1,\n",
        "            batch_size=128,\n",
        "            validation_data=(test_windows, test_labels),\n",
        "            callbacks=[create_model_checkpoint(model_name=model_5.name)])"
      ],
      "metadata": {
        "colab": {
          "base_uri": "https://localhost:8080/"
        },
        "id": "74BCcNV2Exse",
        "outputId": "fb983340-5d27-432d-e8ee-ccaa9fb5db5c"
      },
      "execution_count": 335,
      "outputs": [
        {
          "output_type": "stream",
          "name": "stdout",
          "text": [
            "WARNING:tensorflow:Layer lstm_2 will not use cuDNN kernels since it doesn't meet the criteria. It will use a generic GPU kernel as fallback when running on GPU.\n"
          ]
        },
        {
          "output_type": "stream",
          "name": "stderr",
          "text": [
            "WARNING:tensorflow:Layer lstm_2 will not use cuDNN kernels since it doesn't meet the criteria. It will use a generic GPU kernel as fallback when running on GPU.\n"
          ]
        },
        {
          "output_type": "stream",
          "name": "stdout",
          "text": [
            "Epoch 1/100\n",
            "10/18 [===============>..............] - ETA: 0s - loss: 2581.3218 INFO:tensorflow:Assets written to: model_experiments/model_5_LSTM/assets\n"
          ]
        },
        {
          "output_type": "stream",
          "name": "stderr",
          "text": [
            "INFO:tensorflow:Assets written to: model_experiments/model_5_LSTM/assets\n",
            "WARNING:absl:<keras.layers.recurrent.LSTMCell object at 0x7fc24c08c910> has the same name 'LSTMCell' as a built-in Keras object. Consider renaming <class 'keras.layers.recurrent.LSTMCell'> to avoid naming conflicts when loading with `tf.keras.models.load_model`. If renaming is not possible, pass the object in the `custom_objects` parameter of the load function.\n"
          ]
        },
        {
          "output_type": "stream",
          "name": "stdout",
          "text": [
            "\b\b\b\b\b\b\b\b\b\b\b\b\b\b\b\b\b\b\b\b\b\b\b\b\b\b\b\b\b\b\b\b\b\b\b\b\b\b\b\b\b\b\b\b\b\b\b\b\b\b\b\b\b\b\b\b\b\b\b\b\b\b\b\b\b\b\r18/18 [==============================] - 3s 120ms/step - loss: 2323.6082 - val_loss: 9222.6523\n",
            "Epoch 2/100\n",
            "10/18 [===============>..............] - ETA: 0s - loss: 989.3721 INFO:tensorflow:Assets written to: model_experiments/model_5_LSTM/assets\n"
          ]
        },
        {
          "output_type": "stream",
          "name": "stderr",
          "text": [
            "INFO:tensorflow:Assets written to: model_experiments/model_5_LSTM/assets\n",
            "WARNING:absl:<keras.layers.recurrent.LSTMCell object at 0x7fc24c08c910> has the same name 'LSTMCell' as a built-in Keras object. Consider renaming <class 'keras.layers.recurrent.LSTMCell'> to avoid naming conflicts when loading with `tf.keras.models.load_model`. If renaming is not possible, pass the object in the `custom_objects` parameter of the load function.\n"
          ]
        },
        {
          "output_type": "stream",
          "name": "stdout",
          "text": [
            "\b\b\b\b\b\b\b\b\b\b\b\b\b\b\b\b\b\b\b\b\b\b\b\b\b\b\b\b\b\b\b\b\b\b\b\b\b\b\b\b\b\b\b\b\b\b\b\b\b\b\b\b\b\b\b\b\b\b\b\b\b\b\b\b\b\r18/18 [==============================] - 2s 110ms/step - loss: 695.4739 - val_loss: 1486.0555\n",
            "Epoch 3/100\n",
            "11/18 [=================>............] - ETA: 0s - loss: 270.4985INFO:tensorflow:Assets written to: model_experiments/model_5_LSTM/assets\n"
          ]
        },
        {
          "output_type": "stream",
          "name": "stderr",
          "text": [
            "INFO:tensorflow:Assets written to: model_experiments/model_5_LSTM/assets\n",
            "WARNING:absl:<keras.layers.recurrent.LSTMCell object at 0x7fc24c08c910> has the same name 'LSTMCell' as a built-in Keras object. Consider renaming <class 'keras.layers.recurrent.LSTMCell'> to avoid naming conflicts when loading with `tf.keras.models.load_model`. If renaming is not possible, pass the object in the `custom_objects` parameter of the load function.\n"
          ]
        },
        {
          "output_type": "stream",
          "name": "stdout",
          "text": [
            "\b\b\b\b\b\b\b\b\b\b\b\b\b\b\b\b\b\b\b\b\b\b\b\b\b\b\b\b\b\b\b\b\b\b\b\b\b\b\b\b\b\b\b\b\b\b\b\b\b\b\b\b\b\b\b\b\b\b\b\b\b\b\b\b\b\r18/18 [==============================] - 2s 134ms/step - loss: 237.3967 - val_loss: 1298.9084\n",
            "Epoch 4/100\n",
            "11/18 [=================>............] - ETA: 0s - loss: 196.5330INFO:tensorflow:Assets written to: model_experiments/model_5_LSTM/assets\n"
          ]
        },
        {
          "output_type": "stream",
          "name": "stderr",
          "text": [
            "INFO:tensorflow:Assets written to: model_experiments/model_5_LSTM/assets\n",
            "WARNING:absl:<keras.layers.recurrent.LSTMCell object at 0x7fc24c08c910> has the same name 'LSTMCell' as a built-in Keras object. Consider renaming <class 'keras.layers.recurrent.LSTMCell'> to avoid naming conflicts when loading with `tf.keras.models.load_model`. If renaming is not possible, pass the object in the `custom_objects` parameter of the load function.\n"
          ]
        },
        {
          "output_type": "stream",
          "name": "stdout",
          "text": [
            "\b\b\b\b\b\b\b\b\b\b\b\b\b\b\b\b\b\b\b\b\b\b\b\b\b\b\b\b\b\b\b\b\b\b\b\b\b\b\b\b\b\b\b\b\b\b\b\b\b\b\b\b\b\b\b\b\b\b\b\b\b\b\b\b\b\r18/18 [==============================] - 2s 107ms/step - loss: 181.9180 - val_loss: 966.6431\n",
            "Epoch 5/100\n",
            "18/18 [==============================] - 0s 7ms/step - loss: 173.4022 - val_loss: 970.9295\n",
            "Epoch 6/100\n",
            "11/18 [=================>............] - ETA: 0s - loss: 169.3568INFO:tensorflow:Assets written to: model_experiments/model_5_LSTM/assets\n"
          ]
        },
        {
          "output_type": "stream",
          "name": "stderr",
          "text": [
            "INFO:tensorflow:Assets written to: model_experiments/model_5_LSTM/assets\n",
            "WARNING:absl:<keras.layers.recurrent.LSTMCell object at 0x7fc24c08c910> has the same name 'LSTMCell' as a built-in Keras object. Consider renaming <class 'keras.layers.recurrent.LSTMCell'> to avoid naming conflicts when loading with `tf.keras.models.load_model`. If renaming is not possible, pass the object in the `custom_objects` parameter of the load function.\n"
          ]
        },
        {
          "output_type": "stream",
          "name": "stdout",
          "text": [
            "\b\b\b\b\b\b\b\b\b\b\b\b\b\b\b\b\b\b\b\b\b\b\b\b\b\b\b\b\b\b\b\b\b\b\b\b\b\b\b\b\b\b\b\b\b\b\b\b\b\b\b\b\b\b\b\b\b\b\b\b\b\b\b\b\b\r18/18 [==============================] - 2s 106ms/step - loss: 173.5414 - val_loss: 941.4746\n",
            "Epoch 7/100\n",
            " 9/18 [==============>...............] - ETA: 0s - loss: 187.0711INFO:tensorflow:Assets written to: model_experiments/model_5_LSTM/assets\n"
          ]
        },
        {
          "output_type": "stream",
          "name": "stderr",
          "text": [
            "INFO:tensorflow:Assets written to: model_experiments/model_5_LSTM/assets\n",
            "WARNING:absl:<keras.layers.recurrent.LSTMCell object at 0x7fc24c08c910> has the same name 'LSTMCell' as a built-in Keras object. Consider renaming <class 'keras.layers.recurrent.LSTMCell'> to avoid naming conflicts when loading with `tf.keras.models.load_model`. If renaming is not possible, pass the object in the `custom_objects` parameter of the load function.\n"
          ]
        },
        {
          "output_type": "stream",
          "name": "stdout",
          "text": [
            "\b\b\b\b\b\b\b\b\b\b\b\b\b\b\b\b\b\b\b\b\b\b\b\b\b\b\b\b\b\b\b\b\b\b\b\b\b\b\b\b\b\b\b\b\b\b\b\b\b\b\b\b\b\b\b\b\b\b\b\b\b\b\b\b\b\r18/18 [==============================] - 2s 105ms/step - loss: 170.3566 - val_loss: 898.5215\n",
            "Epoch 8/100\n",
            "18/18 [==============================] - 0s 8ms/step - loss: 157.6712 - val_loss: 914.8642\n",
            "Epoch 9/100\n",
            "18/18 [==============================] - 0s 8ms/step - loss: 166.5143 - val_loss: 1079.0776\n",
            "Epoch 10/100\n",
            "11/18 [=================>............] - ETA: 0s - loss: 162.8947INFO:tensorflow:Assets written to: model_experiments/model_5_LSTM/assets\n"
          ]
        },
        {
          "output_type": "stream",
          "name": "stderr",
          "text": [
            "INFO:tensorflow:Assets written to: model_experiments/model_5_LSTM/assets\n",
            "WARNING:absl:<keras.layers.recurrent.LSTMCell object at 0x7fc24c08c910> has the same name 'LSTMCell' as a built-in Keras object. Consider renaming <class 'keras.layers.recurrent.LSTMCell'> to avoid naming conflicts when loading with `tf.keras.models.load_model`. If renaming is not possible, pass the object in the `custom_objects` parameter of the load function.\n"
          ]
        },
        {
          "output_type": "stream",
          "name": "stdout",
          "text": [
            "\b\b\b\b\b\b\b\b\b\b\b\b\b\b\b\b\b\b\b\b\b\b\b\b\b\b\b\b\b\b\b\b\b\b\b\b\b\b\b\b\b\b\b\b\b\b\b\b\b\b\b\b\b\b\b\b\b\b\b\b\b\b\b\b\b\r18/18 [==============================] - 2s 105ms/step - loss: 162.3369 - val_loss: 877.1690\n",
            "Epoch 11/100\n",
            "18/18 [==============================] - 0s 7ms/step - loss: 163.0841 - val_loss: 924.1126\n",
            "Epoch 12/100\n",
            "18/18 [==============================] - 0s 7ms/step - loss: 168.5598 - val_loss: 941.6025\n",
            "Epoch 13/100\n",
            "18/18 [==============================] - 0s 8ms/step - loss: 166.4726 - val_loss: 934.8436\n",
            "Epoch 14/100\n",
            "18/18 [==============================] - 0s 7ms/step - loss: 163.9537 - val_loss: 920.2160\n",
            "Epoch 15/100\n",
            "10/18 [===============>..............] - ETA: 0s - loss: 155.2971INFO:tensorflow:Assets written to: model_experiments/model_5_LSTM/assets\n"
          ]
        },
        {
          "output_type": "stream",
          "name": "stderr",
          "text": [
            "INFO:tensorflow:Assets written to: model_experiments/model_5_LSTM/assets\n",
            "WARNING:absl:<keras.layers.recurrent.LSTMCell object at 0x7fc24c08c910> has the same name 'LSTMCell' as a built-in Keras object. Consider renaming <class 'keras.layers.recurrent.LSTMCell'> to avoid naming conflicts when loading with `tf.keras.models.load_model`. If renaming is not possible, pass the object in the `custom_objects` parameter of the load function.\n"
          ]
        },
        {
          "output_type": "stream",
          "name": "stdout",
          "text": [
            "\b\b\b\b\b\b\b\b\b\b\b\b\b\b\b\b\b\b\b\b\b\b\b\b\b\b\b\b\b\b\b\b\b\b\b\b\b\b\b\b\b\b\b\b\b\b\b\b\b\b\b\b\b\b\b\b\b\b\b\b\b\b\b\b\b\r18/18 [==============================] - 2s 138ms/step - loss: 152.9470 - val_loss: 856.2653\n",
            "Epoch 16/100\n",
            "18/18 [==============================] - 0s 7ms/step - loss: 147.4420 - val_loss: 898.9914\n",
            "Epoch 17/100\n",
            "18/18 [==============================] - 0s 8ms/step - loss: 151.0533 - val_loss: 943.1418\n",
            "Epoch 18/100\n",
            "18/18 [==============================] - 0s 7ms/step - loss: 157.8232 - val_loss: 924.0046\n",
            "Epoch 19/100\n",
            "18/18 [==============================] - 0s 8ms/step - loss: 155.9198 - val_loss: 911.4753\n",
            "Epoch 20/100\n",
            "18/18 [==============================] - 0s 7ms/step - loss: 155.6456 - val_loss: 862.6680\n",
            "Epoch 21/100\n",
            "18/18 [==============================] - 0s 8ms/step - loss: 153.1514 - val_loss: 862.5831\n",
            "Epoch 22/100\n",
            "18/18 [==============================] - 0s 7ms/step - loss: 151.4883 - val_loss: 863.8172\n",
            "Epoch 23/100\n",
            "18/18 [==============================] - 0s 7ms/step - loss: 150.7770 - val_loss: 886.8356\n",
            "Epoch 24/100\n",
            "18/18 [==============================] - 0s 7ms/step - loss: 148.6539 - val_loss: 861.3270\n",
            "Epoch 25/100\n",
            "10/18 [===============>..............] - ETA: 0s - loss: 155.5874INFO:tensorflow:Assets written to: model_experiments/model_5_LSTM/assets\n"
          ]
        },
        {
          "output_type": "stream",
          "name": "stderr",
          "text": [
            "INFO:tensorflow:Assets written to: model_experiments/model_5_LSTM/assets\n",
            "WARNING:absl:<keras.layers.recurrent.LSTMCell object at 0x7fc24c08c910> has the same name 'LSTMCell' as a built-in Keras object. Consider renaming <class 'keras.layers.recurrent.LSTMCell'> to avoid naming conflicts when loading with `tf.keras.models.load_model`. If renaming is not possible, pass the object in the `custom_objects` parameter of the load function.\n"
          ]
        },
        {
          "output_type": "stream",
          "name": "stdout",
          "text": [
            "\b\b\b\b\b\b\b\b\b\b\b\b\b\b\b\b\b\b\b\b\b\b\b\b\b\b\b\b\b\b\b\b\b\b\b\b\b\b\b\b\b\b\b\b\b\b\b\b\b\b\b\b\b\b\b\b\b\b\b\b\b\b\b\b\b\r18/18 [==============================] - 2s 109ms/step - loss: 146.8467 - val_loss: 845.2782\n",
            "Epoch 26/100\n",
            "11/18 [=================>............] - ETA: 0s - loss: 145.1898INFO:tensorflow:Assets written to: model_experiments/model_5_LSTM/assets\n"
          ]
        },
        {
          "output_type": "stream",
          "name": "stderr",
          "text": [
            "INFO:tensorflow:Assets written to: model_experiments/model_5_LSTM/assets\n",
            "WARNING:absl:<keras.layers.recurrent.LSTMCell object at 0x7fc24c08c910> has the same name 'LSTMCell' as a built-in Keras object. Consider renaming <class 'keras.layers.recurrent.LSTMCell'> to avoid naming conflicts when loading with `tf.keras.models.load_model`. If renaming is not possible, pass the object in the `custom_objects` parameter of the load function.\n"
          ]
        },
        {
          "output_type": "stream",
          "name": "stdout",
          "text": [
            "\b\b\b\b\b\b\b\b\b\b\b\b\b\b\b\b\b\b\b\b\b\b\b\b\b\b\b\b\b\b\b\b\b\b\b\b\b\b\b\b\b\b\b\b\b\b\b\b\b\b\b\b\b\b\b\b\b\b\b\b\b\b\b\b\b\r18/18 [==============================] - 2s 109ms/step - loss: 145.9843 - val_loss: 818.6807\n",
            "Epoch 27/100\n",
            "11/18 [=================>............] - ETA: 0s - loss: 153.2509INFO:tensorflow:Assets written to: model_experiments/model_5_LSTM/assets\n"
          ]
        },
        {
          "output_type": "stream",
          "name": "stderr",
          "text": [
            "INFO:tensorflow:Assets written to: model_experiments/model_5_LSTM/assets\n",
            "WARNING:absl:<keras.layers.recurrent.LSTMCell object at 0x7fc24c08c910> has the same name 'LSTMCell' as a built-in Keras object. Consider renaming <class 'keras.layers.recurrent.LSTMCell'> to avoid naming conflicts when loading with `tf.keras.models.load_model`. If renaming is not possible, pass the object in the `custom_objects` parameter of the load function.\n"
          ]
        },
        {
          "output_type": "stream",
          "name": "stdout",
          "text": [
            "\b\b\b\b\b\b\b\b\b\b\b\b\b\b\b\b\b\b\b\b\b\b\b\b\b\b\b\b\b\b\b\b\b\b\b\b\b\b\b\b\b\b\b\b\b\b\b\b\b\b\b\b\b\b\b\b\b\b\b\b\b\b\b\b\b\r18/18 [==============================] - 2s 107ms/step - loss: 144.4289 - val_loss: 804.3279\n",
            "Epoch 28/100\n",
            "11/18 [=================>............] - ETA: 0s - loss: 145.3607INFO:tensorflow:Assets written to: model_experiments/model_5_LSTM/assets\n"
          ]
        },
        {
          "output_type": "stream",
          "name": "stderr",
          "text": [
            "INFO:tensorflow:Assets written to: model_experiments/model_5_LSTM/assets\n",
            "WARNING:absl:<keras.layers.recurrent.LSTMCell object at 0x7fc24c08c910> has the same name 'LSTMCell' as a built-in Keras object. Consider renaming <class 'keras.layers.recurrent.LSTMCell'> to avoid naming conflicts when loading with `tf.keras.models.load_model`. If renaming is not possible, pass the object in the `custom_objects` parameter of the load function.\n"
          ]
        },
        {
          "output_type": "stream",
          "name": "stdout",
          "text": [
            "\b\b\b\b\b\b\b\b\b\b\b\b\b\b\b\b\b\b\b\b\b\b\b\b\b\b\b\b\b\b\b\b\b\b\b\b\b\b\b\b\b\b\b\b\b\b\b\b\b\b\b\b\b\b\b\b\b\b\b\b\b\b\b\b\b\r18/18 [==============================] - 2s 108ms/step - loss: 142.4610 - val_loss: 789.0859\n",
            "Epoch 29/100\n",
            "18/18 [==============================] - 0s 7ms/step - loss: 141.8739 - val_loss: 806.6758\n",
            "Epoch 30/100\n",
            "18/18 [==============================] - 0s 7ms/step - loss: 142.0521 - val_loss: 794.8836\n",
            "Epoch 31/100\n",
            "11/18 [=================>............] - ETA: 0s - loss: 138.5929INFO:tensorflow:Assets written to: model_experiments/model_5_LSTM/assets\n"
          ]
        },
        {
          "output_type": "stream",
          "name": "stderr",
          "text": [
            "INFO:tensorflow:Assets written to: model_experiments/model_5_LSTM/assets\n",
            "WARNING:absl:<keras.layers.recurrent.LSTMCell object at 0x7fc24c08c910> has the same name 'LSTMCell' as a built-in Keras object. Consider renaming <class 'keras.layers.recurrent.LSTMCell'> to avoid naming conflicts when loading with `tf.keras.models.load_model`. If renaming is not possible, pass the object in the `custom_objects` parameter of the load function.\n"
          ]
        },
        {
          "output_type": "stream",
          "name": "stdout",
          "text": [
            "\b\b\b\b\b\b\b\b\b\b\b\b\b\b\b\b\b\b\b\b\b\b\b\b\b\b\b\b\b\b\b\b\b\b\b\b\b\b\b\b\b\b\b\b\b\b\b\b\b\b\b\b\b\b\b\b\b\b\b\b\b\b\b\b\b\r18/18 [==============================] - 2s 106ms/step - loss: 138.4690 - val_loss: 773.2812\n",
            "Epoch 32/100\n",
            "10/18 [===============>..............] - ETA: 0s - loss: 140.1913INFO:tensorflow:Assets written to: model_experiments/model_5_LSTM/assets\n"
          ]
        },
        {
          "output_type": "stream",
          "name": "stderr",
          "text": [
            "INFO:tensorflow:Assets written to: model_experiments/model_5_LSTM/assets\n",
            "WARNING:absl:<keras.layers.recurrent.LSTMCell object at 0x7fc24c08c910> has the same name 'LSTMCell' as a built-in Keras object. Consider renaming <class 'keras.layers.recurrent.LSTMCell'> to avoid naming conflicts when loading with `tf.keras.models.load_model`. If renaming is not possible, pass the object in the `custom_objects` parameter of the load function.\n"
          ]
        },
        {
          "output_type": "stream",
          "name": "stdout",
          "text": [
            "\b\b\b\b\b\b\b\b\b\b\b\b\b\b\b\b\b\b\b\b\b\b\b\b\b\b\b\b\b\b\b\b\b\b\b\b\b\b\b\b\b\b\b\b\b\b\b\b\b\b\b\b\b\b\b\b\b\b\b\b\b\b\b\b\b\r18/18 [==============================] - 2s 141ms/step - loss: 137.1986 - val_loss: 772.2625\n",
            "Epoch 33/100\n",
            "18/18 [==============================] - 0s 7ms/step - loss: 135.9342 - val_loss: 786.4805\n",
            "Epoch 34/100\n",
            "10/18 [===============>..............] - ETA: 0s - loss: 138.4026INFO:tensorflow:Assets written to: model_experiments/model_5_LSTM/assets\n"
          ]
        },
        {
          "output_type": "stream",
          "name": "stderr",
          "text": [
            "INFO:tensorflow:Assets written to: model_experiments/model_5_LSTM/assets\n",
            "WARNING:absl:<keras.layers.recurrent.LSTMCell object at 0x7fc24c08c910> has the same name 'LSTMCell' as a built-in Keras object. Consider renaming <class 'keras.layers.recurrent.LSTMCell'> to avoid naming conflicts when loading with `tf.keras.models.load_model`. If renaming is not possible, pass the object in the `custom_objects` parameter of the load function.\n"
          ]
        },
        {
          "output_type": "stream",
          "name": "stdout",
          "text": [
            "\b\b\b\b\b\b\b\b\b\b\b\b\b\b\b\b\b\b\b\b\b\b\b\b\b\b\b\b\b\b\b\b\b\b\b\b\b\b\b\b\b\b\b\b\b\b\b\b\b\b\b\b\b\b\b\b\b\b\b\b\b\b\b\b\b\r18/18 [==============================] - 2s 106ms/step - loss: 136.1931 - val_loss: 744.4506\n",
            "Epoch 35/100\n",
            "18/18 [==============================] - 0s 7ms/step - loss: 133.4513 - val_loss: 756.2970\n",
            "Epoch 36/100\n",
            "11/18 [=================>............] - ETA: 0s - loss: 134.1216INFO:tensorflow:Assets written to: model_experiments/model_5_LSTM/assets\n"
          ]
        },
        {
          "output_type": "stream",
          "name": "stderr",
          "text": [
            "INFO:tensorflow:Assets written to: model_experiments/model_5_LSTM/assets\n",
            "WARNING:absl:<keras.layers.recurrent.LSTMCell object at 0x7fc24c08c910> has the same name 'LSTMCell' as a built-in Keras object. Consider renaming <class 'keras.layers.recurrent.LSTMCell'> to avoid naming conflicts when loading with `tf.keras.models.load_model`. If renaming is not possible, pass the object in the `custom_objects` parameter of the load function.\n"
          ]
        },
        {
          "output_type": "stream",
          "name": "stdout",
          "text": [
            "\b\b\b\b\b\b\b\b\b\b\b\b\b\b\b\b\b\b\b\b\b\b\b\b\b\b\b\b\b\b\b\b\b\b\b\b\b\b\b\b\b\b\b\b\b\b\b\b\b\b\b\b\b\b\b\b\b\b\b\b\b\b\b\b\b\r18/18 [==============================] - 2s 109ms/step - loss: 134.0992 - val_loss: 735.1729\n",
            "Epoch 37/100\n",
            "18/18 [==============================] - 0s 7ms/step - loss: 130.6932 - val_loss: 745.9099\n",
            "Epoch 38/100\n",
            "10/18 [===============>..............] - ETA: 0s - loss: 137.2887INFO:tensorflow:Assets written to: model_experiments/model_5_LSTM/assets\n"
          ]
        },
        {
          "output_type": "stream",
          "name": "stderr",
          "text": [
            "INFO:tensorflow:Assets written to: model_experiments/model_5_LSTM/assets\n",
            "WARNING:absl:<keras.layers.recurrent.LSTMCell object at 0x7fc24c08c910> has the same name 'LSTMCell' as a built-in Keras object. Consider renaming <class 'keras.layers.recurrent.LSTMCell'> to avoid naming conflicts when loading with `tf.keras.models.load_model`. If renaming is not possible, pass the object in the `custom_objects` parameter of the load function.\n"
          ]
        },
        {
          "output_type": "stream",
          "name": "stdout",
          "text": [
            "\b\b\b\b\b\b\b\b\b\b\b\b\b\b\b\b\b\b\b\b\b\b\b\b\b\b\b\b\b\b\b\b\b\b\b\b\b\b\b\b\b\b\b\b\b\b\b\b\b\b\b\b\b\b\b\b\b\b\b\b\b\b\b\b\b\r18/18 [==============================] - 2s 108ms/step - loss: 129.2891 - val_loss: 717.2498\n",
            "Epoch 39/100\n",
            "18/18 [==============================] - 0s 8ms/step - loss: 129.6088 - val_loss: 719.0665\n",
            "Epoch 40/100\n",
            "18/18 [==============================] - 0s 7ms/step - loss: 129.6111 - val_loss: 732.0632\n",
            "Epoch 41/100\n",
            "10/18 [===============>..............] - ETA: 0s - loss: 133.3553INFO:tensorflow:Assets written to: model_experiments/model_5_LSTM/assets\n"
          ]
        },
        {
          "output_type": "stream",
          "name": "stderr",
          "text": [
            "INFO:tensorflow:Assets written to: model_experiments/model_5_LSTM/assets\n",
            "WARNING:absl:<keras.layers.recurrent.LSTMCell object at 0x7fc24c08c910> has the same name 'LSTMCell' as a built-in Keras object. Consider renaming <class 'keras.layers.recurrent.LSTMCell'> to avoid naming conflicts when loading with `tf.keras.models.load_model`. If renaming is not possible, pass the object in the `custom_objects` parameter of the load function.\n"
          ]
        },
        {
          "output_type": "stream",
          "name": "stdout",
          "text": [
            "\b\b\b\b\b\b\b\b\b\b\b\b\b\b\b\b\b\b\b\b\b\b\b\b\b\b\b\b\b\b\b\b\b\b\b\b\b\b\b\b\b\b\b\b\b\b\b\b\b\b\b\b\b\b\b\b\b\b\b\b\b\b\b\b\b\r18/18 [==============================] - 2s 107ms/step - loss: 127.1393 - val_loss: 702.9354\n",
            "Epoch 42/100\n",
            "11/18 [=================>............] - ETA: 0s - loss: 126.7599INFO:tensorflow:Assets written to: model_experiments/model_5_LSTM/assets\n"
          ]
        },
        {
          "output_type": "stream",
          "name": "stderr",
          "text": [
            "INFO:tensorflow:Assets written to: model_experiments/model_5_LSTM/assets\n",
            "WARNING:absl:<keras.layers.recurrent.LSTMCell object at 0x7fc24c08c910> has the same name 'LSTMCell' as a built-in Keras object. Consider renaming <class 'keras.layers.recurrent.LSTMCell'> to avoid naming conflicts when loading with `tf.keras.models.load_model`. If renaming is not possible, pass the object in the `custom_objects` parameter of the load function.\n"
          ]
        },
        {
          "output_type": "stream",
          "name": "stdout",
          "text": [
            "\b\b\b\b\b\b\b\b\b\b\b\b\b\b\b\b\b\b\b\b\b\b\b\b\b\b\b\b\b\b\b\b\b\b\b\b\b\b\b\b\b\b\b\b\b\b\b\b\b\b\b\b\b\b\b\b\b\b\b\b\b\b\b\b\b\r18/18 [==============================] - 2s 106ms/step - loss: 125.6113 - val_loss: 700.8702\n",
            "Epoch 43/100\n",
            "18/18 [==============================] - 0s 7ms/step - loss: 125.9959 - val_loss: 704.3682\n",
            "Epoch 44/100\n",
            "10/18 [===============>..............] - ETA: 0s - loss: 119.9876INFO:tensorflow:Assets written to: model_experiments/model_5_LSTM/assets\n"
          ]
        },
        {
          "output_type": "stream",
          "name": "stderr",
          "text": [
            "INFO:tensorflow:Assets written to: model_experiments/model_5_LSTM/assets\n",
            "WARNING:absl:<keras.layers.recurrent.LSTMCell object at 0x7fc24c08c910> has the same name 'LSTMCell' as a built-in Keras object. Consider renaming <class 'keras.layers.recurrent.LSTMCell'> to avoid naming conflicts when loading with `tf.keras.models.load_model`. If renaming is not possible, pass the object in the `custom_objects` parameter of the load function.\n"
          ]
        },
        {
          "output_type": "stream",
          "name": "stdout",
          "text": [
            "\b\b\b\b\b\b\b\b\b\b\b\b\b\b\b\b\b\b\b\b\b\b\b\b\b\b\b\b\b\b\b\b\b\b\b\b\b\b\b\b\b\b\b\b\b\b\b\b\b\b\b\b\b\b\b\b\b\b\b\b\b\b\b\b\b\r18/18 [==============================] - 2s 142ms/step - loss: 125.2241 - val_loss: 698.7766\n",
            "Epoch 45/100\n",
            "11/18 [=================>............] - ETA: 0s - loss: 121.2221INFO:tensorflow:Assets written to: model_experiments/model_5_LSTM/assets\n"
          ]
        },
        {
          "output_type": "stream",
          "name": "stderr",
          "text": [
            "INFO:tensorflow:Assets written to: model_experiments/model_5_LSTM/assets\n",
            "WARNING:absl:<keras.layers.recurrent.LSTMCell object at 0x7fc24c08c910> has the same name 'LSTMCell' as a built-in Keras object. Consider renaming <class 'keras.layers.recurrent.LSTMCell'> to avoid naming conflicts when loading with `tf.keras.models.load_model`. If renaming is not possible, pass the object in the `custom_objects` parameter of the load function.\n"
          ]
        },
        {
          "output_type": "stream",
          "name": "stdout",
          "text": [
            "\b\b\b\b\b\b\b\b\b\b\b\b\b\b\b\b\b\b\b\b\b\b\b\b\b\b\b\b\b\b\b\b\b\b\b\b\b\b\b\b\b\b\b\b\b\b\b\b\b\b\b\b\b\b\b\b\b\b\b\b\b\b\b\b\b\r18/18 [==============================] - 2s 109ms/step - loss: 122.5007 - val_loss: 683.0590\n",
            "Epoch 46/100\n",
            "11/18 [=================>............] - ETA: 0s - loss: 130.6197INFO:tensorflow:Assets written to: model_experiments/model_5_LSTM/assets\n"
          ]
        },
        {
          "output_type": "stream",
          "name": "stderr",
          "text": [
            "INFO:tensorflow:Assets written to: model_experiments/model_5_LSTM/assets\n",
            "WARNING:absl:<keras.layers.recurrent.LSTMCell object at 0x7fc24c08c910> has the same name 'LSTMCell' as a built-in Keras object. Consider renaming <class 'keras.layers.recurrent.LSTMCell'> to avoid naming conflicts when loading with `tf.keras.models.load_model`. If renaming is not possible, pass the object in the `custom_objects` parameter of the load function.\n"
          ]
        },
        {
          "output_type": "stream",
          "name": "stdout",
          "text": [
            "\b\b\b\b\b\b\b\b\b\b\b\b\b\b\b\b\b\b\b\b\b\b\b\b\b\b\b\b\b\b\b\b\b\b\b\b\b\b\b\b\b\b\b\b\b\b\b\b\b\b\b\b\b\b\b\b\b\b\b\b\b\b\b\b\b\r18/18 [==============================] - 2s 109ms/step - loss: 124.4726 - val_loss: 679.1873\n",
            "Epoch 47/100\n",
            "18/18 [==============================] - 0s 7ms/step - loss: 122.1862 - val_loss: 705.4241\n",
            "Epoch 48/100\n",
            "11/18 [=================>............] - ETA: 0s - loss: 120.7927INFO:tensorflow:Assets written to: model_experiments/model_5_LSTM/assets\n"
          ]
        },
        {
          "output_type": "stream",
          "name": "stderr",
          "text": [
            "INFO:tensorflow:Assets written to: model_experiments/model_5_LSTM/assets\n",
            "WARNING:absl:<keras.layers.recurrent.LSTMCell object at 0x7fc24c08c910> has the same name 'LSTMCell' as a built-in Keras object. Consider renaming <class 'keras.layers.recurrent.LSTMCell'> to avoid naming conflicts when loading with `tf.keras.models.load_model`. If renaming is not possible, pass the object in the `custom_objects` parameter of the load function.\n"
          ]
        },
        {
          "output_type": "stream",
          "name": "stdout",
          "text": [
            "\b\b\b\b\b\b\b\b\b\b\b\b\b\b\b\b\b\b\b\b\b\b\b\b\b\b\b\b\b\b\b\b\b\b\b\b\b\b\b\b\b\b\b\b\b\b\b\b\b\b\b\b\b\b\b\b\b\b\b\b\b\b\b\b\b\r18/18 [==============================] - 2s 107ms/step - loss: 122.0458 - val_loss: 677.0784\n",
            "Epoch 49/100\n",
            "11/18 [=================>............] - ETA: 0s - loss: 127.1128INFO:tensorflow:Assets written to: model_experiments/model_5_LSTM/assets\n"
          ]
        },
        {
          "output_type": "stream",
          "name": "stderr",
          "text": [
            "INFO:tensorflow:Assets written to: model_experiments/model_5_LSTM/assets\n",
            "WARNING:absl:<keras.layers.recurrent.LSTMCell object at 0x7fc24c08c910> has the same name 'LSTMCell' as a built-in Keras object. Consider renaming <class 'keras.layers.recurrent.LSTMCell'> to avoid naming conflicts when loading with `tf.keras.models.load_model`. If renaming is not possible, pass the object in the `custom_objects` parameter of the load function.\n"
          ]
        },
        {
          "output_type": "stream",
          "name": "stdout",
          "text": [
            "\b\b\b\b\b\b\b\b\b\b\b\b\b\b\b\b\b\b\b\b\b\b\b\b\b\b\b\b\b\b\b\b\b\b\b\b\b\b\b\b\b\b\b\b\b\b\b\b\b\b\b\b\b\b\b\b\b\b\b\b\b\b\b\b\b\r18/18 [==============================] - 2s 106ms/step - loss: 121.1548 - val_loss: 674.6848\n",
            "Epoch 50/100\n",
            "18/18 [==============================] - 0s 7ms/step - loss: 122.8890 - val_loss: 691.4816\n",
            "Epoch 51/100\n",
            "18/18 [==============================] - 0s 8ms/step - loss: 122.2994 - val_loss: 737.3929\n",
            "Epoch 52/100\n",
            "11/18 [=================>............] - ETA: 0s - loss: 128.5450INFO:tensorflow:Assets written to: model_experiments/model_5_LSTM/assets\n"
          ]
        },
        {
          "output_type": "stream",
          "name": "stderr",
          "text": [
            "INFO:tensorflow:Assets written to: model_experiments/model_5_LSTM/assets\n",
            "WARNING:absl:<keras.layers.recurrent.LSTMCell object at 0x7fc24c08c910> has the same name 'LSTMCell' as a built-in Keras object. Consider renaming <class 'keras.layers.recurrent.LSTMCell'> to avoid naming conflicts when loading with `tf.keras.models.load_model`. If renaming is not possible, pass the object in the `custom_objects` parameter of the load function.\n"
          ]
        },
        {
          "output_type": "stream",
          "name": "stdout",
          "text": [
            "\b\b\b\b\b\b\b\b\b\b\b\b\b\b\b\b\b\b\b\b\b\b\b\b\b\b\b\b\b\b\b\b\b\b\b\b\b\b\b\b\b\b\b\b\b\b\b\b\b\b\b\b\b\b\b\b\b\b\b\b\b\b\b\b\b\r18/18 [==============================] - 2s 108ms/step - loss: 121.2944 - val_loss: 657.2365\n",
            "Epoch 53/100\n",
            "10/18 [===============>..............] - ETA: 0s - loss: 114.9636INFO:tensorflow:Assets written to: model_experiments/model_5_LSTM/assets\n"
          ]
        },
        {
          "output_type": "stream",
          "name": "stderr",
          "text": [
            "INFO:tensorflow:Assets written to: model_experiments/model_5_LSTM/assets\n",
            "WARNING:absl:<keras.layers.recurrent.LSTMCell object at 0x7fc24c08c910> has the same name 'LSTMCell' as a built-in Keras object. Consider renaming <class 'keras.layers.recurrent.LSTMCell'> to avoid naming conflicts when loading with `tf.keras.models.load_model`. If renaming is not possible, pass the object in the `custom_objects` parameter of the load function.\n"
          ]
        },
        {
          "output_type": "stream",
          "name": "stdout",
          "text": [
            "\b\b\b\b\b\b\b\b\b\b\b\b\b\b\b\b\b\b\b\b\b\b\b\b\b\b\b\b\b\b\b\b\b\b\b\b\b\b\b\b\b\b\b\b\b\b\b\b\b\b\b\b\b\b\b\b\b\b\b\b\b\b\b\b\b\r18/18 [==============================] - 2s 140ms/step - loss: 119.7668 - val_loss: 652.7970\n",
            "Epoch 54/100\n",
            "18/18 [==============================] - 0s 8ms/step - loss: 120.1222 - val_loss: 654.4439\n",
            "Epoch 55/100\n",
            "11/18 [=================>............] - ETA: 0s - loss: 127.3472INFO:tensorflow:Assets written to: model_experiments/model_5_LSTM/assets\n"
          ]
        },
        {
          "output_type": "stream",
          "name": "stderr",
          "text": [
            "INFO:tensorflow:Assets written to: model_experiments/model_5_LSTM/assets\n",
            "WARNING:absl:<keras.layers.recurrent.LSTMCell object at 0x7fc24c08c910> has the same name 'LSTMCell' as a built-in Keras object. Consider renaming <class 'keras.layers.recurrent.LSTMCell'> to avoid naming conflicts when loading with `tf.keras.models.load_model`. If renaming is not possible, pass the object in the `custom_objects` parameter of the load function.\n"
          ]
        },
        {
          "output_type": "stream",
          "name": "stdout",
          "text": [
            "\b\b\b\b\b\b\b\b\b\b\b\b\b\b\b\b\b\b\b\b\b\b\b\b\b\b\b\b\b\b\b\b\b\b\b\b\b\b\b\b\b\b\b\b\b\b\b\b\b\b\b\b\b\b\b\b\b\b\b\b\b\b\b\b\b\r18/18 [==============================] - 2s 108ms/step - loss: 119.2566 - val_loss: 647.2831\n",
            "Epoch 56/100\n",
            "11/18 [=================>............] - ETA: 0s - loss: 122.4764INFO:tensorflow:Assets written to: model_experiments/model_5_LSTM/assets\n"
          ]
        },
        {
          "output_type": "stream",
          "name": "stderr",
          "text": [
            "INFO:tensorflow:Assets written to: model_experiments/model_5_LSTM/assets\n",
            "WARNING:absl:<keras.layers.recurrent.LSTMCell object at 0x7fc24c08c910> has the same name 'LSTMCell' as a built-in Keras object. Consider renaming <class 'keras.layers.recurrent.LSTMCell'> to avoid naming conflicts when loading with `tf.keras.models.load_model`. If renaming is not possible, pass the object in the `custom_objects` parameter of the load function.\n"
          ]
        },
        {
          "output_type": "stream",
          "name": "stdout",
          "text": [
            "\b\b\b\b\b\b\b\b\b\b\b\b\b\b\b\b\b\b\b\b\b\b\b\b\b\b\b\b\b\b\b\b\b\b\b\b\b\b\b\b\b\b\b\b\b\b\b\b\b\b\b\b\b\b\b\b\b\b\b\b\b\b\b\b\b\r18/18 [==============================] - 2s 105ms/step - loss: 120.0544 - val_loss: 643.7808\n",
            "Epoch 57/100\n",
            "18/18 [==============================] - 0s 7ms/step - loss: 123.1243 - val_loss: 671.1797\n",
            "Epoch 58/100\n",
            "11/18 [=================>............] - ETA: 0s - loss: 120.3613INFO:tensorflow:Assets written to: model_experiments/model_5_LSTM/assets\n"
          ]
        },
        {
          "output_type": "stream",
          "name": "stderr",
          "text": [
            "INFO:tensorflow:Assets written to: model_experiments/model_5_LSTM/assets\n",
            "WARNING:absl:<keras.layers.recurrent.LSTMCell object at 0x7fc24c08c910> has the same name 'LSTMCell' as a built-in Keras object. Consider renaming <class 'keras.layers.recurrent.LSTMCell'> to avoid naming conflicts when loading with `tf.keras.models.load_model`. If renaming is not possible, pass the object in the `custom_objects` parameter of the load function.\n"
          ]
        },
        {
          "output_type": "stream",
          "name": "stdout",
          "text": [
            "\b\b\b\b\b\b\b\b\b\b\b\b\b\b\b\b\b\b\b\b\b\b\b\b\b\b\b\b\b\b\b\b\b\b\b\b\b\b\b\b\b\b\b\b\b\b\b\b\b\b\b\b\b\b\b\b\b\b\b\b\b\b\b\b\b\r18/18 [==============================] - 2s 105ms/step - loss: 118.4059 - val_loss: 640.2656\n",
            "Epoch 59/100\n",
            "18/18 [==============================] - 0s 7ms/step - loss: 117.7119 - val_loss: 645.3837\n",
            "Epoch 60/100\n",
            "11/18 [=================>............] - ETA: 0s - loss: 119.2167INFO:tensorflow:Assets written to: model_experiments/model_5_LSTM/assets\n"
          ]
        },
        {
          "output_type": "stream",
          "name": "stderr",
          "text": [
            "INFO:tensorflow:Assets written to: model_experiments/model_5_LSTM/assets\n",
            "WARNING:absl:<keras.layers.recurrent.LSTMCell object at 0x7fc24c08c910> has the same name 'LSTMCell' as a built-in Keras object. Consider renaming <class 'keras.layers.recurrent.LSTMCell'> to avoid naming conflicts when loading with `tf.keras.models.load_model`. If renaming is not possible, pass the object in the `custom_objects` parameter of the load function.\n"
          ]
        },
        {
          "output_type": "stream",
          "name": "stdout",
          "text": [
            "\b\b\b\b\b\b\b\b\b\b\b\b\b\b\b\b\b\b\b\b\b\b\b\b\b\b\b\b\b\b\b\b\b\b\b\b\b\b\b\b\b\b\b\b\b\b\b\b\b\b\b\b\b\b\b\b\b\b\b\b\b\b\b\b\b\r18/18 [==============================] - 2s 106ms/step - loss: 118.5346 - val_loss: 638.7429\n",
            "Epoch 61/100\n",
            "18/18 [==============================] - 0s 7ms/step - loss: 118.3129 - val_loss: 689.4144\n",
            "Epoch 62/100\n",
            "18/18 [==============================] - 0s 7ms/step - loss: 121.4350 - val_loss: 748.5565\n",
            "Epoch 63/100\n",
            "18/18 [==============================] - 0s 7ms/step - loss: 123.1006 - val_loss: 651.8298\n",
            "Epoch 64/100\n",
            "18/18 [==============================] - 0s 7ms/step - loss: 115.9679 - val_loss: 672.9166\n",
            "Epoch 65/100\n",
            "10/18 [===============>..............] - ETA: 0s - loss: 119.5127INFO:tensorflow:Assets written to: model_experiments/model_5_LSTM/assets\n"
          ]
        },
        {
          "output_type": "stream",
          "name": "stderr",
          "text": [
            "INFO:tensorflow:Assets written to: model_experiments/model_5_LSTM/assets\n",
            "WARNING:absl:<keras.layers.recurrent.LSTMCell object at 0x7fc24c08c910> has the same name 'LSTMCell' as a built-in Keras object. Consider renaming <class 'keras.layers.recurrent.LSTMCell'> to avoid naming conflicts when loading with `tf.keras.models.load_model`. If renaming is not possible, pass the object in the `custom_objects` parameter of the load function.\n"
          ]
        },
        {
          "output_type": "stream",
          "name": "stdout",
          "text": [
            "\b\b\b\b\b\b\b\b\b\b\b\b\b\b\b\b\b\b\b\b\b\b\b\b\b\b\b\b\b\b\b\b\b\b\b\b\b\b\b\b\b\b\b\b\b\b\b\b\b\b\b\b\b\b\b\b\b\b\b\b\b\b\b\b\b\r18/18 [==============================] - 2s 139ms/step - loss: 118.8341 - val_loss: 631.7538\n",
            "Epoch 66/100\n",
            "18/18 [==============================] - 0s 8ms/step - loss: 116.2212 - val_loss: 634.5445\n",
            "Epoch 67/100\n",
            "11/18 [=================>............] - ETA: 0s - loss: 116.1731INFO:tensorflow:Assets written to: model_experiments/model_5_LSTM/assets\n"
          ]
        },
        {
          "output_type": "stream",
          "name": "stderr",
          "text": [
            "INFO:tensorflow:Assets written to: model_experiments/model_5_LSTM/assets\n",
            "WARNING:absl:<keras.layers.recurrent.LSTMCell object at 0x7fc24c08c910> has the same name 'LSTMCell' as a built-in Keras object. Consider renaming <class 'keras.layers.recurrent.LSTMCell'> to avoid naming conflicts when loading with `tf.keras.models.load_model`. If renaming is not possible, pass the object in the `custom_objects` parameter of the load function.\n"
          ]
        },
        {
          "output_type": "stream",
          "name": "stdout",
          "text": [
            "\b\b\b\b\b\b\b\b\b\b\b\b\b\b\b\b\b\b\b\b\b\b\b\b\b\b\b\b\b\b\b\b\b\b\b\b\b\b\b\b\b\b\b\b\b\b\b\b\b\b\b\b\b\b\b\b\b\b\b\b\b\b\b\b\b\r18/18 [==============================] - 2s 105ms/step - loss: 116.1580 - val_loss: 623.8932\n",
            "Epoch 68/100\n",
            "18/18 [==============================] - 0s 8ms/step - loss: 115.5543 - val_loss: 635.4929\n",
            "Epoch 69/100\n",
            "18/18 [==============================] - 0s 7ms/step - loss: 120.5866 - val_loss: 626.3387\n",
            "Epoch 70/100\n",
            "10/18 [===============>..............] - ETA: 0s - loss: 115.4515INFO:tensorflow:Assets written to: model_experiments/model_5_LSTM/assets\n"
          ]
        },
        {
          "output_type": "stream",
          "name": "stderr",
          "text": [
            "INFO:tensorflow:Assets written to: model_experiments/model_5_LSTM/assets\n",
            "WARNING:absl:<keras.layers.recurrent.LSTMCell object at 0x7fc24c08c910> has the same name 'LSTMCell' as a built-in Keras object. Consider renaming <class 'keras.layers.recurrent.LSTMCell'> to avoid naming conflicts when loading with `tf.keras.models.load_model`. If renaming is not possible, pass the object in the `custom_objects` parameter of the load function.\n"
          ]
        },
        {
          "output_type": "stream",
          "name": "stdout",
          "text": [
            "\b\b\b\b\b\b\b\b\b\b\b\b\b\b\b\b\b\b\b\b\b\b\b\b\b\b\b\b\b\b\b\b\b\b\b\b\b\b\b\b\b\b\b\b\b\b\b\b\b\b\b\b\b\b\b\b\b\b\b\b\b\b\b\b\b\r18/18 [==============================] - 2s 107ms/step - loss: 114.9188 - val_loss: 619.3181\n",
            "Epoch 71/100\n",
            "18/18 [==============================] - 0s 7ms/step - loss: 114.8998 - val_loss: 650.9373\n",
            "Epoch 72/100\n",
            "18/18 [==============================] - 0s 7ms/step - loss: 118.2033 - val_loss: 630.5287\n",
            "Epoch 73/100\n",
            "18/18 [==============================] - 0s 8ms/step - loss: 115.3612 - val_loss: 623.0369\n",
            "Epoch 74/100\n",
            "18/18 [==============================] - 0s 7ms/step - loss: 115.0345 - val_loss: 623.0776\n",
            "Epoch 75/100\n",
            "18/18 [==============================] - 0s 8ms/step - loss: 115.2057 - val_loss: 640.5281\n",
            "Epoch 76/100\n",
            "11/18 [=================>............] - ETA: 0s - loss: 114.5117INFO:tensorflow:Assets written to: model_experiments/model_5_LSTM/assets\n"
          ]
        },
        {
          "output_type": "stream",
          "name": "stderr",
          "text": [
            "INFO:tensorflow:Assets written to: model_experiments/model_5_LSTM/assets\n",
            "WARNING:absl:<keras.layers.recurrent.LSTMCell object at 0x7fc24c08c910> has the same name 'LSTMCell' as a built-in Keras object. Consider renaming <class 'keras.layers.recurrent.LSTMCell'> to avoid naming conflicts when loading with `tf.keras.models.load_model`. If renaming is not possible, pass the object in the `custom_objects` parameter of the load function.\n"
          ]
        },
        {
          "output_type": "stream",
          "name": "stdout",
          "text": [
            "\b\b\b\b\b\b\b\b\b\b\b\b\b\b\b\b\b\b\b\b\b\b\b\b\b\b\b\b\b\b\b\b\b\b\b\b\b\b\b\b\b\b\b\b\b\b\b\b\b\b\b\b\b\b\b\b\b\b\b\b\b\b\b\b\b\r18/18 [==============================] - 2s 107ms/step - loss: 114.1402 - val_loss: 614.4062\n",
            "Epoch 77/100\n",
            "18/18 [==============================] - 0s 7ms/step - loss: 115.5973 - val_loss: 689.8776\n",
            "Epoch 78/100\n",
            "18/18 [==============================] - 0s 7ms/step - loss: 117.2611 - val_loss: 645.2790\n",
            "Epoch 79/100\n",
            "11/18 [=================>............] - ETA: 0s - loss: 110.4640INFO:tensorflow:Assets written to: model_experiments/model_5_LSTM/assets\n"
          ]
        },
        {
          "output_type": "stream",
          "name": "stderr",
          "text": [
            "INFO:tensorflow:Assets written to: model_experiments/model_5_LSTM/assets\n",
            "WARNING:absl:<keras.layers.recurrent.LSTMCell object at 0x7fc24c08c910> has the same name 'LSTMCell' as a built-in Keras object. Consider renaming <class 'keras.layers.recurrent.LSTMCell'> to avoid naming conflicts when loading with `tf.keras.models.load_model`. If renaming is not possible, pass the object in the `custom_objects` parameter of the load function.\n"
          ]
        },
        {
          "output_type": "stream",
          "name": "stdout",
          "text": [
            "\b\b\b\b\b\b\b\b\b\b\b\b\b\b\b\b\b\b\b\b\b\b\b\b\b\b\b\b\b\b\b\b\b\b\b\b\b\b\b\b\b\b\b\b\b\b\b\b\b\b\b\b\b\b\b\b\b\b\b\b\b\b\b\b\b\r18/18 [==============================] - 2s 105ms/step - loss: 114.1995 - val_loss: 608.7159\n",
            "Epoch 80/100\n",
            "18/18 [==============================] - 0s 7ms/step - loss: 112.7125 - val_loss: 614.9222\n",
            "Epoch 81/100\n",
            "18/18 [==============================] - 0s 7ms/step - loss: 113.3684 - val_loss: 634.8466\n",
            "Epoch 82/100\n",
            "11/18 [=================>............] - ETA: 0s - loss: 122.9989INFO:tensorflow:Assets written to: model_experiments/model_5_LSTM/assets\n"
          ]
        },
        {
          "output_type": "stream",
          "name": "stderr",
          "text": [
            "INFO:tensorflow:Assets written to: model_experiments/model_5_LSTM/assets\n",
            "WARNING:absl:<keras.layers.recurrent.LSTMCell object at 0x7fc24c08c910> has the same name 'LSTMCell' as a built-in Keras object. Consider renaming <class 'keras.layers.recurrent.LSTMCell'> to avoid naming conflicts when loading with `tf.keras.models.load_model`. If renaming is not possible, pass the object in the `custom_objects` parameter of the load function.\n"
          ]
        },
        {
          "output_type": "stream",
          "name": "stdout",
          "text": [
            "\b\b\b\b\b\b\b\b\b\b\b\b\b\b\b\b\b\b\b\b\b\b\b\b\b\b\b\b\b\b\b\b\b\b\b\b\b\b\b\b\b\b\b\b\b\b\b\b\b\b\b\b\b\b\b\b\b\b\b\b\b\b\b\b\b\r18/18 [==============================] - 2s 107ms/step - loss: 115.9701 - val_loss: 607.8510\n",
            "Epoch 83/100\n",
            "18/18 [==============================] - 0s 8ms/step - loss: 113.3599 - val_loss: 628.8181\n",
            "Epoch 84/100\n",
            "18/18 [==============================] - 0s 8ms/step - loss: 114.4113 - val_loss: 628.5579\n",
            "Epoch 85/100\n",
            "18/18 [==============================] - 0s 8ms/step - loss: 114.8363 - val_loss: 634.7715\n",
            "Epoch 86/100\n",
            "18/18 [==============================] - 0s 7ms/step - loss: 115.5462 - val_loss: 613.5223\n",
            "Epoch 87/100\n",
            "11/18 [=================>............] - ETA: 0s - loss: 116.9523INFO:tensorflow:Assets written to: model_experiments/model_5_LSTM/assets\n"
          ]
        },
        {
          "output_type": "stream",
          "name": "stderr",
          "text": [
            "INFO:tensorflow:Assets written to: model_experiments/model_5_LSTM/assets\n",
            "WARNING:absl:<keras.layers.recurrent.LSTMCell object at 0x7fc24c08c910> has the same name 'LSTMCell' as a built-in Keras object. Consider renaming <class 'keras.layers.recurrent.LSTMCell'> to avoid naming conflicts when loading with `tf.keras.models.load_model`. If renaming is not possible, pass the object in the `custom_objects` parameter of the load function.\n"
          ]
        },
        {
          "output_type": "stream",
          "name": "stdout",
          "text": [
            "\b\b\b\b\b\b\b\b\b\b\b\b\b\b\b\b\b\b\b\b\b\b\b\b\b\b\b\b\b\b\b\b\b\b\b\b\b\b\b\b\b\b\b\b\b\b\b\b\b\b\b\b\b\b\b\b\b\b\b\b\b\b\b\b\b\r18/18 [==============================] - 2s 139ms/step - loss: 112.5059 - val_loss: 604.7603\n",
            "Epoch 88/100\n",
            "10/18 [===============>..............] - ETA: 0s - loss: 118.3664INFO:tensorflow:Assets written to: model_experiments/model_5_LSTM/assets\n"
          ]
        },
        {
          "output_type": "stream",
          "name": "stderr",
          "text": [
            "INFO:tensorflow:Assets written to: model_experiments/model_5_LSTM/assets\n",
            "WARNING:absl:<keras.layers.recurrent.LSTMCell object at 0x7fc24c08c910> has the same name 'LSTMCell' as a built-in Keras object. Consider renaming <class 'keras.layers.recurrent.LSTMCell'> to avoid naming conflicts when loading with `tf.keras.models.load_model`. If renaming is not possible, pass the object in the `custom_objects` parameter of the load function.\n"
          ]
        },
        {
          "output_type": "stream",
          "name": "stdout",
          "text": [
            "\b\b\b\b\b\b\b\b\b\b\b\b\b\b\b\b\b\b\b\b\b\b\b\b\b\b\b\b\b\b\b\b\b\b\b\b\b\b\b\b\b\b\b\b\b\b\b\b\b\b\b\b\b\b\b\b\b\b\b\b\b\b\b\b\b\r18/18 [==============================] - 2s 107ms/step - loss: 111.7706 - val_loss: 601.5748\n",
            "Epoch 89/100\n",
            "18/18 [==============================] - 0s 7ms/step - loss: 111.8470 - val_loss: 624.0131\n",
            "Epoch 90/100\n",
            "18/18 [==============================] - 0s 7ms/step - loss: 115.6354 - val_loss: 662.9452\n",
            "Epoch 91/100\n",
            "18/18 [==============================] - 0s 7ms/step - loss: 116.1836 - val_loss: 636.0310\n",
            "Epoch 92/100\n",
            "18/18 [==============================] - 0s 7ms/step - loss: 113.1700 - val_loss: 606.0366\n",
            "Epoch 93/100\n",
            "10/18 [===============>..............] - ETA: 0s - loss: 111.9717INFO:tensorflow:Assets written to: model_experiments/model_5_LSTM/assets\n"
          ]
        },
        {
          "output_type": "stream",
          "name": "stderr",
          "text": [
            "INFO:tensorflow:Assets written to: model_experiments/model_5_LSTM/assets\n",
            "WARNING:absl:<keras.layers.recurrent.LSTMCell object at 0x7fc24c08c910> has the same name 'LSTMCell' as a built-in Keras object. Consider renaming <class 'keras.layers.recurrent.LSTMCell'> to avoid naming conflicts when loading with `tf.keras.models.load_model`. If renaming is not possible, pass the object in the `custom_objects` parameter of the load function.\n"
          ]
        },
        {
          "output_type": "stream",
          "name": "stdout",
          "text": [
            "\b\b\b\b\b\b\b\b\b\b\b\b\b\b\b\b\b\b\b\b\b\b\b\b\b\b\b\b\b\b\b\b\b\b\b\b\b\b\b\b\b\b\b\b\b\b\b\b\b\b\b\b\b\b\b\b\b\b\b\b\b\b\b\b\b\r18/18 [==============================] - 2s 108ms/step - loss: 112.4748 - val_loss: 599.8319\n",
            "Epoch 94/100\n",
            "18/18 [==============================] - 0s 7ms/step - loss: 111.2637 - val_loss: 601.3256\n",
            "Epoch 95/100\n",
            "11/18 [=================>............] - ETA: 0s - loss: 106.7242INFO:tensorflow:Assets written to: model_experiments/model_5_LSTM/assets\n"
          ]
        },
        {
          "output_type": "stream",
          "name": "stderr",
          "text": [
            "INFO:tensorflow:Assets written to: model_experiments/model_5_LSTM/assets\n",
            "WARNING:absl:<keras.layers.recurrent.LSTMCell object at 0x7fc24c08c910> has the same name 'LSTMCell' as a built-in Keras object. Consider renaming <class 'keras.layers.recurrent.LSTMCell'> to avoid naming conflicts when loading with `tf.keras.models.load_model`. If renaming is not possible, pass the object in the `custom_objects` parameter of the load function.\n"
          ]
        },
        {
          "output_type": "stream",
          "name": "stdout",
          "text": [
            "\b\b\b\b\b\b\b\b\b\b\b\b\b\b\b\b\b\b\b\b\b\b\b\b\b\b\b\b\b\b\b\b\b\b\b\b\b\b\b\b\b\b\b\b\b\b\b\b\b\b\b\b\b\b\b\b\b\b\b\b\b\b\b\b\b\r18/18 [==============================] - 2s 107ms/step - loss: 111.0185 - val_loss: 597.1485\n",
            "Epoch 96/100\n",
            "18/18 [==============================] - 0s 8ms/step - loss: 112.3787 - val_loss: 601.1596\n",
            "Epoch 97/100\n",
            "18/18 [==============================] - 0s 7ms/step - loss: 111.4700 - val_loss: 626.1573\n",
            "Epoch 98/100\n",
            "18/18 [==============================] - 0s 8ms/step - loss: 111.7326 - val_loss: 601.0142\n",
            "Epoch 99/100\n",
            "18/18 [==============================] - ETA: 0s - loss: 110.7480INFO:tensorflow:Assets written to: model_experiments/model_5_LSTM/assets\n"
          ]
        },
        {
          "output_type": "stream",
          "name": "stderr",
          "text": [
            "INFO:tensorflow:Assets written to: model_experiments/model_5_LSTM/assets\n",
            "WARNING:absl:<keras.layers.recurrent.LSTMCell object at 0x7fc24c08c910> has the same name 'LSTMCell' as a built-in Keras object. Consider renaming <class 'keras.layers.recurrent.LSTMCell'> to avoid naming conflicts when loading with `tf.keras.models.load_model`. If renaming is not possible, pass the object in the `custom_objects` parameter of the load function.\n"
          ]
        },
        {
          "output_type": "stream",
          "name": "stdout",
          "text": [
            "\b\b\b\b\b\b\b\b\b\b\b\b\b\b\b\b\b\b\b\b\b\b\b\b\b\b\b\b\b\b\b\b\b\b\b\b\b\b\b\b\b\b\b\b\b\b\b\b\b\b\b\b\b\b\b\b\b\b\b\b\b\b\b\b\b\r18/18 [==============================] - 2s 108ms/step - loss: 110.7480 - val_loss: 594.6030\n",
            "Epoch 100/100\n",
            "18/18 [==============================] - 0s 7ms/step - loss: 111.9943 - val_loss: 595.9847\n"
          ]
        },
        {
          "output_type": "execute_result",
          "data": {
            "text/plain": [
              "<keras.callbacks.History at 0x7fc24c9083d0>"
            ]
          },
          "metadata": {},
          "execution_count": 335
        }
      ]
    },
    {
      "cell_type": "code",
      "source": [
        "# Load in best version of model 5 and evaluate on the test data\n",
        "model_5 = tf.keras.models.load_model(\"model_experiments/model_5_LSTM\")\n",
        "model_5.evaluate(test_windows, test_labels)"
      ],
      "metadata": {
        "colab": {
          "base_uri": "https://localhost:8080/"
        },
        "id": "v5w13RcgGRoA",
        "outputId": "2929e00d-3346-4421-be22-362e17e13c7e"
      },
      "execution_count": 336,
      "outputs": [
        {
          "output_type": "stream",
          "name": "stdout",
          "text": [
            "WARNING:tensorflow:Layer lstm_2 will not use cuDNN kernels since it doesn't meet the criteria. It will use a generic GPU kernel as fallback when running on GPU.\n"
          ]
        },
        {
          "output_type": "stream",
          "name": "stderr",
          "text": [
            "WARNING:tensorflow:Layer lstm_2 will not use cuDNN kernels since it doesn't meet the criteria. It will use a generic GPU kernel as fallback when running on GPU.\n"
          ]
        },
        {
          "output_type": "stream",
          "name": "stdout",
          "text": [
            "18/18 [==============================] - 0s 2ms/step - loss: 594.6030\n"
          ]
        },
        {
          "output_type": "execute_result",
          "data": {
            "text/plain": [
              "594.6029663085938"
            ]
          },
          "metadata": {},
          "execution_count": 336
        }
      ]
    },
    {
      "cell_type": "code",
      "source": [
        "# Make prediction with our LSTM model\n",
        "model_5_preds = make_preds(model_5, test_windows)\n",
        "model_5_preds[:5]"
      ],
      "metadata": {
        "colab": {
          "base_uri": "https://localhost:8080/"
        },
        "id": "k7be6bygHlxy",
        "outputId": "f1f76349-1ef8-4aed-b7b8-d94d4d25c2f6"
      },
      "execution_count": 337,
      "outputs": [
        {
          "output_type": "execute_result",
          "data": {
            "text/plain": [
              "<tf.Tensor: shape=(5,), dtype=float32, numpy=array([8978.46 , 8810.951, 8997.779, 8836.308, 8731.047], dtype=float32)>"
            ]
          },
          "metadata": {},
          "execution_count": 337
        }
      ]
    },
    {
      "cell_type": "code",
      "source": [
        "# Evaluate model_5 predictions\n",
        "model_5_results = evaluate_preds(y_true=tf.squeeze(test_labels),\n",
        "                                 y_pred=model_5_preds)\n",
        "model_5_results"
      ],
      "metadata": {
        "colab": {
          "base_uri": "https://localhost:8080/"
        },
        "id": "uHsVYCE-H0xn",
        "outputId": "f21153c9-0605-413c-ff0b-96ba56adddff"
      },
      "execution_count": 338,
      "outputs": [
        {
          "output_type": "execute_result",
          "data": {
            "text/plain": [
              "{'mae': 594.60297,\n",
              " 'mape': 2.6717565,\n",
              " 'mase': 1.0445527,\n",
              " 'mse': 1267231.9,\n",
              " 'rmse': 1125.7139}"
            ]
          },
          "metadata": {},
          "execution_count": 338
        }
      ]
    },
    {
      "cell_type": "code",
      "source": [
        "model_1_results"
      ],
      "metadata": {
        "colab": {
          "base_uri": "https://localhost:8080/"
        },
        "id": "8nSyCet6IAHw",
        "outputId": "52abc45a-b986-49f9-a696-57e3d1805f07"
      },
      "execution_count": 339,
      "outputs": [
        {
          "output_type": "execute_result",
          "data": {
            "text/plain": [
              "{'mae': 568.9511,\n",
              " 'mape': 2.5448983,\n",
              " 'mase': 0.99948955,\n",
              " 'mse': 1171743.8,\n",
              " 'rmse': 1082.4711}"
            ]
          },
          "metadata": {},
          "execution_count": 339
        }
      ]
    },
    {
      "cell_type": "markdown",
      "source": [
        "> 🔑 **Note:** Because neural networks are such powerful algorithms, they can be used for almost any problem, however, that doesn't mean they'll achieve performant or usable results. You're probably starting to clue onto this now."
      ],
      "metadata": {
        "id": "wQKDNS7qiOeE"
      }
    },
    {
      "cell_type": "markdown",
      "source": [
        "## Make a multivariate time series dataset\n",
        "\n",
        "Before we add a feature to our time series, what is a feature we can use?\n",
        "\n",
        "One feature we could add is whether or not Daniel Bourke tweeted on that day...\n",
        "\n",
        "* day 1 - 0\n",
        "* day 2 - 1\n",
        "* day 3 - 0\n",
        "\n",
        "What's a better feature to use?\n",
        "\n",
        "How about the bitcoin halving events?\n",
        "\n",
        "https://www.cmcmarkets.com/en/learn-cryptocurrencies/bitcoin-halving"
      ],
      "metadata": {
        "id": "lpgbtKl-ICJB"
      }
    },
    {
      "cell_type": "code",
      "source": [
        "# Let's make a multivariate time series\n",
        "bitcoin_prices.head()"
      ],
      "metadata": {
        "colab": {
          "base_uri": "https://localhost:8080/",
          "height": 238
        },
        "id": "ul623vw3jPsc",
        "outputId": "1d3e28b6-3d86-49f5-c952-4daf43b2bf03"
      },
      "execution_count": 340,
      "outputs": [
        {
          "output_type": "execute_result",
          "data": {
            "text/plain": [
              "                Price\n",
              "Date                 \n",
              "2013-10-01  123.65499\n",
              "2013-10-02  125.45500\n",
              "2013-10-03  108.58483\n",
              "2013-10-04  118.67466\n",
              "2013-10-05  121.33866"
            ],
            "text/html": [
              "\n",
              "  <div id=\"df-ffaed891-b7a7-447f-a463-01f69a8ea283\">\n",
              "    <div class=\"colab-df-container\">\n",
              "      <div>\n",
              "<style scoped>\n",
              "    .dataframe tbody tr th:only-of-type {\n",
              "        vertical-align: middle;\n",
              "    }\n",
              "\n",
              "    .dataframe tbody tr th {\n",
              "        vertical-align: top;\n",
              "    }\n",
              "\n",
              "    .dataframe thead th {\n",
              "        text-align: right;\n",
              "    }\n",
              "</style>\n",
              "<table border=\"1\" class=\"dataframe\">\n",
              "  <thead>\n",
              "    <tr style=\"text-align: right;\">\n",
              "      <th></th>\n",
              "      <th>Price</th>\n",
              "    </tr>\n",
              "    <tr>\n",
              "      <th>Date</th>\n",
              "      <th></th>\n",
              "    </tr>\n",
              "  </thead>\n",
              "  <tbody>\n",
              "    <tr>\n",
              "      <th>2013-10-01</th>\n",
              "      <td>123.65499</td>\n",
              "    </tr>\n",
              "    <tr>\n",
              "      <th>2013-10-02</th>\n",
              "      <td>125.45500</td>\n",
              "    </tr>\n",
              "    <tr>\n",
              "      <th>2013-10-03</th>\n",
              "      <td>108.58483</td>\n",
              "    </tr>\n",
              "    <tr>\n",
              "      <th>2013-10-04</th>\n",
              "      <td>118.67466</td>\n",
              "    </tr>\n",
              "    <tr>\n",
              "      <th>2013-10-05</th>\n",
              "      <td>121.33866</td>\n",
              "    </tr>\n",
              "  </tbody>\n",
              "</table>\n",
              "</div>\n",
              "      <button class=\"colab-df-convert\" onclick=\"convertToInteractive('df-ffaed891-b7a7-447f-a463-01f69a8ea283')\"\n",
              "              title=\"Convert this dataframe to an interactive table.\"\n",
              "              style=\"display:none;\">\n",
              "        \n",
              "  <svg xmlns=\"http://www.w3.org/2000/svg\" height=\"24px\"viewBox=\"0 0 24 24\"\n",
              "       width=\"24px\">\n",
              "    <path d=\"M0 0h24v24H0V0z\" fill=\"none\"/>\n",
              "    <path d=\"M18.56 5.44l.94 2.06.94-2.06 2.06-.94-2.06-.94-.94-2.06-.94 2.06-2.06.94zm-11 1L8.5 8.5l.94-2.06 2.06-.94-2.06-.94L8.5 2.5l-.94 2.06-2.06.94zm10 10l.94 2.06.94-2.06 2.06-.94-2.06-.94-.94-2.06-.94 2.06-2.06.94z\"/><path d=\"M17.41 7.96l-1.37-1.37c-.4-.4-.92-.59-1.43-.59-.52 0-1.04.2-1.43.59L10.3 9.45l-7.72 7.72c-.78.78-.78 2.05 0 2.83L4 21.41c.39.39.9.59 1.41.59.51 0 1.02-.2 1.41-.59l7.78-7.78 2.81-2.81c.8-.78.8-2.07 0-2.86zM5.41 20L4 18.59l7.72-7.72 1.47 1.35L5.41 20z\"/>\n",
              "  </svg>\n",
              "      </button>\n",
              "      \n",
              "  <style>\n",
              "    .colab-df-container {\n",
              "      display:flex;\n",
              "      flex-wrap:wrap;\n",
              "      gap: 12px;\n",
              "    }\n",
              "\n",
              "    .colab-df-convert {\n",
              "      background-color: #E8F0FE;\n",
              "      border: none;\n",
              "      border-radius: 50%;\n",
              "      cursor: pointer;\n",
              "      display: none;\n",
              "      fill: #1967D2;\n",
              "      height: 32px;\n",
              "      padding: 0 0 0 0;\n",
              "      width: 32px;\n",
              "    }\n",
              "\n",
              "    .colab-df-convert:hover {\n",
              "      background-color: #E2EBFA;\n",
              "      box-shadow: 0px 1px 2px rgba(60, 64, 67, 0.3), 0px 1px 3px 1px rgba(60, 64, 67, 0.15);\n",
              "      fill: #174EA6;\n",
              "    }\n",
              "\n",
              "    [theme=dark] .colab-df-convert {\n",
              "      background-color: #3B4455;\n",
              "      fill: #D2E3FC;\n",
              "    }\n",
              "\n",
              "    [theme=dark] .colab-df-convert:hover {\n",
              "      background-color: #434B5C;\n",
              "      box-shadow: 0px 1px 3px 1px rgba(0, 0, 0, 0.15);\n",
              "      filter: drop-shadow(0px 1px 2px rgba(0, 0, 0, 0.3));\n",
              "      fill: #FFFFFF;\n",
              "    }\n",
              "  </style>\n",
              "\n",
              "      <script>\n",
              "        const buttonEl =\n",
              "          document.querySelector('#df-ffaed891-b7a7-447f-a463-01f69a8ea283 button.colab-df-convert');\n",
              "        buttonEl.style.display =\n",
              "          google.colab.kernel.accessAllowed ? 'block' : 'none';\n",
              "\n",
              "        async function convertToInteractive(key) {\n",
              "          const element = document.querySelector('#df-ffaed891-b7a7-447f-a463-01f69a8ea283');\n",
              "          const dataTable =\n",
              "            await google.colab.kernel.invokeFunction('convertToInteractive',\n",
              "                                                     [key], {});\n",
              "          if (!dataTable) return;\n",
              "\n",
              "          const docLinkHtml = 'Like what you see? Visit the ' +\n",
              "            '<a target=\"_blank\" href=https://colab.research.google.com/notebooks/data_table.ipynb>data table notebook</a>'\n",
              "            + ' to learn more about interactive tables.';\n",
              "          element.innerHTML = '';\n",
              "          dataTable['output_type'] = 'display_data';\n",
              "          await google.colab.output.renderOutput(dataTable, element);\n",
              "          const docLink = document.createElement('div');\n",
              "          docLink.innerHTML = docLinkHtml;\n",
              "          element.appendChild(docLink);\n",
              "        }\n",
              "      </script>\n",
              "    </div>\n",
              "  </div>\n",
              "  "
            ]
          },
          "metadata": {},
          "execution_count": 340
        }
      ]
    },
    {
      "cell_type": "code",
      "source": [
        "# Let's add the bitcoin halving events to our dataset\n",
        "block_reward_1 = 50 # 3 January 2009 - this block reward isn't in our dataset (our data start from 01 October 2013)\n",
        "block_reward_2 = 25 # 8 November 2012\n",
        "block_reward_3 = 12.5 # 9 July 2016\n",
        "block_reward_4 = 6.25 # 18 May 2020\n",
        "\n",
        "# Block reward dates\n",
        "block_reward_2_datetime = np.datetime64(\"2012-11-28\")\n",
        "block_reward_3_datetime = np.datetime64(\"2016-07-09\")\n",
        "block_reward_4_datetime = np.datetime64(\"2020-05-18\")"
      ],
      "metadata": {
        "id": "P8v3TXaqlsTI"
      },
      "execution_count": 341,
      "outputs": []
    },
    {
      "cell_type": "code",
      "source": [
        "# Create date ranges of where specific block_reward values should be\n",
        "block_reward_2_days = (block_reward_3_datetime - bitcoin_prices.index[0]).days\n",
        "block_reward_3_days = (block_reward_4_datetime - bitcoin_prices.index[1]).days\n",
        "block_reward_2_days, block_reward_3_days"
      ],
      "metadata": {
        "colab": {
          "base_uri": "https://localhost:8080/"
        },
        "id": "27wuQ6J1mpXe",
        "outputId": "b23f7692-d2b2-4daf-c31d-3cd019e9d7d6"
      },
      "execution_count": 342,
      "outputs": [
        {
          "output_type": "execute_result",
          "data": {
            "text/plain": [
              "(1012, 2420)"
            ]
          },
          "metadata": {},
          "execution_count": 342
        }
      ]
    },
    {
      "cell_type": "code",
      "source": [
        "# Add in a block_reward column\n",
        "bitcoin_prices_block = bitcoin_prices.copy()\n",
        "bitcoin_prices_block['block_reward'] = None\n",
        "\n",
        "# Add in block_reward values as a feature to our dataframe\n",
        "bitcoin_prices_block.iloc[:block_reward_2_days, -1] = block_reward_2\n",
        "bitcoin_prices_block.iloc[block_reward_2_days:block_reward_3_days, -1] = block_reward_3\n",
        "bitcoin_prices_block.iloc[block_reward_3_days:, -1] = block_reward_4"
      ],
      "metadata": {
        "id": "oNtEdZPYmrLS"
      },
      "execution_count": 343,
      "outputs": []
    },
    {
      "cell_type": "code",
      "source": [
        "bitcoin_prices_block.head()"
      ],
      "metadata": {
        "colab": {
          "base_uri": "https://localhost:8080/",
          "height": 238
        },
        "id": "CglwTjDyoW8V",
        "outputId": "39625ad5-5c48-4b9c-f24c-94a1d945b155"
      },
      "execution_count": 344,
      "outputs": [
        {
          "output_type": "execute_result",
          "data": {
            "text/plain": [
              "                Price block_reward\n",
              "Date                              \n",
              "2013-10-01  123.65499           25\n",
              "2013-10-02  125.45500           25\n",
              "2013-10-03  108.58483           25\n",
              "2013-10-04  118.67466           25\n",
              "2013-10-05  121.33866           25"
            ],
            "text/html": [
              "\n",
              "  <div id=\"df-ebefd1c5-7681-4ce8-b047-a7b6511dd17c\">\n",
              "    <div class=\"colab-df-container\">\n",
              "      <div>\n",
              "<style scoped>\n",
              "    .dataframe tbody tr th:only-of-type {\n",
              "        vertical-align: middle;\n",
              "    }\n",
              "\n",
              "    .dataframe tbody tr th {\n",
              "        vertical-align: top;\n",
              "    }\n",
              "\n",
              "    .dataframe thead th {\n",
              "        text-align: right;\n",
              "    }\n",
              "</style>\n",
              "<table border=\"1\" class=\"dataframe\">\n",
              "  <thead>\n",
              "    <tr style=\"text-align: right;\">\n",
              "      <th></th>\n",
              "      <th>Price</th>\n",
              "      <th>block_reward</th>\n",
              "    </tr>\n",
              "    <tr>\n",
              "      <th>Date</th>\n",
              "      <th></th>\n",
              "      <th></th>\n",
              "    </tr>\n",
              "  </thead>\n",
              "  <tbody>\n",
              "    <tr>\n",
              "      <th>2013-10-01</th>\n",
              "      <td>123.65499</td>\n",
              "      <td>25</td>\n",
              "    </tr>\n",
              "    <tr>\n",
              "      <th>2013-10-02</th>\n",
              "      <td>125.45500</td>\n",
              "      <td>25</td>\n",
              "    </tr>\n",
              "    <tr>\n",
              "      <th>2013-10-03</th>\n",
              "      <td>108.58483</td>\n",
              "      <td>25</td>\n",
              "    </tr>\n",
              "    <tr>\n",
              "      <th>2013-10-04</th>\n",
              "      <td>118.67466</td>\n",
              "      <td>25</td>\n",
              "    </tr>\n",
              "    <tr>\n",
              "      <th>2013-10-05</th>\n",
              "      <td>121.33866</td>\n",
              "      <td>25</td>\n",
              "    </tr>\n",
              "  </tbody>\n",
              "</table>\n",
              "</div>\n",
              "      <button class=\"colab-df-convert\" onclick=\"convertToInteractive('df-ebefd1c5-7681-4ce8-b047-a7b6511dd17c')\"\n",
              "              title=\"Convert this dataframe to an interactive table.\"\n",
              "              style=\"display:none;\">\n",
              "        \n",
              "  <svg xmlns=\"http://www.w3.org/2000/svg\" height=\"24px\"viewBox=\"0 0 24 24\"\n",
              "       width=\"24px\">\n",
              "    <path d=\"M0 0h24v24H0V0z\" fill=\"none\"/>\n",
              "    <path d=\"M18.56 5.44l.94 2.06.94-2.06 2.06-.94-2.06-.94-.94-2.06-.94 2.06-2.06.94zm-11 1L8.5 8.5l.94-2.06 2.06-.94-2.06-.94L8.5 2.5l-.94 2.06-2.06.94zm10 10l.94 2.06.94-2.06 2.06-.94-2.06-.94-.94-2.06-.94 2.06-2.06.94z\"/><path d=\"M17.41 7.96l-1.37-1.37c-.4-.4-.92-.59-1.43-.59-.52 0-1.04.2-1.43.59L10.3 9.45l-7.72 7.72c-.78.78-.78 2.05 0 2.83L4 21.41c.39.39.9.59 1.41.59.51 0 1.02-.2 1.41-.59l7.78-7.78 2.81-2.81c.8-.78.8-2.07 0-2.86zM5.41 20L4 18.59l7.72-7.72 1.47 1.35L5.41 20z\"/>\n",
              "  </svg>\n",
              "      </button>\n",
              "      \n",
              "  <style>\n",
              "    .colab-df-container {\n",
              "      display:flex;\n",
              "      flex-wrap:wrap;\n",
              "      gap: 12px;\n",
              "    }\n",
              "\n",
              "    .colab-df-convert {\n",
              "      background-color: #E8F0FE;\n",
              "      border: none;\n",
              "      border-radius: 50%;\n",
              "      cursor: pointer;\n",
              "      display: none;\n",
              "      fill: #1967D2;\n",
              "      height: 32px;\n",
              "      padding: 0 0 0 0;\n",
              "      width: 32px;\n",
              "    }\n",
              "\n",
              "    .colab-df-convert:hover {\n",
              "      background-color: #E2EBFA;\n",
              "      box-shadow: 0px 1px 2px rgba(60, 64, 67, 0.3), 0px 1px 3px 1px rgba(60, 64, 67, 0.15);\n",
              "      fill: #174EA6;\n",
              "    }\n",
              "\n",
              "    [theme=dark] .colab-df-convert {\n",
              "      background-color: #3B4455;\n",
              "      fill: #D2E3FC;\n",
              "    }\n",
              "\n",
              "    [theme=dark] .colab-df-convert:hover {\n",
              "      background-color: #434B5C;\n",
              "      box-shadow: 0px 1px 3px 1px rgba(0, 0, 0, 0.15);\n",
              "      filter: drop-shadow(0px 1px 2px rgba(0, 0, 0, 0.3));\n",
              "      fill: #FFFFFF;\n",
              "    }\n",
              "  </style>\n",
              "\n",
              "      <script>\n",
              "        const buttonEl =\n",
              "          document.querySelector('#df-ebefd1c5-7681-4ce8-b047-a7b6511dd17c button.colab-df-convert');\n",
              "        buttonEl.style.display =\n",
              "          google.colab.kernel.accessAllowed ? 'block' : 'none';\n",
              "\n",
              "        async function convertToInteractive(key) {\n",
              "          const element = document.querySelector('#df-ebefd1c5-7681-4ce8-b047-a7b6511dd17c');\n",
              "          const dataTable =\n",
              "            await google.colab.kernel.invokeFunction('convertToInteractive',\n",
              "                                                     [key], {});\n",
              "          if (!dataTable) return;\n",
              "\n",
              "          const docLinkHtml = 'Like what you see? Visit the ' +\n",
              "            '<a target=\"_blank\" href=https://colab.research.google.com/notebooks/data_table.ipynb>data table notebook</a>'\n",
              "            + ' to learn more about interactive tables.';\n",
              "          element.innerHTML = '';\n",
              "          dataTable['output_type'] = 'display_data';\n",
              "          await google.colab.output.renderOutput(dataTable, element);\n",
              "          const docLink = document.createElement('div');\n",
              "          docLink.innerHTML = docLinkHtml;\n",
              "          element.appendChild(docLink);\n",
              "        }\n",
              "      </script>\n",
              "    </div>\n",
              "  </div>\n",
              "  "
            ]
          },
          "metadata": {},
          "execution_count": 344
        }
      ]
    },
    {
      "cell_type": "code",
      "source": [
        "bitcoin_prices_block.tail()"
      ],
      "metadata": {
        "colab": {
          "base_uri": "https://localhost:8080/",
          "height": 238
        },
        "id": "-vNbaTENo6ew",
        "outputId": "72116f55-2c1f-432e-ac4e-14ce2c3921e0"
      },
      "execution_count": 345,
      "outputs": [
        {
          "output_type": "execute_result",
          "data": {
            "text/plain": [
              "                   Price block_reward\n",
              "Date                                 \n",
              "2021-05-14  49764.132082         6.25\n",
              "2021-05-15  50032.693137         6.25\n",
              "2021-05-16  47885.625255         6.25\n",
              "2021-05-17  45604.615754         6.25\n",
              "2021-05-18  43144.471291         6.25"
            ],
            "text/html": [
              "\n",
              "  <div id=\"df-50524974-e354-4df9-a0b0-c3dbde6b179a\">\n",
              "    <div class=\"colab-df-container\">\n",
              "      <div>\n",
              "<style scoped>\n",
              "    .dataframe tbody tr th:only-of-type {\n",
              "        vertical-align: middle;\n",
              "    }\n",
              "\n",
              "    .dataframe tbody tr th {\n",
              "        vertical-align: top;\n",
              "    }\n",
              "\n",
              "    .dataframe thead th {\n",
              "        text-align: right;\n",
              "    }\n",
              "</style>\n",
              "<table border=\"1\" class=\"dataframe\">\n",
              "  <thead>\n",
              "    <tr style=\"text-align: right;\">\n",
              "      <th></th>\n",
              "      <th>Price</th>\n",
              "      <th>block_reward</th>\n",
              "    </tr>\n",
              "    <tr>\n",
              "      <th>Date</th>\n",
              "      <th></th>\n",
              "      <th></th>\n",
              "    </tr>\n",
              "  </thead>\n",
              "  <tbody>\n",
              "    <tr>\n",
              "      <th>2021-05-14</th>\n",
              "      <td>49764.132082</td>\n",
              "      <td>6.25</td>\n",
              "    </tr>\n",
              "    <tr>\n",
              "      <th>2021-05-15</th>\n",
              "      <td>50032.693137</td>\n",
              "      <td>6.25</td>\n",
              "    </tr>\n",
              "    <tr>\n",
              "      <th>2021-05-16</th>\n",
              "      <td>47885.625255</td>\n",
              "      <td>6.25</td>\n",
              "    </tr>\n",
              "    <tr>\n",
              "      <th>2021-05-17</th>\n",
              "      <td>45604.615754</td>\n",
              "      <td>6.25</td>\n",
              "    </tr>\n",
              "    <tr>\n",
              "      <th>2021-05-18</th>\n",
              "      <td>43144.471291</td>\n",
              "      <td>6.25</td>\n",
              "    </tr>\n",
              "  </tbody>\n",
              "</table>\n",
              "</div>\n",
              "      <button class=\"colab-df-convert\" onclick=\"convertToInteractive('df-50524974-e354-4df9-a0b0-c3dbde6b179a')\"\n",
              "              title=\"Convert this dataframe to an interactive table.\"\n",
              "              style=\"display:none;\">\n",
              "        \n",
              "  <svg xmlns=\"http://www.w3.org/2000/svg\" height=\"24px\"viewBox=\"0 0 24 24\"\n",
              "       width=\"24px\">\n",
              "    <path d=\"M0 0h24v24H0V0z\" fill=\"none\"/>\n",
              "    <path d=\"M18.56 5.44l.94 2.06.94-2.06 2.06-.94-2.06-.94-.94-2.06-.94 2.06-2.06.94zm-11 1L8.5 8.5l.94-2.06 2.06-.94-2.06-.94L8.5 2.5l-.94 2.06-2.06.94zm10 10l.94 2.06.94-2.06 2.06-.94-2.06-.94-.94-2.06-.94 2.06-2.06.94z\"/><path d=\"M17.41 7.96l-1.37-1.37c-.4-.4-.92-.59-1.43-.59-.52 0-1.04.2-1.43.59L10.3 9.45l-7.72 7.72c-.78.78-.78 2.05 0 2.83L4 21.41c.39.39.9.59 1.41.59.51 0 1.02-.2 1.41-.59l7.78-7.78 2.81-2.81c.8-.78.8-2.07 0-2.86zM5.41 20L4 18.59l7.72-7.72 1.47 1.35L5.41 20z\"/>\n",
              "  </svg>\n",
              "      </button>\n",
              "      \n",
              "  <style>\n",
              "    .colab-df-container {\n",
              "      display:flex;\n",
              "      flex-wrap:wrap;\n",
              "      gap: 12px;\n",
              "    }\n",
              "\n",
              "    .colab-df-convert {\n",
              "      background-color: #E8F0FE;\n",
              "      border: none;\n",
              "      border-radius: 50%;\n",
              "      cursor: pointer;\n",
              "      display: none;\n",
              "      fill: #1967D2;\n",
              "      height: 32px;\n",
              "      padding: 0 0 0 0;\n",
              "      width: 32px;\n",
              "    }\n",
              "\n",
              "    .colab-df-convert:hover {\n",
              "      background-color: #E2EBFA;\n",
              "      box-shadow: 0px 1px 2px rgba(60, 64, 67, 0.3), 0px 1px 3px 1px rgba(60, 64, 67, 0.15);\n",
              "      fill: #174EA6;\n",
              "    }\n",
              "\n",
              "    [theme=dark] .colab-df-convert {\n",
              "      background-color: #3B4455;\n",
              "      fill: #D2E3FC;\n",
              "    }\n",
              "\n",
              "    [theme=dark] .colab-df-convert:hover {\n",
              "      background-color: #434B5C;\n",
              "      box-shadow: 0px 1px 3px 1px rgba(0, 0, 0, 0.15);\n",
              "      filter: drop-shadow(0px 1px 2px rgba(0, 0, 0, 0.3));\n",
              "      fill: #FFFFFF;\n",
              "    }\n",
              "  </style>\n",
              "\n",
              "      <script>\n",
              "        const buttonEl =\n",
              "          document.querySelector('#df-50524974-e354-4df9-a0b0-c3dbde6b179a button.colab-df-convert');\n",
              "        buttonEl.style.display =\n",
              "          google.colab.kernel.accessAllowed ? 'block' : 'none';\n",
              "\n",
              "        async function convertToInteractive(key) {\n",
              "          const element = document.querySelector('#df-50524974-e354-4df9-a0b0-c3dbde6b179a');\n",
              "          const dataTable =\n",
              "            await google.colab.kernel.invokeFunction('convertToInteractive',\n",
              "                                                     [key], {});\n",
              "          if (!dataTable) return;\n",
              "\n",
              "          const docLinkHtml = 'Like what you see? Visit the ' +\n",
              "            '<a target=\"_blank\" href=https://colab.research.google.com/notebooks/data_table.ipynb>data table notebook</a>'\n",
              "            + ' to learn more about interactive tables.';\n",
              "          element.innerHTML = '';\n",
              "          dataTable['output_type'] = 'display_data';\n",
              "          await google.colab.output.renderOutput(dataTable, element);\n",
              "          const docLink = document.createElement('div');\n",
              "          docLink.innerHTML = docLinkHtml;\n",
              "          element.appendChild(docLink);\n",
              "        }\n",
              "      </script>\n",
              "    </div>\n",
              "  </div>\n",
              "  "
            ]
          },
          "metadata": {},
          "execution_count": 345
        }
      ]
    },
    {
      "cell_type": "code",
      "source": [
        "# Plot the block_reward vs price over time\n",
        "from sklearn.preprocessing import minmax_scale\n",
        "scaled_price_block_df = pd.DataFrame(minmax_scale(bitcoin_prices_block[['Price', 'block_reward']]),\n",
        "                                     columns=bitcoin_prices_block.columns,\n",
        "                                     index=bitcoin_prices_block.index)\n",
        "scaled_price_block_df.plot(figsize=(10, 7))"
      ],
      "metadata": {
        "colab": {
          "base_uri": "https://localhost:8080/",
          "height": 460
        },
        "id": "y6L0TuAvqKCR",
        "outputId": "d439de00-4d40-44e1-e4d0-c829d47f7a42"
      },
      "execution_count": 346,
      "outputs": [
        {
          "output_type": "execute_result",
          "data": {
            "text/plain": [
              "<matplotlib.axes._subplots.AxesSubplot at 0x7fc2747e57d0>"
            ]
          },
          "metadata": {},
          "execution_count": 346
        },
        {
          "output_type": "display_data",
          "data": {
            "text/plain": [
              "<Figure size 720x504 with 1 Axes>"
            ],
            "image/png": "[encoded data removed]"
          },
          "metadata": {
            "needs_background": "light"
          }
        }
      ]
    },
    {
      "cell_type": "markdown",
      "source": [
        "## Making a windowed dataset with pandas\n",
        "\n",
        "Previously, we've turned our univariate time series into windowed dataset using the helper functions above.\n",
        "\n",
        "However, since we've got multivariate data, these functions won't work.\n",
        "\n",
        "Not to worry, we can use the pandas.DataFrame.shift() method to window our multivariate data."
      ],
      "metadata": {
        "id": "_DC95wzuqOAc"
      }
    },
    {
      "cell_type": "code",
      "source": [
        "# Setup dataset hyperparameters\n",
        "HORIZON = 1\n",
        "WINDOW_SIZE = 7"
      ],
      "metadata": {
        "id": "aatnNGFvtYPM"
      },
      "execution_count": 347,
      "outputs": []
    },
    {
      "cell_type": "code",
      "source": [
        "# Make a copy of the bitcoin historical data with block reward feature\n",
        "bitcoin_prices_windowed = bitcoin_prices_block.copy()\n",
        "\n",
        "# Add windowed columns\n",
        "for i in range(WINDOW_SIZE): # shift values for each step in WINDOW_SIZE\n",
        "    bitcoin_prices_windowed[f'Price+{i+1}'] = bitcoin_prices_windowed['Price'].shift(periods=i+1)\n",
        "bitcoin_prices_windowed.head(10)"
      ],
      "metadata": {
        "colab": {
          "base_uri": "https://localhost:8080/",
          "height": 394
        },
        "id": "k9K1xxaltaat",
        "outputId": "b15ffadd-5299-46c4-9fde-260c8e1ae787"
      },
      "execution_count": 348,
      "outputs": [
        {
          "output_type": "execute_result",
          "data": {
            "text/plain": [
              "                Price block_reward    Price+1    Price+2    Price+3  \\\n",
              "Date                                                                  \n",
              "2013-10-01  123.65499           25        NaN        NaN        NaN   \n",
              "2013-10-02  125.45500           25  123.65499        NaN        NaN   \n",
              "2013-10-03  108.58483           25  125.45500  123.65499        NaN   \n",
              "2013-10-04  118.67466           25  108.58483  125.45500  123.65499   \n",
              "2013-10-05  121.33866           25  118.67466  108.58483  125.45500   \n",
              "2013-10-06  120.65533           25  121.33866  118.67466  108.58483   \n",
              "2013-10-07  121.79500           25  120.65533  121.33866  118.67466   \n",
              "2013-10-08  123.03300           25  121.79500  120.65533  121.33866   \n",
              "2013-10-09  124.04900           25  123.03300  121.79500  120.65533   \n",
              "2013-10-10  125.96116           25  124.04900  123.03300  121.79500   \n",
              "\n",
              "              Price+4    Price+5    Price+6    Price+7  \n",
              "Date                                                    \n",
              "2013-10-01        NaN        NaN        NaN        NaN  \n",
              "2013-10-02        NaN        NaN        NaN        NaN  \n",
              "2013-10-03        NaN        NaN        NaN        NaN  \n",
              "2013-10-04        NaN        NaN        NaN        NaN  \n",
              "2013-10-05  123.65499        NaN        NaN        NaN  \n",
              "2013-10-06  125.45500  123.65499        NaN        NaN  \n",
              "2013-10-07  108.58483  125.45500  123.65499        NaN  \n",
              "2013-10-08  118.67466  108.58483  125.45500  123.65499  \n",
              "2013-10-09  121.33866  118.67466  108.58483  125.45500  \n",
              "2013-10-10  120.65533  121.33866  118.67466  108.58483  "
            ],
            "text/html": [
              "\n",
              "  <div id=\"df-729f7cda-b947-4cda-8430-522a5c62e911\">\n",
              "    <div class=\"colab-df-container\">\n",
              "      <div>\n",
              "<style scoped>\n",
              "    .dataframe tbody tr th:only-of-type {\n",
              "        vertical-align: middle;\n",
              "    }\n",
              "\n",
              "    .dataframe tbody tr th {\n",
              "        vertical-align: top;\n",
              "    }\n",
              "\n",
              "    .dataframe thead th {\n",
              "        text-align: right;\n",
              "    }\n",
              "</style>\n",
              "<table border=\"1\" class=\"dataframe\">\n",
              "  <thead>\n",
              "    <tr style=\"text-align: right;\">\n",
              "      <th></th>\n",
              "      <th>Price</th>\n",
              "      <th>block_reward</th>\n",
              "      <th>Price+1</th>\n",
              "      <th>Price+2</th>\n",
              "      <th>Price+3</th>\n",
              "      <th>Price+4</th>\n",
              "      <th>Price+5</th>\n",
              "      <th>Price+6</th>\n",
              "      <th>Price+7</th>\n",
              "    </tr>\n",
              "    <tr>\n",
              "      <th>Date</th>\n",
              "      <th></th>\n",
              "      <th></th>\n",
              "      <th></th>\n",
              "      <th></th>\n",
              "      <th></th>\n",
              "      <th></th>\n",
              "      <th></th>\n",
              "      <th></th>\n",
              "      <th></th>\n",
              "    </tr>\n",
              "  </thead>\n",
              "  <tbody>\n",
              "    <tr>\n",
              "      <th>2013-10-01</th>\n",
              "      <td>123.65499</td>\n",
              "      <td>25</td>\n",
              "      <td>NaN</td>\n",
              "      <td>NaN</td>\n",
              "      <td>NaN</td>\n",
              "      <td>NaN</td>\n",
              "      <td>NaN</td>\n",
              "      <td>NaN</td>\n",
              "      <td>NaN</td>\n",
              "    </tr>\n",
              "    <tr>\n",
              "      <th>2013-10-02</th>\n",
              "      <td>125.45500</td>\n",
              "      <td>25</td>\n",
              "      <td>123.65499</td>\n",
              "      <td>NaN</td>\n",
              "      <td>NaN</td>\n",
              "      <td>NaN</td>\n",
              "      <td>NaN</td>\n",
              "      <td>NaN</td>\n",
              "      <td>NaN</td>\n",
              "    </tr>\n",
              "    <tr>\n",
              "      <th>2013-10-03</th>\n",
              "      <td>108.58483</td>\n",
              "      <td>25</td>\n",
              "      <td>125.45500</td>\n",
              "      <td>123.65499</td>\n",
              "      <td>NaN</td>\n",
              "      <td>NaN</td>\n",
              "      <td>NaN</td>\n",
              "      <td>NaN</td>\n",
              "      <td>NaN</td>\n",
              "    </tr>\n",
              "    <tr>\n",
              "      <th>2013-10-04</th>\n",
              "      <td>118.67466</td>\n",
              "      <td>25</td>\n",
              "      <td>108.58483</td>\n",
              "      <td>125.45500</td>\n",
              "      <td>123.65499</td>\n",
              "      <td>NaN</td>\n",
              "      <td>NaN</td>\n",
              "      <td>NaN</td>\n",
              "      <td>NaN</td>\n",
              "    </tr>\n",
              "    <tr>\n",
              "      <th>2013-10-05</th>\n",
              "      <td>121.33866</td>\n",
              "      <td>25</td>\n",
              "      <td>118.67466</td>\n",
              "      <td>108.58483</td>\n",
              "      <td>125.45500</td>\n",
              "      <td>123.65499</td>\n",
              "      <td>NaN</td>\n",
              "      <td>NaN</td>\n",
              "      <td>NaN</td>\n",
              "    </tr>\n",
              "    <tr>\n",
              "      <th>2013-10-06</th>\n",
              "      <td>120.65533</td>\n",
              "      <td>25</td>\n",
              "      <td>121.33866</td>\n",
              "      <td>118.67466</td>\n",
              "      <td>108.58483</td>\n",
              "      <td>125.45500</td>\n",
              "      <td>123.65499</td>\n",
              "      <td>NaN</td>\n",
              "      <td>NaN</td>\n",
              "    </tr>\n",
              "    <tr>\n",
              "      <th>2013-10-07</th>\n",
              "      <td>121.79500</td>\n",
              "      <td>25</td>\n",
              "      <td>120.65533</td>\n",
              "      <td>121.33866</td>\n",
              "      <td>118.67466</td>\n",
              "      <td>108.58483</td>\n",
              "      <td>125.45500</td>\n",
              "      <td>123.65499</td>\n",
              "      <td>NaN</td>\n",
              "    </tr>\n",
              "    <tr>\n",
              "      <th>2013-10-08</th>\n",
              "      <td>123.03300</td>\n",
              "      <td>25</td>\n",
              "      <td>121.79500</td>\n",
              "      <td>120.65533</td>\n",
              "      <td>121.33866</td>\n",
              "      <td>118.67466</td>\n",
              "      <td>108.58483</td>\n",
              "      <td>125.45500</td>\n",
              "      <td>123.65499</td>\n",
              "    </tr>\n",
              "    <tr>\n",
              "      <th>2013-10-09</th>\n",
              "      <td>124.04900</td>\n",
              "      <td>25</td>\n",
              "      <td>123.03300</td>\n",
              "      <td>121.79500</td>\n",
              "      <td>120.65533</td>\n",
              "      <td>121.33866</td>\n",
              "      <td>118.67466</td>\n",
              "      <td>108.58483</td>\n",
              "      <td>125.45500</td>\n",
              "    </tr>\n",
              "    <tr>\n",
              "      <th>2013-10-10</th>\n",
              "      <td>125.96116</td>\n",
              "      <td>25</td>\n",
              "      <td>124.04900</td>\n",
              "      <td>123.03300</td>\n",
              "      <td>121.79500</td>\n",
              "      <td>120.65533</td>\n",
              "      <td>121.33866</td>\n",
              "      <td>118.67466</td>\n",
              "      <td>108.58483</td>\n",
              "    </tr>\n",
              "  </tbody>\n",
              "</table>\n",
              "</div>\n",
              "      <button class=\"colab-df-convert\" onclick=\"convertToInteractive('df-729f7cda-b947-4cda-8430-522a5c62e911')\"\n",
              "              title=\"Convert this dataframe to an interactive table.\"\n",
              "              style=\"display:none;\">\n",
              "        \n",
              "  <svg xmlns=\"http://www.w3.org/2000/svg\" height=\"24px\"viewBox=\"0 0 24 24\"\n",
              "       width=\"24px\">\n",
              "    <path d=\"M0 0h24v24H0V0z\" fill=\"none\"/>\n",
              "    <path d=\"M18.56 5.44l.94 2.06.94-2.06 2.06-.94-2.06-.94-.94-2.06-.94 2.06-2.06.94zm-11 1L8.5 8.5l.94-2.06 2.06-.94-2.06-.94L8.5 2.5l-.94 2.06-2.06.94zm10 10l.94 2.06.94-2.06 2.06-.94-2.06-.94-.94-2.06-.94 2.06-2.06.94z\"/><path d=\"M17.41 7.96l-1.37-1.37c-.4-.4-.92-.59-1.43-.59-.52 0-1.04.2-1.43.59L10.3 9.45l-7.72 7.72c-.78.78-.78 2.05 0 2.83L4 21.41c.39.39.9.59 1.41.59.51 0 1.02-.2 1.41-.59l7.78-7.78 2.81-2.81c.8-.78.8-2.07 0-2.86zM5.41 20L4 18.59l7.72-7.72 1.47 1.35L5.41 20z\"/>\n",
              "  </svg>\n",
              "      </button>\n",
              "      \n",
              "  <style>\n",
              "    .colab-df-container {\n",
              "      display:flex;\n",
              "      flex-wrap:wrap;\n",
              "      gap: 12px;\n",
              "    }\n",
              "\n",
              "    .colab-df-convert {\n",
              "      background-color: #E8F0FE;\n",
              "      border: none;\n",
              "      border-radius: 50%;\n",
              "      cursor: pointer;\n",
              "      display: none;\n",
              "      fill: #1967D2;\n",
              "      height: 32px;\n",
              "      padding: 0 0 0 0;\n",
              "      width: 32px;\n",
              "    }\n",
              "\n",
              "    .colab-df-convert:hover {\n",
              "      background-color: #E2EBFA;\n",
              "      box-shadow: 0px 1px 2px rgba(60, 64, 67, 0.3), 0px 1px 3px 1px rgba(60, 64, 67, 0.15);\n",
              "      fill: #174EA6;\n",
              "    }\n",
              "\n",
              "    [theme=dark] .colab-df-convert {\n",
              "      background-color: #3B4455;\n",
              "      fill: #D2E3FC;\n",
              "    }\n",
              "\n",
              "    [theme=dark] .colab-df-convert:hover {\n",
              "      background-color: #434B5C;\n",
              "      box-shadow: 0px 1px 3px 1px rgba(0, 0, 0, 0.15);\n",
              "      filter: drop-shadow(0px 1px 2px rgba(0, 0, 0, 0.3));\n",
              "      fill: #FFFFFF;\n",
              "    }\n",
              "  </style>\n",
              "\n",
              "      <script>\n",
              "        const buttonEl =\n",
              "          document.querySelector('#df-729f7cda-b947-4cda-8430-522a5c62e911 button.colab-df-convert');\n",
              "        buttonEl.style.display =\n",
              "          google.colab.kernel.accessAllowed ? 'block' : 'none';\n",
              "\n",
              "        async function convertToInteractive(key) {\n",
              "          const element = document.querySelector('#df-729f7cda-b947-4cda-8430-522a5c62e911');\n",
              "          const dataTable =\n",
              "            await google.colab.kernel.invokeFunction('convertToInteractive',\n",
              "                                                     [key], {});\n",
              "          if (!dataTable) return;\n",
              "\n",
              "          const docLinkHtml = 'Like what you see? Visit the ' +\n",
              "            '<a target=\"_blank\" href=https://colab.research.google.com/notebooks/data_table.ipynb>data table notebook</a>'\n",
              "            + ' to learn more about interactive tables.';\n",
              "          element.innerHTML = '';\n",
              "          dataTable['output_type'] = 'display_data';\n",
              "          await google.colab.output.renderOutput(dataTable, element);\n",
              "          const docLink = document.createElement('div');\n",
              "          docLink.innerHTML = docLinkHtml;\n",
              "          element.appendChild(docLink);\n",
              "        }\n",
              "      </script>\n",
              "    </div>\n",
              "  </div>\n",
              "  "
            ]
          },
          "metadata": {},
          "execution_count": 348
        }
      ]
    },
    {
      "cell_type": "markdown",
      "source": [
        "What we've done is created a way to window our dataset directly from a pandas dataframe.\n",
        "\n",
        "```\n",
        "[0, 1, 2, 3, 4, 5, 6, block_reward] -> [7]\n",
        "[1, 2, 3, 4, 5, 6, 7, block_reward] -> [8]\n",
        "[2, 3, 4, 5, 6, 7, 8, block_reward] -> [9]\n",
        "```"
      ],
      "metadata": {
        "id": "kQRZJjmiutRa"
      }
    },
    {
      "cell_type": "code",
      "source": [
        "# Create X (windows) and y (horizons) features\n",
        "X = bitcoin_prices_windowed.dropna().drop(\"Price\", axis=1).astype(np.float32)\n",
        "y = bitcoin_prices_windowed.dropna()['Price'].astype(np.float32)\n",
        "X.head()"
      ],
      "metadata": {
        "colab": {
          "base_uri": "https://localhost:8080/",
          "height": 238
        },
        "id": "PX2ffAuZtw17",
        "outputId": "e9bbf68a-d0d5-494a-c450-ee5d9b628768"
      },
      "execution_count": 349,
      "outputs": [
        {
          "output_type": "execute_result",
          "data": {
            "text/plain": [
              "            block_reward     Price+1     Price+2     Price+3     Price+4  \\\n",
              "Date                                                                       \n",
              "2013-10-08          25.0  121.794998  120.655327  121.338661  118.674660   \n",
              "2013-10-09          25.0  123.032997  121.794998  120.655327  121.338661   \n",
              "2013-10-10          25.0  124.049004  123.032997  121.794998  120.655327   \n",
              "2013-10-11          25.0  125.961159  124.049004  123.032997  121.794998   \n",
              "2013-10-12          25.0  125.279663  125.961159  124.049004  123.032997   \n",
              "\n",
              "               Price+5     Price+6     Price+7  \n",
              "Date                                            \n",
              "2013-10-08  108.584831  125.455002  123.654991  \n",
              "2013-10-09  118.674660  108.584831  125.455002  \n",
              "2013-10-10  121.338661  118.674660  108.584831  \n",
              "2013-10-11  120.655327  121.338661  118.674660  \n",
              "2013-10-12  121.794998  120.655327  121.338661  "
            ],
            "text/html": [
              "\n",
              "  <div id=\"df-ab44a50a-dd60-43db-afbe-a66a36f08f9a\">\n",
              "    <div class=\"colab-df-container\">\n",
              "      <div>\n",
              "<style scoped>\n",
              "    .dataframe tbody tr th:only-of-type {\n",
              "        vertical-align: middle;\n",
              "    }\n",
              "\n",
              "    .dataframe tbody tr th {\n",
              "        vertical-align: top;\n",
              "    }\n",
              "\n",
              "    .dataframe thead th {\n",
              "        text-align: right;\n",
              "    }\n",
              "</style>\n",
              "<table border=\"1\" class=\"dataframe\">\n",
              "  <thead>\n",
              "    <tr style=\"text-align: right;\">\n",
              "      <th></th>\n",
              "      <th>block_reward</th>\n",
              "      <th>Price+1</th>\n",
              "      <th>Price+2</th>\n",
              "      <th>Price+3</th>\n",
              "      <th>Price+4</th>\n",
              "      <th>Price+5</th>\n",
              "      <th>Price+6</th>\n",
              "      <th>Price+7</th>\n",
              "    </tr>\n",
              "    <tr>\n",
              "      <th>Date</th>\n",
              "      <th></th>\n",
              "      <th></th>\n",
              "      <th></th>\n",
              "      <th></th>\n",
              "      <th></th>\n",
              "      <th></th>\n",
              "      <th></th>\n",
              "      <th></th>\n",
              "    </tr>\n",
              "  </thead>\n",
              "  <tbody>\n",
              "    <tr>\n",
              "      <th>2013-10-08</th>\n",
              "      <td>25.0</td>\n",
              "      <td>121.794998</td>\n",
              "      <td>120.655327</td>\n",
              "      <td>121.338661</td>\n",
              "      <td>118.674660</td>\n",
              "      <td>108.584831</td>\n",
              "      <td>125.455002</td>\n",
              "      <td>123.654991</td>\n",
              "    </tr>\n",
              "    <tr>\n",
              "      <th>2013-10-09</th>\n",
              "      <td>25.0</td>\n",
              "      <td>123.032997</td>\n",
              "      <td>121.794998</td>\n",
              "      <td>120.655327</td>\n",
              "      <td>121.338661</td>\n",
              "      <td>118.674660</td>\n",
              "      <td>108.584831</td>\n",
              "      <td>125.455002</td>\n",
              "    </tr>\n",
              "    <tr>\n",
              "      <th>2013-10-10</th>\n",
              "      <td>25.0</td>\n",
              "      <td>124.049004</td>\n",
              "      <td>123.032997</td>\n",
              "      <td>121.794998</td>\n",
              "      <td>120.655327</td>\n",
              "      <td>121.338661</td>\n",
              "      <td>118.674660</td>\n",
              "      <td>108.584831</td>\n",
              "    </tr>\n",
              "    <tr>\n",
              "      <th>2013-10-11</th>\n",
              "      <td>25.0</td>\n",
              "      <td>125.961159</td>\n",
              "      <td>124.049004</td>\n",
              "      <td>123.032997</td>\n",
              "      <td>121.794998</td>\n",
              "      <td>120.655327</td>\n",
              "      <td>121.338661</td>\n",
              "      <td>118.674660</td>\n",
              "    </tr>\n",
              "    <tr>\n",
              "      <th>2013-10-12</th>\n",
              "      <td>25.0</td>\n",
              "      <td>125.279663</td>\n",
              "      <td>125.961159</td>\n",
              "      <td>124.049004</td>\n",
              "      <td>123.032997</td>\n",
              "      <td>121.794998</td>\n",
              "      <td>120.655327</td>\n",
              "      <td>121.338661</td>\n",
              "    </tr>\n",
              "  </tbody>\n",
              "</table>\n",
              "</div>\n",
              "      <button class=\"colab-df-convert\" onclick=\"convertToInteractive('df-ab44a50a-dd60-43db-afbe-a66a36f08f9a')\"\n",
              "              title=\"Convert this dataframe to an interactive table.\"\n",
              "              style=\"display:none;\">\n",
              "        \n",
              "  <svg xmlns=\"http://www.w3.org/2000/svg\" height=\"24px\"viewBox=\"0 0 24 24\"\n",
              "       width=\"24px\">\n",
              "    <path d=\"M0 0h24v24H0V0z\" fill=\"none\"/>\n",
              "    <path d=\"M18.56 5.44l.94 2.06.94-2.06 2.06-.94-2.06-.94-.94-2.06-.94 2.06-2.06.94zm-11 1L8.5 8.5l.94-2.06 2.06-.94-2.06-.94L8.5 2.5l-.94 2.06-2.06.94zm10 10l.94 2.06.94-2.06 2.06-.94-2.06-.94-.94-2.06-.94 2.06-2.06.94z\"/><path d=\"M17.41 7.96l-1.37-1.37c-.4-.4-.92-.59-1.43-.59-.52 0-1.04.2-1.43.59L10.3 9.45l-7.72 7.72c-.78.78-.78 2.05 0 2.83L4 21.41c.39.39.9.59 1.41.59.51 0 1.02-.2 1.41-.59l7.78-7.78 2.81-2.81c.8-.78.8-2.07 0-2.86zM5.41 20L4 18.59l7.72-7.72 1.47 1.35L5.41 20z\"/>\n",
              "  </svg>\n",
              "      </button>\n",
              "      \n",
              "  <style>\n",
              "    .colab-df-container {\n",
              "      display:flex;\n",
              "      flex-wrap:wrap;\n",
              "      gap: 12px;\n",
              "    }\n",
              "\n",
              "    .colab-df-convert {\n",
              "      background-color: #E8F0FE;\n",
              "      border: none;\n",
              "      border-radius: 50%;\n",
              "      cursor: pointer;\n",
              "      display: none;\n",
              "      fill: #1967D2;\n",
              "      height: 32px;\n",
              "      padding: 0 0 0 0;\n",
              "      width: 32px;\n",
              "    }\n",
              "\n",
              "    .colab-df-convert:hover {\n",
              "      background-color: #E2EBFA;\n",
              "      box-shadow: 0px 1px 2px rgba(60, 64, 67, 0.3), 0px 1px 3px 1px rgba(60, 64, 67, 0.15);\n",
              "      fill: #174EA6;\n",
              "    }\n",
              "\n",
              "    [theme=dark] .colab-df-convert {\n",
              "      background-color: #3B4455;\n",
              "      fill: #D2E3FC;\n",
              "    }\n",
              "\n",
              "    [theme=dark] .colab-df-convert:hover {\n",
              "      background-color: #434B5C;\n",
              "      box-shadow: 0px 1px 3px 1px rgba(0, 0, 0, 0.15);\n",
              "      filter: drop-shadow(0px 1px 2px rgba(0, 0, 0, 0.3));\n",
              "      fill: #FFFFFF;\n",
              "    }\n",
              "  </style>\n",
              "\n",
              "      <script>\n",
              "        const buttonEl =\n",
              "          document.querySelector('#df-ab44a50a-dd60-43db-afbe-a66a36f08f9a button.colab-df-convert');\n",
              "        buttonEl.style.display =\n",
              "          google.colab.kernel.accessAllowed ? 'block' : 'none';\n",
              "\n",
              "        async function convertToInteractive(key) {\n",
              "          const element = document.querySelector('#df-ab44a50a-dd60-43db-afbe-a66a36f08f9a');\n",
              "          const dataTable =\n",
              "            await google.colab.kernel.invokeFunction('convertToInteractive',\n",
              "                                                     [key], {});\n",
              "          if (!dataTable) return;\n",
              "\n",
              "          const docLinkHtml = 'Like what you see? Visit the ' +\n",
              "            '<a target=\"_blank\" href=https://colab.research.google.com/notebooks/data_table.ipynb>data table notebook</a>'\n",
              "            + ' to learn more about interactive tables.';\n",
              "          element.innerHTML = '';\n",
              "          dataTable['output_type'] = 'display_data';\n",
              "          await google.colab.output.renderOutput(dataTable, element);\n",
              "          const docLink = document.createElement('div');\n",
              "          docLink.innerHTML = docLinkHtml;\n",
              "          element.appendChild(docLink);\n",
              "        }\n",
              "      </script>\n",
              "    </div>\n",
              "  </div>\n",
              "  "
            ]
          },
          "metadata": {},
          "execution_count": 349
        }
      ]
    },
    {
      "cell_type": "code",
      "source": [
        "y.head()"
      ],
      "metadata": {
        "colab": {
          "base_uri": "https://localhost:8080/"
        },
        "id": "FoeGSBHptzEk",
        "outputId": "35f238fe-0652-448c-d975-e58f8397fb14"
      },
      "execution_count": 350,
      "outputs": [
        {
          "output_type": "execute_result",
          "data": {
            "text/plain": [
              "Date\n",
              "2013-10-08    123.032997\n",
              "2013-10-09    124.049004\n",
              "2013-10-10    125.961159\n",
              "2013-10-11    125.279663\n",
              "2013-10-12    125.927498\n",
              "Name: Price, dtype: float32"
            ]
          },
          "metadata": {},
          "execution_count": 350
        }
      ]
    },
    {
      "cell_type": "code",
      "source": [
        "# Make train and test sets using indexing\n",
        "split_size = int(len(X) * 0.8)\n",
        "X_train, y_train = X[:split_size], y[:split_size]\n",
        "X_test, y_test = X[split_size:], y[split_size:]\n",
        "len(X_train), len(y_train), len(X_test), len(y_test)"
      ],
      "metadata": {
        "colab": {
          "base_uri": "https://localhost:8080/"
        },
        "id": "TCZGr5Qjvqet",
        "outputId": "613c2f7d-093b-4a57-bfe6-ca78b46a2e00"
      },
      "execution_count": 351,
      "outputs": [
        {
          "output_type": "execute_result",
          "data": {
            "text/plain": [
              "(2224, 2224, 556, 556)"
            ]
          },
          "metadata": {},
          "execution_count": 351
        }
      ]
    },
    {
      "cell_type": "markdown",
      "source": [
        "## Model 6: Dense (multivariate time series)"
      ],
      "metadata": {
        "id": "41Tn2Q16wNO2"
      }
    },
    {
      "cell_type": "code",
      "source": [
        "tf.random.set_seed(42)\n",
        "\n",
        "# Make multivariate time series model\n",
        "model_6 = tf.keras.Sequential([\n",
        "    layers.Dense(128, activation='relu'),\n",
        "    layers.Dense(HORIZON)\n",
        "], name='model_6_dense_multivariate')\n",
        "\n",
        "# Compile\n",
        "model_6.compile(loss=\"mae\",\n",
        "                optimizer=tf.keras.optimizers.Adam())\n",
        "\n",
        "# Fit\n",
        "model_6.fit(X_train, y_train,\n",
        "            epochs=100,\n",
        "            batch_size=128,\n",
        "            verbose=1,\n",
        "            validation_data=(X_test, y_test),\n",
        "            callbacks=[create_model_checkpoint(model_name=model_6.name)])"
      ],
      "metadata": {
        "colab": {
          "base_uri": "https://localhost:8080/"
        },
        "id": "x5ux37oYwgHy",
        "outputId": "d3bae199-689e-45a1-bce4-0aaa7358d8f8"
      },
      "execution_count": 352,
      "outputs": [
        {
          "output_type": "stream",
          "name": "stdout",
          "text": [
            "Epoch 1/100\n",
            " 1/18 [>.............................] - ETA: 5s - loss: 2853.4023INFO:tensorflow:Assets written to: model_experiments/model_6_dense_multivariate/assets\n"
          ]
        },
        {
          "output_type": "stream",
          "name": "stderr",
          "text": [
            "INFO:tensorflow:Assets written to: model_experiments/model_6_dense_multivariate/assets\n"
          ]
        },
        {
          "output_type": "stream",
          "name": "stdout",
          "text": [
            "\b\b\b\b\b\b\b\b\b\b\b\b\b\b\b\b\b\b\b\b\b\b\b\b\b\b\b\b\b\b\b\b\b\b\b\b\b\b\b\b\b\b\b\b\b\b\b\b\b\b\b\b\b\b\b\b\b\b\b\b\b\b\b\b\b\b\r18/18 [==============================] - 1s 64ms/step - loss: 1234.6804 - val_loss: 2061.9041\n",
            "Epoch 2/100\n",
            " 1/18 [>.............................] - ETA: 0s - loss: 337.7052INFO:tensorflow:Assets written to: model_experiments/model_6_dense_multivariate/assets\n"
          ]
        },
        {
          "output_type": "stream",
          "name": "stderr",
          "text": [
            "INFO:tensorflow:Assets written to: model_experiments/model_6_dense_multivariate/assets\n"
          ]
        },
        {
          "output_type": "stream",
          "name": "stdout",
          "text": [
            "\b\b\b\b\b\b\b\b\b\b\b\b\b\b\b\b\b\b\b\b\b\b\b\b\b\b\b\b\b\b\b\b\b\b\b\b\b\b\b\b\b\b\b\b\b\b\b\b\b\b\b\b\b\b\b\b\b\b\b\b\b\b\b\b\b\r18/18 [==============================] - 0s 28ms/step - loss: 351.5053 - val_loss: 1908.6760\n",
            "Epoch 3/100\n",
            " 1/18 [>.............................] - ETA: 0s - loss: 249.1732INFO:tensorflow:Assets written to: model_experiments/model_6_dense_multivariate/assets\n"
          ]
        },
        {
          "output_type": "stream",
          "name": "stderr",
          "text": [
            "INFO:tensorflow:Assets written to: model_experiments/model_6_dense_multivariate/assets\n"
          ]
        },
        {
          "output_type": "stream",
          "name": "stdout",
          "text": [
            "\b\b\b\b\b\b\b\b\b\b\b\b\b\b\b\b\b\b\b\b\b\b\b\b\b\b\b\b\b\b\b\b\b\b\b\b\b\b\b\b\b\b\b\b\b\b\b\b\b\b\b\b\b\b\b\b\b\b\b\b\b\b\b\b\b\r18/18 [==============================] - 0s 26ms/step - loss: 235.4153 - val_loss: 1329.0612\n",
            "Epoch 4/100\n",
            " 1/18 [>.............................] - ETA: 0s - loss: 271.0341INFO:tensorflow:Assets written to: model_experiments/model_6_dense_multivariate/assets\n"
          ]
        },
        {
          "output_type": "stream",
          "name": "stderr",
          "text": [
            "INFO:tensorflow:Assets written to: model_experiments/model_6_dense_multivariate/assets\n"
          ]
        },
        {
          "output_type": "stream",
          "name": "stdout",
          "text": [
            "\b\b\b\b\b\b\b\b\b\b\b\b\b\b\b\b\b\b\b\b\b\b\b\b\b\b\b\b\b\b\b\b\b\b\b\b\b\b\b\b\b\b\b\b\b\b\b\b\b\b\b\b\b\b\b\b\b\b\b\b\b\b\b\b\b\r18/18 [==============================] - 0s 28ms/step - loss: 208.6112 - val_loss: 1102.1371\n",
            "Epoch 5/100\n",
            "18/18 [==============================] - 0s 4ms/step - loss: 196.5770 - val_loss: 1107.8501\n",
            "Epoch 6/100\n",
            " 1/18 [>.............................] - ETA: 0s - loss: 145.3367INFO:tensorflow:Assets written to: model_experiments/model_6_dense_multivariate/assets\n"
          ]
        },
        {
          "output_type": "stream",
          "name": "stderr",
          "text": [
            "INFO:tensorflow:Assets written to: model_experiments/model_6_dense_multivariate/assets\n"
          ]
        },
        {
          "output_type": "stream",
          "name": "stdout",
          "text": [
            "\b\b\b\b\b\b\b\b\b\b\b\b\b\b\b\b\b\b\b\b\b\b\b\b\b\b\b\b\b\b\b\b\b\b\b\b\b\b\b\b\b\b\b\b\b\b\b\b\b\b\b\b\b\b\b\b\b\b\b\b\b\b\b\b\b\r18/18 [==============================] - 0s 27ms/step - loss: 187.2245 - val_loss: 1036.1742\n",
            "Epoch 7/100\n",
            " 1/18 [>.............................] - ETA: 0s - loss: 231.5105INFO:tensorflow:Assets written to: model_experiments/model_6_dense_multivariate/assets\n"
          ]
        },
        {
          "output_type": "stream",
          "name": "stderr",
          "text": [
            "INFO:tensorflow:Assets written to: model_experiments/model_6_dense_multivariate/assets\n"
          ]
        },
        {
          "output_type": "stream",
          "name": "stdout",
          "text": [
            "\b\b\b\b\b\b\b\b\b\b\b\b\b\b\b\b\b\b\b\b\b\b\b\b\b\b\b\b\b\b\b\b\b\b\b\b\b\b\b\b\b\b\b\b\b\b\b\b\b\b\b\b\b\b\b\b\b\b\b\b\b\b\b\b\b\r18/18 [==============================] - 0s 25ms/step - loss: 182.0245 - val_loss: 1019.2947\n",
            "Epoch 8/100\n",
            " 1/18 [>.............................] - ETA: 0s - loss: 151.5176INFO:tensorflow:Assets written to: model_experiments/model_6_dense_multivariate/assets\n"
          ]
        },
        {
          "output_type": "stream",
          "name": "stderr",
          "text": [
            "INFO:tensorflow:Assets written to: model_experiments/model_6_dense_multivariate/assets\n"
          ]
        },
        {
          "output_type": "stream",
          "name": "stdout",
          "text": [
            "\b\b\b\b\b\b\b\b\b\b\b\b\b\b\b\b\b\b\b\b\b\b\b\b\b\b\b\b\b\b\b\b\b\b\b\b\b\b\b\b\b\b\b\b\b\b\b\b\b\b\b\b\b\b\b\b\b\b\b\b\b\b\b\b\b\r18/18 [==============================] - 0s 26ms/step - loss: 175.7059 - val_loss: 977.8505\n",
            "Epoch 9/100\n",
            " 1/18 [>.............................] - ETA: 0s - loss: 142.1689INFO:tensorflow:Assets written to: model_experiments/model_6_dense_multivariate/assets\n"
          ]
        },
        {
          "output_type": "stream",
          "name": "stderr",
          "text": [
            "INFO:tensorflow:Assets written to: model_experiments/model_6_dense_multivariate/assets\n"
          ]
        },
        {
          "output_type": "stream",
          "name": "stdout",
          "text": [
            "\b\b\b\b\b\b\b\b\b\b\b\b\b\b\b\b\b\b\b\b\b\b\b\b\b\b\b\b\b\b\b\b\b\b\b\b\b\b\b\b\b\b\b\b\b\b\b\b\b\b\b\b\b\b\b\b\b\b\b\b\b\b\b\b\b\r18/18 [==============================] - 0s 26ms/step - loss: 170.1784 - val_loss: 954.4052\n",
            "Epoch 10/100\n",
            " 1/18 [>.............................] - ETA: 0s - loss: 177.8448INFO:tensorflow:Assets written to: model_experiments/model_6_dense_multivariate/assets\n"
          ]
        },
        {
          "output_type": "stream",
          "name": "stderr",
          "text": [
            "INFO:tensorflow:Assets written to: model_experiments/model_6_dense_multivariate/assets\n"
          ]
        },
        {
          "output_type": "stream",
          "name": "stdout",
          "text": [
            "\b\b\b\b\b\b\b\b\b\b\b\b\b\b\b\b\b\b\b\b\b\b\b\b\b\b\b\b\b\b\b\b\b\b\b\b\b\b\b\b\b\b\b\b\b\b\b\b\b\b\b\b\b\b\b\b\b\b\b\b\b\b\b\b\b\r18/18 [==============================] - 0s 26ms/step - loss: 164.4430 - val_loss: 913.5160\n",
            "Epoch 11/100\n",
            " 1/18 [>.............................] - ETA: 0s - loss: 171.3627INFO:tensorflow:Assets written to: model_experiments/model_6_dense_multivariate/assets\n"
          ]
        },
        {
          "output_type": "stream",
          "name": "stderr",
          "text": [
            "INFO:tensorflow:Assets written to: model_experiments/model_6_dense_multivariate/assets\n"
          ]
        },
        {
          "output_type": "stream",
          "name": "stdout",
          "text": [
            "\b\b\b\b\b\b\b\b\b\b\b\b\b\b\b\b\b\b\b\b\b\b\b\b\b\b\b\b\b\b\b\b\b\b\b\b\b\b\b\b\b\b\b\b\b\b\b\b\b\b\b\b\b\b\b\b\b\b\b\b\b\b\b\b\b\r18/18 [==============================] - 0s 29ms/step - loss: 158.6892 - val_loss: 874.2516\n",
            "Epoch 12/100\n",
            " 1/18 [>.............................] - ETA: 0s - loss: 147.0429INFO:tensorflow:Assets written to: model_experiments/model_6_dense_multivariate/assets\n"
          ]
        },
        {
          "output_type": "stream",
          "name": "stderr",
          "text": [
            "INFO:tensorflow:Assets written to: model_experiments/model_6_dense_multivariate/assets\n"
          ]
        },
        {
          "output_type": "stream",
          "name": "stdout",
          "text": [
            "\b\b\b\b\b\b\b\b\b\b\b\b\b\b\b\b\b\b\b\b\b\b\b\b\b\b\b\b\b\b\b\b\b\b\b\b\b\b\b\b\b\b\b\b\b\b\b\b\b\b\b\b\b\b\b\b\b\b\b\b\b\b\b\b\b\r18/18 [==============================] - 0s 27ms/step - loss: 152.0732 - val_loss: 861.0425\n",
            "Epoch 13/100\n",
            "18/18 [==============================] - 0s 4ms/step - loss: 151.1057 - val_loss: 886.1212\n",
            "Epoch 14/100\n",
            " 1/18 [>.............................] - ETA: 0s - loss: 152.2400INFO:tensorflow:Assets written to: model_experiments/model_6_dense_multivariate/assets\n"
          ]
        },
        {
          "output_type": "stream",
          "name": "stderr",
          "text": [
            "INFO:tensorflow:Assets written to: model_experiments/model_6_dense_multivariate/assets\n"
          ]
        },
        {
          "output_type": "stream",
          "name": "stdout",
          "text": [
            "\b\b\b\b\b\b\b\b\b\b\b\b\b\b\b\b\b\b\b\b\b\b\b\b\b\b\b\b\b\b\b\b\b\b\b\b\b\b\b\b\b\b\b\b\b\b\b\b\b\b\b\b\b\b\b\b\b\b\b\b\b\b\b\b\b\r18/18 [==============================] - 0s 26ms/step - loss: 147.5482 - val_loss: 837.8619\n",
            "Epoch 15/100\n",
            " 1/18 [>.............................] - ETA: 0s - loss: 146.6370INFO:tensorflow:Assets written to: model_experiments/model_6_dense_multivariate/assets\n"
          ]
        },
        {
          "output_type": "stream",
          "name": "stderr",
          "text": [
            "INFO:tensorflow:Assets written to: model_experiments/model_6_dense_multivariate/assets\n"
          ]
        },
        {
          "output_type": "stream",
          "name": "stdout",
          "text": [
            "\b\b\b\b\b\b\b\b\b\b\b\b\b\b\b\b\b\b\b\b\b\b\b\b\b\b\b\b\b\b\b\b\b\b\b\b\b\b\b\b\b\b\b\b\b\b\b\b\b\b\b\b\b\b\b\b\b\b\b\b\b\b\b\b\b\r18/18 [==============================] - 0s 26ms/step - loss: 142.3497 - val_loss: 794.4790\n",
            "Epoch 16/100\n",
            " 1/18 [>.............................] - ETA: 0s - loss: 125.8471INFO:tensorflow:Assets written to: model_experiments/model_6_dense_multivariate/assets\n"
          ]
        },
        {
          "output_type": "stream",
          "name": "stderr",
          "text": [
            "INFO:tensorflow:Assets written to: model_experiments/model_6_dense_multivariate/assets\n"
          ]
        },
        {
          "output_type": "stream",
          "name": "stdout",
          "text": [
            "\b\b\b\b\b\b\b\b\b\b\b\b\b\b\b\b\b\b\b\b\b\b\b\b\b\b\b\b\b\b\b\b\b\b\b\b\b\b\b\b\b\b\b\b\b\b\b\b\b\b\b\b\b\b\b\b\b\b\b\b\b\b\b\b\b\r18/18 [==============================] - 0s 27ms/step - loss: 137.5206 - val_loss: 778.4053\n",
            "Epoch 17/100\n",
            " 1/18 [>.............................] - ETA: 0s - loss: 125.1490INFO:tensorflow:Assets written to: model_experiments/model_6_dense_multivariate/assets\n"
          ]
        },
        {
          "output_type": "stream",
          "name": "stderr",
          "text": [
            "INFO:tensorflow:Assets written to: model_experiments/model_6_dense_multivariate/assets\n"
          ]
        },
        {
          "output_type": "stream",
          "name": "stdout",
          "text": [
            "\b\b\b\b\b\b\b\b\b\b\b\b\b\b\b\b\b\b\b\b\b\b\b\b\b\b\b\b\b\b\b\b\b\b\b\b\b\b\b\b\b\b\b\b\b\b\b\b\b\b\b\b\b\b\b\b\b\b\b\b\b\b\b\b\b\r18/18 [==============================] - 0s 26ms/step - loss: 135.8190 - val_loss: 772.4535\n",
            "Epoch 18/100\n",
            " 1/18 [>.............................] - ETA: 0s - loss: 145.6097INFO:tensorflow:Assets written to: model_experiments/model_6_dense_multivariate/assets\n"
          ]
        },
        {
          "output_type": "stream",
          "name": "stderr",
          "text": [
            "INFO:tensorflow:Assets written to: model_experiments/model_6_dense_multivariate/assets\n"
          ]
        },
        {
          "output_type": "stream",
          "name": "stdout",
          "text": [
            "\b\b\b\b\b\b\b\b\b\b\b\b\b\b\b\b\b\b\b\b\b\b\b\b\b\b\b\b\b\b\b\b\b\b\b\b\b\b\b\b\b\b\b\b\b\b\b\b\b\b\b\b\b\b\b\b\b\b\b\b\b\b\b\b\b\r18/18 [==============================] - 0s 27ms/step - loss: 134.8562 - val_loss: 747.4805\n",
            "Epoch 19/100\n",
            "18/18 [==============================] - 0s 4ms/step - loss: 130.3347 - val_loss: 761.0555\n",
            "Epoch 20/100\n",
            " 1/18 [>.............................] - ETA: 0s - loss: 145.2515INFO:tensorflow:Assets written to: model_experiments/model_6_dense_multivariate/assets\n"
          ]
        },
        {
          "output_type": "stream",
          "name": "stderr",
          "text": [
            "INFO:tensorflow:Assets written to: model_experiments/model_6_dense_multivariate/assets\n"
          ]
        },
        {
          "output_type": "stream",
          "name": "stdout",
          "text": [
            "\b\b\b\b\b\b\b\b\b\b\b\b\b\b\b\b\b\b\b\b\b\b\b\b\b\b\b\b\b\b\b\b\b\b\b\b\b\b\b\b\b\b\b\b\b\b\b\b\b\b\b\b\b\b\b\b\b\b\b\b\b\b\b\b\b\r18/18 [==============================] - 0s 26ms/step - loss: 128.6775 - val_loss: 701.8981\n",
            "Epoch 21/100\n",
            " 1/18 [>.............................] - ETA: 0s - loss: 158.9073INFO:tensorflow:Assets written to: model_experiments/model_6_dense_multivariate/assets\n"
          ]
        },
        {
          "output_type": "stream",
          "name": "stderr",
          "text": [
            "INFO:tensorflow:Assets written to: model_experiments/model_6_dense_multivariate/assets\n"
          ]
        },
        {
          "output_type": "stream",
          "name": "stdout",
          "text": [
            "\b\b\b\b\b\b\b\b\b\b\b\b\b\b\b\b\b\b\b\b\b\b\b\b\b\b\b\b\b\b\b\b\b\b\b\b\b\b\b\b\b\b\b\b\b\b\b\b\b\b\b\b\b\b\b\b\b\b\b\b\b\b\b\b\b\r18/18 [==============================] - 0s 28ms/step - loss: 129.5576 - val_loss: 691.0131\n",
            "Epoch 22/100\n",
            " 1/18 [>.............................] - ETA: 0s - loss: 176.6308INFO:tensorflow:Assets written to: model_experiments/model_6_dense_multivariate/assets\n"
          ]
        },
        {
          "output_type": "stream",
          "name": "stderr",
          "text": [
            "INFO:tensorflow:Assets written to: model_experiments/model_6_dense_multivariate/assets\n"
          ]
        },
        {
          "output_type": "stream",
          "name": "stdout",
          "text": [
            "\b\b\b\b\b\b\b\b\b\b\b\b\b\b\b\b\b\b\b\b\b\b\b\b\b\b\b\b\b\b\b\b\b\b\b\b\b\b\b\b\b\b\b\b\b\b\b\b\b\b\b\b\b\b\b\b\b\b\b\b\b\b\b\b\b\r18/18 [==============================] - 0s 26ms/step - loss: 125.8060 - val_loss: 684.4123\n",
            "Epoch 23/100\n",
            "18/18 [==============================] - 0s 4ms/step - loss: 125.5263 - val_loss: 692.1301\n",
            "Epoch 24/100\n",
            " 1/18 [>.............................] - ETA: 0s - loss: 134.1221INFO:tensorflow:Assets written to: model_experiments/model_6_dense_multivariate/assets\n"
          ]
        },
        {
          "output_type": "stream",
          "name": "stderr",
          "text": [
            "INFO:tensorflow:Assets written to: model_experiments/model_6_dense_multivariate/assets\n"
          ]
        },
        {
          "output_type": "stream",
          "name": "stdout",
          "text": [
            "\b\b\b\b\b\b\b\b\b\b\b\b\b\b\b\b\b\b\b\b\b\b\b\b\b\b\b\b\b\b\b\b\b\b\b\b\b\b\b\b\b\b\b\b\b\b\b\b\b\b\b\b\b\b\b\b\b\b\b\b\b\b\b\b\b\r18/18 [==============================] - 0s 27ms/step - loss: 122.4765 - val_loss: 674.2218\n",
            "Epoch 25/100\n",
            " 1/18 [>.............................] - ETA: 0s - loss: 133.5674INFO:tensorflow:Assets written to: model_experiments/model_6_dense_multivariate/assets\n"
          ]
        },
        {
          "output_type": "stream",
          "name": "stderr",
          "text": [
            "INFO:tensorflow:Assets written to: model_experiments/model_6_dense_multivariate/assets\n"
          ]
        },
        {
          "output_type": "stream",
          "name": "stdout",
          "text": [
            "\b\b\b\b\b\b\b\b\b\b\b\b\b\b\b\b\b\b\b\b\b\b\b\b\b\b\b\b\b\b\b\b\b\b\b\b\b\b\b\b\b\b\b\b\b\b\b\b\b\b\b\b\b\b\b\b\b\b\b\b\b\b\b\b\b\r18/18 [==============================] - 0s 26ms/step - loss: 121.1171 - val_loss: 669.6438\n",
            "Epoch 26/100\n",
            "18/18 [==============================] - 0s 5ms/step - loss: 127.2623 - val_loss: 690.0402\n",
            "Epoch 27/100\n",
            " 1/18 [>.............................] - ETA: 0s - loss: 180.3230INFO:tensorflow:Assets written to: model_experiments/model_6_dense_multivariate/assets\n"
          ]
        },
        {
          "output_type": "stream",
          "name": "stderr",
          "text": [
            "INFO:tensorflow:Assets written to: model_experiments/model_6_dense_multivariate/assets\n"
          ]
        },
        {
          "output_type": "stream",
          "name": "stdout",
          "text": [
            "\b\b\b\b\b\b\b\b\b\b\b\b\b\b\b\b\b\b\b\b\b\b\b\b\b\b\b\b\b\b\b\b\b\b\b\b\b\b\b\b\b\b\b\b\b\b\b\b\b\b\b\b\b\b\b\b\b\b\b\b\b\b\b\b\b\r18/18 [==============================] - 0s 27ms/step - loss: 124.6204 - val_loss: 643.9724\n",
            "Epoch 28/100\n",
            "18/18 [==============================] - 0s 4ms/step - loss: 118.2544 - val_loss: 656.2767\n",
            "Epoch 29/100\n",
            " 1/18 [>.............................] - ETA: 0s - loss: 109.8149INFO:tensorflow:Assets written to: model_experiments/model_6_dense_multivariate/assets\n"
          ]
        },
        {
          "output_type": "stream",
          "name": "stderr",
          "text": [
            "INFO:tensorflow:Assets written to: model_experiments/model_6_dense_multivariate/assets\n"
          ]
        },
        {
          "output_type": "stream",
          "name": "stdout",
          "text": [
            "\b\b\b\b\b\b\b\b\b\b\b\b\b\b\b\b\b\b\b\b\b\b\b\b\b\b\b\b\b\b\b\b\b\b\b\b\b\b\b\b\b\b\b\b\b\b\b\b\b\b\b\b\b\b\b\b\b\b\b\b\b\b\b\b\b\r18/18 [==============================] - 0s 26ms/step - loss: 119.6374 - val_loss: 633.4547\n",
            "Epoch 30/100\n",
            " 1/18 [>.............................] - ETA: 0s - loss: 130.2605INFO:tensorflow:Assets written to: model_experiments/model_6_dense_multivariate/assets\n"
          ]
        },
        {
          "output_type": "stream",
          "name": "stderr",
          "text": [
            "INFO:tensorflow:Assets written to: model_experiments/model_6_dense_multivariate/assets\n"
          ]
        },
        {
          "output_type": "stream",
          "name": "stdout",
          "text": [
            "\b\b\b\b\b\b\b\b\b\b\b\b\b\b\b\b\b\b\b\b\b\b\b\b\b\b\b\b\b\b\b\b\b\b\b\b\b\b\b\b\b\b\b\b\b\b\b\b\b\b\b\b\b\b\b\b\b\b\b\b\b\b\b\b\b\r18/18 [==============================] - 0s 27ms/step - loss: 119.5001 - val_loss: 625.3952\n",
            "Epoch 31/100\n",
            "18/18 [==============================] - 0s 4ms/step - loss: 114.5633 - val_loss: 668.5065\n",
            "Epoch 32/100\n",
            " 1/18 [>.............................] - ETA: 0s - loss: 121.3793INFO:tensorflow:Assets written to: model_experiments/model_6_dense_multivariate/assets\n"
          ]
        },
        {
          "output_type": "stream",
          "name": "stderr",
          "text": [
            "INFO:tensorflow:Assets written to: model_experiments/model_6_dense_multivariate/assets\n"
          ]
        },
        {
          "output_type": "stream",
          "name": "stdout",
          "text": [
            "\b\b\b\b\b\b\b\b\b\b\b\b\b\b\b\b\b\b\b\b\b\b\b\b\b\b\b\b\b\b\b\b\b\b\b\b\b\b\b\b\b\b\b\b\b\b\b\b\b\b\b\b\b\b\b\b\b\b\b\b\b\b\b\b\b\r18/18 [==============================] - 0s 29ms/step - loss: 116.9750 - val_loss: 617.1062\n",
            "Epoch 33/100\n",
            "18/18 [==============================] - 0s 5ms/step - loss: 115.2438 - val_loss: 649.0990\n",
            "Epoch 34/100\n",
            "18/18 [==============================] - 0s 4ms/step - loss: 114.5187 - val_loss: 632.1373\n",
            "Epoch 35/100\n",
            "16/18 [=========================>....] - ETA: 0s - loss: 113.8353INFO:tensorflow:Assets written to: model_experiments/model_6_dense_multivariate/assets\n"
          ]
        },
        {
          "output_type": "stream",
          "name": "stderr",
          "text": [
            "INFO:tensorflow:Assets written to: model_experiments/model_6_dense_multivariate/assets\n"
          ]
        },
        {
          "output_type": "stream",
          "name": "stdout",
          "text": [
            "\b\b\b\b\b\b\b\b\b\b\b\b\b\b\b\b\b\b\b\b\b\b\b\b\b\b\b\b\b\b\b\b\b\b\b\b\b\b\b\b\b\b\b\b\b\b\b\b\b\b\b\b\b\b\b\b\b\b\b\b\b\b\b\b\b\r18/18 [==============================] - 0s 27ms/step - loss: 113.6357 - val_loss: 607.4172\n",
            "Epoch 36/100\n",
            "18/18 [==============================] - 0s 4ms/step - loss: 115.2605 - val_loss: 626.4321\n",
            "Epoch 37/100\n",
            " 1/18 [>.............................] - ETA: 0s - loss: 141.7286INFO:tensorflow:Assets written to: model_experiments/model_6_dense_multivariate/assets\n"
          ]
        },
        {
          "output_type": "stream",
          "name": "stderr",
          "text": [
            "INFO:tensorflow:Assets written to: model_experiments/model_6_dense_multivariate/assets\n"
          ]
        },
        {
          "output_type": "stream",
          "name": "stdout",
          "text": [
            "\b\b\b\b\b\b\b\b\b\b\b\b\b\b\b\b\b\b\b\b\b\b\b\b\b\b\b\b\b\b\b\b\b\b\b\b\b\b\b\b\b\b\b\b\b\b\b\b\b\b\b\b\b\b\b\b\b\b\b\b\b\b\b\b\b\r18/18 [==============================] - 0s 27ms/step - loss: 113.7020 - val_loss: 606.2318\n",
            "Epoch 38/100\n",
            "18/18 [==============================] - ETA: 0s - loss: 111.4061INFO:tensorflow:Assets written to: model_experiments/model_6_dense_multivariate/assets\n"
          ]
        },
        {
          "output_type": "stream",
          "name": "stderr",
          "text": [
            "INFO:tensorflow:Assets written to: model_experiments/model_6_dense_multivariate/assets\n"
          ]
        },
        {
          "output_type": "stream",
          "name": "stdout",
          "text": [
            "\b\b\b\b\b\b\b\b\b\b\b\b\b\b\b\b\b\b\b\b\b\b\b\b\b\b\b\b\b\b\b\b\b\b\b\b\b\b\b\b\b\b\b\b\b\b\b\b\b\b\b\b\b\b\b\b\b\b\b\b\b\b\b\b\b\r18/18 [==============================] - 0s 27ms/step - loss: 111.4061 - val_loss: 603.2919\n",
            "Epoch 39/100\n",
            " 1/18 [>.............................] - ETA: 0s - loss: 127.4214INFO:tensorflow:Assets written to: model_experiments/model_6_dense_multivariate/assets\n"
          ]
        },
        {
          "output_type": "stream",
          "name": "stderr",
          "text": [
            "INFO:tensorflow:Assets written to: model_experiments/model_6_dense_multivariate/assets\n"
          ]
        },
        {
          "output_type": "stream",
          "name": "stdout",
          "text": [
            "\b\b\b\b\b\b\b\b\b\b\b\b\b\b\b\b\b\b\b\b\b\b\b\b\b\b\b\b\b\b\b\b\b\b\b\b\b\b\b\b\b\b\b\b\b\b\b\b\b\b\b\b\b\b\b\b\b\b\b\b\b\b\b\b\b\r18/18 [==============================] - 0s 26ms/step - loss: 112.7722 - val_loss: 596.0060\n",
            "Epoch 40/100\n",
            " 1/18 [>.............................] - ETA: 0s - loss: 100.2578INFO:tensorflow:Assets written to: model_experiments/model_6_dense_multivariate/assets\n"
          ]
        },
        {
          "output_type": "stream",
          "name": "stderr",
          "text": [
            "INFO:tensorflow:Assets written to: model_experiments/model_6_dense_multivariate/assets\n"
          ]
        },
        {
          "output_type": "stream",
          "name": "stdout",
          "text": [
            "\b\b\b\b\b\b\b\b\b\b\b\b\b\b\b\b\b\b\b\b\b\b\b\b\b\b\b\b\b\b\b\b\b\b\b\b\b\b\b\b\b\b\b\b\b\b\b\b\b\b\b\b\b\b\b\b\b\b\b\b\b\b\b\b\b\r18/18 [==============================] - 0s 26ms/step - loss: 110.5418 - val_loss: 593.2169\n",
            "Epoch 41/100\n",
            "18/18 [==============================] - 0s 4ms/step - loss: 110.8671 - val_loss: 609.1062\n",
            "Epoch 42/100\n",
            "18/18 [==============================] - 0s 4ms/step - loss: 115.7249 - val_loss: 607.4875\n",
            "Epoch 43/100\n",
            "18/18 [==============================] - 0s 5ms/step - loss: 111.3313 - val_loss: 606.2029\n",
            "Epoch 44/100\n",
            " 1/18 [>.............................] - ETA: 0s - loss: 65.3244INFO:tensorflow:Assets written to: model_experiments/model_6_dense_multivariate/assets\n"
          ]
        },
        {
          "output_type": "stream",
          "name": "stderr",
          "text": [
            "INFO:tensorflow:Assets written to: model_experiments/model_6_dense_multivariate/assets\n"
          ]
        },
        {
          "output_type": "stream",
          "name": "stdout",
          "text": [
            "\b\b\b\b\b\b\b\b\b\b\b\b\b\b\b\b\b\b\b\b\b\b\b\b\b\b\b\b\b\b\b\b\b\b\b\b\b\b\b\b\b\b\b\b\b\b\b\b\b\b\b\b\b\b\b\b\b\b\b\b\b\b\b\b\r18/18 [==============================] - 0s 26ms/step - loss: 109.7027 - val_loss: 586.1214\n",
            "Epoch 45/100\n",
            "18/18 [==============================] - 0s 4ms/step - loss: 107.8748 - val_loss: 593.8446\n",
            "Epoch 46/100\n",
            "18/18 [==============================] - 0s 5ms/step - loss: 109.8641 - val_loss: 586.4583\n",
            "Epoch 47/100\n",
            "18/18 [==============================] - 0s 4ms/step - loss: 112.3587 - val_loss: 655.4489\n",
            "Epoch 48/100\n",
            "18/18 [==============================] - 0s 4ms/step - loss: 109.1614 - val_loss: 598.7234\n",
            "Epoch 49/100\n",
            "18/18 [==============================] - 0s 4ms/step - loss: 109.3029 - val_loss: 589.2488\n",
            "Epoch 50/100\n",
            "18/18 [==============================] - 0s 5ms/step - loss: 111.1971 - val_loss: 649.3787\n",
            "Epoch 51/100\n",
            "18/18 [==============================] - 0s 4ms/step - loss: 110.8514 - val_loss: 602.7667\n",
            "Epoch 52/100\n",
            "18/18 [==============================] - 0s 4ms/step - loss: 111.8331 - val_loss: 599.2957\n",
            "Epoch 53/100\n",
            "18/18 [==============================] - 0s 4ms/step - loss: 110.8895 - val_loss: 652.1644\n",
            "Epoch 54/100\n",
            "18/18 [==============================] - 0s 4ms/step - loss: 113.8169 - val_loss: 600.8458\n",
            "Epoch 55/100\n",
            " 1/18 [>.............................] - ETA: 0s - loss: 129.3818INFO:tensorflow:Assets written to: model_experiments/model_6_dense_multivariate/assets\n"
          ]
        },
        {
          "output_type": "stream",
          "name": "stderr",
          "text": [
            "INFO:tensorflow:Assets written to: model_experiments/model_6_dense_multivariate/assets\n"
          ]
        },
        {
          "output_type": "stream",
          "name": "stdout",
          "text": [
            "\b\b\b\b\b\b\b\b\b\b\b\b\b\b\b\b\b\b\b\b\b\b\b\b\b\b\b\b\b\b\b\b\b\b\b\b\b\b\b\b\b\b\b\b\b\b\b\b\b\b\b\b\b\b\b\b\b\b\b\b\b\b\b\b\b\r18/18 [==============================] - 0s 27ms/step - loss: 110.4068 - val_loss: 575.7753\n",
            "Epoch 56/100\n",
            "18/18 [==============================] - 0s 5ms/step - loss: 108.6609 - val_loss: 785.9750\n",
            "Epoch 57/100\n",
            "18/18 [==============================] - 0s 5ms/step - loss: 124.9823 - val_loss: 670.3782\n",
            "Epoch 58/100\n",
            "18/18 [==============================] - 0s 4ms/step - loss: 112.8591 - val_loss: 580.2877\n",
            "Epoch 59/100\n",
            "18/18 [==============================] - 0s 4ms/step - loss: 107.2513 - val_loss: 597.5084\n",
            "Epoch 60/100\n",
            "18/18 [==============================] - 0s 4ms/step - loss: 109.2322 - val_loss: 632.2957\n",
            "Epoch 61/100\n",
            "18/18 [==============================] - 0s 4ms/step - loss: 109.3519 - val_loss: 591.5411\n",
            "Epoch 62/100\n",
            "18/18 [==============================] - 0s 5ms/step - loss: 108.4084 - val_loss: 617.5800\n",
            "Epoch 63/100\n",
            "18/18 [==============================] - 0s 4ms/step - loss: 113.5326 - val_loss: 613.1477\n",
            "Epoch 64/100\n",
            "18/18 [==============================] - 0s 5ms/step - loss: 110.6625 - val_loss: 689.1801\n",
            "Epoch 65/100\n",
            " 1/18 [>.............................] - ETA: 0s - loss: 149.2280INFO:tensorflow:Assets written to: model_experiments/model_6_dense_multivariate/assets\n"
          ]
        },
        {
          "output_type": "stream",
          "name": "stderr",
          "text": [
            "INFO:tensorflow:Assets written to: model_experiments/model_6_dense_multivariate/assets\n"
          ]
        },
        {
          "output_type": "stream",
          "name": "stdout",
          "text": [
            "\b\b\b\b\b\b\b\b\b\b\b\b\b\b\b\b\b\b\b\b\b\b\b\b\b\b\b\b\b\b\b\b\b\b\b\b\b\b\b\b\b\b\b\b\b\b\b\b\b\b\b\b\b\b\b\b\b\b\b\b\b\b\b\b\b\r18/18 [==============================] - 0s 26ms/step - loss: 112.0475 - val_loss: 575.5541\n",
            "Epoch 66/100\n",
            "18/18 [==============================] - 0s 4ms/step - loss: 111.2830 - val_loss: 590.7802\n",
            "Epoch 67/100\n",
            "18/18 [==============================] - 0s 4ms/step - loss: 106.7918 - val_loss: 586.8839\n",
            "Epoch 68/100\n",
            "18/18 [==============================] - 0s 4ms/step - loss: 112.2987 - val_loss: 696.5289\n",
            "Epoch 69/100\n",
            "18/18 [==============================] - 0s 5ms/step - loss: 124.7808 - val_loss: 698.5264\n",
            "Epoch 70/100\n",
            "18/18 [==============================] - 0s 5ms/step - loss: 119.3443 - val_loss: 581.2102\n",
            "Epoch 71/100\n",
            "18/18 [==============================] - 0s 5ms/step - loss: 109.9960 - val_loss: 607.6740\n",
            "Epoch 72/100\n",
            " 1/18 [>.............................] - ETA: 0s - loss: 106.7779INFO:tensorflow:Assets written to: model_experiments/model_6_dense_multivariate/assets\n"
          ]
        },
        {
          "output_type": "stream",
          "name": "stderr",
          "text": [
            "INFO:tensorflow:Assets written to: model_experiments/model_6_dense_multivariate/assets\n"
          ]
        },
        {
          "output_type": "stream",
          "name": "stdout",
          "text": [
            "\b\b\b\b\b\b\b\b\b\b\b\b\b\b\b\b\b\b\b\b\b\b\b\b\b\b\b\b\b\b\b\b\b\b\b\b\b\b\b\b\b\b\b\b\b\b\b\b\b\b\b\b\b\b\b\b\b\b\b\b\b\b\b\b\b\r18/18 [==============================] - 1s 54ms/step - loss: 106.7711 - val_loss: 573.6142\n",
            "Epoch 73/100\n",
            "18/18 [==============================] - 0s 4ms/step - loss: 110.2485 - val_loss: 618.8949\n",
            "Epoch 74/100\n",
            "18/18 [==============================] - 0s 4ms/step - loss: 105.5330 - val_loss: 574.9455\n",
            "Epoch 75/100\n",
            "18/18 [==============================] - 0s 4ms/step - loss: 107.3177 - val_loss: 606.1977\n",
            "Epoch 76/100\n",
            "18/18 [==============================] - 0s 4ms/step - loss: 107.8084 - val_loss: 582.2404\n",
            "Epoch 77/100\n",
            " 1/18 [>.............................] - ETA: 0s - loss: 83.6437INFO:tensorflow:Assets written to: model_experiments/model_6_dense_multivariate/assets\n"
          ]
        },
        {
          "output_type": "stream",
          "name": "stderr",
          "text": [
            "INFO:tensorflow:Assets written to: model_experiments/model_6_dense_multivariate/assets\n"
          ]
        },
        {
          "output_type": "stream",
          "name": "stdout",
          "text": [
            "\b\b\b\b\b\b\b\b\b\b\b\b\b\b\b\b\b\b\b\b\b\b\b\b\b\b\b\b\b\b\b\b\b\b\b\b\b\b\b\b\b\b\b\b\b\b\b\b\b\b\b\b\b\b\b\b\b\b\b\b\b\b\b\b\r18/18 [==============================] - 0s 26ms/step - loss: 107.2528 - val_loss: 571.8563\n",
            "Epoch 78/100\n",
            "18/18 [==============================] - 0s 4ms/step - loss: 106.2309 - val_loss: 572.2830\n",
            "Epoch 79/100\n",
            "18/18 [==============================] - 0s 4ms/step - loss: 105.8568 - val_loss: 596.5463\n",
            "Epoch 80/100\n",
            "18/18 [==============================] - 0s 4ms/step - loss: 107.8418 - val_loss: 577.2402\n",
            "Epoch 81/100\n",
            " 1/18 [>.............................] - ETA: 0s - loss: 95.0620INFO:tensorflow:Assets written to: model_experiments/model_6_dense_multivariate/assets\n"
          ]
        },
        {
          "output_type": "stream",
          "name": "stderr",
          "text": [
            "INFO:tensorflow:Assets written to: model_experiments/model_6_dense_multivariate/assets\n"
          ]
        },
        {
          "output_type": "stream",
          "name": "stdout",
          "text": [
            "\b\b\b\b\b\b\b\b\b\b\b\b\b\b\b\b\b\b\b\b\b\b\b\b\b\b\b\b\b\b\b\b\b\b\b\b\b\b\b\b\b\b\b\b\b\b\b\b\b\b\b\b\b\b\b\b\b\b\b\b\b\b\b\b\r18/18 [==============================] - 0s 27ms/step - loss: 105.1101 - val_loss: 568.4899\n",
            "Epoch 82/100\n",
            "18/18 [==============================] - 0s 4ms/step - loss: 114.1867 - val_loss: 592.5610\n",
            "Epoch 83/100\n",
            "18/18 [==============================] - 0s 4ms/step - loss: 107.9631 - val_loss: 651.6215\n",
            "Epoch 84/100\n",
            "18/18 [==============================] - 0s 5ms/step - loss: 109.6690 - val_loss: 568.9341\n",
            "Epoch 85/100\n",
            "18/18 [==============================] - 0s 4ms/step - loss: 105.8219 - val_loss: 571.5336\n",
            "Epoch 86/100\n",
            "18/18 [==============================] - 0s 4ms/step - loss: 104.8628 - val_loss: 579.3859\n",
            "Epoch 87/100\n",
            "18/18 [==============================] - 0s 4ms/step - loss: 104.7148 - val_loss: 582.9180\n",
            "Epoch 88/100\n",
            "18/18 [==============================] - 0s 4ms/step - loss: 106.8899 - val_loss: 569.0823\n",
            "Epoch 89/100\n",
            "18/18 [==============================] - 0s 4ms/step - loss: 105.4376 - val_loss: 569.3441\n",
            "Epoch 90/100\n",
            "18/18 [==============================] - 0s 4ms/step - loss: 105.1583 - val_loss: 600.5418\n",
            "Epoch 91/100\n",
            "18/18 [==============================] - 0s 4ms/step - loss: 111.8188 - val_loss: 632.4729\n",
            "Epoch 92/100\n",
            "18/18 [==============================] - 0s 4ms/step - loss: 106.8183 - val_loss: 601.6360\n",
            "Epoch 93/100\n",
            "18/18 [==============================] - 0s 5ms/step - loss: 114.4035 - val_loss: 647.1912\n",
            "Epoch 94/100\n",
            "18/18 [==============================] - 0s 5ms/step - loss: 110.5867 - val_loss: 571.2926\n",
            "Epoch 95/100\n",
            "18/18 [==============================] - 0s 4ms/step - loss: 105.7926 - val_loss: 584.9741\n",
            "Epoch 96/100\n",
            "18/18 [==============================] - 0s 5ms/step - loss: 112.4480 - val_loss: 624.2063\n",
            "Epoch 97/100\n",
            "18/18 [==============================] - 0s 5ms/step - loss: 108.2609 - val_loss: 581.7927\n",
            "Epoch 98/100\n",
            "18/18 [==============================] - 0s 4ms/step - loss: 108.0625 - val_loss: 573.6558\n",
            "Epoch 99/100\n",
            " 1/18 [>.............................] - ETA: 0s - loss: 143.6039INFO:tensorflow:Assets written to: model_experiments/model_6_dense_multivariate/assets\n"
          ]
        },
        {
          "output_type": "stream",
          "name": "stderr",
          "text": [
            "INFO:tensorflow:Assets written to: model_experiments/model_6_dense_multivariate/assets\n"
          ]
        },
        {
          "output_type": "stream",
          "name": "stdout",
          "text": [
            "\b\b\b\b\b\b\b\b\b\b\b\b\b\b\b\b\b\b\b\b\b\b\b\b\b\b\b\b\b\b\b\b\b\b\b\b\b\b\b\b\b\b\b\b\b\b\b\b\b\b\b\b\b\b\b\b\b\b\b\b\b\b\b\b\b\r18/18 [==============================] - 0s 28ms/step - loss: 107.7017 - val_loss: 567.8900\n",
            "Epoch 100/100\n",
            "18/18 [==============================] - 0s 5ms/step - loss: 107.9951 - val_loss: 626.7440\n"
          ]
        },
        {
          "output_type": "execute_result",
          "data": {
            "text/plain": [
              "<keras.callbacks.History at 0x7fc24cd61b10>"
            ]
          },
          "metadata": {},
          "execution_count": 352
        }
      ]
    },
    {
      "cell_type": "code",
      "source": [
        "# Evaluate multivariate model\n",
        "model_6.evaluate(X_test, y_test)"
      ],
      "metadata": {
        "colab": {
          "base_uri": "https://localhost:8080/"
        },
        "id": "wRRz7D0iwlMK",
        "outputId": "aaf81318-ac85-4397-adcc-6fe0c5e939c2"
      },
      "execution_count": 353,
      "outputs": [
        {
          "output_type": "stream",
          "name": "stdout",
          "text": [
            "18/18 [==============================] - 0s 2ms/step - loss: 626.7440\n"
          ]
        },
        {
          "output_type": "execute_result",
          "data": {
            "text/plain": [
              "626.7439575195312"
            ]
          },
          "metadata": {},
          "execution_count": 353
        }
      ]
    },
    {
      "cell_type": "code",
      "source": [
        "# Load in and evaluate best performing model\n",
        "model_6 = tf.keras.models.load_model(\"model_experiments/model_6_dense_multivariate\")\n",
        "model_6.evaluate(X_test, y_test)"
      ],
      "metadata": {
        "colab": {
          "base_uri": "https://localhost:8080/"
        },
        "id": "1TOvQ0zVwmkj",
        "outputId": "e090e3a7-3bd6-43fc-92a9-f85f8ddb2549"
      },
      "execution_count": 354,
      "outputs": [
        {
          "output_type": "stream",
          "name": "stdout",
          "text": [
            "18/18 [==============================] - 0s 2ms/step - loss: 567.8900\n"
          ]
        },
        {
          "output_type": "execute_result",
          "data": {
            "text/plain": [
              "567.8900146484375"
            ]
          },
          "metadata": {},
          "execution_count": 354
        }
      ]
    },
    {
      "cell_type": "code",
      "source": [
        "# Make predictions with multivariate model\n",
        "model_6_preds = tf.squeeze(model_6.predict(X_test))\n",
        "model_6_preds[:10]"
      ],
      "metadata": {
        "colab": {
          "base_uri": "https://localhost:8080/"
        },
        "id": "jwQylCS2xwAK",
        "outputId": "2998b7bb-311d-4f5f-8b16-a43c006863cc"
      },
      "execution_count": 355,
      "outputs": [
        {
          "output_type": "execute_result",
          "data": {
            "text/plain": [
              "<tf.Tensor: shape=(10,), dtype=float32, numpy=\n",
              "array([8844.684, 8769.905, 9045.17 , 8747.686, 8728.429, 8772.757,\n",
              "       8667.292, 8503.437, 8470.313, 8527.244], dtype=float32)>"
            ]
          },
          "metadata": {},
          "execution_count": 355
        }
      ]
    },
    {
      "cell_type": "code",
      "source": [
        "# Evaluate predictions to get eval metrics\n",
        "model_6_results = evaluate_preds(y_true=y_test,\n",
        "                                 y_pred=model_6_preds)\n",
        "model_6_results"
      ],
      "metadata": {
        "colab": {
          "base_uri": "https://localhost:8080/"
        },
        "id": "h49Qg2xSx5hq",
        "outputId": "a6f67517-8fb2-4fc2-8432-4270fb78c5eb"
      },
      "execution_count": 356,
      "outputs": [
        {
          "output_type": "execute_result",
          "data": {
            "text/plain": [
              "{'mae': 567.88995,\n",
              " 'mape': 2.5460768,\n",
              " 'mase': 0.99762535,\n",
              " 'mse': 1164816.4,\n",
              " 'rmse': 1079.2666}"
            ]
          },
          "metadata": {},
          "execution_count": 356
        }
      ]
    },
    {
      "cell_type": "code",
      "source": [
        "model_1_results"
      ],
      "metadata": {
        "colab": {
          "base_uri": "https://localhost:8080/"
        },
        "id": "PYd__YK_yHWz",
        "outputId": "5dac5841-a25a-4544-dec9-cc184a158210"
      },
      "execution_count": 357,
      "outputs": [
        {
          "output_type": "execute_result",
          "data": {
            "text/plain": [
              "{'mae': 568.9511,\n",
              " 'mape': 2.5448983,\n",
              " 'mase': 0.99948955,\n",
              " 'mse': 1171743.8,\n",
              " 'rmse': 1082.4711}"
            ]
          },
          "metadata": {},
          "execution_count": 357
        }
      ]
    },
    {
      "cell_type": "code",
      "source": [
        "naive_results"
      ],
      "metadata": {
        "colab": {
          "base_uri": "https://localhost:8080/"
        },
        "id": "-Wg4A6a5yJSh",
        "outputId": "b84f3b7c-5e28-4913-ad30-944e12695cb0"
      },
      "execution_count": 358,
      "outputs": [
        {
          "output_type": "execute_result",
          "data": {
            "text/plain": [
              "{'mae': 567.9802,\n",
              " 'mape': 2.516525,\n",
              " 'mase': 0.99957,\n",
              " 'mse': 1147547.0,\n",
              " 'rmse': 1071.2362}"
            ]
          },
          "metadata": {},
          "execution_count": 358
        }
      ]
    },
    {
      "cell_type": "markdown",
      "source": [
        "## Model 7: N-BEATS algorithm\n",
        "\n",
        "Let's now try build the biggest baddest (though maube not the baddest, as inm it perform really well...) time series forecasting model we've built so far.\n",
        "\n",
        "More specifically, we're going to be replicating the algorithm in Figure 1 from the following paper: https://arxiv.org/pdf/1905.10437.pdf\n",
        "\n",
        "Why?\n",
        "\n",
        "* This will allow us to practive replicating a paper with TensorFlow code\n",
        "* We will see how to use TensorFlow layer subclassing (to make our own custom layers)\n",
        "* Get experience using the Functional API to create a custom architecture\n",
        "* Potentially get state of the art results on our problem"
      ],
      "metadata": {
        "id": "ssbs9aQVyZ49"
      }
    },
    {
      "cell_type": "markdown",
      "source": [
        "## Building and testing the N-BEATS block layer\n",
        "\n",
        "Because the N-BEATS block layer doesn't exist in TensorFlow, we've got to create it.\n",
        "\n",
        "To create custom layers and models inn TensorFlow we can use subclassing:\n",
        "\n",
        "https://www.tensorflow.org/guide/keras/custom_layers_and_models"
      ],
      "metadata": {
        "id": "G8JXgiEj1pY3"
      }
    },
    {
      "cell_type": "code",
      "source": [
        "# Create NBeatBlock custom layer\n",
        "class NBeatsBlock(tf.keras.layers.Layer):\n",
        "    def __init__(self, # the constructor takes all the hyperparameters for the layer\n",
        "                 input_size: int,\n",
        "                 theta_size: int,\n",
        "                 horizon: int,\n",
        "                 n_neurons: int,\n",
        "                 n_layers: int,\n",
        "                 **kwargs): # the **kwargs argument takes care of all the arguments for the parent class (input_shape, trainable, name)\n",
        "        super().__init__(**kwargs)\n",
        "        self.input_size = input_size\n",
        "        self.theta_size = theta_size\n",
        "        self.horizon = horizon\n",
        "        self.n_neurons = n_neurons\n",
        "        self.n_layers = n_layers\n",
        "\n",
        "        # Block contains stack of 4 fully connected layers each has ReLU activation\n",
        "        self.hidden = [tf.keras.layers.Dense(n_neurons, activation='relu') for _ in range(n_layers)]\n",
        "        # Output of block is a theta layer with linear activation\n",
        "        self.theta_layer = tf.keras.layers.Dense(theta_size, activation='linear', name='theta')\n",
        "\n",
        "    def call(self, inputs): # the call method is what runs when the layer is called\n",
        "        x = inputs\n",
        "        for layer in self.hidden: # pass inputs through each hidden layer\n",
        "            x = layer(x)\n",
        "        theta = self.theta_layer(x)\n",
        "        # Output the backcast and the forecast from theta\n",
        "        backcast, forecast = theta[:, :self.input_size], theta[:, -self.horizon:]\n",
        "        return backcast, forecast"
      ],
      "metadata": {
        "id": "sZe59cfJ2D2c"
      },
      "execution_count": 359,
      "outputs": []
    },
    {
      "cell_type": "markdown",
      "source": [
        "Let's test our NBeatBlock class.\n",
        "\n",
        "To do we'll make some dummy inputs and outputs."
      ],
      "metadata": {
        "id": "2ddOyDly8M4r"
      }
    },
    {
      "cell_type": "code",
      "source": [
        "# Set up dummy NBeatsBlock layer to represent inputs and outputs\n",
        "tf.random.set_seed(42)\n",
        "dummy_nbeats_block_layer = NBeatsBlock(input_size=WINDOW_SIZE,\n",
        "                                       theta_size=WINDOW_SIZE+HORIZON, # backcast + forecast\n",
        "                                       horizon=HORIZON,\n",
        "                                       n_neurons=128,\n",
        "                                       n_layers=4)"
      ],
      "metadata": {
        "id": "bi8Ofl7d8Tv9"
      },
      "execution_count": 360,
      "outputs": []
    },
    {
      "cell_type": "code",
      "source": [
        "# Create dummy inputs (have to be same size as input_size)\n",
        "dummy_inputs = tf.expand_dims(tf.range(WINDOW_SIZE) + 1, axis=0) # input shape to the model has to reflect dense layer input  requirements (ndims=2)\n",
        "dummy_inputs"
      ],
      "metadata": {
        "colab": {
          "base_uri": "https://localhost:8080/"
        },
        "id": "-iFmM9zi9PgW",
        "outputId": "cbb04a23-f7ba-4004-da61-2c4e1b1eaa29"
      },
      "execution_count": 361,
      "outputs": [
        {
          "output_type": "execute_result",
          "data": {
            "text/plain": [
              "<tf.Tensor: shape=(1, 7), dtype=int32, numpy=array([[1, 2, 3, 4, 5, 6, 7]], dtype=int32)>"
            ]
          },
          "metadata": {},
          "execution_count": 361
        }
      ]
    },
    {
      "cell_type": "code",
      "source": [
        "# Pass dummy inputs to dummy NBeatsBlock layer\n",
        "backcast, forecast = dummy_nbeats_block_layer(dummy_inputs)\n",
        "# These are the activation outputs of the theta layer (they'll be random due to no training of the model)\n",
        "print(f'Backcast: {tf.squeeze(backcast.numpy())}')\n",
        "print(f'Forecast: {tf.squeeze(forecast.numpy())}')"
      ],
      "metadata": {
        "colab": {
          "base_uri": "https://localhost:8080/"
        },
        "id": "lQ6OOhZF9uOz",
        "outputId": "fd3740b7-d4c3-4a87-af64-06fed3daf974"
      },
      "execution_count": 362,
      "outputs": [
        {
          "output_type": "stream",
          "name": "stdout",
          "text": [
            "Backcast: [ 0.07960171  0.32512033 -0.8428683  -0.6938985  -0.31720552 -0.5698734\n",
            " -0.6396662 ]\n",
            "Forecast: 1.0071648359298706\n"
          ]
        }
      ]
    },
    {
      "cell_type": "markdown",
      "source": [
        "### Preparing data for the N-BEATS algorithm using `tf.data`\n",
        "\n",
        "To make our input data load as fast as possible we're going to be adhering to the performant data pipeline steps in the tf.data guide:\n",
        "https://www.tensorflow.org/guide/data_performance"
      ],
      "metadata": {
        "id": "G5L9s_wV-RMW"
      }
    },
    {
      "cell_type": "code",
      "source": [
        "HORIZON = 1\n",
        "WINDOW_SIZE = 7"
      ],
      "metadata": {
        "id": "G-ziiFOJ_fu1"
      },
      "execution_count": 363,
      "outputs": []
    },
    {
      "cell_type": "code",
      "source": [
        "# Create N-BEATS data inputs (N-BEATS works with univariate time series)\n",
        "bitcoin_prices.head()"
      ],
      "metadata": {
        "colab": {
          "base_uri": "https://localhost:8080/",
          "height": 238
        },
        "id": "yt-vCvfZ_r8E",
        "outputId": "2ed65742-47c8-4b22-cf07-df3dc963bcbb"
      },
      "execution_count": 364,
      "outputs": [
        {
          "output_type": "execute_result",
          "data": {
            "text/plain": [
              "                Price\n",
              "Date                 \n",
              "2013-10-01  123.65499\n",
              "2013-10-02  125.45500\n",
              "2013-10-03  108.58483\n",
              "2013-10-04  118.67466\n",
              "2013-10-05  121.33866"
            ],
            "text/html": [
              "\n",
              "  <div id=\"df-8b5e42b1-c01d-494a-aa66-149903a26591\">\n",
              "    <div class=\"colab-df-container\">\n",
              "      <div>\n",
              "<style scoped>\n",
              "    .dataframe tbody tr th:only-of-type {\n",
              "        vertical-align: middle;\n",
              "    }\n",
              "\n",
              "    .dataframe tbody tr th {\n",
              "        vertical-align: top;\n",
              "    }\n",
              "\n",
              "    .dataframe thead th {\n",
              "        text-align: right;\n",
              "    }\n",
              "</style>\n",
              "<table border=\"1\" class=\"dataframe\">\n",
              "  <thead>\n",
              "    <tr style=\"text-align: right;\">\n",
              "      <th></th>\n",
              "      <th>Price</th>\n",
              "    </tr>\n",
              "    <tr>\n",
              "      <th>Date</th>\n",
              "      <th></th>\n",
              "    </tr>\n",
              "  </thead>\n",
              "  <tbody>\n",
              "    <tr>\n",
              "      <th>2013-10-01</th>\n",
              "      <td>123.65499</td>\n",
              "    </tr>\n",
              "    <tr>\n",
              "      <th>2013-10-02</th>\n",
              "      <td>125.45500</td>\n",
              "    </tr>\n",
              "    <tr>\n",
              "      <th>2013-10-03</th>\n",
              "      <td>108.58483</td>\n",
              "    </tr>\n",
              "    <tr>\n",
              "      <th>2013-10-04</th>\n",
              "      <td>118.67466</td>\n",
              "    </tr>\n",
              "    <tr>\n",
              "      <th>2013-10-05</th>\n",
              "      <td>121.33866</td>\n",
              "    </tr>\n",
              "  </tbody>\n",
              "</table>\n",
              "</div>\n",
              "      <button class=\"colab-df-convert\" onclick=\"convertToInteractive('df-8b5e42b1-c01d-494a-aa66-149903a26591')\"\n",
              "              title=\"Convert this dataframe to an interactive table.\"\n",
              "              style=\"display:none;\">\n",
              "        \n",
              "  <svg xmlns=\"http://www.w3.org/2000/svg\" height=\"24px\"viewBox=\"0 0 24 24\"\n",
              "       width=\"24px\">\n",
              "    <path d=\"M0 0h24v24H0V0z\" fill=\"none\"/>\n",
              "    <path d=\"M18.56 5.44l.94 2.06.94-2.06 2.06-.94-2.06-.94-.94-2.06-.94 2.06-2.06.94zm-11 1L8.5 8.5l.94-2.06 2.06-.94-2.06-.94L8.5 2.5l-.94 2.06-2.06.94zm10 10l.94 2.06.94-2.06 2.06-.94-2.06-.94-.94-2.06-.94 2.06-2.06.94z\"/><path d=\"M17.41 7.96l-1.37-1.37c-.4-.4-.92-.59-1.43-.59-.52 0-1.04.2-1.43.59L10.3 9.45l-7.72 7.72c-.78.78-.78 2.05 0 2.83L4 21.41c.39.39.9.59 1.41.59.51 0 1.02-.2 1.41-.59l7.78-7.78 2.81-2.81c.8-.78.8-2.07 0-2.86zM5.41 20L4 18.59l7.72-7.72 1.47 1.35L5.41 20z\"/>\n",
              "  </svg>\n",
              "      </button>\n",
              "      \n",
              "  <style>\n",
              "    .colab-df-container {\n",
              "      display:flex;\n",
              "      flex-wrap:wrap;\n",
              "      gap: 12px;\n",
              "    }\n",
              "\n",
              "    .colab-df-convert {\n",
              "      background-color: #E8F0FE;\n",
              "      border: none;\n",
              "      border-radius: 50%;\n",
              "      cursor: pointer;\n",
              "      display: none;\n",
              "      fill: #1967D2;\n",
              "      height: 32px;\n",
              "      padding: 0 0 0 0;\n",
              "      width: 32px;\n",
              "    }\n",
              "\n",
              "    .colab-df-convert:hover {\n",
              "      background-color: #E2EBFA;\n",
              "      box-shadow: 0px 1px 2px rgba(60, 64, 67, 0.3), 0px 1px 3px 1px rgba(60, 64, 67, 0.15);\n",
              "      fill: #174EA6;\n",
              "    }\n",
              "\n",
              "    [theme=dark] .colab-df-convert {\n",
              "      background-color: #3B4455;\n",
              "      fill: #D2E3FC;\n",
              "    }\n",
              "\n",
              "    [theme=dark] .colab-df-convert:hover {\n",
              "      background-color: #434B5C;\n",
              "      box-shadow: 0px 1px 3px 1px rgba(0, 0, 0, 0.15);\n",
              "      filter: drop-shadow(0px 1px 2px rgba(0, 0, 0, 0.3));\n",
              "      fill: #FFFFFF;\n",
              "    }\n",
              "  </style>\n",
              "\n",
              "      <script>\n",
              "        const buttonEl =\n",
              "          document.querySelector('#df-8b5e42b1-c01d-494a-aa66-149903a26591 button.colab-df-convert');\n",
              "        buttonEl.style.display =\n",
              "          google.colab.kernel.accessAllowed ? 'block' : 'none';\n",
              "\n",
              "        async function convertToInteractive(key) {\n",
              "          const element = document.querySelector('#df-8b5e42b1-c01d-494a-aa66-149903a26591');\n",
              "          const dataTable =\n",
              "            await google.colab.kernel.invokeFunction('convertToInteractive',\n",
              "                                                     [key], {});\n",
              "          if (!dataTable) return;\n",
              "\n",
              "          const docLinkHtml = 'Like what you see? Visit the ' +\n",
              "            '<a target=\"_blank\" href=https://colab.research.google.com/notebooks/data_table.ipynb>data table notebook</a>'\n",
              "            + ' to learn more about interactive tables.';\n",
              "          element.innerHTML = '';\n",
              "          dataTable['output_type'] = 'display_data';\n",
              "          await google.colab.output.renderOutput(dataTable, element);\n",
              "          const docLink = document.createElement('div');\n",
              "          docLink.innerHTML = docLinkHtml;\n",
              "          element.appendChild(docLink);\n",
              "        }\n",
              "      </script>\n",
              "    </div>\n",
              "  </div>\n",
              "  "
            ]
          },
          "metadata": {},
          "execution_count": 364
        }
      ]
    },
    {
      "cell_type": "code",
      "source": [
        "## Add windowed columns\n",
        "bitcoin_prices_nbeats = bitcoin_prices.copy()\n",
        "for i in range(WINDOW_SIZE):\n",
        "    bitcoin_prices_nbeats[f'Price+{i+1}'] = bitcoin_prices_nbeats['Price'].shift(periods=i+1)\n",
        "bitcoin_prices_nbeats.head()"
      ],
      "metadata": {
        "colab": {
          "base_uri": "https://localhost:8080/",
          "height": 238
        },
        "id": "uV-3_rHB_4gn",
        "outputId": "8db54226-290a-4542-96b7-fc251543bc7b"
      },
      "execution_count": 365,
      "outputs": [
        {
          "output_type": "execute_result",
          "data": {
            "text/plain": [
              "                Price    Price+1    Price+2    Price+3    Price+4  Price+5  \\\n",
              "Date                                                                         \n",
              "2013-10-01  123.65499        NaN        NaN        NaN        NaN      NaN   \n",
              "2013-10-02  125.45500  123.65499        NaN        NaN        NaN      NaN   \n",
              "2013-10-03  108.58483  125.45500  123.65499        NaN        NaN      NaN   \n",
              "2013-10-04  118.67466  108.58483  125.45500  123.65499        NaN      NaN   \n",
              "2013-10-05  121.33866  118.67466  108.58483  125.45500  123.65499      NaN   \n",
              "\n",
              "            Price+6  Price+7  \n",
              "Date                          \n",
              "2013-10-01      NaN      NaN  \n",
              "2013-10-02      NaN      NaN  \n",
              "2013-10-03      NaN      NaN  \n",
              "2013-10-04      NaN      NaN  \n",
              "2013-10-05      NaN      NaN  "
            ],
            "text/html": [
              "\n",
              "  <div id=\"df-1514fa0b-971a-4d14-a138-90897111f5a6\">\n",
              "    <div class=\"colab-df-container\">\n",
              "      <div>\n",
              "<style scoped>\n",
              "    .dataframe tbody tr th:only-of-type {\n",
              "        vertical-align: middle;\n",
              "    }\n",
              "\n",
              "    .dataframe tbody tr th {\n",
              "        vertical-align: top;\n",
              "    }\n",
              "\n",
              "    .dataframe thead th {\n",
              "        text-align: right;\n",
              "    }\n",
              "</style>\n",
              "<table border=\"1\" class=\"dataframe\">\n",
              "  <thead>\n",
              "    <tr style=\"text-align: right;\">\n",
              "      <th></th>\n",
              "      <th>Price</th>\n",
              "      <th>Price+1</th>\n",
              "      <th>Price+2</th>\n",
              "      <th>Price+3</th>\n",
              "      <th>Price+4</th>\n",
              "      <th>Price+5</th>\n",
              "      <th>Price+6</th>\n",
              "      <th>Price+7</th>\n",
              "    </tr>\n",
              "    <tr>\n",
              "      <th>Date</th>\n",
              "      <th></th>\n",
              "      <th></th>\n",
              "      <th></th>\n",
              "      <th></th>\n",
              "      <th></th>\n",
              "      <th></th>\n",
              "      <th></th>\n",
              "      <th></th>\n",
              "    </tr>\n",
              "  </thead>\n",
              "  <tbody>\n",
              "    <tr>\n",
              "      <th>2013-10-01</th>\n",
              "      <td>123.65499</td>\n",
              "      <td>NaN</td>\n",
              "      <td>NaN</td>\n",
              "      <td>NaN</td>\n",
              "      <td>NaN</td>\n",
              "      <td>NaN</td>\n",
              "      <td>NaN</td>\n",
              "      <td>NaN</td>\n",
              "    </tr>\n",
              "    <tr>\n",
              "      <th>2013-10-02</th>\n",
              "      <td>125.45500</td>\n",
              "      <td>123.65499</td>\n",
              "      <td>NaN</td>\n",
              "      <td>NaN</td>\n",
              "      <td>NaN</td>\n",
              "      <td>NaN</td>\n",
              "      <td>NaN</td>\n",
              "      <td>NaN</td>\n",
              "    </tr>\n",
              "    <tr>\n",
              "      <th>2013-10-03</th>\n",
              "      <td>108.58483</td>\n",
              "      <td>125.45500</td>\n",
              "      <td>123.65499</td>\n",
              "      <td>NaN</td>\n",
              "      <td>NaN</td>\n",
              "      <td>NaN</td>\n",
              "      <td>NaN</td>\n",
              "      <td>NaN</td>\n",
              "    </tr>\n",
              "    <tr>\n",
              "      <th>2013-10-04</th>\n",
              "      <td>118.67466</td>\n",
              "      <td>108.58483</td>\n",
              "      <td>125.45500</td>\n",
              "      <td>123.65499</td>\n",
              "      <td>NaN</td>\n",
              "      <td>NaN</td>\n",
              "      <td>NaN</td>\n",
              "      <td>NaN</td>\n",
              "    </tr>\n",
              "    <tr>\n",
              "      <th>2013-10-05</th>\n",
              "      <td>121.33866</td>\n",
              "      <td>118.67466</td>\n",
              "      <td>108.58483</td>\n",
              "      <td>125.45500</td>\n",
              "      <td>123.65499</td>\n",
              "      <td>NaN</td>\n",
              "      <td>NaN</td>\n",
              "      <td>NaN</td>\n",
              "    </tr>\n",
              "  </tbody>\n",
              "</table>\n",
              "</div>\n",
              "      <button class=\"colab-df-convert\" onclick=\"convertToInteractive('df-1514fa0b-971a-4d14-a138-90897111f5a6')\"\n",
              "              title=\"Convert this dataframe to an interactive table.\"\n",
              "              style=\"display:none;\">\n",
              "        \n",
              "  <svg xmlns=\"http://www.w3.org/2000/svg\" height=\"24px\"viewBox=\"0 0 24 24\"\n",
              "       width=\"24px\">\n",
              "    <path d=\"M0 0h24v24H0V0z\" fill=\"none\"/>\n",
              "    <path d=\"M18.56 5.44l.94 2.06.94-2.06 2.06-.94-2.06-.94-.94-2.06-.94 2.06-2.06.94zm-11 1L8.5 8.5l.94-2.06 2.06-.94-2.06-.94L8.5 2.5l-.94 2.06-2.06.94zm10 10l.94 2.06.94-2.06 2.06-.94-2.06-.94-.94-2.06-.94 2.06-2.06.94z\"/><path d=\"M17.41 7.96l-1.37-1.37c-.4-.4-.92-.59-1.43-.59-.52 0-1.04.2-1.43.59L10.3 9.45l-7.72 7.72c-.78.78-.78 2.05 0 2.83L4 21.41c.39.39.9.59 1.41.59.51 0 1.02-.2 1.41-.59l7.78-7.78 2.81-2.81c.8-.78.8-2.07 0-2.86zM5.41 20L4 18.59l7.72-7.72 1.47 1.35L5.41 20z\"/>\n",
              "  </svg>\n",
              "      </button>\n",
              "      \n",
              "  <style>\n",
              "    .colab-df-container {\n",
              "      display:flex;\n",
              "      flex-wrap:wrap;\n",
              "      gap: 12px;\n",
              "    }\n",
              "\n",
              "    .colab-df-convert {\n",
              "      background-color: #E8F0FE;\n",
              "      border: none;\n",
              "      border-radius: 50%;\n",
              "      cursor: pointer;\n",
              "      display: none;\n",
              "      fill: #1967D2;\n",
              "      height: 32px;\n",
              "      padding: 0 0 0 0;\n",
              "      width: 32px;\n",
              "    }\n",
              "\n",
              "    .colab-df-convert:hover {\n",
              "      background-color: #E2EBFA;\n",
              "      box-shadow: 0px 1px 2px rgba(60, 64, 67, 0.3), 0px 1px 3px 1px rgba(60, 64, 67, 0.15);\n",
              "      fill: #174EA6;\n",
              "    }\n",
              "\n",
              "    [theme=dark] .colab-df-convert {\n",
              "      background-color: #3B4455;\n",
              "      fill: #D2E3FC;\n",
              "    }\n",
              "\n",
              "    [theme=dark] .colab-df-convert:hover {\n",
              "      background-color: #434B5C;\n",
              "      box-shadow: 0px 1px 3px 1px rgba(0, 0, 0, 0.15);\n",
              "      filter: drop-shadow(0px 1px 2px rgba(0, 0, 0, 0.3));\n",
              "      fill: #FFFFFF;\n",
              "    }\n",
              "  </style>\n",
              "\n",
              "      <script>\n",
              "        const buttonEl =\n",
              "          document.querySelector('#df-1514fa0b-971a-4d14-a138-90897111f5a6 button.colab-df-convert');\n",
              "        buttonEl.style.display =\n",
              "          google.colab.kernel.accessAllowed ? 'block' : 'none';\n",
              "\n",
              "        async function convertToInteractive(key) {\n",
              "          const element = document.querySelector('#df-1514fa0b-971a-4d14-a138-90897111f5a6');\n",
              "          const dataTable =\n",
              "            await google.colab.kernel.invokeFunction('convertToInteractive',\n",
              "                                                     [key], {});\n",
              "          if (!dataTable) return;\n",
              "\n",
              "          const docLinkHtml = 'Like what you see? Visit the ' +\n",
              "            '<a target=\"_blank\" href=https://colab.research.google.com/notebooks/data_table.ipynb>data table notebook</a>'\n",
              "            + ' to learn more about interactive tables.';\n",
              "          element.innerHTML = '';\n",
              "          dataTable['output_type'] = 'display_data';\n",
              "          await google.colab.output.renderOutput(dataTable, element);\n",
              "          const docLink = document.createElement('div');\n",
              "          docLink.innerHTML = docLinkHtml;\n",
              "          element.appendChild(docLink);\n",
              "        }\n",
              "      </script>\n",
              "    </div>\n",
              "  </div>\n",
              "  "
            ]
          },
          "metadata": {},
          "execution_count": 365
        }
      ]
    },
    {
      "cell_type": "code",
      "source": [
        "# Make features and labels\n",
        "X = bitcoin_prices_nbeats.dropna().drop('Price', axis=1)\n",
        "y = bitcoin_prices_nbeats.dropna()['Price']\n",
        "\n",
        "# Make train and test sets\n",
        "split_size = int(len(X) * 0.8)\n",
        "X_train, y_train = X[:split_size], y[:split_size]\n",
        "X_test, y_test = X[split_size:], y[split_size:]\n",
        "len(X_train), len(X_test), len(y_train), len(y_test)"
      ],
      "metadata": {
        "colab": {
          "base_uri": "https://localhost:8080/"
        },
        "id": "rTzuifKrARl_",
        "outputId": "1e077844-3081-4e88-d007-35bea52fc023"
      },
      "execution_count": 366,
      "outputs": [
        {
          "output_type": "execute_result",
          "data": {
            "text/plain": [
              "(2224, 556, 2224, 556)"
            ]
          },
          "metadata": {},
          "execution_count": 366
        }
      ]
    },
    {
      "cell_type": "code",
      "source": [
        "# Time to make our dataset performant using tf.data API\n",
        "train_features_dataset = tf.data.Dataset.from_tensor_slices(X_train)\n",
        "train_labels_dataset = tf.data.Dataset.from_tensor_slices(y_train)\n",
        "\n",
        "test_features_dataset = tf.data.Dataset.from_tensor_slices(X_test)\n",
        "test_labels_dataset = tf.data.Dataset.from_tensor_slices(y_test)\n",
        "\n",
        "# Combine labels and features by zipping together -> (features, labels)\n",
        "train_dataset = tf.data.Dataset.zip((train_features_dataset, train_labels_dataset))\n",
        "test_dataset = tf.data.Dataset.zip((test_features_dataset, test_labels_dataset))\n",
        "\n",
        "# Batch and prefetch\n",
        "BATCH_SIZE = 1024\n",
        "train_dataset = train_dataset.batch(BATCH_SIZE).prefetch(tf.data.AUTOTUNE)\n",
        "test_dataset = test_dataset.batch(BATCH_SIZE).prefetch(tf.data.AUTOTUNE)\n",
        "\n",
        "train_dataset, test_dataset"
      ],
      "metadata": {
        "colab": {
          "base_uri": "https://localhost:8080/"
        },
        "id": "hHisYb55A4T5",
        "outputId": "32d0abbe-761e-4ad2-b91c-63a48aade3e9"
      },
      "execution_count": 367,
      "outputs": [
        {
          "output_type": "execute_result",
          "data": {
            "text/plain": [
              "(<PrefetchDataset element_spec=(TensorSpec(shape=(None, 7), dtype=tf.float64, name=None), TensorSpec(shape=(None,), dtype=tf.float64, name=None))>,\n",
              " <PrefetchDataset element_spec=(TensorSpec(shape=(None, 7), dtype=tf.float64, name=None), TensorSpec(shape=(None,), dtype=tf.float64, name=None))>)"
            ]
          },
          "metadata": {},
          "execution_count": 367
        }
      ]
    },
    {
      "cell_type": "markdown",
      "source": [
        "### Setting up hyperparameters for N-BEATS algorithm\n",
        "\n",
        "The N-BEATS algorithm has a fair few number of parameters, many of them can be found in Table 18: https://arxiv.org/pdf/1905.10437.pdf"
      ],
      "metadata": {
        "id": "lmG1NAoWCqBt"
      }
    },
    {
      "cell_type": "code",
      "source": [
        "# Values from N-BEATS paper\n",
        "N_EPOCHS = 5000\n",
        "N_NEURONS = 512\n",
        "N_LAYERS = 4\n",
        "N_STACKS = 30\n",
        "\n",
        "INPUT_SIZE = WINDOW_SIZE * HORIZON\n",
        "THETA_SIZE = INPUT_SIZE + HORIZON\n",
        "\n",
        "INPUT_SIZE, THETA_SIZE"
      ],
      "metadata": {
        "colab": {
          "base_uri": "https://localhost:8080/"
        },
        "id": "M2fq-78LDJI8",
        "outputId": "86426e41-e242-4dad-f107-43eacd35d817"
      },
      "execution_count": 368,
      "outputs": [
        {
          "output_type": "execute_result",
          "data": {
            "text/plain": [
              "(7, 8)"
            ]
          },
          "metadata": {},
          "execution_count": 368
        }
      ]
    },
    {
      "cell_type": "markdown",
      "source": [
        "### Getting ready for residual connections\n",
        "\n",
        "Before we can craft our N-BEATS model, we need two layers for the residual connections (substract and add).\n",
        "\n",
        "The N-BEATS algorithm uses double residual stacking to help train its deeper architecture (section 3.2 of N-BEATS paper).\n",
        "\n",
        "For more on residual connection see: https://en.wikipedia.org/wiki/Residual_neural_network\n",
        "\n",
        "And here: https://paperswithcode.com/method/resnet\n"
      ],
      "metadata": {
        "id": "IP_6vpTuHiDm"
      }
    },
    {
      "cell_type": "code",
      "source": [
        "# Make tensors\n",
        "tensor_1 = tf.range(10) + 10\n",
        "tensor_2 = tf.range(10)\n",
        "\n",
        "# Subtract\n",
        "subtracted = layers.subtract([tensor_1, tensor_2])\n",
        "\n",
        "# Add\n",
        "added = layers.add([tensor_1, tensor_2])\n",
        "\n",
        "# Get outputs\n",
        "print(f'Input tensors: {tensor_1.numpy()} & {tensor_2.numpy()}')\n",
        "print(f'Subtracted: {subtracted.numpy()}')\n",
        "print(f'Added: {added.numpy()}')"
      ],
      "metadata": {
        "colab": {
          "base_uri": "https://localhost:8080/"
        },
        "id": "MQgMrFC_FTNK",
        "outputId": "32284a28-e99b-4c68-a6a0-e63a83fee94f"
      },
      "execution_count": 369,
      "outputs": [
        {
          "output_type": "stream",
          "name": "stdout",
          "text": [
            "Input tensors: [10 11 12 13 14 15 16 17 18 19] & [0 1 2 3 4 5 6 7 8 9]\n",
            "Subtracted: [10 10 10 10 10 10 10 10 10 10]\n",
            "Added: [10 12 14 16 18 20 22 24 26 28]\n"
          ]
        }
      ]
    },
    {
      "cell_type": "code",
      "source": [
        "tensor_1, tensor_2"
      ],
      "metadata": {
        "colab": {
          "base_uri": "https://localhost:8080/"
        },
        "id": "tSgArMShH5re",
        "outputId": "fe0b4338-6e13-4195-ed7d-feb1225aaa4f"
      },
      "execution_count": 370,
      "outputs": [
        {
          "output_type": "execute_result",
          "data": {
            "text/plain": [
              "(<tf.Tensor: shape=(10,), dtype=int32, numpy=array([10, 11, 12, 13, 14, 15, 16, 17, 18, 19], dtype=int32)>,\n",
              " <tf.Tensor: shape=(10,), dtype=int32, numpy=array([0, 1, 2, 3, 4, 5, 6, 7, 8, 9], dtype=int32)>)"
            ]
          },
          "metadata": {},
          "execution_count": 370
        }
      ]
    },
    {
      "cell_type": "markdown",
      "source": [
        "### Building, compiling and fitting the N-BEATS algorithm\n",
        "\n",
        "1. Setup an instance of the N-BEATS block layer using `NBeatsBlock` (this'll be the initial block used for the network, the rest will be created as part of stacks)\n",
        "2. Create an input layer for the N-BEATS stack (we'll be using the Keras Functional API)\n",
        "3. Make the initial backcast and forecast for the model with the layer created in (1)\n",
        "4. Use for loop to create stacks of block layers\n",
        "5. Use the `NBeatsBlock` class within the for loop in (4) to create blocks which return backcasts and block-level forecasts\n",
        "6. Create the double residual stacking using subtract and add layers\n",
        "7. Put the model inputs and outputs together using `tf.keras.Model()`\n",
        "8. Compile the model with MAE loss (the paper uses multiple losses but we'll use MAE to keep it inline with our other models) and Adam optimizer with default setting as per section 5.2 of N-BEATS paper\n",
        "9. Fit the N-BEATS model for 5000 epochs and since it's fitting for so many epochs, we'll use a couple of callbacks:\n",
        "   * Early Stopping - because the model will be training for so long, we'll stop it early if it stops improving\n",
        "   * Reduce LR on Plateau - if a model stops improving, try lowering the learning to reduce the amount it updates its weights each time (take smaller steps towards best performance)"
      ],
      "metadata": {
        "id": "fR33ctn5H7Do"
      }
    },
    {
      "cell_type": "code",
      "source": [
        "%%time\n",
        "\n",
        "tf.random.set_seed(42)\n",
        "\n",
        "# 1. Setup and instance of NBeatsBlock\n",
        "nbeats_block_layer = NBeatsBlock(input_size=INPUT_SIZE,\n",
        "                                 theta_size=THETA_SIZE,\n",
        "                                 horizon=HORIZON,\n",
        "                                 n_neurons=N_NEURONS,\n",
        "                                 n_layers=N_LAYERS,\n",
        "                                 name=\"InitialBlock\")\n",
        "\n",
        "# 2. Create input to stack\n",
        "stack_input = layers.Input(shape=(INPUT_SIZE), name='stack_input')\n",
        "\n",
        "# 3. Create initial backcast and forecast input (backwards prediction + horizon prediction)\n",
        "residuals, forecast = nbeats_block_layer(stack_input)\n",
        "\n",
        "# 4. Create stacks of block layers\n",
        "for i, _ in enumerate(range(N_STACKS-1)): # first stack is already created in point 3\n",
        "\n",
        "    # 5. Use the NBeatsBlock to calculate the backcast as well as the forecast\n",
        "    backcast, block_forecast = NBeatsBlock(\n",
        "        input_size=INPUT_SIZE,\n",
        "        theta_size=THETA_SIZE,\n",
        "        horizon=HORIZON,\n",
        "        n_neurons=N_NEURONS,\n",
        "        n_layers=N_LAYERS,\n",
        "        name=f\"NBeatsBlock_{i}\"\n",
        "    )(residuals) # pass in the residuals\n",
        "\n",
        "    # 6. Create the double residual stacking\n",
        "    residuals = layers.subtract([residuals, backcast], name=f\"subtract_{i}\")\n",
        "    forecast = layers.add([forecast, block_forecast], name=f\"add_{i}\")\n",
        "\n",
        "# 7. Put the stack model together\n",
        "model_7 = tf.keras.Model(inputs=stack_input, outputs=forecast, name=\"model_7_NBEATS\")\n",
        "\n",
        "# 8. Compile model with MAE loss\n",
        "model_7.compile(loss=\"mae\",\n",
        "                optimizer=tf.keras.optimizers.Adam())\n",
        "\n",
        "# 9. Fit the model with EarlyStopping and ReduceLROnPlateau callbacks\n",
        "model_7.fit(train_dataset,\n",
        "            epochs=N_EPOCHS,\n",
        "            validation_data=test_dataset,\n",
        "            verbose=0,\n",
        "            callbacks=[tf.keras.callbacks.EarlyStopping(monitor=\"val_loss\",\n",
        "                                                        patience=200,\n",
        "                                                        restore_best_weights=True),\n",
        "                       tf.keras.callbacks.ReduceLROnPlateau(monitor=\"val_loss\",\n",
        "                                                            patience=100,\n",
        "                                                            verbose=1)])"
      ],
      "metadata": {
        "colab": {
          "base_uri": "https://localhost:8080/"
        },
        "id": "1KUptb5aV55i",
        "outputId": "fa92af31-3d6e-4b54-978b-fad96908890e"
      },
      "execution_count": 373,
      "outputs": [
        {
          "output_type": "stream",
          "name": "stdout",
          "text": [
            "\n",
            "Epoch 738: ReduceLROnPlateau reducing learning rate to 0.00010000000474974513.\n",
            "\n",
            "Epoch 1107: ReduceLROnPlateau reducing learning rate to 1.0000000474974514e-05.\n",
            "\n",
            "Epoch 1207: ReduceLROnPlateau reducing learning rate to 1.0000000656873453e-06.\n",
            "CPU times: user 4min 18s, sys: 7.37 s, total: 4min 26s\n",
            "Wall time: 5min 52s\n"
          ]
        }
      ]
    },
    {
      "cell_type": "code",
      "source": [
        ""
      ],
      "metadata": {
        "id": "VWQA6Mn_WfWu"
      },
      "execution_count": null,
      "outputs": []
    }
  ]
}